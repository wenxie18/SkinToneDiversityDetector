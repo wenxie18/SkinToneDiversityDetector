{
 "cells": [
  {
   "cell_type": "code",
   "execution_count": 1,
   "id": "88720e7d-75ec-48ae-9008-36894d00bc65",
   "metadata": {},
   "outputs": [],
   "source": [
    "import os\n",
    "import pandas as pd\n",
    "import time\n",
    "import random\n",
    "import tweepy\n",
    "import re\n",
    "from datetime import datetime,timedelta\n",
    "from datetime import timezone"
   ]
  },
  {
   "cell_type": "code",
   "execution_count": 2,
   "id": "d9ae6c15-9321-40c9-960d-be9b83b631e1",
   "metadata": {},
   "outputs": [],
   "source": [
    "\n",
    "def auth():\n",
    "    consumer_key = 'eouVzakwZUTZhO9sMYm2qzdhp'\n",
    "    consumer_secret = 'EYa8aLh6ZyybwhisLKBLI2uBXZQdDWVdTXbVeeGCbr5EGohLoL'\n",
    "    \n",
    "    access_token = '1489040875741196290-hq0AEtQlqiJyQ4LyBRLtdWjnflr0fz'\n",
    "    access_token_secret = 'LZVR0BvxFNlABqhczoMsfvly0k89Uc2IR0VYKX34RNqSC'\n",
    "    \n",
    "    bearer_token = 'AAAAAAAAAAAAAAAAAAAAAEc8YwEAAAAAo4ePNW7G1TLGPeSxmHoVmbcFtDM%3D6vAfo72jm1exB3BREbX777Qp9Z86UsTyDGJ4zezT3QePt0qhKO'\n",
    "\n",
    "    auth = tweepy.OAuthHandler(consumer_key, consumer_secret)\n",
    "    auth.set_access_token(access_token, access_token_secret)\n",
    "\n",
    "    api = tweepy.API(auth, wait_on_rate_limit=True)\n",
    "    client = tweepy.Client(bearer_token=bearer_token, consumer_key=consumer_key, consumer_secret=consumer_secret,\n",
    "                           access_token=access_token, access_token_secret=access_token_secret, wait_on_rate_limit=True)\n",
    "    return api,client\n",
    "\n",
    "def retweet_api(api,query=None):\n",
    "    res = api.search_tweets(query,lang='en')\n",
    "    for tweet in res:\n",
    "        api.retweet(tweet.id)\n",
    "\n",
    "def retweet_client(client,query=None):\n",
    "    tweets = client.search_recent_tweets(query=query, max_results=10)\n",
    "    for tweet in tweets:\n",
    "        # fetching the status\n",
    "        status = api.get_status(id)\n",
    "        # fetching the retweeted attribute\n",
    "        retweeted = status.retweeted\n",
    "        #client.retweet(tweet.id)\n",
    "\n",
    "\n",
    "def main(streaming):\n",
    "    \n",
    "    api,client = auth()\n",
    "    query = '#spy OR #Spy OR #SPY OR has:$spy OR has:$Spy OR has:$SPY'\n",
    "    retweet_client(client,query)\n",
    "        "
   ]
  },
  {
   "cell_type": "code",
   "execution_count": 3,
   "id": "5ef289c9-82d5-4729-8854-c6bff97f2aec",
   "metadata": {},
   "outputs": [],
   "source": [
    "api,client = auth()"
   ]
  },
  {
   "cell_type": "code",
   "execution_count": 4,
   "id": "cab9f476-9f3b-4fbd-8453-0eb3a9822ba4",
   "metadata": {},
   "outputs": [],
   "source": [
    "query = '#spy -is:retweet'"
   ]
  },
  {
   "cell_type": "code",
   "execution_count": 5,
   "id": "e04522f5-7b70-40f2-a61e-e6368ac9aff9",
   "metadata": {},
   "outputs": [],
   "source": [
    "tweets = client.search_recent_tweets(query=query, max_results=10)"
   ]
  },
  {
   "cell_type": "code",
   "execution_count": 7,
   "id": "3c004d45-b059-4fe5-9c5e-40e791859d10",
   "metadata": {},
   "outputs": [
    {
     "data": {
      "text/plain": [
       "1489081576239468545"
      ]
     },
     "execution_count": 7,
     "metadata": {},
     "output_type": "execute_result"
    }
   ],
   "source": [
    "tweet.id"
   ]
  },
  {
   "cell_type": "code",
   "execution_count": 15,
   "id": "6097eb66-88cd-4d29-85df-9887f5b6e1e6",
   "metadata": {},
   "outputs": [],
   "source": [
    "status = api.get_status(1489087051169468420)"
   ]
  },
  {
   "cell_type": "code",
   "execution_count": 16,
   "id": "8e0585a7-0a8e-4c65-893e-475b1db952f4",
   "metadata": {},
   "outputs": [
    {
     "data": {
      "text/plain": [
       "False"
      ]
     },
     "execution_count": 16,
     "metadata": {},
     "output_type": "execute_result"
    }
   ],
   "source": [
    "status.retweeted"
   ]
  },
  {
   "cell_type": "code",
   "execution_count": 18,
   "id": "a033a71a-176c-4077-88e8-9f31c66608a4",
   "metadata": {},
   "outputs": [
    {
     "data": {
      "text/plain": [
       "16164"
      ]
     },
     "execution_count": 18,
     "metadata": {},
     "output_type": "execute_result"
    }
   ],
   "source": [
    "status.user.followers_count"
   ]
  },
  {
   "cell_type": "code",
   "execution_count": 19,
   "id": "dc8821d0-15c5-48b5-8816-b740b17e917a",
   "metadata": {},
   "outputs": [
    {
     "ename": "AttributeError",
     "evalue": "'Status' object has no attribute 'possibly_sensitive'",
     "output_type": "error",
     "traceback": [
      "\u001b[0;31m---------------------------------------------------------------------------\u001b[0m",
      "\u001b[0;31mAttributeError\u001b[0m                            Traceback (most recent call last)",
      "\u001b[0;32m/var/folders/vz/nrxgzrts3632lk0xn6jnbngc0000gn/T/ipykernel_52275/1536293721.py\u001b[0m in \u001b[0;36m<module>\u001b[0;34m\u001b[0m\n\u001b[0;32m----> 1\u001b[0;31m \u001b[0mstatus\u001b[0m\u001b[0;34m.\u001b[0m\u001b[0mpossibly_sensitive\u001b[0m\u001b[0;34m\u001b[0m\u001b[0;34m\u001b[0m\u001b[0m\n\u001b[0m",
      "\u001b[0;31mAttributeError\u001b[0m: 'Status' object has no attribute 'possibly_sensitive'"
     ]
    }
   ],
   "source": [
    "status.possibly_sensitive"
   ]
  },
  {
   "cell_type": "code",
   "execution_count": 20,
   "id": "c4e35f73-7637-45b3-9c00-fe5e906db23d",
   "metadata": {},
   "outputs": [
    {
     "data": {
      "text/plain": [
       "True"
      ]
     },
     "execution_count": 20,
     "metadata": {},
     "output_type": "execute_result"
    }
   ],
   "source": [
    "status.in_reply_to_status_id==None"
   ]
  },
  {
   "cell_type": "code",
   "execution_count": 23,
   "id": "1264de2b-e227-4864-9f2c-9d3bbc0efddf",
   "metadata": {},
   "outputs": [
    {
     "name": "stdout",
     "output_type": "stream",
     "text": [
      "yes\n"
     ]
    }
   ],
   "source": [
    "for i in ['invest','stock','financ','trad','market','option','elliot wave','']:\n",
    "    if i in status.user.description.lower():\n",
    "        print('yes')"
   ]
  },
  {
   "cell_type": "code",
   "execution_count": 24,
   "id": "40b2a6be-7e0f-4362-84ce-5ac94b82dab3",
   "metadata": {},
   "outputs": [
    {
     "data": {
      "text/plain": [
       "'founder: @litxchangellc hot shot expediting & logistics, hot shot expediting, hse warehousing.\\nserial entrepreneur, investor, connoisseur of blunts & herbs.'"
      ]
     },
     "execution_count": 24,
     "metadata": {},
     "output_type": "execute_result"
    }
   ],
   "source": [
    "status.user.description.lower()"
   ]
  },
  {
   "cell_type": "code",
   "execution_count": null,
   "id": "fc20cdbe-d503-47c8-afad-98da42b37edb",
   "metadata": {},
   "outputs": [],
   "source": [
    "'invest'"
   ]
  },
  {
   "cell_type": "code",
   "execution_count": 6,
   "id": "5f934ba6-6a40-48d3-abeb-3da3fcc3f544",
   "metadata": {},
   "outputs": [],
   "source": [
    "for tweet in tweets.data:\n",
    "    # fetching the statu\n",
    "    #print(tweet.id)\n",
    "    status = api.get_status(tweet.id)\n",
    "    if (not status.retweeted) and (status.user.followers_count > 10000) and status.in_reply_to_status_id==None and status.possibly_sensitive==False:\n",
    "        client.retweet(tweet.id)\n",
    "        print(tweet.id)"
   ]
  },
  {
   "cell_type": "code",
   "execution_count": 12,
   "id": "0f1bfe24-5be3-4535-83d3-7fb9d7240efe",
   "metadata": {},
   "outputs": [
    {
     "data": {
      "text/plain": [
       "False"
      ]
     },
     "execution_count": 12,
     "metadata": {},
     "output_type": "execute_result"
    }
   ],
   "source": [
    "(not status.retweeted) and (status.user.followers_count > 10000) and status.in_reply_to_status_id!=None"
   ]
  },
  {
   "cell_type": "code",
   "execution_count": 13,
   "id": "07f7d33e-6473-47b6-bc29-ffb0b738924f",
   "metadata": {},
   "outputs": [
    {
     "data": {
      "text/plain": [
       "False"
      ]
     },
     "execution_count": 13,
     "metadata": {},
     "output_type": "execute_result"
    }
   ],
   "source": [
    "(not status.retweeted) and (status.user.followers_count > 10000) "
   ]
  },
  {
   "cell_type": "code",
   "execution_count": 14,
   "id": "8512ef3a-372c-4801-816c-6908cacf6752",
   "metadata": {},
   "outputs": [
    {
     "data": {
      "text/plain": [
       "True"
      ]
     },
     "execution_count": 14,
     "metadata": {},
     "output_type": "execute_result"
    }
   ],
   "source": [
    "status.in_reply_to_status_id==None"
   ]
  },
  {
   "cell_type": "code",
   "execution_count": null,
   "id": "64641c9d-839a-405e-a7b7-f0f377cad12c",
   "metadata": {},
   "outputs": [],
   "source": [
    "query = '#spy'\n",
    "# fetch tweets seconds before now\n",
    "timer = 20\n",
    "start_time = (datetime.now(tz=timezone.utc) - timedelta(seconds=10)).strftime('%Y-%m-%dT%H:%M:%SZ')\n",
    "tweets = client.search_recent_tweets(query=query, start_time =start_time, max_results=100)"
   ]
  },
  {
   "cell_type": "code",
   "execution_count": null,
   "id": "bf8f9539-c1ec-4e7a-b3cd-d32b805b6e0a",
   "metadata": {},
   "outputs": [],
   "source": [
    "tweets.data"
   ]
  },
  {
   "cell_type": "code",
   "execution_count": null,
   "id": "1ef7ef44-0286-4e57-940d-0caf72470243",
   "metadata": {},
   "outputs": [],
   "source": [
    "print('no tweets now',datetime.now())"
   ]
  },
  {
   "cell_type": "code",
   "execution_count": 35,
   "id": "c2426c59-318c-4b1b-a3cc-27fdc6ee67e4",
   "metadata": {},
   "outputs": [
    {
     "name": "stdout",
     "output_type": "stream",
     "text": [
      "failed 1\n",
      "failed 2\n",
      "failed 3\n"
     ]
    }
   ],
   "source": [
    "for tweet in [1,2,3]:\n",
    "    if tweet!=None:\n",
    "        try:\n",
    "            p\n",
    "            for bio in ['invest','stock','financ','trad','market','option','elliot wave','']:\n",
    "                if bio in ['stock','financ','trad']:\n",
    "                    print(tweet, bio)\n",
    "                    break\n",
    "        except:\n",
    "            print('failed',tweet)\n",
    "            #pass\n"
   ]
  },
  {
   "cell_type": "code",
   "execution_count": null,
   "id": "6e14508e-6b42-4068-abd9-6f13de0348b0",
   "metadata": {},
   "outputs": [],
   "source": []
  }
 ],
 "metadata": {
  "kernelspec": {
   "display_name": "Python 3 (ipykernel)",
   "language": "python",
   "name": "python3"
  },
  "language_info": {
   "codemirror_mode": {
    "name": "ipython",
    "version": 3
   },
   "file_extension": ".py",
   "mimetype": "text/x-python",
   "name": "python",
   "nbconvert_exporter": "python",
   "pygments_lexer": "ipython3",
   "version": "3.9.6"
  }
 },
 "nbformat": 4,
 "nbformat_minor": 5
}

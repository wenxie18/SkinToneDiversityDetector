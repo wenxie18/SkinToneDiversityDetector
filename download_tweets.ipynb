{
 "cells": [
  {
   "cell_type": "markdown",
   "id": "18f5adb9-a739-4ca7-9fd8-80b0400ed5cc",
   "metadata": {},
   "source": [
    "### Import packages"
   ]
  },
  {
   "cell_type": "code",
   "execution_count": null,
   "id": "2f59f51e-6d12-47dd-8cf0-b4503c103963",
   "metadata": {},
   "outputs": [],
   "source": [
    "import os\n",
    "import pandas as pd\n",
    "import numpy as np\n",
    "import random\n",
    "\n",
    "from datetime import datetime\n",
    "from math import ceil\n",
    "\n",
    "import tweepy\n",
    "import tqdm\n",
    "\n",
    "import time\n",
    "import requests"
   ]
  },
  {
   "cell_type": "markdown",
   "id": "386fe3b5-7675-40c8-ae9a-193e7fe07786",
   "metadata": {},
   "source": [
    "### Initialize tweepy API"
   ]
  },
  {
   "cell_type": "code",
   "execution_count": null,
   "id": "85b1cffd-fd89-43d4-b509-88a1001f5289",
   "metadata": {},
   "outputs": [],
   "source": [
    "consumer_key = 'GjW4VkYPX7CFD2EsPEXUDQa4b'\n",
    "consumer_secret = 'wctPXRgg9916yNYWdLQs3TlulA82lQOIi1Gichhxg6uIMHaaOQ'\n",
    "\n",
    "access_token = '1071616827648819200-x086b6Aaf92TI0524idqLbhDRrmLdK'\n",
    "access_token_secret = 'MTaopOiPeNPlSLipmNZnAV8GAiVNeeKGJ22QWjiAVVDxm'\n",
    "\n",
    "bearer_token = 'AAAAAAAAAAAAAAAAAAAAABzgYQEAAAAANljwGa2S8%2BbjULK6vwapWQOoZIw%3Dd1iMfwR9RODhGHZyHbuFSVjOiJ4tX0H3Xha82kpVd1Vre6XRdZ'\n",
    "\n",
    "auth = tweepy.OAuthHandler(consumer_key, consumer_secret)\n",
    "auth.set_access_token(access_token, access_token_secret)\n",
    "api = tweepy.API(auth, wait_on_rate_limit=True)\n",
    "\n",
    "client = tweepy.Client(bearer_token=bearer_token,consumer_key=consumer_key, consumer_secret=consumer_secret, \n",
    "                       access_token=access_token, access_token_secret=access_token_secret, wait_on_rate_limit=True)\n"
   ]
  },
  {
   "cell_type": "markdown",
   "id": "7770a46f-e52c-408e-950b-609edb64c7ed",
   "metadata": {},
   "source": [
    "### Read data"
   ]
  },
  {
   "cell_type": "code",
   "execution_count": null,
   "id": "f9eff88c-7467-4796-a56a-15fcd5b528bc",
   "metadata": {},
   "outputs": [],
   "source": [
    "tw_names = pd.read_excel('../data/Lyst_index.xlsx')"
   ]
  },
  {
   "cell_type": "code",
   "execution_count": null,
   "id": "ceeeabac-62b6-44df-a77b-7acdeb0b2fd7",
   "metadata": {},
   "outputs": [],
   "source": [
    "tw_names.tail()"
   ]
  },
  {
   "cell_type": "code",
   "execution_count": null,
   "id": "5ba01355-23e6-4916-a050-aead3986bd11",
   "metadata": {},
   "outputs": [],
   "source": [
    "tw_names.head(10)"
   ]
  },
  {
   "cell_type": "code",
   "execution_count": null,
   "id": "0a405b6f-e606-4825-82c3-0f340499a274",
   "metadata": {},
   "outputs": [],
   "source": [
    "tw_names[pd.isna(tw_names['tw account'])]"
   ]
  },
  {
   "cell_type": "markdown",
   "id": "4180c140-fb53-4271-a073-2b75d8f7516a",
   "metadata": {},
   "source": [
    "### Download images and videos of brands"
   ]
  },
  {
   "cell_type": "code",
   "execution_count": null,
   "id": "6d326353-bee5-4827-aa9d-a3f59954a05e",
   "metadata": {},
   "outputs": [],
   "source": [
    "os.chdir('../data/tw')"
   ]
  },
  {
   "cell_type": "code",
   "execution_count": null,
   "id": "e916b4f2-c864-4727-8a1e-8ddfd888ff00",
   "metadata": {},
   "outputs": [],
   "source": [
    "os.getcwd()"
   ]
  },
  {
   "cell_type": "code",
   "execution_count": null,
   "id": "ea64a8cb-8c4d-43b6-beb9-f1a2ed827cb0",
   "metadata": {},
   "outputs": [],
   "source": [
    "for name in tqdm.tqdm(tw_names['tw account'][0:1]):\n",
    "    if not os.path.exists(name):\n",
    "        os.makedirs(name)\n",
    "            \n",
    "    query = 'from:'+name+' has:media'\n",
    "    start_time = '2020-10-03T00:00:00Z'\n",
    "    end_time = '2020-10-4T00:00:00Z'\n",
    "    \n",
    "    # get \n",
    "    flag=0\n",
    "    for tweet in tweepy.Paginator(client.search_all_tweets, query = query, start_time = start_time, end_time = end_time,\n",
    "                                  tweet_fields=['created_at','conversation_id'], max_results=10).flatten():\n",
    "        date = str(tweet.created_at).replace(' ','_').replace(':','-')\n",
    "        text = tweet.text\n",
    "        status = api.get_status(tweet.id, tweet_mode=\"extended\")\n",
    "        print('tweet id:',tweet.id)\n",
    "        time.sleep(2)\n",
    "        #save text\n",
    "        try:\n",
    "            text_path = name+'/'+date+'.txt'\n",
    "            with open(text_path, 'a') as f:\n",
    "                f.write(text)\n",
    "        except:\n",
    "            pass\n",
    "        #save videos and photos\n",
    "        try:\n",
    "            #check if any media, extended_entities is here\n",
    "            media_lists = status.extended_entities['media']  # try\n",
    "            for m in media_lists:\n",
    "                v_idx = 0  #in case multiple videos and photos in single tweet\n",
    "                p_idx = 0\n",
    "                g_idx = 0\n",
    "\n",
    "                if m['type'] == 'video':\n",
    "                    #find max birate variant\n",
    "                    if m['video_info']['variants'][-1]['content_type']=='video/mp4':\n",
    "                        video_url = m['video_info']['variants'][-1]['url']\n",
    "                    else:\n",
    "                        video_url = m['video_info']['variants'][-2]['url']\n",
    "                    video_path = name+'/'+date+str(v_idx)+'.mp4'\n",
    "                    v_idx += 1\n",
    "                    wget.download(url=video_url, out=video_path)\n",
    "                    print('write video: ',video_path)\n",
    "\n",
    "                if m['type'] == 'photo':\n",
    "                    photo_url = m['media_url']\n",
    "                    photo_path = name+'/'+date+str(p_idx)+'.jpg'\n",
    "                    p_idx += 1\n",
    "                    wget.download(url=photo_url, out=photo_path)\n",
    "                    print('write photo: ',photo_path)\n",
    "                    \n",
    "                if m['type'] == 'animated_gif':\n",
    "                    #find max birate variant\n",
    "                    if m['video_info']['variants'][-1]['content_type']=='video/mp4':\n",
    "                        gif_url = m['video_info']['variants'][-1]['url']\n",
    "                    else:\n",
    "                        gif_url = m['video_info']['variants'][-2]['url']\n",
    "                    gif_path = name+'/'+date+str(g_idx)+'_gif.mp4'\n",
    "                    g_idx += 1\n",
    "                    wget.download(url=gif_url, out=gif_path)\n",
    "                    print('write gif: ',gif_path)\n",
    "        except:\n",
    "            pass\n",
    "        time.sleep(2)\n",
    "        flag+=1\n",
    "        if flag==2:\n",
    "            temp = status\n",
    "            \n",
    "    "
   ]
  },
  {
   "cell_type": "code",
   "execution_count": null,
   "id": "f577e76f-0494-4b29-9440-2123df6db4d2",
   "metadata": {},
   "outputs": [],
   "source": [
    "for tweet in tweepy.Paginator(client.search_all_tweets, query=query, start_time=start_time, end_time=end_time,\n",
    "                                  tweet_fields=['created_at', 'conversation_id'], max_results=10).flatten():\n",
    "        date = str(tweet.created_at).replace(' ', '_').replace(':', '-')\n",
    "        text = tweet.text\n",
    "        status = api.get_status(tweet.id, tweet_mode=\"extended\")\n",
    "        time.sleep(2)\n",
    "        # save text\n",
    "        try:\n",
    "            text_path = name+'/'+date+'.txt'\n",
    "            with open(text_path, 'a') as f:\n",
    "                f.write(text)\n",
    "            print('write text: ', text_path)\n",
    "\n",
    "        except:\n",
    "            pass"
   ]
  },
  {
   "cell_type": "code",
   "execution_count": null,
   "id": "ebe9977e-3965-40c2-ac94-0a90f74baf41",
   "metadata": {},
   "outputs": [],
   "source": [
    "date"
   ]
  },
  {
   "cell_type": "code",
   "execution_count": null,
   "id": "1f854209-3f34-4acf-a3dc-75974780b77a",
   "metadata": {},
   "outputs": [],
   "source": [
    "text"
   ]
  },
  {
   "cell_type": "code",
   "execution_count": null,
   "id": "2a8cd20f-37cc-430c-b1b3-4584eb7be619",
   "metadata": {},
   "outputs": [],
   "source": [
    "@officiallyoge Thank you for the ❤! \n",
    "\n",
    "You will receive a Tweet leading to Nike's voter registration hub before your deadline. https://t.co/wLQg0wLu65"
   ]
  },
  {
   "cell_type": "code",
   "execution_count": null,
   "id": "c1b2cbe3-3b37-4972-a826-45847105d9f2",
   "metadata": {},
   "outputs": [],
   "source": [
    "tweet.id"
   ]
  },
  {
   "cell_type": "code",
   "execution_count": null,
   "id": "a0e73fb8-2dd3-46a3-8676-e39ee163e036",
   "metadata": {},
   "outputs": [],
   "source": [
    "tweet.conversation_id"
   ]
  },
  {
   "cell_type": "code",
   "execution_count": null,
   "id": "53c1dc9a-62b4-4951-aa96-a8e4c214cff6",
   "metadata": {},
   "outputs": [],
   "source": [
    "tweet"
   ]
  },
  {
   "cell_type": "code",
   "execution_count": null,
   "id": "675e61bf-5125-4e53-9b88-28c039670126",
   "metadata": {},
   "outputs": [],
   "source": [
    "status = api.get_status(tweet.id, tweet_mode=\"extended\")"
   ]
  },
  {
   "cell_type": "code",
   "execution_count": null,
   "id": "040facec-d3ef-4d53-b115-cff577f2e23d",
   "metadata": {},
   "outputs": [],
   "source": [
    "status"
   ]
  },
  {
   "cell_type": "markdown",
   "id": "f844174a-2015-40df-bb06-a682d0f591d6",
   "metadata": {},
   "source": [
    "### get url of photos and videos"
   ]
  },
  {
   "cell_type": "code",
   "execution_count": null,
   "id": "c4b9eeb0-9cd8-4460-919f-30d3f1c538d8",
   "metadata": {},
   "outputs": [],
   "source": [
    "query = 'from:Nike -is:retweet -is:reply has:media'\n",
    "start_time = '2019-05-26T00:00:00Z'\n",
    "end_time = '2021-05-26T00:00:00Z'"
   ]
  },
  {
   "cell_type": "code",
   "execution_count": null,
   "id": "66e521c4-92cb-4575-a23e-ec71b48796ec",
   "metadata": {},
   "outputs": [],
   "source": [
    "tweets = client.search_all_tweets(query = query, start_time = start_time, end_time = end_time,\n",
    "                                  tweet_fields=['created_at','conversation_id','entities'], max_results=10)"
   ]
  },
  {
   "cell_type": "code",
   "execution_count": null,
   "id": "b9d98ff7-aa29-4e3c-8363-ef811afd90cb",
   "metadata": {},
   "outputs": [],
   "source": [
    "tweets.data[0].text"
   ]
  },
  {
   "cell_type": "code",
   "execution_count": null,
   "id": "b22a7ac2-2047-42a9-909c-22182f1b4e2d",
   "metadata": {},
   "outputs": [],
   "source": [
    "for i in tweets.data:\n",
    "    try:\n",
    "        print(i.entities['urls'])\n",
    "    except:\n",
    "        pass"
   ]
  },
  {
   "cell_type": "code",
   "execution_count": null,
   "id": "9776c153-de42-4331-b654-23e460b0782c",
   "metadata": {},
   "outputs": [],
   "source": [
    "tweets.data[-1].entities['urls']"
   ]
  },
  {
   "cell_type": "code",
   "execution_count": null,
   "id": "b66eebea-8889-4090-b213-1b6d35cdf1cd",
   "metadata": {},
   "outputs": [],
   "source": [
    "tweets.data[0].conversation_id"
   ]
  },
  {
   "cell_type": "code",
   "execution_count": null,
   "id": "2653a6cd-0287-403f-8544-81a9e0333817",
   "metadata": {},
   "outputs": [],
   "source": [
    "status_ = api.get_status(tweets.data[-1].conversation_id,include_my_retweet=False, include_ext_alt_text=False, include_card_uri=False, tweet_mode=\"extended\")"
   ]
  },
  {
   "cell_type": "code",
   "execution_count": null,
   "id": "6f1fe6e8-a1b9-4369-9fe2-894f43ab447e",
   "metadata": {},
   "outputs": [],
   "source": [
    "status_.extended_entities['media'][0]['video_info']['variants'][0]"
   ]
  },
  {
   "cell_type": "code",
   "execution_count": null,
   "id": "7e10f796-a802-4d0c-abc7-d96a025f3813",
   "metadata": {},
   "outputs": [],
   "source": [
    "status_.extended_entities['media']"
   ]
  },
  {
   "cell_type": "code",
   "execution_count": null,
   "id": "7172774c-b99d-4e7e-931b-4df4f165431d",
   "metadata": {},
   "outputs": [],
   "source": [
    "status_.extended_entities['media'][0]"
   ]
  },
  {
   "cell_type": "code",
   "execution_count": null,
   "id": "3a39687e-d33f-48af-b05c-86537d47516c",
   "metadata": {},
   "outputs": [],
   "source": [
    "video_url = status_.extended_entities['media'][0]['video_info']['variants'][-1]['url']"
   ]
  },
  {
   "cell_type": "code",
   "execution_count": null,
   "id": "784381d7-1403-411c-a726-217667c66d82",
   "metadata": {},
   "outputs": [],
   "source": [
    "status = api.get_status(1372858474028220419,include_my_retweet=False, include_ext_alt_text=False, include_card_uri=False, tweet_mode=\"extended\")"
   ]
  },
  {
   "cell_type": "code",
   "execution_count": null,
   "id": "a70b5756-7cef-4c99-8172-447fe0efca0d",
   "metadata": {},
   "outputs": [],
   "source": [
    "status.extended_entities['media'][0]['type']"
   ]
  },
  {
   "cell_type": "code",
   "execution_count": null,
   "id": "53201f92-3d2d-4da9-acdb-9b5982d682c0",
   "metadata": {},
   "outputs": [],
   "source": [
    " status.extended_entities['media'][0]['media_url']+':orig'"
   ]
  },
  {
   "cell_type": "code",
   "execution_count": null,
   "id": "63992e0d-3fb6-46b6-af10-53981eee335e",
   "metadata": {},
   "outputs": [],
   "source": [
    " status.extended_entities['media']"
   ]
  },
  {
   "cell_type": "code",
   "execution_count": null,
   "id": "15eaee44-046e-4fe1-a6cd-19957e9329f4",
   "metadata": {},
   "outputs": [],
   "source": [
    " status_.entities"
   ]
  },
  {
   "cell_type": "code",
   "execution_count": null,
   "id": "940b07f0-a37f-42fa-bdb8-c48f651e1d46",
   "metadata": {},
   "outputs": [],
   "source": [
    "'extended_entities' in status"
   ]
  },
  {
   "cell_type": "code",
   "execution_count": null,
   "id": "b770c3d3-ba96-455b-a809-04ae1d1cacaa",
   "metadata": {},
   "outputs": [],
   "source": [
    " status_.extended_entities['media']"
   ]
  },
  {
   "cell_type": "markdown",
   "id": "243d9479-b93c-4bf4-bfd9-05f55515c106",
   "metadata": {},
   "source": [
    "### save to local"
   ]
  },
  {
   "cell_type": "code",
   "execution_count": null,
   "id": "76e62bf4-7959-400d-8578-81dfb9caa217",
   "metadata": {},
   "outputs": [],
   "source": [
    "with open('file.mp4', 'wb') as f:\n",
    "    url = 'https://video.twimg.com/amplify_video/1389861178948653062/vid/1280x720/JH1_nzPxHOnVCx9h.mp4?tag=14'\n",
    "    f.write(requests.get(url).content)"
   ]
  },
  {
   "cell_type": "code",
   "execution_count": null,
   "id": "ef9da9a6-9106-441b-a989-d924a28d5fd6",
   "metadata": {},
   "outputs": [],
   "source": [
    "import wget"
   ]
  },
  {
   "cell_type": "code",
   "execution_count": null,
   "id": "67a32422-2d6b-4d14-93f2-3cdf71bee4ef",
   "metadata": {},
   "outputs": [],
   "source": [
    "wget.download(url=photo_url, out='../data/test.jpg')"
   ]
  },
  {
   "cell_type": "code",
   "execution_count": null,
   "id": "cb45990b-5821-4288-ac43-54620936f0bd",
   "metadata": {},
   "outputs": [],
   "source": [
    "help(wget.download)"
   ]
  },
  {
   "cell_type": "code",
   "execution_count": null,
   "id": "4284c583-d7d8-45e2-b9be-8dcbe89460ab",
   "metadata": {},
   "outputs": [],
   "source": []
  }
 ],
 "metadata": {
  "kernelspec": {
   "display_name": "Python 3 (ipykernel)",
   "language": "python",
   "name": "python3"
  },
  "language_info": {
   "codemirror_mode": {
    "name": "ipython",
    "version": 3
   },
   "file_extension": ".py",
   "mimetype": "text/x-python",
   "name": "python",
   "nbconvert_exporter": "python",
   "pygments_lexer": "ipython3",
   "version": "3.9.6"
  }
 },
 "nbformat": 4,
 "nbformat_minor": 5
}

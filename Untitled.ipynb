{
 "cells": [
  {
   "cell_type": "code",
   "execution_count": null,
   "id": "5311aed7-7a6d-4b6b-aff0-c47446caf146",
   "metadata": {},
   "outputs": [],
   "source": [
    "import torch"
   ]
  },
  {
   "cell_type": "code",
   "execution_count": null,
   "id": "dc550ceb-6bca-43b0-9d87-4b0dd62ced6e",
   "metadata": {},
   "outputs": [],
   "source": [
    "torch.cuda.is_available()"
   ]
  },
  {
   "cell_type": "code",
   "execution_count": null,
   "id": "71935ed0-3a8c-4a67-b5b3-f1004f80bf0f",
   "metadata": {},
   "outputs": [],
   "source": [
    "torch.cuda.device_count()"
   ]
  },
  {
   "cell_type": "code",
   "execution_count": null,
   "id": "f81c2bee-6d7f-4f3b-9872-8982c591c7f3",
   "metadata": {},
   "outputs": [],
   "source": [
    "torch.cuda.get_device_name(0)"
   ]
  },
  {
   "cell_type": "code",
   "execution_count": null,
   "id": "1077e6e1-605f-41d8-a939-1f18b47172b5",
   "metadata": {},
   "outputs": [],
   "source": [
    "torch.cuda.current_device()"
   ]
  },
  {
   "cell_type": "code",
   "execution_count": null,
   "id": "35e95eb3-bee7-472f-b8ef-1632b86aa2fe",
   "metadata": {},
   "outputs": [],
   "source": [
    "!nvidia-smi"
   ]
  },
  {
   "cell_type": "code",
   "execution_count": null,
   "id": "7be8ae15-8e98-4afc-ab6d-49c5f3857cc6",
   "metadata": {},
   "outputs": [],
   "source": [
    "!nvidia-smi -r"
   ]
  },
  {
   "cell_type": "code",
   "execution_count": 1,
   "id": "9fc20086-b381-4683-829f-65a437f7ebd9",
   "metadata": {},
   "outputs": [
    {
     "data": {
      "text/plain": [
       "\"\\nif __name__ == '__main__':\\n    #print(tweepy.__version__)\\n    flag = 0\\n    timer = 60*60\\n    flag = main(timer,flag)\\n    repeat = True\\n    while repeat:\\n        flag = main(timer,flag)\\n        if datetime.time(9,30,0) <= dt.now(tz=timezone('EST')).time() <= datetime.time(16,0,0):\\n            timer = random.randint(1*60,4*60)\\n        elif datetime.time(8,30,0) <= dt.now(tz=timezone('EST')).time() < datetime.time(9,30,0)            or datetime.time(4,0,0) < dt.now(tz=timezone('EST')).time() <= datetime.time(5,0,0):\\n            timer = random.randint(5*60,10*60)\\n        else:\\n            timer = random.randint(0.5*60*60,1*60*60)\\n        print('wait: ',timer,' seconds')\\n        time.sleep(timer)\\n\""
      ]
     },
     "execution_count": 1,
     "metadata": {},
     "output_type": "execute_result"
    }
   ],
   "source": [
    "import os\n",
    "import pandas as pd\n",
    "import time\n",
    "import random\n",
    "import tweepy\n",
    "import re\n",
    "from datetime import timedelta\n",
    "from datetime import datetime as dt\n",
    "import datetime\n",
    "from pytz import timezone\n",
    "\n",
    "def auth():\n",
    "    consumer_key = 'zymbGj8dgXLCLl1wY9nbaacue'\n",
    "    consumer_secret = 'xRFcRM8BzpgVdxl1CKAMJXm45fmHs1fkfrqLF871CsSvmvOmqD'\n",
    "    \n",
    "    access_token = '1489428006338768896-ssqE7fZDuwQWEOysW9sZCB5dnhnCOu'\n",
    "    access_token_secret = 'uQw0iT6WOP5xusmbQSEVpmAxBClxL1jquBPyfFOaU410w'\n",
    "    \n",
    "    bearer_token = 'AAAAAAAAAAAAAAAAAAAAAOVkYwEAAAAA5pO1T7ESWLYhkxoLAxrVah%2BF8E0%3DKvMaBFnxnli5xVu2cFrXHot4antIRJJk7rOeRO1M9pzljSRVoV'\n",
    "\n",
    "    auth = tweepy.OAuthHandler(consumer_key, consumer_secret)\n",
    "    auth.set_access_token(access_token, access_token_secret)\n",
    "\n",
    "    api = tweepy.API(auth, wait_on_rate_limit=True)\n",
    "    client = tweepy.Client(bearer_token=bearer_token, consumer_key=consumer_key, consumer_secret=consumer_secret,\n",
    "                           access_token=access_token, access_token_secret=access_token_secret, wait_on_rate_limit=True)\n",
    "    return api,client\n",
    "\n",
    "\n",
    "def retweet_api(api,query=None):\n",
    "    res = api.search_tweets(query,lang='en')\n",
    "    for tweet in res:\n",
    "        api.retweet(tweet.id)\n",
    "\n",
    "\n",
    "def retweet_client(client,api,start_time,query=None):\n",
    "    for tweet in tweepy.Paginator(client.search_recent_tweets, query=query,\\\n",
    "         start_time=start_time, max_results=20).flatten(50):\n",
    "        if tweet.text!=None:\n",
    "            # fetching the status\n",
    "            try:\n",
    "                status = api.get_status(tweet.id,tweet_mode=\"extended\")\n",
    "                for bio in ['invest','stock','financ','trad','chart','market','option','money','elliot wave']:\n",
    "                    if bio in status.user.description.lower():\n",
    "                        print('bio verified')\n",
    "                        #status.possibly_sensitive==False?? some do not have this arg\n",
    "                        try:\n",
    "                            if (not status.retweeted) and (status.user.followers_count > 5000) and status.in_reply_to_status_id==None:\n",
    "                                client.retweet(tweet.id)\n",
    "                                print('successfully retweeted: ',tweet.id)\n",
    "                        except:\n",
    "                            print('???',status.id)\n",
    "                            pass\n",
    "                        break\n",
    "            except:\n",
    "                print('Fetch status failed: ',tweet.id)\n",
    "                pass\n",
    "        else:\n",
    "            print('No available tweets at:', dt.now())\n",
    "\n",
    "def post_tweet(client,api,filename=None):\n",
    "    #reply_settings: “mentionedUsers” and “following”\n",
    "    #filename: local path to media\n",
    "    #file: media object\n",
    "    text = 'Bears? Bulls? Follow our accounts! We summarize tweets from famous investors (with >5k followers). You might read bullish and bearish tweets/charts regarding to the same underlying stock/index simultaneously.📉📈 Wish you a good experience!🧐🧐 $NDX $QQQ $NDQ #stocks #bear #bull'\n",
    "    mediaID = api.media_upload(filename)\n",
    "    tweet = client.create_tweet(text=text,media_ids=[mediaID.media_id])\n",
    "    return tweet\n",
    "\n",
    "def main(timer,flag):\n",
    "    api,client = auth()\n",
    "    #query = '#spy -is:retweet'\n",
    "    list1 = '#NDQ OR #QQQ OR #NDX OR \"qqq index\" OR \"ndq index\" '\n",
    "    list2 = 'OR #TQQQ OR #SQQQ OR #XLK OR #QQQM OR #KWEB OR #ARKK '\n",
    "    list4 = 'OR #AAPL OR #AMZN OR #FB OR #GOOG OR #NFLX OR #TSLA OR #SNAP OR #AMD #NVDA OR #DIS OR #TWTR OR #WMT OR QQQ OR NDQ OR NDX'\n",
    "    list3 =  ' -@ndq -@qqq -@ndx lang:en'\n",
    "    query =  list1+list2+list4+list3\n",
    "    # fetch tweets seconds before now\n",
    "    start_time = (dt.now(tz=timezone('UTC')) - timedelta(seconds=timer)).strftime('%Y-%m-%dT%H:%M:%SZ')\n",
    "    retweet_client(client,api,start_time,query)\n",
    "    #create tweet\n",
    "    if (flag==0)&(datetime.time(12,0,0) <= dt.now(tz=timezone('EST')).time() <= datetime.time(13,0,0)):\n",
    "        filename='/Users/wenxie/Documents/startup/media/bots/p4.jpeg'\n",
    "        post_tweet(client,api,filename)\n",
    "        flag = 1\n",
    "    return flag\n",
    "\n",
    "'''\n",
    "if __name__ == '__main__':\n",
    "    #print(tweepy.__version__)\n",
    "    flag = 0\n",
    "    timer = 60*60\n",
    "    flag = main(timer,flag)\n",
    "    repeat = True\n",
    "    while repeat:\n",
    "        flag = main(timer,flag)\n",
    "        if datetime.time(9,30,0) <= dt.now(tz=timezone('EST')).time() <= datetime.time(16,0,0):\n",
    "            timer = random.randint(1*60,4*60)\n",
    "        elif datetime.time(8,30,0) <= dt.now(tz=timezone('EST')).time() < datetime.time(9,30,0)\\\n",
    "            or datetime.time(4,0,0) < dt.now(tz=timezone('EST')).time() <= datetime.time(5,0,0):\n",
    "            timer = random.randint(5*60,10*60)\n",
    "        else:\n",
    "            timer = random.randint(0.5*60*60,1*60*60)\n",
    "        print('wait: ',timer,' seconds')\n",
    "        time.sleep(timer)\n",
    "'''"
   ]
  },
  {
   "cell_type": "code",
   "execution_count": 2,
   "id": "db282c91-f54e-4b1e-894a-552b5fdf080d",
   "metadata": {},
   "outputs": [],
   "source": [
    "_,client = auth()"
   ]
  },
  {
   "cell_type": "code",
   "execution_count": 10,
   "id": "6ddd36da-28ac-492e-9a3f-c488fdb22016",
   "metadata": {},
   "outputs": [],
   "source": [
    "list1 = '(#NDQ OR #QQQ OR #NDX OR \"qqq index\" OR \"ndq index\" '\n",
    "list2 = 'OR #TQQQ OR #SQQQ OR #XLK OR #QQQM OR #KWEB OR #ARKK '\n",
    "list4 = 'OR #AAPL OR #AMZN OR #FB OR #GOOG OR #NFLX OR #TSLA OR #SNAP OR #AMD #NVDA OR #DIS OR #TWTR OR #WMT OR QQQ OR NDQ OR NDX'\n",
    "list3 =  ') -@ndq -@qqq -@ndx lang:en'\n",
    "query =  list1+list2+list4+list3\n",
    "# fetch tweets seconds before now\n",
    "start_time = (dt.now(tz=timezone('UTC')) - timedelta(seconds=60*60)).strftime('%Y-%m-%dT%H:%M:%SZ')"
   ]
  },
  {
   "cell_type": "code",
   "execution_count": 11,
   "id": "d992214f-0fa2-459f-87d4-bd3ce96c31e7",
   "metadata": {},
   "outputs": [
    {
     "data": {
      "text/plain": [
       "'(#NDQ OR #QQQ OR #NDX OR \"qqq index\" OR \"ndq index\" OR #TQQQ OR #SQQQ OR #XLK OR #QQQM OR #KWEB OR #ARKK OR #AAPL OR #AMZN OR #FB OR #GOOG OR #NFLX OR #TSLA OR #SNAP OR #AMD #NVDA OR #DIS OR #TWTR OR #WMT OR QQQ OR NDQ OR NDX) -@ndq -@qqq -@ndx lang:en'"
      ]
     },
     "execution_count": 11,
     "metadata": {},
     "output_type": "execute_result"
    }
   ],
   "source": [
    "query"
   ]
  },
  {
   "cell_type": "code",
   "execution_count": 12,
   "id": "f52742f4-027d-4170-9e99-0df43fc8a9e3",
   "metadata": {},
   "outputs": [],
   "source": [
    "tws = client.search_recent_tweets(query=query, start_time=start_time, max_results=50)"
   ]
  },
  {
   "cell_type": "code",
   "execution_count": 13,
   "id": "daa4e263-3fe8-4d01-8a1d-49e7e6a53f1b",
   "metadata": {},
   "outputs": [
    {
     "data": {
      "text/plain": [
       "[<Tweet id=1489631374080307202 text=Using $SQQQ gains to add to my $PLBY long is a trade that I’m confident in.\n",
       " Short $QQQ>,\n",
       " <Tweet id=1489631363133161474 text=Jeremi Gorman. She is arguably one of the best performing C-level execs in tech. Hugely disappointed editors @WSJ didn’t catch this mistake. #Snap #womenintech https://t.co/ltndaRu61W>,\n",
       " <Tweet id=1489631304886882307 text=$QQQ crypto rally just starting 📈>,\n",
       " <Tweet id=1489631223911702535 text=Our Daily Winners: ABNB 6.9 -&gt; 9.3\n",
       " $QQQ $SPY #STOCKS #Profits #Options>,\n",
       " <Tweet id=1489631220233289732 text=Our Daily Winners: ABNB 7 to 8.55\n",
       " $QQQ $SPY #STOCKS #Profits #Options>,\n",
       " <Tweet id=1489631178516623362 text=@MiIeyRevolution @MileyCyrus @mileyworld @ColumbiaRecords Nothing Breaks Like a Heart music video has been considered \"inappropriate\" for some viewers, losing the millions of views that it could be receiving after going viral on TikTok.  \n",
       " \n",
       " Please fix this @ColumbiaRecords @mileyworld @MarkRonson qqq>,\n",
       " <Tweet id=1489631122979962882 text=RT @leoventuresllc: Google...What Can I Say !! #google #googl #stock #tech #internet #goog #technology #epic #monster https://t.co/VVkH9Bai…>,\n",
       " <Tweet id=1489631093959626757 text=Horny and hard, stroking and draining my cock. Dm me or like and I’ll show you or add my snap ben_johnsom, girls only #horny #cock #dickrate  #nsfw #nsfwtwitter  #dickpic #dick #cum #nude #porn #sex #snap #snapchat #snapme #dmme #nudes  #cocktribute  #teenslut  #cumslut #nsfwtwt https://t.co/UMSJxxVZrP>,\n",
       " <Tweet id=1489631047096619016 text=I keep my eye on a lot of financial websites. But this one I really love. Can I have some of what you are 🚬\n",
       " \n",
       " $SPY $QQQ $DIA $IWM https://t.co/gu6Zpu8zmm>,\n",
       " <Tweet id=1489631008605581312 text=RT @HCPG: Not loving this candle either  $QQQ 50sma -- https://t.co/GvR1z5nG8X>,\n",
       " <Tweet id=1489630994747461642 text=Fairly safe to say $MSFT will have motivated buyers all day today (and thus the bull flag early). The orchestrated walk down yesterday was a big tell. $QQQ will likely rally late as well. Complete shit market conditions though. No doubt>,\n",
       " <Tweet id=1489630984442105856 text=RT @kaessuman: Yes Atta Mills ur continuing existence and presidency is causing Ghanaian unnecessary hardship. #fb>,\n",
       " <Tweet id=1489630974988144645 text=Dm me guys or snap to command a chubby slut 👻:logan_s9797  #gaysnap #gaysnapme #gaydms #gayhot #hotgay #gaychub #gaychubby #chubbygay #gay #gayguy #gaydude #gayman #snapchat👻 #snap #snapchat #pgfreaks #pgbttm #pgbottom #dmvfreaks #dmvbttm #dmvbottom #DCfreaks #DCbttm #DCbottom>,\n",
       " <Tweet id=1489630957254713345 text=andrewgoatsnap has just been added to the #Linux #Snap Store. #Snapcraft #andrewgoatsnap https://t.co/WCg8SFWpAp>,\n",
       " <Tweet id=1489630941467316228 text=andrewgotz has just been added to the #Linux #Snap Store. #Snapcraft #andrewgotz https://t.co/REm5RMT7X6>,\n",
       " <Tweet id=1489630936677457920 text=RT @RBTradingPTDE: $Xela Exela Tech 🚨🚨🚨 Buy Buy buy \n",
       " \n",
       " $KRFG $EEENF $IMTL $MWWC $APTY $NWGC $NSAV $GVSI $ILUS $BZWR $SWRM \n",
       "  $SPY $HOOD $QQQ…>,\n",
       " <Tweet id=1489630896399527946 text=Straight men snap me for fat ass 👻:logan_s9797  #gaysnap #gaysnapme #gaydms #gayhot #hotgay #gaychub #gaychubby #chubbygay #gay #gayguy #gaydude #gayman #snapchat👻 #snap #snapchat>,\n",
       " <Tweet id=1489630836492279808 text=RT @imzy374: Your #wife when she goes to her to her #boyfriends 👅👅\n",
       " #snap #snapchat #daughter #bestfriends #waifu #riding #thot #cheatinggir…>,\n",
       " <Tweet id=1489630831979159555 text=Most Active INDX Option \n",
       " \n",
       " Highest % Vol Increase \n",
       " $NDX Contracts:7157 Vol ^ %79.97 Calls %49.06 Puts %50.94\n",
       " \n",
       " Highest Daily Vol \n",
       " $NDX Contracts:7157 Vol ^ %79.97 Calls %49.06 Puts %50.94>,\n",
       " <Tweet id=1489630807539032073 text=RT @CryptooUnity: 💎#NFTGiveaway💎\n",
       " \n",
       " To celebrate collaboration with @FANGEDBEASTNFT \n",
       " \n",
       " We're giving away 1 #NFT\n",
       " 1x Fanged Beast\n",
       " \n",
       " ✅To enter\n",
       " 1⃣F…>,\n",
       " <Tweet id=1489630753495343111 text=Top 5 trending #redditarmy #stocks in the last 4 hours\n",
       " \n",
       " | Sym |ChtVol | %chg |🚀 🐻\n",
       " &gt;&gt;\n",
       " | $SPY | 103 | 114.6% | 🚀\n",
       " | $FB | 92 | 109.1% | 🚀\n",
       " | $AMZN | 65 | 25.0% | 🚀\n",
       " | $SNAP | 42 | 121.1% | 🚀\n",
       " | $QQQ | 32 | 166.7% | 🚀\n",
       " \n",
       " Access wider trends: https://t.co/4Z0lTkVRF9>,\n",
       " <Tweet id=1489630751545044993 text=🦊\n",
       " $AMZN Call\n",
       " Lotto🎱\n",
       " #AMZN\n",
       " 🦊 https://t.co/8DIrCuUl1r>,\n",
       " <Tweet id=1489630747308658688 text=RT @Marlin_Capital: S&amp;P 500 P/E Ratios at the beginning of Fed hiking cycles:\n",
       " \n",
       " 2022 is likely to have the 2nd highest P/E (1st ‘99) at the…>,\n",
       " <Tweet id=1489630740903985156 text=@GarethSoloway What do you make of this relative strength emerging between NDX and Crypto?>,\n",
       " <Tweet id=1489630733555539969 text=@samantha_qqq Happy Anni to you and Audrey!! 💖>,\n",
       " <Tweet id=1489630724193980416 text=Most Active ETF Option \n",
       " \n",
       " Highest % Vol Increase \n",
       " $QQQ Contracts:898793 Vol ^ %98.13 Calls %39.82 Puts %60.18\n",
       " \n",
       " Highest Daily Vol \n",
       " $TLT Contracts:98329 Vol ^ %231.45 Calls %48.01 Puts %51.99>,\n",
       " <Tweet id=1489630644082774021 text=#Bitcoin is strong. It 'should' bode well for $QQQ if that Crypto strength holds. It's been the forerunner lately. #C https://t.co/NdpTAYsKp4>,\n",
       " <Tweet id=1489630626189922307 text=Investors wanted to short #QQQ. Platforms wouldn’t let them https://t.co/f9dyjoOg7K>,\n",
       " <Tweet id=1489630616090034179 text=Update 100% again lets go !! $QQQ>,\n",
       " <Tweet id=1489630590441869319 text=$QQQ is now $353.80 😃👍>,\n",
       " <Tweet id=1489630571877650440 text=Anybody adding position to Facebook？ #fb #Facebook  #MARKZUKERBERG>,\n",
       " <Tweet id=1489630438666772482 text=RT @scottmelker: $QQQ\n",
       " \n",
       " Not a chart of a healthy market. https://t.co/U1SaEAjTQP>,\n",
       " <Tweet id=1489630415287513088 text=$SPY $QQQ has been rallying the last couple of Fridays will today be the same>,\n",
       " <Tweet id=1489630330067697664 text=11:00am 20°F mostly cloudy -  light snow (Hi21/Lo17)  Hum:82% Wnd:NW 4-&gt;15mph Prcp:0.07in https://t.co/r1qf6t9t7U #cnywx #fb>,\n",
       " <Tweet id=1489630315983384576 text=RT @aphrodilady: Send dicks and i’ll rate them  #horny #hornyrn #hornyaf #dick #cock #fuckme #slut #cumslut #cumwhore #daddy #nsfw #dickrat…>,\n",
       " <Tweet id=1489630307993239558 text=Number of leading stocks today: 29 $SPY $QQQ $FB $GOOGL $AMZN $AAPL #DailyStkLeaderCount #Bitcoin #BTC>,\n",
       " <Tweet id=1489630290645598212 text=#SNAP is tied to better health outcomes for older adults aged 60+, yet 52% of eligible older adults are not enrolled. Many are missing out on this assistance due to the stigma of accessing benefits, along with other systemic barriers. 2/ https://t.co/cPNubdW6Nj>,\n",
       " <Tweet id=1489630285784305664 text=JUST IN: How can we better serve older adults in rural communities and reduce the stigma in accessing public benefits like #SNAP? Our new study w/ @50initiative &amp; @hungerfreeco, a thread ⤵️ https://t.co/1omrVqz0i1>,\n",
       " <Tweet id=1489630277425147908 text=@irl_Chibi @samantha_qqq i love u both so much it hurts>,\n",
       " <Tweet id=1489630222173548556 text=RT @katiegonewild: Need more #nsfwtwt moots, like and RT if you're interested ❤️\n",
       " \n",
       " #teen #horny #slut #porn #whore #naked #nudes #adult #sna…>,\n",
       " <Tweet id=1489630182700945410 text=$SPY $QQQ choppy price action continues. Interest rates rising on jobs report. $VXX trying to break out of tight setup. CPI next week. Patience for high probability setups. https://t.co/r679FHRoAQ>,\n",
       " <Tweet id=1489630174102503424 text=In this video, we analyzed 3 stocks at 52 week low! These include Twitter (TWTR) stock, PayPal (PYPL) stock, and Block/Square (SQ) stock. Check out this entertaining and educational video from the fellas!\n",
       " #twtr #pypl #sq \n",
       " .\n",
       " .\n",
       " .\n",
       " Crew:\n",
       " @paulgabrail\n",
       " @tradermo_em\n",
       " @sethkerechanin \n",
       " #bi https://t.co/tjxvIPm75U>,\n",
       " <Tweet id=1489630148454494210 text=Maybe people should not be allowed to buy tanks also? 🤔😂😂😂\n",
       " \n",
       " $SPY $QQQ $DJI $NDX $IWD $RUT $IWM $FB $AMZN $AAPL $NFLX $GOOG $ARKK $TSLA $MSFT $BTC #BITCOIN #BTC #NASDAQ #DOWJONES #SP500 https://t.co/a2rdu2h5Dv https://t.co/PyZsSwf8vu>,\n",
       " <Tweet id=1489630139965218819 text=@HulkCapitalPro I’m thinking about QQQ puts for next Wednesday or Friday.  What do the oscillators look like?>,\n",
       " <Tweet id=1489630112052035584 text=At 7.0 My stock avg. for $QQQ is basically 354 with the 2/25 360c just for a reference. So I’m looking for 355 psych base minimum, then 357 4H falling wedge downtrend break. Solid positioning so no more DCA adds at the moment. 🧙‍♂️>,\n",
       " <Tweet id=1489630111955623941 text=Happy Friday! #fb>,\n",
       " <Tweet id=1489630103558627331 text=@scottmelker Trying to see when there was a previous weekly candle like this on the NDX>,\n",
       " <Tweet id=1489630101314719744 text=Trending Stocks on #fintwit: \n",
       " \n",
       " Source: https://t.co/cWJOwWSb0I \n",
       " \n",
       " 1. $AMZN 🥇\n",
       " 2. $SPY 🥈\n",
       " 3. $QQQ 🥉\n",
       " 4. $SPX\n",
       " 5. $SNAP\n",
       " 6. $FB\n",
       " 7. $BTC\n",
       " 8. $TSLA\n",
       " 9. $AAPL\n",
       " 10. $TNX\n",
       " \n",
       " ( Sorted by most recent ) https://t.co/SyDZP3yv8e>,\n",
       " <Tweet id=1489630063486062594 text=So far this is looking accurate $AMZN #stocks $QQQ $SPY https://t.co/BBqqKApcK1>,\n",
       " <Tweet id=1489630058054512640 text=RT @sspencer_smb: i would continue to watch this closely as stocks will see selling at it makes new intraday highs... $TNX $QQQ https://t.c…>]"
      ]
     },
     "execution_count": 13,
     "metadata": {},
     "output_type": "execute_result"
    }
   ],
   "source": [
    "tws.data"
   ]
  },
  {
   "cell_type": "code",
   "execution_count": null,
   "id": "9ddd61f5-0843-4b7b-8328-66872afa4f13",
   "metadata": {},
   "outputs": [],
   "source": [
    "status.user.followers_count"
   ]
  },
  {
   "cell_type": "code",
   "execution_count": null,
   "id": "9912db26-645e-4dd0-8053-78ba5c84e141",
   "metadata": {},
   "outputs": [],
   "source": [
    "status.possibly_sensitive"
   ]
  },
  {
   "cell_type": "code",
   "execution_count": null,
   "id": "51109fab-785e-4e04-8078-1c7910a74754",
   "metadata": {},
   "outputs": [],
   "source": [
    "status.retweeted"
   ]
  },
  {
   "cell_type": "code",
   "execution_count": null,
   "id": "eb8f890d-b243-4a8a-8b50-042d27016670",
   "metadata": {},
   "outputs": [],
   "source": [
    "status.id"
   ]
  },
  {
   "cell_type": "code",
   "execution_count": null,
   "id": "f3671b33-73a3-4532-9fdc-18e9b5a5c7ab",
   "metadata": {},
   "outputs": [],
   "source": [
    "tz=timezone.utc"
   ]
  },
  {
   "cell_type": "code",
   "execution_count": null,
   "id": "30ad978e-55f9-4137-a63a-44b95080f5bb",
   "metadata": {},
   "outputs": [],
   "source": [
    "from pytz import timezone"
   ]
  },
  {
   "cell_type": "code",
   "execution_count": null,
   "id": "6d223200-9977-4039-932a-de24fa74bf2c",
   "metadata": {},
   "outputs": [],
   "source": [
    "datetime.datetime.now(tz=timezone('UTC'))"
   ]
  },
  {
   "cell_type": "code",
   "execution_count": null,
   "id": "03b4eea4-c2c4-4bd1-97df-5547840151ed",
   "metadata": {},
   "outputs": [],
   "source": [
    "datetime.datetime.now(tz=timezone('GMT'))"
   ]
  },
  {
   "cell_type": "code",
   "execution_count": null,
   "id": "16ff8188-e217-40e9-ad90-00e83763f3fb",
   "metadata": {},
   "outputs": [],
   "source": [
    "datetime.time(8,10,10) < datetime.datetime.now().time() < datetime.time(22,10,10)"
   ]
  },
  {
   "cell_type": "code",
   "execution_count": null,
   "id": "2b1b44bf-ef2d-4975-938e-dcc7dd7e5795",
   "metadata": {},
   "outputs": [],
   "source": [
    "datetime.time(8,10,10)"
   ]
  },
  {
   "cell_type": "code",
   "execution_count": null,
   "id": "f6911113-15a0-4045-a8a8-6cf9880ae741",
   "metadata": {},
   "outputs": [],
   "source": [
    "datetime.time(9,30,0) "
   ]
  },
  {
   "cell_type": "code",
   "execution_count": null,
   "id": "32058202-7097-45df-b4ed-d9293bd09f96",
   "metadata": {},
   "outputs": [],
   "source": [
    "help(datetime.time)"
   ]
  },
  {
   "cell_type": "code",
   "execution_count": null,
   "id": "52de7066-4f8d-43d2-acc4-c2e5a929d0db",
   "metadata": {},
   "outputs": [],
   "source": [
    "text = 'RT @jinzhe123456: 📍深圳 骚逼逼痒，半夜从广州来深圳求草！越草越骚……@jinzhe123456 https://t.co/otQ8q5yXRm'"
   ]
  },
  {
   "cell_type": "code",
   "execution_count": null,
   "id": "25644da3-7587-4e01-8d50-de19ab9126f6",
   "metadata": {},
   "outputs": [],
   "source": [
    "re.sub(r'http\\S*', '', text)"
   ]
  },
  {
   "cell_type": "code",
   "execution_count": null,
   "id": "ed45a831-7c58-4a27-8807-8ef307120643",
   "metadata": {},
   "outputs": [],
   "source": [
    "re.findall(r'http\\S*', text)"
   ]
  },
  {
   "cell_type": "code",
   "execution_count": null,
   "id": "6caf2462-0e9d-4026-9f65-03a86e4a0093",
   "metadata": {},
   "outputs": [],
   "source": [
    "query"
   ]
  },
  {
   "cell_type": "code",
   "execution_count": null,
   "id": "b2437a3c-f47b-4e50-8ea0-4c51274d0858",
   "metadata": {},
   "outputs": [],
   "source": [
    "len(query)"
   ]
  },
  {
   "cell_type": "code",
   "execution_count": null,
   "id": "7acca4a9-9e38-46f5-9577-15ff74f133ed",
   "metadata": {},
   "outputs": [],
   "source": [
    "list1 = '#spy OR #spx OR spy OR spx OR #ES OR e-mini OR \"spy index\" OR \"spx index\" '\n",
    "list2 = 'OR #SPXL OR #UPRO OR #HIBL OR #SPUU OR #SSO OR #SPXS OR #VOO OR #IVV '\n",
    "list4 = 'OR #HYG OR #HYT OR #JNK OR #TLT OR #VXTLT OR #MOVE OR'\n",
    "list3 =  ' -@spy -@spx lang:en'\n",
    "query =  list1+list2+list4+list3"
   ]
  },
  {
   "cell_type": "code",
   "execution_count": null,
   "id": "5fd4dd9f-18e7-42ea-9a37-9246fed41079",
   "metadata": {},
   "outputs": [],
   "source": [
    "from datetime import timedelta\n",
    "from datetime import datetime as dt\n",
    "import datetime\n",
    "from pytz import timezone"
   ]
  },
  {
   "cell_type": "code",
   "execution_count": null,
   "id": "1a9c863c-4178-4f5c-8f48-fc7bd4afb028",
   "metadata": {},
   "outputs": [],
   "source": [
    "dt.now(tz=timezone('EST')).time() datetime.time(9,30,0)"
   ]
  },
  {
   "cell_type": "code",
   "execution_count": 16,
   "id": "e3fe8e8b-9534-4566-beb0-84cb5f85a717",
   "metadata": {},
   "outputs": [
    {
     "data": {
      "text/plain": [
       "True"
      ]
     },
     "execution_count": 16,
     "metadata": {},
     "output_type": "execute_result"
    }
   ],
   "source": [
    "0<=dt.now(tz=timezone('EST')).weekday()<=5"
   ]
  },
  {
   "cell_type": "code",
   "execution_count": 17,
   "id": "54350f1b-2276-4165-9f61-5ce4d65710ac",
   "metadata": {},
   "outputs": [],
   "source": [
    "BOT_PATHS = {'spy':'query_spy.txt','vix':'query_vix.txt','nq':'query_nq.txt'}"
   ]
  },
  {
   "cell_type": "code",
   "execution_count": 24,
   "id": "b6ffc4be-89f2-4cc6-b66b-94c65c737814",
   "metadata": {},
   "outputs": [
    {
     "data": {
      "text/plain": [
       "dict_keys(['spy', 'vix', 'nq'])"
      ]
     },
     "execution_count": 24,
     "metadata": {},
     "output_type": "execute_result"
    }
   ],
   "source": [
    " BOT_PATHS.keys()"
   ]
  },
  {
   "cell_type": "code",
   "execution_count": 30,
   "id": "07935ffb-fcf5-4062-8994-fc76169be55a",
   "metadata": {},
   "outputs": [],
   "source": [
    "a = '{\"bot\": \"spy\", \"initial_timer\": 5*24*3600, \"initial_retweet_rate\": 500, \"initial_flag\": true, \"repeat\": true, \"post\":true, \"followers\":5000}'\n"
   ]
  },
  {
   "cell_type": "code",
   "execution_count": 31,
   "id": "2348c5e0-fa15-4959-ba2f-d8161cda0861",
   "metadata": {},
   "outputs": [
    {
     "data": {
      "text/plain": [
       "'2'"
      ]
     },
     "execution_count": 31,
     "metadata": {},
     "output_type": "execute_result"
    }
   ],
   "source": [
    "a[34]"
   ]
  },
  {
   "cell_type": "code",
   "execution_count": null,
   "id": "dc50fb21-94a2-45fc-86cf-3ce161db5c22",
   "metadata": {},
   "outputs": [],
   "source": []
  }
 ],
 "metadata": {
  "kernelspec": {
   "display_name": "Python 3 (ipykernel)",
   "language": "python",
   "name": "python3"
  },
  "language_info": {
   "codemirror_mode": {
    "name": "ipython",
    "version": 3
   },
   "file_extension": ".py",
   "mimetype": "text/x-python",
   "name": "python",
   "nbconvert_exporter": "python",
   "pygments_lexer": "ipython3",
   "version": "3.9.6"
  }
 },
 "nbformat": 4,
 "nbformat_minor": 5
}

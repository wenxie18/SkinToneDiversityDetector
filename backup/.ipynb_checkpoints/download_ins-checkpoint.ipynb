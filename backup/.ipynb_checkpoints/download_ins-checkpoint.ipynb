{
 "cells": [
  {
   "cell_type": "markdown",
   "id": "0b86a75b-fe34-43be-a97d-331dae300093",
   "metadata": {},
   "source": [
    "# Jewelry ins influencer\n",
    "- jimmyxboi\n",
    "- thediamondsgirl"
   ]
  },
  {
   "cell_type": "code",
   "execution_count": null,
   "id": "e83ab2b4-4f73-4906-9bf0-cd91bdca8844",
   "metadata": {},
   "outputs": [],
   "source": [
    "import os\n",
    "from datetime import datetime\n",
    "from itertools import dropwhile, takewhile\n",
    "from itertools import islice\n",
    "from math import ceil\n",
    "\n",
    "import instaloader"
   ]
  },
  {
   "cell_type": "code",
   "execution_count": 38,
   "id": "7d463c6a-b4f4-4d37-804a-7ef9e4b4699a",
   "metadata": {},
   "outputs": [],
   "source": [
    "if not os.path.exists('influencer'):\n",
    "    os.makedirs('influencer')\n",
    "os.chdir('influencer')\n",
    "product_type = ['jewelry']\n",
    "ins_acts = ['jimmyxboi','thediamondsgirl']\n",
    "username = 'vince_18x'\n",
    "password = '.Xiewen.1230.'"
   ]
  },
  {
   "cell_type": "code",
   "execution_count": 49,
   "id": "70c7d10a-0947-463a-8854-17a2d963f1c9",
   "metadata": {},
   "outputs": [],
   "source": [
    "L = instaloader.Instaloader()\n",
    "L.login(username,password)"
   ]
  },
  {
   "cell_type": "code",
   "execution_count": 69,
   "id": "8c68cf11-a562-4131-ae93-54233d5d25b3",
   "metadata": {},
   "outputs": [],
   "source": [
    "os.chdir('..')"
   ]
  },
  {
   "cell_type": "code",
   "execution_count": 70,
   "id": "d4bd83e0-9f16-4c98-b063-f7d009bfc947",
   "metadata": {},
   "outputs": [
    {
     "data": {
      "text/plain": [
       "'C:\\\\Users\\\\hanlab\\\\Desktop\\\\projects\\\\VideoInfluencer\\\\code'"
      ]
     },
     "execution_count": 70,
     "metadata": {},
     "output_type": "execute_result"
    }
   ],
   "source": [
    "os.getcwd()"
   ]
  },
  {
   "cell_type": "markdown",
   "id": "6ecd4a02-2028-4b8e-86f1-dc094fb537e9",
   "metadata": {},
   "source": [
    "## download 9.9-9.21 posts"
   ]
  },
  {
   "cell_type": "code",
   "execution_count": 72,
   "id": "8d25dcac-6dac-4ad6-acb9-2084f4279f83",
   "metadata": {},
   "outputs": [
    {
     "name": "stdout",
     "output_type": "stream",
     "text": [
      "2021-09-19 00:06:20 GraphVideo 2522 39\n",
      "jimmyxboi\\2021-09-19_00-06-20_UTC.jpg exists [That #DoneRight hit different…] unchanged jimmyxboi\\2021-09-19_00-06-20_UTC.mp4 exists json \n",
      "2021-09-11 20:03:19 GraphImage 31751 326\n",
      "jimmyxboi\\2021-09-11_20-03-19_UTC.jpg exists [Out of all my cars this my fa…] unchanged json \n",
      "2021-09-08 20:09:04 GraphSidecar 3582 38\n",
      "jimmyxboi\\2021-09-08_20-09-04_UTC_1.jpg exists jimmyxboi\\2021-09-08_20-09-04_UTC_2.jpg exists jimmyxboi\\2021-09-08_20-09-04_UTC_2.mp4 exists jimmyxboi\\2021-09-08_20-09-04_UTC_3.jpg exists jimmyxboi\\2021-09-08_20-09-04_UTC_3.mp4 exists [Big boy pizzle with the big b…] unchanged json \n",
      "2021-09-05 00:30:25 GraphSidecar 5864 86\n",
      "jimmyxboi\\2021-09-05_00-30-25_UTC_1.jpg exists jimmyxboi\\2021-09-05_00-30-25_UTC_2.jpg exists jimmyxboi\\2021-09-05_00-30-25_UTC_3.jpg exists jimmyxboi\\2021-09-05_00-30-25_UTC_4.jpg exists jimmyxboi\\2021-09-05_00-30-25_UTC_5.jpg exists jimmyxboi\\2021-09-05_00-30-25_UTC_5.mp4 exists jimmyxboi\\2021-09-05_00-30-25_UTC_6.jpg exists jimmyxboi\\2021-09-05_00-30-25_UTC_6.mp4 exists jimmyxboi\\2021-09-05_00-30-25_UTC_7.jpg exists jimmyxboi\\2021-09-05_00-30-25_UTC_8.jpg exists jimmyxboi\\2021-09-05_00-30-25_UTC_9.jpg exists jimmyxboi\\2021-09-05_00-30-25_UTC_10.jpg exists jimmyxboi\\2021-09-05_00-30-25_UTC_10.mp4 exists [It’s #Goldie bday today… my m…] unchanged json \n",
      "2021-09-03 03:28:36 GraphImage 6930 195\n",
      "jimmyxboi\\2021-09-03_03-28-36_UTC.jpg exists [Bringing real qualitayyyy to …] unchanged json \n",
      "2021-09-01 21:55:25 GraphSidecar 3554 76\n",
      "jimmyxboi\\2021-09-01_21-55-25_UTC_1.jpg exists jimmyxboi\\2021-09-01_21-55-25_UTC_1.mp4 exists jimmyxboi\\2021-09-01_21-55-25_UTC_2.jpg exists jimmyxboi\\2021-09-01_21-55-25_UTC_2.mp4 exists [Had couple missing tizzles bu…] unchanged json \n",
      "2021-08-24 04:19:57 GraphSidecar 8758 109\n",
      "jimmyxboi\\2021-08-24_04-19-57_UTC_1.jpg exists jimmyxboi\\2021-08-24_04-19-57_UTC_2.jpg exists jimmyxboi\\2021-08-24_04-19-57_UTC_3.jpg exists jimmyxboi\\2021-08-24_04-19-57_UTC_4.jpg exists jimmyxboi\\2021-08-24_04-19-57_UTC_5.jpg exists jimmyxboi\\2021-08-24_04-19-57_UTC_6.jpg exists jimmyxboi\\2021-08-24_04-19-57_UTC_7.jpg exists jimmyxboi\\2021-08-24_04-19-57_UTC_8.jpg exists [How it started vs how it’s go…] unchanged json \n",
      "2021-08-18 20:56:25 GraphSidecar 5518 148\n",
      "jimmyxboi\\2021-08-18_20-56-25_UTC_1.jpg exists jimmyxboi\\2021-08-18_20-56-25_UTC_1.mp4 exists jimmyxboi\\2021-08-18_20-56-25_UTC_2.jpg exists jimmyxboi\\2021-08-18_20-56-25_UTC_2.mp4 exists [This workout journey hasn’t b…] unchanged json \n",
      "2021-08-16 20:51:45 GraphVideo 1831 48\n",
      "jimmyxboi\\2021-08-16_20-51-45_UTC.jpg exists [Only jeweler that’ll only mak…] unchanged jimmyxboi\\2021-08-16_20-51-45_UTC.mp4 exists json \n",
      "2021-08-14 05:15:42 GraphVideo 5079 93\n",
      "jimmyxboi\\2021-08-14_05-15-42_UTC.jpg exists [1st ever tri color flawless i…] unchanged jimmyxboi\\2021-08-14_05-15-42_UTC.mp4 exists json \n",
      "2021-09-22 15:38:11 GraphVideo 6297 77\n",
      "thediamondsgirl\\2021-09-22_15-38-11_UTC.jpg exists [The beauty of simplicity!!! 💕…] unchanged thediamondsgirl\\2021-09-22_15-38-11_UTC.mp4 exists json \n",
      "2021-09-22 11:42:37 GraphVideo 4467 34\n",
      "thediamondsgirl\\2021-09-22_11-42-37_UTC.jpg exists [MAGICAL MESSIKA!!! Available …] unchanged thediamondsgirl\\2021-09-22_11-42-37_UTC.mp4 exists json \n",
      "2021-09-21 16:38:26 GraphVideo 8361 146\n",
      "thediamondsgirl\\2021-09-21_16-38-26_UTC.jpg exists [BECAUSE SOMETIMES YOU NEED A …] unchanged thediamondsgirl\\2021-09-21_16-38-26_UTC.mp4 exists json \n",
      "2021-09-21 13:45:22 GraphVideo 5963 90\n",
      "thediamondsgirl\\2021-09-21_13-45-22_UTC.jpg exists [HEY WONDER WOMAN - I FOUND YO…] unchanged thediamondsgirl\\2021-09-21_13-45-22_UTC.mp4 exists json \n",
      "2021-09-20 22:12:58 GraphVideo 4518 45\n",
      "thediamondsgirl\\2021-09-20_22-12-58_UTC.jpg exists [PROOF THAT NOT ALL THE STARS …] unchanged thediamondsgirl\\2021-09-20_22-12-58_UTC.mp4 exists json \n",
      "2021-09-20 16:43:33 GraphVideo 5660 88\n",
      "thediamondsgirl\\2021-09-20_16-43-33_UTC.jpg exists [AS RARE AS RARE CAN BE…. A 72…] unchanged thediamondsgirl\\2021-09-20_16-43-33_UTC.mp4 exists json \n",
      "2021-09-20 11:01:13 GraphVideo 5764 69\n",
      "thediamondsgirl\\2021-09-20_11-01-13_UTC.jpg exists [I challenge you to find any e…] unchanged thediamondsgirl\\2021-09-20_11-01-13_UTC.mp4 exists json \n",
      "2021-09-19 23:14:09 GraphVideo 4251 103\n",
      "thediamondsgirl\\2021-09-19_23-14-09_UTC.jpg exists [DID I EVER TELL YOU ABOUT THE…] unchanged thediamondsgirl\\2021-09-19_23-14-09_UTC.mp4 exists json \n",
      "2021-09-19 19:12:30 GraphVideo 6326 74\n",
      "thediamondsgirl\\2021-09-19_19-12-30_UTC.jpg exists [This weeks #SundayFunday box …] unchanged thediamondsgirl\\2021-09-19_19-12-30_UTC.mp4 exists json \n",
      "2021-09-19 13:55:12 GraphSidecar 13541 278\n",
      "thediamondsgirl\\2021-09-19_13-55-12_UTC_1.jpg exists thediamondsgirl\\2021-09-19_13-55-12_UTC_2.jpg exists [SOME PEOPLE LIKE OATS FOR BRE…] unchanged json \n"
     ]
    }
   ],
   "source": [
    "for prod in product_type:\n",
    "    #change directory to current product\n",
    "    if not os.path.exists(prod):\n",
    "        os.makedirs(prod)\n",
    "    os.chdir(prod)\n",
    "    \n",
    "    for acct in ins_acts:\n",
    "            \n",
    "        posts = instaloader.Profile.from_username(L.context, acct).get_posts()\n",
    "\n",
    "        START_ = datetime(2021, 9, 1)\n",
    "        END_ = datetime(2021, 9, 21)\n",
    "        \n",
    "        '''\n",
    "        #download by dates\n",
    "\n",
    "        for post in takewhile(lambda p: p.date > START_, dropwhile(lambda p: p.date > END_, posts)):\n",
    "            print(post.date,  post.typename, post.likes, post.comments)\n",
    "            L.download_post(post, path)\n",
    "        '''\n",
    "        #download by top k\n",
    "        # likes and comments  // dates\n",
    "        #posts_sorted_by_likes = sorted(posts,key=lambda p: p.likes + p.comments,reverse=True)\n",
    "        #posts_sorted_by_date = sorted(posts, key=lambda p: p.date, reverse=True)\n",
    "        \n",
    "        \n",
    "        for post in islice(posts, ceil(10)):  #posts.mediacount * X_percentage / 100\n",
    "            print(post.date,  post.typename, post.likes, post.comments, post.video_view_count)\n",
    "            L.download_post(post, acct)\n",
    "            with open('likes_comments.txt','a+') as f:\n",
    "                f.write(acct+' '+str(post.date).replace(' ','_').replace(':','-')+' '+str(post.likes)+' '+str(post.comments)+' '+str(post.video_view_count))\n",
    "                f.write('\\n')\n",
    "os.chdir('..')"
   ]
  },
  {
   "cell_type": "code",
   "execution_count": 36,
   "id": "3b3838e4-5385-4a71-b70a-3b19ec3be52d",
   "metadata": {},
   "outputs": [
    {
     "data": {
      "text/plain": [
       "(2514, 39, 17115)"
      ]
     },
     "execution_count": 36,
     "metadata": {},
     "output_type": "execute_result"
    }
   ],
   "source": [
    "post.likes, post.comments, post.video_view_count"
   ]
  },
  {
   "cell_type": "code",
   "execution_count": 59,
   "id": "196d69f6-635d-46b0-825c-f03c4b3bd8fd",
   "metadata": {},
   "outputs": [
    {
     "data": {
      "text/plain": [
       "'2021-09-19_13-55-12'"
      ]
     },
     "execution_count": 59,
     "metadata": {},
     "output_type": "execute_result"
    }
   ],
   "source": [
    "str(post.date).replace(' ','_').replace(':','-')"
   ]
  },
  {
   "cell_type": "code",
   "execution_count": null,
   "id": "1ca9445f-0dae-4fd0-bc76-0c096235ec6a",
   "metadata": {},
   "outputs": [],
   "source": []
  }
 ],
 "metadata": {
  "kernelspec": {
   "display_name": "Python [conda env:vince-ins]",
   "language": "python",
   "name": "conda-env-vince-ins-py"
  },
  "language_info": {
   "codemirror_mode": {
    "name": "ipython",
    "version": 3
   },
   "file_extension": ".py",
   "mimetype": "text/x-python",
   "name": "python",
   "nbconvert_exporter": "python",
   "pygments_lexer": "ipython3",
   "version": "3.7.11"
  }
 },
 "nbformat": 4,
 "nbformat_minor": 5
}

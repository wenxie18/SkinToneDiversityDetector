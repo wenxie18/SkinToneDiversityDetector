{
 "cells": [
  {
   "cell_type": "markdown",
   "id": "0b86a75b-fe34-43be-a97d-331dae300093",
   "metadata": {},
   "source": [
    "# Jewelry ins influencer\n",
    "- Tiffany\n",
    "- Cartier"
   ]
  },
  {
   "cell_type": "code",
   "execution_count": 2,
   "id": "0898c3e2-75ac-40bd-82a5-ca6df1186f84",
   "metadata": {},
   "outputs": [
    {
     "name": "stdout",
     "output_type": "stream",
     "text": [
      "Notebook already signed: download_product_posts_ins.ipynb\n"
     ]
    }
   ],
   "source": [
    "!jupyter trust download_product_posts_ins.ipynb"
   ]
  },
  {
   "cell_type": "code",
   "execution_count": 3,
   "id": "cbcfd012-e84f-4bbe-8c9e-c0bf98d6c3ad",
   "metadata": {},
   "outputs": [],
   "source": [
    "import os\n",
    "from datetime import datetime\n",
    "from itertools import dropwhile, takewhile\n",
    "from itertools import islice\n",
    "from math import ceil\n",
    "\n",
    "import instaloader"
   ]
  },
  {
   "cell_type": "code",
   "execution_count": 4,
   "id": "7d463c6a-b4f4-4d37-804a-7ef9e4b4699a",
   "metadata": {},
   "outputs": [],
   "source": [
    "if not os.path.exists('product'):\n",
    "    os.makedirs('product')\n",
    "os.chdir('product')\n",
    "product_type = ['jewelry']\n",
    "product_acts = ['tiffanyandco','cartier']\n",
    "username = 'vince_18x'\n",
    "password = '.Xiewen.1230.'"
   ]
  },
  {
   "cell_type": "code",
   "execution_count": 5,
   "id": "70c7d10a-0947-463a-8854-17a2d963f1c9",
   "metadata": {},
   "outputs": [],
   "source": [
    "L = instaloader.Instaloader()\n",
    "L.login(username,password)"
   ]
  },
  {
   "cell_type": "markdown",
   "id": "ee3c7d62-ebe6-429b-b54d-7ced1e8baf10",
   "metadata": {},
   "source": [
    "## download 9.1-9.21 posts"
   ]
  },
  {
   "cell_type": "code",
   "execution_count": 6,
   "id": "8d25dcac-6dac-4ad6-acb9-2084f4279f83",
   "metadata": {},
   "outputs": [
    {
     "name": "stdout",
     "output_type": "stream",
     "text": [
      "2021-09-23 16:00:50 GraphImage 6594 45 None\n",
      "tiffanyandco\\2021-09-23_16-00-50_UTC.jpg [A magnificent oval cabochon b…] json \n",
      "2021-09-23 01:00:29 GraphImage 10061 51 None\n",
      "tiffanyandco\\2021-09-23_01-00-29_UTC.jpg [A suite of Tiffany & Co. Schl…] json \n",
      "2021-09-22 22:10:46 GraphVideo 7920 50 56556\n",
      "tiffanyandco\\2021-09-22_22-10-46_UTC.jpg [Natural wonders. Tiffany arti…] tiffanyandco\\2021-09-22_22-10-46_UTC.mp4 json \n",
      "2021-09-21 22:50:52 GraphImage 13540 64 None\n",
      "tiffanyandco\\2021-09-21_22-50-52_UTC.jpg [@CaroDaur stacked her Tiffany…] json \n",
      "2021-09-21 22:50:16 GraphImage 6704 36 None\n",
      "tiffanyandco\\2021-09-21_22-50-16_UTC.jpg [@LittleSimz wears a Tiffany H…] json \n",
      "2021-09-21 22:49:26 GraphImage 5918 29 None\n",
      "tiffanyandco\\2021-09-21_22-49-26_UTC.jpg [#NiaDaCosta wears Elsa Perett…] json \n",
      "2021-09-21 22:48:16 GraphImage 9069 72 None\n",
      "tiffanyandco\\2021-09-21_22-48-16_UTC.jpg [Athlete @DinaAsherSmith wears…] json \n",
      "2021-09-21 22:41:31 GraphImage 14625 78 None\n",
      "tiffanyandco\\2021-09-21_22-41-31_UTC.jpg [Women’s Singles champion and …] json \n",
      "2021-09-20 22:00:32 GraphImage 15949 135 None\n",
      "tiffanyandco\\2021-09-20_22-00-32_UTC.jpg [For over 180 years (and count…] json \n",
      "2021-09-20 17:00:48 GraphImage 8549 30 None\n",
      "tiffanyandco\\2021-09-20_17-00-48_UTC.jpg [Tiffany 1837 Makers watches a…] json \n",
      "2021-09-23 15:59:25 GraphSidecar 7772 53 None\n",
      "cartier\\2021-09-23_15-59-25_UTC_1.jpg cartier\\2021-09-23_15-59-25_UTC_2.jpg cartier\\2021-09-23_15-59-25_UTC_3.jpg [Precision is measured by the …] json \n",
      "2021-09-23 10:03:35 GraphVideo 10534 91 55456\n",
      "cartier\\2021-09-23_10-03-35_UTC.jpg [Instantly recognisable, these…] cartier\\2021-09-23_10-03-35_UTC.mp4 json \n",
      "2021-09-22 16:00:19 GraphImage 7297 73 None\n",
      "cartier\\2021-09-22_16-00-19_UTC.jpg [For her first red carpet appe…] json \n",
      "2021-09-21 16:40:28 GraphImage 6447 76 None\n",
      "cartier\\2021-09-21_16-40-28_UTC.jpg [The Maison’s latest High Jewe…] json \n",
      "2021-09-20 16:24:53 GraphImage 12409 119 None\n",
      "cartier\\2021-09-20_16-24-53_UTC.jpg [The Maison is pleased to anno…] json \n",
      "2021-09-19 15:55:51 GraphSidecar 10427 65 None\n",
      "cartier\\2021-09-19_15-55-51_UTC_1.jpg cartier\\2021-09-19_15-55-51_UTC_2.jpg [A transformable piece, this n…] json \n",
      "2021-09-19 10:05:03 GraphVideo 6433 67 38008\n",
      "cartier\\2021-09-19_10-05-03_UTC.jpg [The Maison’s savoir-faire is …] cartier\\2021-09-19_10-05-03_UTC.mp4 json \n",
      "2021-09-18 10:00:50 GraphSidecar 21137 96 None\n",
      "cartier\\2021-09-18_10-00-50_UTC_1.jpg cartier\\2021-09-18_10-00-50_UTC_2.jpg [From Cartier’s new High Jewel…] json \n",
      "2021-09-15 12:55:05 GraphSidecar 20267 140 None\n",
      "cartier\\2021-09-15_12-55-05_UTC_1.jpg cartier\\2021-09-15_12-55-05_UTC_2.jpg cartier\\2021-09-15_12-55-05_UTC_3.jpg cartier\\2021-09-15_12-55-05_UTC_4.jpg [Then, now, forever: The 2021 …] json \n",
      "2021-09-15 01:45:33 GraphSidecar 29898 128 None\n",
      "cartier\\2021-09-15_01-45-33_UTC_1.jpg cartier\\2021-09-15_01-45-33_UTC_2.jpg cartier\\2021-09-15_01-45-33_UTC_3.jpg cartier\\2021-09-15_01-45-33_UTC_4.jpg cartier\\2021-09-15_01-45-33_UTC_5.jpg cartier\\2021-09-15_01-45-33_UTC_6.jpg cartier\\2021-09-15_01-45-33_UTC_7.jpg cartier\\2021-09-15_01-45-33_UTC_8.jpg [Audacious combinations marked…] json \n"
     ]
    }
   ],
   "source": [
    "for prod in product_type:\n",
    "    #change directory to current product\n",
    "    if not os.path.exists(prod):\n",
    "        os.makedirs(prod)\n",
    "    os.chdir(prod)\n",
    "    \n",
    "    for acct in product_acts:\n",
    "            \n",
    "        posts = instaloader.Profile.from_username(L.context, acct).get_posts()\n",
    "\n",
    "        START_ = datetime(2021, 9, 1)\n",
    "        END_ = datetime(2021, 9, 21)\n",
    "        \n",
    "        '''\n",
    "        #download by dates\n",
    "\n",
    "        for post in takewhile(lambda p: p.date > START_, dropwhile(lambda p: p.date > END_, posts)):\n",
    "            print(post.date,  post.typename, post.likes, post.comments)\n",
    "            L.download_post(post, path)\n",
    "        '''\n",
    "        #download by top k\n",
    "        # likes and comments  // dates\n",
    "        #posts_sorted_by_likes = sorted(posts,key=lambda p: p.likes + p.comments,reverse=True)\n",
    "        #posts_sorted_by_date = sorted(posts, key=lambda p: p.date, reverse=True)\n",
    "        \n",
    "        \n",
    "        for post in islice(posts, ceil(10)):  #posts.mediacount * X_percentage / 100\n",
    "            print(post.date,  post.typename, post.likes, post.comments, post.video_view_count)\n",
    "            L.download_post(post, acct)\n",
    "            with open('likes_comments.txt','a+') as f:\n",
    "                f.write(acct+' '+str(post.date).replace(' ','_').replace(':','-')+' '+str(post.likes)+' '+str(post.comments)+' '+str(post.video_view_count))\n",
    "                f.write('\\n')\n",
    "os.chdir('..')"
   ]
  },
  {
   "cell_type": "code",
   "execution_count": 36,
   "id": "3b3838e4-5385-4a71-b70a-3b19ec3be52d",
   "metadata": {},
   "outputs": [
    {
     "data": {
      "text/plain": [
       "(2514, 39, 17115)"
      ]
     },
     "execution_count": 36,
     "metadata": {},
     "output_type": "execute_result"
    }
   ],
   "source": [
    "post.likes, post.comments, post.video_view_count"
   ]
  },
  {
   "cell_type": "code",
   "execution_count": 59,
   "id": "196d69f6-635d-46b0-825c-f03c4b3bd8fd",
   "metadata": {},
   "outputs": [
    {
     "data": {
      "text/plain": [
       "'2021-09-19_13-55-12'"
      ]
     },
     "execution_count": 59,
     "metadata": {},
     "output_type": "execute_result"
    }
   ],
   "source": [
    "str(post.date).replace(' ','_').replace(':','-')"
   ]
  },
  {
   "cell_type": "code",
   "execution_count": null,
   "id": "1ca9445f-0dae-4fd0-bc76-0c096235ec6a",
   "metadata": {},
   "outputs": [],
   "source": []
  }
 ],
 "metadata": {
  "kernelspec": {
   "display_name": "Python [conda env:vince-ins]",
   "language": "python",
   "name": "conda-env-vince-ins-py"
  },
  "language_info": {
   "codemirror_mode": {
    "name": "ipython",
    "version": 3
   },
   "file_extension": ".py",
   "mimetype": "text/x-python",
   "name": "python",
   "nbconvert_exporter": "python",
   "pygments_lexer": "ipython3",
   "version": "3.7.11"
  }
 },
 "nbformat": 4,
 "nbformat_minor": 5
}

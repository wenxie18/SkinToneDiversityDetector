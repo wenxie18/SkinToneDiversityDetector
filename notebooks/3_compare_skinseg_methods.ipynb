{
 "cells": [
  {
   "cell_type": "code",
   "execution_count": 1,
   "id": "e60edf25-d92e-473f-b01a-e1ad03e7912e",
   "metadata": {},
   "outputs": [
    {
     "name": "stdout",
     "output_type": "stream",
     "text": [
      "No CUDA runtime is found, using CUDA_HOME='/usr/local/cuda'\n",
      "0.21.1\n",
      "GPU:  False\n",
      "GPU count: 0\n"
     ]
    }
   ],
   "source": [
    "import os\n",
    "import cv2\n",
    "import torch\n",
    "import numpy as np\n",
    "import pandas as pd\n",
    "from PIL import Image\n",
    "# Check MMSegmentation installation\n",
    "import mmseg\n",
    "print(mmseg.__version__)\n",
    "from mmseg.apis import inference_segmentor, init_segmentor, show_result_pyplot\n",
    "from mmseg.core.evaluation import get_palette\n",
    "from mmcv import Config\n",
    "from mmseg.apis import set_random_seed\n",
    "import tqdm\n",
    "import os.path as osp\n",
    "from utils import intersect_and_union\n",
    "\n",
    "print('GPU: ',torch.cuda.is_available())\n",
    "print('GPU count:', torch.cuda.device_count())\n",
    "\n",
    "data_root = '../dataset/fsd4000'\n",
    "img_dir = 'Original'\n",
    "ann_dir = 'Skin'\n",
    "classes = ('skin','bg')\n",
    "palette = [[129, 127, 38],[249, 220, 212]]"
   ]
  },
  {
   "cell_type": "markdown",
   "id": "7346da2c-bc46-428a-add3-ff87c491c761",
   "metadata": {},
   "source": [
    "## Get skin_iou with swin transformer\n",
    "- Black is [0,0,0], and White is [255, 255, 255];"
   ]
  },
  {
   "cell_type": "code",
   "execution_count": 2,
   "id": "c8827d9a-996b-454d-99d1-7d3df121e00f",
   "metadata": {},
   "outputs": [],
   "source": [
    "with open('../dataset/fsd4000/skin_splits/val.txt','r') as f:\n",
    "    tests = f.readlines()\n",
    "tests = [i.strip('\\n')+'.jpg' for i in tests]"
   ]
  },
  {
   "cell_type": "code",
   "execution_count": 3,
   "id": "422665f6-716f-416a-a2fd-4ef4e14d2e87",
   "metadata": {},
   "outputs": [
    {
     "data": {
      "text/plain": [
       "'im00975.jpg'"
      ]
     },
     "execution_count": 3,
     "metadata": {},
     "output_type": "execute_result"
    }
   ],
   "source": [
    "tests[0]"
   ]
  },
  {
   "cell_type": "code",
   "execution_count": 4,
   "id": "c257ab60-61a1-4ae8-9d1e-fe83776d8755",
   "metadata": {},
   "outputs": [],
   "source": [
    "def load_swintransformer():\n",
    "    # Create a config file\n",
    "    cfg = Config.fromfile('mmsegmentation/configs/swin/upernet_swin_tiny_patch4_window7_512x512_160k_ade20k_pretrain_224x224_1K.py')\n",
    "\n",
    "    # Since we use ony one GPU, BN is used instead of SyncBN\n",
    "    cfg.norm_cfg = dict(type='BN', requires_grad=True)\n",
    "    #cfg.model.backbone.norm_cfg = cfg.norm_cfg\n",
    "    cfg.model.decode_head.norm_cfg = cfg.norm_cfg\n",
    "    cfg.model.auxiliary_head.norm_cfg = cfg.norm_cfg\n",
    "    # modify num classes of the model in decode/auxiliary head\n",
    "    cfg.model.decode_head.num_classes = 2\n",
    "    cfg.model.auxiliary_head.num_classes = 2\n",
    "    \n",
    "    ## Run Inference with MMSeg trained weight\n",
    "    checkpoint_file = 'train_skinseg/iter_72000.pth'\n",
    "    # build the model from a config file and a checkpoint file\n",
    "    swin_model = init_segmentor(cfg, checkpoint_file, device='cuda:0')\n",
    "    return swin_model"
   ]
  },
  {
   "cell_type": "code",
   "execution_count": null,
   "id": "63f11b11-42c9-4360-974f-4eed26127d1f",
   "metadata": {},
   "outputs": [],
   "source": [
    "model = load_swintransformer()"
   ]
  },
  {
   "cell_type": "code",
   "execution_count": null,
   "id": "6a4efa36-523d-484d-abdb-cc3a1f37f106",
   "metadata": {},
   "outputs": [],
   "source": [
    "IoUs = []\n",
    "for img_f in tqdm.tqdm(tests):\n",
    "    #predict\n",
    "    img_path = osp.join(data_root,img_dir,img_f)\n",
    "    pred_label = inference_segmentor(model,img_path)[0]\n",
    "    pred_label = np.where(pred_label==1,0,1).astype(np.uint8)  #make skin: 1, non-skin 0\n",
    "    \n",
    "    #label\n",
    "    label_path =  osp.join(data_root,ann_dir,img_f[0:-4]+'.png')\n",
    "    label = np.array(Image.open(label_path))  \n",
    "    label = np.where(label==0,1,0).astype(np.uint8) # skin: 1\n",
    "\n",
    "    if pred_label.shape!=label.shape:\n",
    "        print('swap axes')\n",
    "        pred_label = pred_label.reshape(label.shape)\n",
    "    \n",
    "    #iou\n",
    "    intersection = np.logical_and(pred_label, label)\n",
    "    union = np.logical_or(pred_label, label)\n",
    "    IoUs.extend([np.sum(intersection) / np.sum(union)])\n",
    "    break\n"
   ]
  },
  {
   "cell_type": "code",
   "execution_count": null,
   "id": "5447ec3f-fca3-4cdd-a5c3-e59f6c1d4535",
   "metadata": {},
   "outputs": [],
   "source": [
    "iou = pd.DataFrame(IoUs,columns=['skin_iou'])\n",
    "#iou.to_csv('../result/swin_skiniou_test.csv', header=True, index=False)"
   ]
  },
  {
   "cell_type": "code",
   "execution_count": null,
   "id": "30beee85-0aac-4c10-9b41-71f6336c594b",
   "metadata": {},
   "outputs": [],
   "source": [
    "pred_label = np.where(pred_label==1,255,0).astype(np.uint8)\n",
    "Image.fromarray(pred_label)"
   ]
  },
  {
   "cell_type": "code",
   "execution_count": null,
   "id": "0c08b59b-7041-4867-988c-cb3cabb87f37",
   "metadata": {},
   "outputs": [],
   "source": [
    "label = np.where(label==1,255,0).astype(np.uint8)\n",
    "Image.fromarray(label)"
   ]
  },
  {
   "cell_type": "markdown",
   "id": "f4927adb-5f88-4252-930f-cf1b9b0ac1fc",
   "metadata": {},
   "source": [
    "### hybrid"
   ]
  },
  {
   "cell_type": "code",
   "execution_count": null,
   "id": "346797a7-e9b4-4532-8e34-5610a1094be2",
   "metadata": {},
   "outputs": [],
   "source": [
    "IoUs = []\n",
    "for img_f in tqdm.tqdm(tests):\n",
    "    #predict\n",
    "    img_path = osp.join(data_root,img_dir,img_f)\n",
    "    pred_label = inference_segmentor(model,img_path)[0]\n",
    "    predicted_skin = Image.fromarray(np.where(np.repeat(pred_label[:,:,np.newaxis],orig_image.shape[-1],axis=2)==0,orig_image,255))\n",
    "    predicted_skin = predicted_skin.convert('RGB')\n",
    "    out_naive = extractSkin_Naive(np.array(predicted_skin),'RGB')\n",
    "    \n",
    "    pred_label = np.where(pred_label==1,0,1).astype(np.uint8)  #make skin: 1, non-skin 0\n",
    "    \n",
    "    #label\n",
    "    label_path =  osp.join(data_root,ann_dir,img_f[0:-4]+'.png')\n",
    "    label = np.array(Image.open(label_path))  \n",
    "    label = np.where(label==0,1,0).astype(np.uint8) # skin: 1\n",
    "\n",
    "    if pred_label.shape!=label.shape:\n",
    "        print('swap axes')\n",
    "        pred_label = pred_label.reshape(label.shape)\n",
    "    \n",
    "    #iou\n",
    "    intersection = np.logical_and(pred_label, label)\n",
    "    union = np.logical_or(pred_label, label)\n",
    "    IoUs.extend([np.sum(intersection) / np.sum(union)])\n",
    "    break\n"
   ]
  },
  {
   "cell_type": "code",
   "execution_count": null,
   "id": "fb4f8017-7c62-4aaa-83ce-38dfd0682763",
   "metadata": {},
   "outputs": [],
   "source": []
  },
  {
   "cell_type": "markdown",
   "id": "21b8a780-db3d-4cfa-9042-f6a776f42be4",
   "metadata": {},
   "source": [
    "## plots"
   ]
  },
  {
   "cell_type": "code",
   "execution_count": 23,
   "id": "d43bb278-4dac-4ce8-9722-ca75eb12475d",
   "metadata": {},
   "outputs": [],
   "source": [
    "from matplotlib import pyplot as plt\n",
    "import seaborn as sns\n",
    "import matplotlib as mpl\n",
    "\n",
    "sns.set_style(\"white\")\n",
    "rc={'axes.labelsize': 14, 'font.size': 12, 'legend.fontsize': 12, 'axes.titlesize': 16}\n",
    "plt.rcParams.update(**rc)\n",
    "sns.set_style({'font.family':'serif', 'font.serif':['Times New Roman']})\n",
    "plt.rcParams['figure.figsize'] = 8, 6"
   ]
  },
  {
   "cell_type": "code",
   "execution_count": 3,
   "id": "75a42efe-34ee-4909-b7be-86aa9beb7ebc",
   "metadata": {},
   "outputs": [],
   "source": [
    "naive = pd.read_csv('../result1/naive_skiniou_test.csv')\n",
    "swin = pd.read_csv('../result1/swin_skiniou_test.csv')\n",
    "svm = pd.read_csv('../result1/svm_skiniou_test.csv')"
   ]
  },
  {
   "cell_type": "code",
   "execution_count": 4,
   "id": "99c1916c-4aa5-4eb4-af3d-6cd74567ffbb",
   "metadata": {},
   "outputs": [
    {
     "name": "stdout",
     "output_type": "stream",
     "text": [
      "         skin_iou\n",
      "count  800.000000\n",
      "mean     0.859152\n",
      "std      0.118742\n",
      "min      0.023561\n",
      "25%      0.839212\n",
      "50%      0.894273\n",
      "75%      0.925870\n",
      "max      0.973283\n"
     ]
    }
   ],
   "source": [
    "print(swin.describe())"
   ]
  },
  {
   "cell_type": "code",
   "execution_count": 5,
   "id": "2f447c69-ff99-49b9-b769-78dc65fb54b6",
   "metadata": {},
   "outputs": [
    {
     "name": "stdout",
     "output_type": "stream",
     "text": [
      "         skin_iou\n",
      "count  800.000000\n",
      "mean     0.284146\n",
      "std      0.175258\n",
      "min      0.012381\n",
      "25%      0.143958\n",
      "50%      0.252371\n",
      "75%      0.385537\n",
      "max      0.924607\n"
     ]
    }
   ],
   "source": [
    "print(naive.describe())"
   ]
  },
  {
   "cell_type": "code",
   "execution_count": 6,
   "id": "0599a0eb-daaa-4bdc-b6d1-0a18827f95f6",
   "metadata": {},
   "outputs": [
    {
     "name": "stdout",
     "output_type": "stream",
     "text": [
      "         skin_iou\n",
      "count  800.000000\n",
      "mean     0.000294\n",
      "std      0.003785\n",
      "min      0.000000\n",
      "25%      0.000000\n",
      "50%      0.000000\n",
      "75%      0.000000\n",
      "max      0.079443\n"
     ]
    }
   ],
   "source": [
    "print(svm.describe())"
   ]
  },
  {
   "cell_type": "code",
   "execution_count": 24,
   "id": "4fe98a2b-fb27-46f6-80ff-c21546ed014a",
   "metadata": {},
   "outputs": [
    {
     "data": {
      "image/png": "[encoded data removed]",
      "text/plain": [
       "<Figure size 576x432 with 1 Axes>"
      ]
     },
     "metadata": {},
     "output_type": "display_data"
    }
   ],
   "source": [
    "plt.figure(figsize=(8,6))\n",
    "\n",
    "rc={'axes.labelsize': 30, 'font.size': 30, 'legend.fontsize': 24, 'axes.titlesize': 24}\n",
    "plt.rcParams.update(**rc)\n",
    "\n",
    "#boxplot\n",
    "g1 = sns.boxplot(data = [naive['skin_iou'],swin['skin_iou']],fliersize=15,palette='Set3',width=0.7,saturation=0.6)\n",
    "#add texts\n",
    "means = [0.28,0.86]\n",
    "\n",
    "#g1 = sns.swarmplot(data = data[['picture_o','price_o','text_o','rating_o']], color='0.3')\n",
    "g1.set(xticklabels=['Thresholding','SkinSeg'])\n",
    "#plt.title('Boxplots of IoU scores')\n",
    "plt.ylabel('IOU')\n",
    "\n",
    "pos1 = g1.get_position(original=False) # get the original position \n",
    "pos2 = [text.get_position() for text in g1.get_xticklabels()]\n",
    "\n",
    "xwidth =  pos1.x1/3\n",
    "ywidth =  pos1.y1/3\n",
    "\n",
    "dists = [0.1,0.2]\n",
    "for idx, m in enumerate(means):\n",
    "    #plt.text(pos1.x0+idx*xwidth, pos1.y0+idx*ywidth, '%.0f' % m, ha='center', va= 'bottom',fontsize=12)\n",
    "    plt.text(idx, m, f'{m:.2f}', ha='center', va= 'bottom',fontsize=24, color='red',)\n",
    "\n",
    "#plt.savefig('../result1/figures/Seg_performance_boxplots_.png',dpi=300,bbox_inches = 'tight')\n",
    "plt.show()"
   ]
  },
  {
   "cell_type": "code",
   "execution_count": 8,
   "id": "0eb97621-a42b-4685-ae8a-59552df0c288",
   "metadata": {},
   "outputs": [
    {
     "data": {
      "image/png": "[encoded data removed]",
      "text/plain": [
       "<Figure size 720x432 with 1 Axes>"
      ]
     },
     "metadata": {},
     "output_type": "display_data"
    }
   ],
   "source": [
    "plt.figure(figsize=(10,6))\n",
    "#boxplot\n",
    "g1 = sns.boxplot(data = [naive['skin_iou'],svm['skin_iou'],swin['skin_iou']],fliersize=15,palette='Set3',width=0.7,saturation=0.6)\n",
    "#add texts\n",
    "means = [0.28,0.00,0.86]\n",
    "\n",
    "#g1 = sns.swarmplot(data = data[['picture_o','price_o','text_o','rating_o']], color='0.3')\n",
    "g1.set(xticklabels=['Naive','SVM','SkinSeg'])\n",
    "#plt.title('Boxplots of IoU scores')\n",
    "plt.ylabel('IoU')\n",
    "\n",
    "pos1 = g1.get_position(original=False) # get the original position \n",
    "pos2 = [text.get_position() for text in g1.get_xticklabels()]\n",
    "\n",
    "xwidth =  pos1.x1/3\n",
    "ywidth =  pos1.y1/3\n",
    "\n",
    "dists = [0.1,0.2,0.3]\n",
    "for idx, m in enumerate(means):\n",
    "    #plt.text(pos1.x0+idx*xwidth, pos1.y0+idx*ywidth, '%.0f' % m, ha='center', va= 'bottom',fontsize=12)\n",
    "    plt.text(idx, m, f'{m:.2f}', ha='center', va= 'bottom',fontsize=12, color='red',)\n",
    "\n",
    "#plt.savefig('../result/figures/methods_performance_boxplots.png',dpi=300,bbox_inches = 'tight')\n",
    "plt.show()"
   ]
  },
  {
   "cell_type": "code",
   "execution_count": null,
   "id": "c82343fb-96cd-4b45-ae68-c024a44e07b8",
   "metadata": {},
   "outputs": [],
   "source": []
  }
 ],
 "metadata": {
  "kernelspec": {
   "display_name": "Python 3 (ipykernel)",
   "language": "python",
   "name": "python3"
  },
  "language_info": {
   "codemirror_mode": {
    "name": "ipython",
    "version": 3
   },
   "file_extension": ".py",
   "mimetype": "text/x-python",
   "name": "python",
   "nbconvert_exporter": "python",
   "pygments_lexer": "ipython3",
   "version": "3.7.10"
  }
 },
 "nbformat": 4,
 "nbformat_minor": 5
}

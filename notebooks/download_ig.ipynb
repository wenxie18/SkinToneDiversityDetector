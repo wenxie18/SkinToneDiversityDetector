{
 "cells": [
  {
   "cell_type": "markdown",
   "id": "0b86a75b-fe34-43be-a97d-331dae300093",
   "metadata": {},
   "source": [
    "# Fashion brands - Lyst index\n",
    " - https://www.lyst.com/data/the-lyst-index/"
   ]
  },
  {
   "cell_type": "markdown",
   "id": "bcd178d2-9bde-4afc-8299-c0acd63a3601",
   "metadata": {},
   "source": [
    "### Import packages"
   ]
  },
  {
   "cell_type": "code",
   "execution_count": 1,
   "id": "e83ab2b4-4f73-4906-9bf0-cd91bdca8844",
   "metadata": {},
   "outputs": [],
   "source": [
    "import os\n",
    "import pandas as pd\n",
    "import numpy as np\n",
    "import random\n",
    "import time\n",
    "\n",
    "from datetime import datetime\n",
    "from itertools import dropwhile, takewhile\n",
    "from itertools import islice\n",
    "from math import ceil\n",
    "\n",
    "import instaloader\n",
    "import tqdm"
   ]
  },
  {
   "cell_type": "markdown",
   "id": "379d7f37-8aff-44bc-90bb-20add4e633ae",
   "metadata": {},
   "source": [
    "### Read instagram account names of brands"
   ]
  },
  {
   "cell_type": "code",
   "execution_count": 2,
   "id": "4957b3b4-c36f-4901-8ee5-fa835282bc43",
   "metadata": {},
   "outputs": [],
   "source": [
    "ig_names = pd.read_excel('../data/Lyst_index.xlsx')"
   ]
  },
  {
   "cell_type": "code",
   "execution_count": 3,
   "id": "4d260eaa-1820-4835-8c07-5ccaea4dec6d",
   "metadata": {},
   "outputs": [
    {
     "data": {
      "text/html": [
       "<div>\n",
       "<style scoped>\n",
       "    .dataframe tbody tr th:only-of-type {\n",
       "        vertical-align: middle;\n",
       "    }\n",
       "\n",
       "    .dataframe tbody tr th {\n",
       "        vertical-align: top;\n",
       "    }\n",
       "\n",
       "    .dataframe thead th {\n",
       "        text-align: right;\n",
       "    }\n",
       "</style>\n",
       "<table border=\"1\" class=\"dataframe\">\n",
       "  <thead>\n",
       "    <tr style=\"text-align: right;\">\n",
       "      <th></th>\n",
       "      <th>BRAND</th>\n",
       "      <th>Q119</th>\n",
       "      <th>Q219</th>\n",
       "      <th>Q319</th>\n",
       "      <th>Q419</th>\n",
       "      <th>Q120</th>\n",
       "      <th>Q220</th>\n",
       "      <th>Q320</th>\n",
       "      <th>Q420</th>\n",
       "      <th>Q121</th>\n",
       "      <th>Q221</th>\n",
       "      <th>Q321</th>\n",
       "      <th>ig account</th>\n",
       "      <th>tw account</th>\n",
       "    </tr>\n",
       "  </thead>\n",
       "  <tbody>\n",
       "    <tr>\n",
       "      <th>0</th>\n",
       "      <td>NIKE</td>\n",
       "      <td>11.0</td>\n",
       "      <td>9.0</td>\n",
       "      <td>12.0</td>\n",
       "      <td>12.0</td>\n",
       "      <td>3.0</td>\n",
       "      <td>1.0</td>\n",
       "      <td>3.0</td>\n",
       "      <td>11.0</td>\n",
       "      <td>2.0</td>\n",
       "      <td>3.0</td>\n",
       "      <td>6.0</td>\n",
       "      <td>nike</td>\n",
       "      <td>Nike</td>\n",
       "    </tr>\n",
       "    <tr>\n",
       "      <th>1</th>\n",
       "      <td>OFF-WHITE</td>\n",
       "      <td>1.0</td>\n",
       "      <td>2.0</td>\n",
       "      <td>1.0</td>\n",
       "      <td>1.0</td>\n",
       "      <td>1.0</td>\n",
       "      <td>2.0</td>\n",
       "      <td>2.0</td>\n",
       "      <td>4.0</td>\n",
       "      <td>10.0</td>\n",
       "      <td>13.0</td>\n",
       "      <td>14.0</td>\n",
       "      <td>off____white</td>\n",
       "      <td>OffWht</td>\n",
       "    </tr>\n",
       "    <tr>\n",
       "      <th>2</th>\n",
       "      <td>GUCCI</td>\n",
       "      <td>2.0</td>\n",
       "      <td>1.0</td>\n",
       "      <td>3.0</td>\n",
       "      <td>2.0</td>\n",
       "      <td>4.0</td>\n",
       "      <td>3.0</td>\n",
       "      <td>1.0</td>\n",
       "      <td>1.0</td>\n",
       "      <td>1.0</td>\n",
       "      <td>1.0</td>\n",
       "      <td>2.0</td>\n",
       "      <td>gucci</td>\n",
       "      <td>gucci</td>\n",
       "    </tr>\n",
       "    <tr>\n",
       "      <th>3</th>\n",
       "      <td>BALENCIAGA</td>\n",
       "      <td>3.0</td>\n",
       "      <td>3.0</td>\n",
       "      <td>2.0</td>\n",
       "      <td>3.0</td>\n",
       "      <td>2.0</td>\n",
       "      <td>4.0</td>\n",
       "      <td>5.0</td>\n",
       "      <td>2.0</td>\n",
       "      <td>4.0</td>\n",
       "      <td>6.0</td>\n",
       "      <td>1.0</td>\n",
       "      <td>balenciaga</td>\n",
       "      <td>BALENCIAGA</td>\n",
       "    </tr>\n",
       "    <tr>\n",
       "      <th>4</th>\n",
       "      <td>PRADA</td>\n",
       "      <td>6.0</td>\n",
       "      <td>5.0</td>\n",
       "      <td>5.0</td>\n",
       "      <td>7.0</td>\n",
       "      <td>5.0</td>\n",
       "      <td>5.0</td>\n",
       "      <td>4.0</td>\n",
       "      <td>5.0</td>\n",
       "      <td>6.0</td>\n",
       "      <td>5.0</td>\n",
       "      <td>4.0</td>\n",
       "      <td>prada</td>\n",
       "      <td>Prada</td>\n",
       "    </tr>\n",
       "  </tbody>\n",
       "</table>\n",
       "</div>"
      ],
      "text/plain": [
       "        BRAND  Q119  Q219  Q319  Q419  Q120  Q220  Q320  Q420  Q121  Q221  \\\n",
       "0        NIKE  11.0   9.0  12.0  12.0   3.0   1.0   3.0  11.0   2.0   3.0   \n",
       "1   OFF-WHITE   1.0   2.0   1.0   1.0   1.0   2.0   2.0   4.0  10.0  13.0   \n",
       "2       GUCCI   2.0   1.0   3.0   2.0   4.0   3.0   1.0   1.0   1.0   1.0   \n",
       "3  BALENCIAGA   3.0   3.0   2.0   3.0   2.0   4.0   5.0   2.0   4.0   6.0   \n",
       "4       PRADA   6.0   5.0   5.0   7.0   5.0   5.0   4.0   5.0   6.0   5.0   \n",
       "\n",
       "   Q321    ig account  tw account  \n",
       "0   6.0          nike        Nike  \n",
       "1  14.0  off____white      OffWht  \n",
       "2   2.0         gucci       gucci  \n",
       "3   1.0    balenciaga  BALENCIAGA  \n",
       "4   4.0         prada       Prada  "
      ]
     },
     "execution_count": 3,
     "metadata": {},
     "output_type": "execute_result"
    }
   ],
   "source": [
    "ig_names.head()"
   ]
  },
  {
   "cell_type": "code",
   "execution_count": 4,
   "id": "7d463c6a-b4f4-4d37-804a-7ef9e4b4699a",
   "metadata": {},
   "outputs": [],
   "source": [
    "if not os.path.exists('../data/ig'):\n",
    "    os.makedirs('../data/ig')\n",
    "\n",
    "#username = 'vince_18x'\n",
    "#username = 'vince.wx'\n",
    "#username = 'thegreeks.wx'\n",
    "#password = '.xiewen.1230.'\n",
    "\n",
    "username = 'timjzl'\n",
    "password = 'TIMjzhl951115'\n"
   ]
  },
  {
   "cell_type": "markdown",
   "id": "80ae4d4f-269d-46c5-aad4-739616fde6f1",
   "metadata": {},
   "source": [
    "#### rate limit\n",
    "- https://developers.facebook.com/docs/graph-api/overview/rate-limiting#platform-rate-limits"
   ]
  },
  {
   "cell_type": "code",
   "execution_count": 5,
   "id": "70c7d10a-0947-463a-8854-17a2d963f1c9",
   "metadata": {},
   "outputs": [],
   "source": [
    "class MyRateController(instaloader.RateController):\n",
    "\n",
    "    def sleep(self, secs):\n",
    "        wait_time=random.uniform(5, 30)\n",
    "        time.sleep(secs)\n",
    "        time.sleep(wait_time)\n",
    "        \n",
    "    def count_per_sliding_window(self, query_type):\n",
    "         return 25\n",
    "\n",
    "#L = instaloader.Instaloader(quiet=False)\n",
    "L = instaloader.Instaloader(quiet=False, rate_controller=lambda ctx: MyRateController(ctx), max_connection_attempts=5)\n",
    "# fatal_status_codes=[302,400,429]\n",
    "L.login(username,password)"
   ]
  },
  {
   "cell_type": "code",
   "execution_count": 6,
   "id": "98077529-9ba7-41e1-9ea1-af98e6f70ede",
   "metadata": {},
   "outputs": [],
   "source": [
    "os.chdir('../data/ig')"
   ]
  },
  {
   "cell_type": "code",
   "execution_count": 7,
   "id": "d4bd83e0-9f16-4c98-b063-f7d009bfc947",
   "metadata": {},
   "outputs": [
    {
     "data": {
      "text/plain": [
       "'/Users/wenxie/Documents/blm/data/ig'"
      ]
     },
     "execution_count": 7,
     "metadata": {},
     "output_type": "execute_result"
    }
   ],
   "source": [
    "os.getcwd()"
   ]
  },
  {
   "cell_type": "code",
   "execution_count": null,
   "id": "66ad8b66-d696-4a85-ac24-e845fae7e970",
   "metadata": {},
   "outputs": [],
   "source": [
    "for i in tqdm.tqdm(range(5)):\n",
    "    print(i)"
   ]
  },
  {
   "cell_type": "markdown",
   "id": "6ecd4a02-2028-4b8e-86f1-dc094fb537e9",
   "metadata": {},
   "source": [
    "## download images and videos"
   ]
  },
  {
   "cell_type": "code",
   "execution_count": null,
   "id": "8d25dcac-6dac-4ad6-acb9-2084f4279f83",
   "metadata": {},
   "outputs": [],
   "source": [
    "for name in tqdm.tqdm(ig_names['ig account'][5:6]):\n",
    "    if name is not None:\n",
    "        #change directory to current product\n",
    "        if not os.path.exists(name):\n",
    "            os.makedirs(name)\n",
    "        #os.chdir(name)\n",
    "\n",
    "        posts = instaloader.Profile.from_username(L.context,name).get_posts()\n",
    "\n",
    "        START_ = datetime(2019, 5, 26)\n",
    "        END_ = datetime(2021, 5, 26)\n",
    "\n",
    "        \n",
    "        #download by dates\n",
    "        for post in takewhile(lambda p: p.date >= START_, dropwhile(lambda p: p.date > END_, posts)):\n",
    "            #print(post.date,  post.typename, post.likes, post.comments)\n",
    "            L.download_post(post, name)\n",
    "            '''\n",
    "            with open('likes_comments_videoviews.txt','a+') as f:\n",
    "                f.write(name+' '+str(post.date).replace(' ','_').replace(':','-')+' '+str(post.likes)+' '+str(post.comments)+' '+str(post.video_view_count))\n",
    "                f.write('\\n')\n",
    "            '''\n",
    "        \n",
    "        #download by top k\n",
    "        # likes and comments  // dates\n",
    "        #posts_sorted_by_likes = sorted(posts,key=lambda p: p.likes + p.comments,reverse=True)\n",
    "        #posts_sorted_by_date = sorted(posts, key=lambda p: p.date, reverse=True)\n",
    "\n",
    "                \n",
    "    #os.chdir('..')"
   ]
  },
  {
   "cell_type": "code",
   "execution_count": null,
   "id": "fba2420f-f672-40ab-baaa-a720f291b669",
   "metadata": {},
   "outputs": [],
   "source": []
  },
  {
   "cell_type": "code",
   "execution_count": null,
   "id": "c54f15a8-8c5a-4c81-8629-dec44450208b",
   "metadata": {},
   "outputs": [],
   "source": []
  },
  {
   "cell_type": "code",
   "execution_count": null,
   "id": "3b3838e4-5385-4a71-b70a-3b19ec3be52d",
   "metadata": {},
   "outputs": [],
   "source": [
    "post.likes, post.comments, post.video_view_count"
   ]
  },
  {
   "cell_type": "code",
   "execution_count": null,
   "id": "196d69f6-635d-46b0-825c-f03c4b3bd8fd",
   "metadata": {},
   "outputs": [],
   "source": [
    "str(post.date).replace(' ','_').replace(':','-')"
   ]
  },
  {
   "cell_type": "code",
   "execution_count": null,
   "id": "1ca9445f-0dae-4fd0-bc76-0c096235ec6a",
   "metadata": {},
   "outputs": [],
   "source": [
    "instaloader.__version__"
   ]
  },
  {
   "cell_type": "code",
   "execution_count": null,
   "id": "c508a1da-8d60-4a04-b996-90d8c61d5f4b",
   "metadata": {},
   "outputs": [],
   "source": []
  }
 ],
 "metadata": {
  "kernelspec": {
   "display_name": "Python 3 (ipykernel)",
   "language": "python",
   "name": "python3"
  },
  "language_info": {
   "codemirror_mode": {
    "name": "ipython",
    "version": 3
   },
   "file_extension": ".py",
   "mimetype": "text/x-python",
   "name": "python",
   "nbconvert_exporter": "python",
   "pygments_lexer": "ipython3",
   "version": "3.9.6"
  }
 },
 "nbformat": 4,
 "nbformat_minor": 5
}

{
 "cells": [
  {
   "cell_type": "code",
   "execution_count": 1,
   "id": "6b4c4e68-eb13-4cbc-b0dc-e0b832c68ff3",
   "metadata": {},
   "outputs": [
    {
     "name": "stdout",
     "output_type": "stream",
     "text": [
      "1.10.0 False\n",
      "No CUDA runtime is found, using CUDA_HOME='/usr/local/cuda'\n",
      "0.21.1\n"
     ]
    }
   ],
   "source": [
    "import torch, torchvision\n",
    "print(torch.__version__, torch.cuda.is_available())\n",
    "import mmseg\n",
    "print(mmseg.__version__)\n",
    "\n",
    "import mmcv\n",
    "import random\n",
    "import os.path as osp\n",
    "import numpy as np\n",
    "from PIL import Image\n",
    "import matplotlib.pyplot as plt\n",
    "from mmseg.datasets.builder import DATASETS\n",
    "from mmseg.datasets.custom import CustomDataset\n",
    "from mmcv import Config\n",
    "from mmseg.apis import set_random_seed"
   ]
  },
  {
   "cell_type": "code",
   "execution_count": 2,
   "id": "72c40a0b-ccfa-48f3-863d-41826300e228",
   "metadata": {},
   "outputs": [],
   "source": [
    "#%cd mmsegmentation"
   ]
  },
  {
   "cell_type": "code",
   "execution_count": 2,
   "id": "04d2cf38-952a-43da-8cea-767f14f4dc2e",
   "metadata": {},
   "outputs": [],
   "source": [
    "data_root = '../dataset/fsd4000'\n",
    "img_dir = 'Original'\n",
    "ann_dir = 'Face'\n",
    "classes = ('face','bg')\n",
    "palette = [[129, 127, 38],[249, 220, 212]]\n",
    "\n",
    "@DATASETS.register_module()\n",
    "class StandfordBackgroundDataset(CustomDataset):\n",
    "    CLASSES = classes\n",
    "    PALETTE = palette\n",
    "    def __init__(self, split, **kwargs):\n",
    "        super().__init__(img_suffix='.jpg', seg_map_suffix='.png', \n",
    "                         split=split, **kwargs)\n",
    "        assert osp.exists(self.img_dir) and self.split is not None"
   ]
  },
  {
   "cell_type": "code",
   "execution_count": 3,
   "id": "f9a3388f-4121-40e5-8f2d-5f6d14c3cd99",
   "metadata": {},
   "outputs": [
    {
     "name": "stdout",
     "output_type": "stream",
     "text": [
      "Config:\n",
      "norm_cfg = dict(type='BN', requires_grad=True)\n",
      "backbone_norm_cfg = dict(type='LN', requires_grad=True)\n",
      "model = dict(\n",
      "    type='EncoderDecoder',\n",
      "    pretrained='pretrain/swin_tiny_patch4_window7_224.pth',\n",
      "    backbone=dict(\n",
      "        type='SwinTransformer',\n",
      "        pretrain_img_size=224,\n",
      "        embed_dims=96,\n",
      "        patch_size=4,\n",
      "        window_size=7,\n",
      "        mlp_ratio=4,\n",
      "        depths=[2, 2, 6, 2],\n",
      "        num_heads=[3, 6, 12, 24],\n",
      "        strides=(4, 2, 2, 2),\n",
      "        out_indices=(0, 1, 2, 3),\n",
      "        qkv_bias=True,\n",
      "        qk_scale=None,\n",
      "        patch_norm=True,\n",
      "        drop_rate=0.0,\n",
      "        attn_drop_rate=0.0,\n",
      "        drop_path_rate=0.3,\n",
      "        use_abs_pos_embed=False,\n",
      "        act_cfg=dict(type='GELU'),\n",
      "        norm_cfg=dict(type='LN', requires_grad=True)),\n",
      "    decode_head=dict(\n",
      "        type='UPerHead',\n",
      "        in_channels=[96, 192, 384, 768],\n",
      "        in_index=[0, 1, 2, 3],\n",
      "        pool_scales=(1, 2, 3, 6),\n",
      "        channels=512,\n",
      "        dropout_ratio=0.1,\n",
      "        num_classes=2,\n",
      "        norm_cfg=dict(type='BN', requires_grad=True),\n",
      "        align_corners=False,\n",
      "        loss_decode=dict(\n",
      "            type='CrossEntropyLoss', use_sigmoid=False, loss_weight=1.0)),\n",
      "    auxiliary_head=dict(\n",
      "        type='FCNHead',\n",
      "        in_channels=384,\n",
      "        in_index=2,\n",
      "        channels=256,\n",
      "        num_convs=1,\n",
      "        concat_input=False,\n",
      "        dropout_ratio=0.1,\n",
      "        num_classes=2,\n",
      "        norm_cfg=dict(type='BN', requires_grad=True),\n",
      "        align_corners=False,\n",
      "        loss_decode=dict(\n",
      "            type='CrossEntropyLoss', use_sigmoid=False, loss_weight=0.4)),\n",
      "    train_cfg=dict(),\n",
      "    test_cfg=dict(mode='whole'))\n",
      "dataset_type = 'StandfordBackgroundDataset'\n",
      "data_root = '../dataset/fsd4000'\n",
      "img_norm_cfg = dict(\n",
      "    mean=[123.675, 116.28, 103.53], std=[58.395, 57.12, 57.375], to_rgb=True)\n",
      "crop_size = (256, 256)\n",
      "train_pipeline = [\n",
      "    dict(type='LoadImageFromFile'),\n",
      "    dict(type='LoadAnnotations'),\n",
      "    dict(type='Resize', img_scale=(320, 240), ratio_range=(0.5, 2.0)),\n",
      "    dict(type='RandomCrop', crop_size=(256, 256), cat_max_ratio=0.75),\n",
      "    dict(type='RandomFlip', flip_ratio=0.5),\n",
      "    dict(type='PhotoMetricDistortion'),\n",
      "    dict(\n",
      "        type='Normalize',\n",
      "        mean=[123.675, 116.28, 103.53],\n",
      "        std=[58.395, 57.12, 57.375],\n",
      "        to_rgb=True),\n",
      "    dict(type='Pad', size=(256, 256), pad_val=0, seg_pad_val=255),\n",
      "    dict(type='DefaultFormatBundle'),\n",
      "    dict(type='Collect', keys=['img', 'gt_semantic_seg'])\n",
      "]\n",
      "test_pipeline = [\n",
      "    dict(type='LoadImageFromFile'),\n",
      "    dict(\n",
      "        type='MultiScaleFlipAug',\n",
      "        img_scale=(320, 240),\n",
      "        flip=False,\n",
      "        transforms=[\n",
      "            dict(type='Resize', keep_ratio=True),\n",
      "            dict(type='RandomFlip'),\n",
      "            dict(\n",
      "                type='Normalize',\n",
      "                mean=[123.675, 116.28, 103.53],\n",
      "                std=[58.395, 57.12, 57.375],\n",
      "                to_rgb=True),\n",
      "            dict(type='ImageToTensor', keys=['img']),\n",
      "            dict(type='Collect', keys=['img'])\n",
      "        ])\n",
      "]\n",
      "data = dict(\n",
      "    samples_per_gpu=8,\n",
      "    workers_per_gpu=4,\n",
      "    train=dict(\n",
      "        type='StandfordBackgroundDataset',\n",
      "        data_root='../dataset/fsd4000',\n",
      "        img_dir='Original',\n",
      "        ann_dir='Face',\n",
      "        pipeline=[\n",
      "            dict(type='LoadImageFromFile'),\n",
      "            dict(type='LoadAnnotations'),\n",
      "            dict(type='Resize', img_scale=(320, 240), ratio_range=(0.5, 2.0)),\n",
      "            dict(type='RandomCrop', crop_size=(256, 256), cat_max_ratio=0.75),\n",
      "            dict(type='RandomFlip', flip_ratio=0.5),\n",
      "            dict(type='PhotoMetricDistortion'),\n",
      "            dict(\n",
      "                type='Normalize',\n",
      "                mean=[123.675, 116.28, 103.53],\n",
      "                std=[58.395, 57.12, 57.375],\n",
      "                to_rgb=True),\n",
      "            dict(type='Pad', size=(256, 256), pad_val=0, seg_pad_val=255),\n",
      "            dict(type='DefaultFormatBundle'),\n",
      "            dict(type='Collect', keys=['img', 'gt_semantic_seg'])\n",
      "        ],\n",
      "        split='face_splits/train.txt'),\n",
      "    val=dict(\n",
      "        type='StandfordBackgroundDataset',\n",
      "        data_root='../dataset/fsd4000',\n",
      "        img_dir='Original',\n",
      "        ann_dir='Face',\n",
      "        pipeline=[\n",
      "            dict(type='LoadImageFromFile'),\n",
      "            dict(\n",
      "                type='MultiScaleFlipAug',\n",
      "                img_scale=(320, 240),\n",
      "                flip=False,\n",
      "                transforms=[\n",
      "                    dict(type='Resize', keep_ratio=True),\n",
      "                    dict(type='RandomFlip'),\n",
      "                    dict(\n",
      "                        type='Normalize',\n",
      "                        mean=[123.675, 116.28, 103.53],\n",
      "                        std=[58.395, 57.12, 57.375],\n",
      "                        to_rgb=True),\n",
      "                    dict(type='ImageToTensor', keys=['img']),\n",
      "                    dict(type='Collect', keys=['img'])\n",
      "                ])\n",
      "        ],\n",
      "        split='face_splits/val.txt'),\n",
      "    test=dict(\n",
      "        type='StandfordBackgroundDataset',\n",
      "        data_root='../dataset/fsd4000',\n",
      "        img_dir='Original',\n",
      "        ann_dir='Face',\n",
      "        pipeline=[\n",
      "            dict(type='LoadImageFromFile'),\n",
      "            dict(\n",
      "                type='MultiScaleFlipAug',\n",
      "                img_scale=(320, 240),\n",
      "                flip=False,\n",
      "                transforms=[\n",
      "                    dict(type='Resize', keep_ratio=True),\n",
      "                    dict(type='RandomFlip'),\n",
      "                    dict(\n",
      "                        type='Normalize',\n",
      "                        mean=[123.675, 116.28, 103.53],\n",
      "                        std=[58.395, 57.12, 57.375],\n",
      "                        to_rgb=True),\n",
      "                    dict(type='ImageToTensor', keys=['img']),\n",
      "                    dict(type='Collect', keys=['img'])\n",
      "                ])\n",
      "        ],\n",
      "        split='face_splits/val.txt'))\n",
      "log_config = dict(\n",
      "    interval=200, hooks=[dict(type='TextLoggerHook', by_epoch=False)])\n",
      "dist_params = dict(backend='nccl')\n",
      "log_level = 'INFO'\n",
      "load_from = None\n",
      "resume_from = None\n",
      "workflow = [('train', 1)]\n",
      "cudnn_benchmark = True\n",
      "optimizer = dict(\n",
      "    type='AdamW',\n",
      "    lr=0.0001,\n",
      "    betas=(0.9, 0.999),\n",
      "    weight_decay=0.01,\n",
      "    paramwise_cfg=dict(\n",
      "        custom_keys=dict(\n",
      "            absolute_pos_embed=dict(decay_mult=0.0),\n",
      "            relative_position_bias_table=dict(decay_mult=0.0),\n",
      "            norm=dict(decay_mult=0.0))))\n",
      "optimizer_config = dict()\n",
      "lr_config = dict(\n",
      "    policy='poly',\n",
      "    warmup='linear',\n",
      "    warmup_iters=200,\n",
      "    warmup_ratio=0.0001,\n",
      "    power=1.0,\n",
      "    min_lr=0.0,\n",
      "    by_epoch=False)\n",
      "runner = dict(type='IterBasedRunner', max_iters=80000)\n",
      "checkpoint_config = dict(by_epoch=False, interval=2000)\n",
      "evaluation = dict(interval=400, metric='mIoU', pre_eval=True)\n",
      "work_dir = './train_faceseg'\n",
      "seed = 0\n",
      "gpu_ids = range(0, 1)\n",
      "\n"
     ]
    }
   ],
   "source": [
    "# Create a config file\n",
    "cfg = Config.fromfile('mmsegmentation/configs/swin/upernet_swin_tiny_patch4_window7_512x512_160k_ade20k_pretrain_224x224_1K.py')\n",
    "\n",
    "# Since we use ony one GPU, BN is used instead of SyncBN\n",
    "cfg.norm_cfg = dict(type='BN', requires_grad=True)\n",
    "#cfg.model.backbone.norm_cfg = cfg.norm_cfg\n",
    "cfg.model.decode_head.norm_cfg = cfg.norm_cfg\n",
    "cfg.model.auxiliary_head.norm_cfg = cfg.norm_cfg\n",
    "# modify num classes of the model in decode/auxiliary head\n",
    "cfg.model.decode_head.num_classes = 2\n",
    "cfg.model.auxiliary_head.num_classes = 2\n",
    "\n",
    "\n",
    "# Modify dataset type and path\n",
    "cfg.dataset_type = 'StandfordBackgroundDataset'\n",
    "cfg.data_root = data_root\n",
    "\n",
    "#batch size\n",
    "cfg.data.samples_per_gpu = 8\n",
    "cfg.data.workers_per_gpu = 4 \n",
    "\n",
    "cfg.img_norm_cfg = dict(mean=[123.675, 116.28, 103.53], std=[58.395, 57.12, 57.375], to_rgb=True)\n",
    "cfg.crop_size = (256, 256)\n",
    "cfg.train_pipeline = [\n",
    "    dict(type='LoadImageFromFile'),\n",
    "    dict(type='LoadAnnotations'),\n",
    "    dict(type='Resize', img_scale=(320, 240), ratio_range=(0.5, 2.0)),\n",
    "    dict(type='RandomCrop', crop_size=cfg.crop_size, cat_max_ratio=0.75),\n",
    "    dict(type='RandomFlip', flip_ratio=0.5),\n",
    "    dict(type='PhotoMetricDistortion'),\n",
    "    dict(type='Normalize', **cfg.img_norm_cfg),\n",
    "    dict(type='Pad', size=cfg.crop_size, pad_val=0, seg_pad_val=255),\n",
    "    dict(type='DefaultFormatBundle'),\n",
    "    dict(type='Collect', keys=['img', 'gt_semantic_seg']),\n",
    "]\n",
    "\n",
    "cfg.test_pipeline = [\n",
    "    dict(type='LoadImageFromFile'),\n",
    "    dict(\n",
    "        type='MultiScaleFlipAug',\n",
    "        img_scale=(320, 240),\n",
    "        # img_ratios=[0.5, 0.75, 1.0, 1.25, 1.5, 1.75],\n",
    "        flip=False,\n",
    "        transforms=[\n",
    "            dict(type='Resize', keep_ratio=True),\n",
    "            dict(type='RandomFlip'),\n",
    "            dict(type='Normalize', **cfg.img_norm_cfg),\n",
    "            dict(type='ImageToTensor', keys=['img']),\n",
    "            dict(type='Collect', keys=['img']),\n",
    "        ])\n",
    "]\n",
    "\n",
    "\n",
    "cfg.data.train.type = cfg.dataset_type\n",
    "cfg.data.train.data_root = cfg.data_root\n",
    "cfg.data.train.img_dir = img_dir\n",
    "cfg.data.train.ann_dir = ann_dir\n",
    "cfg.data.train.pipeline = cfg.train_pipeline\n",
    "cfg.data.train.split = 'face_splits/train.txt'\n",
    "\n",
    "cfg.data.val.type = cfg.dataset_type\n",
    "cfg.data.val.data_root = cfg.data_root\n",
    "cfg.data.val.img_dir = img_dir\n",
    "cfg.data.val.ann_dir = ann_dir\n",
    "cfg.data.val.pipeline = cfg.test_pipeline\n",
    "cfg.data.val.split = 'face_splits/val.txt'\n",
    "\n",
    "cfg.data.test.type = cfg.dataset_type\n",
    "cfg.data.test.data_root = cfg.data_root\n",
    "cfg.data.test.img_dir = img_dir\n",
    "cfg.data.test.ann_dir = ann_dir\n",
    "cfg.data.test.pipeline = cfg.test_pipeline\n",
    "cfg.data.test.split = 'face_splits/val.txt'\n",
    "\n",
    "# We can still use the pre-trained Mask RCNN model though we do not need to\n",
    "# use the mask branch\n",
    "#cfg.load_from = 'train_skinseg/latest.pth'\n",
    "\n",
    "# Set up working dir to save files and logs.\n",
    "cfg.work_dir = './train_faceseg'\n",
    "\n",
    "cfg.optimizer.lr = 1e-04\n",
    "#cfg.runner.type = 'EpochBasedRunner'\n",
    "cfg.runner.max_iters = 400*200\n",
    "cfg.log_config.interval = 200\n",
    "##\n",
    "cfg.evaluation.interval = 400\n",
    "#\n",
    "cfg.checkpoint_config.interval = 400*5\n",
    "\n",
    "cfg.lr_config.warmup_iters = 200\n",
    "cfg.lr_config.warmup_ratio = 1e-04\n",
    "\n",
    "# Set seed to facitate reproducing the result\n",
    "cfg.seed = 0\n",
    "set_random_seed(0, deterministic=False)\n",
    "cfg.gpu_ids = range(1)\n",
    "\n",
    "# Let's have a look at the final config used for training\n",
    "print(f'Config:\\n{cfg.pretty_text}')"
   ]
  },
  {
   "cell_type": "markdown",
   "id": "b363462a-c693-4860-b576-c9ce951f7c3e",
   "metadata": {},
   "source": [
    "## Train and Eval"
   ]
  },
  {
   "cell_type": "code",
   "execution_count": 5,
   "id": "cb2d8515-0d27-42bb-acee-c7fc92054860",
   "metadata": {},
   "outputs": [
    {
     "name": "stderr",
     "output_type": "stream",
     "text": [
      "2022-03-07 16:17:14,146 - mmseg - INFO - Loaded 3200 images\n",
      "/home/ec2-user/.local/lib/python3.7/site-packages/mmseg/models/backbones/swin.py:556: UserWarning: DeprecationWarning: pretrained is deprecated, please use \"init_cfg\" instead\n",
      "  warnings.warn('DeprecationWarning: pretrained is deprecated, '\n",
      "2022-03-07 16:17:18,042 - mmseg - INFO - Loaded 800 images\n",
      "2022-03-07 16:17:18,043 - mmseg - INFO - Start running, host: ec2-user@ip-172-31-35-195.us-east-2.compute.internal, work_dir: /home/ec2-user/blm/code/train_faceseg\n",
      "2022-03-07 16:17:18,044 - mmseg - INFO - Hooks will be executed in the following order:\n",
      "before_run:\n",
      "(VERY_HIGH   ) PolyLrUpdaterHook                  \n",
      "(NORMAL      ) CheckpointHook                     \n",
      "(LOW         ) EvalHook                           \n",
      "(VERY_LOW    ) TextLoggerHook                     \n",
      " -------------------- \n",
      "before_train_epoch:\n",
      "(VERY_HIGH   ) PolyLrUpdaterHook                  \n",
      "(LOW         ) IterTimerHook                      \n",
      "(LOW         ) EvalHook                           \n",
      "(VERY_LOW    ) TextLoggerHook                     \n",
      " -------------------- \n",
      "before_train_iter:\n",
      "(VERY_HIGH   ) PolyLrUpdaterHook                  \n",
      "(LOW         ) IterTimerHook                      \n",
      "(LOW         ) EvalHook                           \n",
      " -------------------- \n",
      "after_train_iter:\n",
      "(ABOVE_NORMAL) OptimizerHook                      \n",
      "(NORMAL      ) CheckpointHook                     \n",
      "(LOW         ) IterTimerHook                      \n",
      "(LOW         ) EvalHook                           \n",
      "(VERY_LOW    ) TextLoggerHook                     \n",
      " -------------------- \n",
      "after_train_epoch:\n",
      "(NORMAL      ) CheckpointHook                     \n",
      "(LOW         ) EvalHook                           \n",
      "(VERY_LOW    ) TextLoggerHook                     \n",
      " -------------------- \n",
      "before_val_epoch:\n",
      "(LOW         ) IterTimerHook                      \n",
      "(VERY_LOW    ) TextLoggerHook                     \n",
      " -------------------- \n",
      "before_val_iter:\n",
      "(LOW         ) IterTimerHook                      \n",
      " -------------------- \n",
      "after_val_iter:\n",
      "(LOW         ) IterTimerHook                      \n",
      " -------------------- \n",
      "after_val_epoch:\n",
      "(VERY_LOW    ) TextLoggerHook                     \n",
      " -------------------- \n",
      "after_run:\n",
      "(VERY_LOW    ) TextLoggerHook                     \n",
      " -------------------- \n",
      "2022-03-07 16:17:18,045 - mmseg - INFO - workflow: [('train', 1)], max: 80000 iters\n",
      "2022-03-07 16:17:18,046 - mmseg - INFO - Checkpoints will be saved to /home/ec2-user/blm/code/train_faceseg by HardDiskBackend.\n",
      "2022-03-07 16:21:19,447 - mmseg - INFO - Iter [200/80000]\tlr: 9.925e-05, eta: 1 day, 2:44:06, time: 1.206, data_time: 0.005, memory: 4940, decode.loss_ce: 0.3364, decode.acc_seg: 70.2987, aux.loss_ce: 0.1912, aux.acc_seg: 59.5716, loss: 0.5277\n",
      "2022-03-07 16:25:20,465 - mmseg - INFO - Iter [400/80000]\tlr: 9.950e-05, eta: 1 day, 2:39:27, time: 1.205, data_time: 0.004, memory: 4940, decode.loss_ce: 0.2705, decode.acc_seg: 72.7919, aux.loss_ce: 0.1167, aux.acc_seg: 71.7412, loss: 0.3872\n"
     ]
    },
    {
     "name": "stdout",
     "output_type": "stream",
     "text": [
      "[>>>>>>>>>>>>>>>>>>>>>>>>>>>>>] 800/800, 6.8 task/s, elapsed: 118s, ETA:     0s"
     ]
    },
    {
     "name": "stderr",
     "output_type": "stream",
     "text": [
      "2022-03-07 16:27:18,713 - mmseg - INFO - per class results:\n",
      "2022-03-07 16:27:18,715 - mmseg - INFO - \n",
      "+-------+-------+-------+\n",
      "| Class |  IoU  |  Acc  |\n",
      "+-------+-------+-------+\n",
      "|  face | 41.51 | 70.42 |\n",
      "|   bg  | 89.81 | 92.62 |\n",
      "+-------+-------+-------+\n",
      "2022-03-07 16:27:18,716 - mmseg - INFO - Summary:\n",
      "2022-03-07 16:27:18,717 - mmseg - INFO - \n",
      "+------+-------+-------+\n",
      "| aAcc |  mIoU |  mAcc |\n",
      "+------+-------+-------+\n",
      "| 90.5 | 65.66 | 81.52 |\n",
      "+------+-------+-------+\n",
      "2022-03-07 16:27:18,723 - mmseg - INFO - Iter(val) [800]\taAcc: 0.9050, mIoU: 0.6566, mAcc: 0.8152, IoU.face: 0.4151, IoU.bg: 0.8981, Acc.face: 0.7042, Acc.bg: 0.9262\n",
      "2022-03-07 16:31:21,960 - mmseg - INFO - Iter [600/80000]\tlr: 9.925e-05, eta: 1 day, 7:00:52, time: 1.807, data_time: 0.607, memory: 4940, decode.loss_ce: 0.2405, decode.acc_seg: 74.7382, aux.loss_ce: 0.1037, aux.acc_seg: 73.8562, loss: 0.3442\n",
      "2022-03-07 16:35:23,245 - mmseg - INFO - Iter [800/80000]\tlr: 9.900e-05, eta: 1 day, 5:50:15, time: 1.206, data_time: 0.005, memory: 4940, decode.loss_ce: 0.2486, decode.acc_seg: 75.5638, aux.loss_ce: 0.1069, aux.acc_seg: 74.6822, loss: 0.3555\n"
     ]
    },
    {
     "name": "stdout",
     "output_type": "stream",
     "text": [
      "[>>>>>>>>>>>>>>>>>>>>>>>>>>>>>] 800/800, 6.8 task/s, elapsed: 118s, ETA:     0s"
     ]
    },
    {
     "name": "stderr",
     "output_type": "stream",
     "text": [
      "2022-03-07 16:37:21,135 - mmseg - INFO - per class results:\n",
      "2022-03-07 16:37:21,136 - mmseg - INFO - \n",
      "+-------+-------+-------+\n",
      "| Class |  IoU  |  Acc  |\n",
      "+-------+-------+-------+\n",
      "|  face | 44.36 | 69.42 |\n",
      "|   bg  | 91.07 | 94.02 |\n",
      "+-------+-------+-------+\n",
      "2022-03-07 16:37:21,137 - mmseg - INFO - Summary:\n",
      "2022-03-07 16:37:21,138 - mmseg - INFO - \n",
      "+-------+-------+-------+\n",
      "|  aAcc |  mIoU |  mAcc |\n",
      "+-------+-------+-------+\n",
      "| 91.66 | 67.71 | 81.72 |\n",
      "+-------+-------+-------+\n",
      "2022-03-07 16:37:21,147 - mmseg - INFO - Iter(val) [800]\taAcc: 0.9166, mIoU: 0.6771, mAcc: 0.8172, IoU.face: 0.4436, IoU.bg: 0.9107, Acc.face: 0.6942, Acc.bg: 0.9402\n",
      "2022-03-07 16:41:24,364 - mmseg - INFO - Iter [1000/80000]\tlr: 9.875e-05, eta: 1 day, 7:44:03, time: 1.806, data_time: 0.605, memory: 4940, decode.loss_ce: 0.2222, decode.acc_seg: 76.8722, aux.loss_ce: 0.0961, aux.acc_seg: 76.0210, loss: 0.3183\n",
      "2022-03-07 16:45:25,431 - mmseg - INFO - Iter [1200/80000]\tlr: 9.850e-05, eta: 1 day, 6:46:31, time: 1.205, data_time: 0.005, memory: 4940, decode.loss_ce: 0.2092, decode.acc_seg: 76.8998, aux.loss_ce: 0.0908, aux.acc_seg: 76.1115, loss: 0.3000\n"
     ]
    },
    {
     "name": "stdout",
     "output_type": "stream",
     "text": [
      "[>>>>>>>>>>>>>>>>>>>>>>>>>>>>>] 800/800, 6.8 task/s, elapsed: 118s, ETA:     0s"
     ]
    },
    {
     "name": "stderr",
     "output_type": "stream",
     "text": [
      "2022-03-07 16:47:23,329 - mmseg - INFO - per class results:\n",
      "2022-03-07 16:47:23,331 - mmseg - INFO - \n",
      "+-------+-------+-------+\n",
      "| Class |  IoU  |  Acc  |\n",
      "+-------+-------+-------+\n",
      "|  face |  53.6 | 78.64 |\n",
      "|   bg  | 92.95 | 95.05 |\n",
      "+-------+-------+-------+\n",
      "2022-03-07 16:47:23,332 - mmseg - INFO - Summary:\n",
      "2022-03-07 16:47:23,333 - mmseg - INFO - \n",
      "+-------+-------+-------+\n",
      "|  aAcc |  mIoU |  mAcc |\n",
      "+-------+-------+-------+\n",
      "| 93.48 | 73.27 | 86.85 |\n",
      "+-------+-------+-------+\n",
      "2022-03-07 16:47:23,340 - mmseg - INFO - Iter(val) [800]\taAcc: 0.9348, mIoU: 0.7327, mAcc: 0.8685, IoU.face: 0.5360, IoU.bg: 0.9295, Acc.face: 0.7864, Acc.bg: 0.9505\n",
      "2022-03-07 16:51:26,306 - mmseg - INFO - Iter [1400/80000]\tlr: 9.825e-05, eta: 1 day, 7:56:23, time: 1.804, data_time: 0.605, memory: 4940, decode.loss_ce: 0.1975, decode.acc_seg: 77.5931, aux.loss_ce: 0.0856, aux.acc_seg: 76.9388, loss: 0.2831\n",
      "2022-03-07 16:55:27,073 - mmseg - INFO - Iter [1600/80000]\tlr: 9.800e-05, eta: 1 day, 7:09:11, time: 1.204, data_time: 0.005, memory: 4940, decode.loss_ce: 0.1880, decode.acc_seg: 77.5604, aux.loss_ce: 0.0830, aux.acc_seg: 76.6300, loss: 0.2710\n"
     ]
    },
    {
     "name": "stdout",
     "output_type": "stream",
     "text": [
      "[>>>>>>>>>>>>>>>>>>>>>>>>>>>>>] 800/800, 6.8 task/s, elapsed: 117s, ETA:     0s"
     ]
    },
    {
     "name": "stderr",
     "output_type": "stream",
     "text": [
      "2022-03-07 16:57:24,350 - mmseg - INFO - per class results:\n",
      "2022-03-07 16:57:24,352 - mmseg - INFO - \n",
      "+-------+-------+-------+\n",
      "| Class |  IoU  |  Acc  |\n",
      "+-------+-------+-------+\n",
      "|  face |  53.4 |  66.4 |\n",
      "|   bg  | 94.07 | 97.42 |\n",
      "+-------+-------+-------+\n",
      "2022-03-07 16:57:24,352 - mmseg - INFO - Summary:\n",
      "2022-03-07 16:57:24,354 - mmseg - INFO - \n",
      "+-------+-------+-------+\n",
      "|  aAcc |  mIoU |  mAcc |\n",
      "+-------+-------+-------+\n",
      "| 94.45 | 73.74 | 81.91 |\n",
      "+-------+-------+-------+\n",
      "2022-03-07 16:57:24,359 - mmseg - INFO - Iter(val) [800]\taAcc: 0.9445, mIoU: 0.7374, mAcc: 0.8191, IoU.face: 0.5340, IoU.bg: 0.9407, Acc.face: 0.6640, Acc.bg: 0.9742\n",
      "2022-03-07 17:01:27,715 - mmseg - INFO - Iter [1800/80000]\tlr: 9.775e-05, eta: 1 day, 7:58:23, time: 1.803, data_time: 0.602, memory: 4940, decode.loss_ce: 0.1682, decode.acc_seg: 78.4672, aux.loss_ce: 0.0732, aux.acc_seg: 77.8436, loss: 0.2414\n",
      "2022-03-07 17:05:28,643 - mmseg - INFO - Saving checkpoint at 2000 iterations\n",
      "2022-03-07 17:05:30,495 - mmseg - INFO - Iter [2000/80000]\tlr: 9.750e-05, eta: 1 day, 7:19:57, time: 1.214, data_time: 0.005, memory: 4940, decode.loss_ce: 0.1668, decode.acc_seg: 77.9167, aux.loss_ce: 0.0717, aux.acc_seg: 77.4527, loss: 0.2384\n"
     ]
    },
    {
     "name": "stdout",
     "output_type": "stream",
     "text": [
      "[>>>>>>>>>>>>>>>>>>>>>>>>>>>>>] 800/800, 6.8 task/s, elapsed: 118s, ETA:     0s"
     ]
    },
    {
     "name": "stderr",
     "output_type": "stream",
     "text": [
      "2022-03-07 17:07:28,337 - mmseg - INFO - per class results:\n",
      "2022-03-07 17:07:28,339 - mmseg - INFO - \n",
      "+-------+-------+-------+\n",
      "| Class |  IoU  |  Acc  |\n",
      "+-------+-------+-------+\n",
      "|  face | 59.38 |  79.1 |\n",
      "|   bg  | 94.39 | 96.48 |\n",
      "+-------+-------+-------+\n",
      "2022-03-07 17:07:28,340 - mmseg - INFO - Summary:\n",
      "2022-03-07 17:07:28,341 - mmseg - INFO - \n",
      "+-------+-------+-------+\n",
      "|  aAcc |  mIoU |  mAcc |\n",
      "+-------+-------+-------+\n",
      "| 94.82 | 76.89 | 87.79 |\n",
      "+-------+-------+-------+\n",
      "2022-03-07 17:07:28,346 - mmseg - INFO - Iter(val) [800]\taAcc: 0.9482, mIoU: 0.7689, mAcc: 0.8779, IoU.face: 0.5938, IoU.bg: 0.9439, Acc.face: 0.7910, Acc.bg: 0.9648\n",
      "2022-03-07 17:11:31,480 - mmseg - INFO - Iter [2200/80000]\tlr: 9.725e-05, eta: 1 day, 7:57:25, time: 1.805, data_time: 0.605, memory: 4940, decode.loss_ce: 0.1598, decode.acc_seg: 79.1320, aux.loss_ce: 0.0699, aux.acc_seg: 78.5619, loss: 0.2297\n",
      "2022-03-07 17:15:32,346 - mmseg - INFO - Iter [2400/80000]\tlr: 9.700e-05, eta: 1 day, 7:22:54, time: 1.204, data_time: 0.005, memory: 4940, decode.loss_ce: 0.1651, decode.acc_seg: 80.0166, aux.loss_ce: 0.0724, aux.acc_seg: 79.3574, loss: 0.2375\n"
     ]
    },
    {
     "name": "stdout",
     "output_type": "stream",
     "text": [
      "[>>>>>>>>>>>>>>>>>>>>>>>>>>>>>] 800/800, 6.8 task/s, elapsed: 118s, ETA:     0s"
     ]
    },
    {
     "name": "stderr",
     "output_type": "stream",
     "text": [
      "2022-03-07 17:17:30,572 - mmseg - INFO - per class results:\n",
      "2022-03-07 17:17:30,574 - mmseg - INFO - \n",
      "+-------+-------+-------+\n",
      "| Class |  IoU  |  Acc  |\n",
      "+-------+-------+-------+\n",
      "|  face | 60.82 |  84.3 |\n",
      "|   bg  | 94.34 | 95.91 |\n",
      "+-------+-------+-------+\n",
      "2022-03-07 17:17:30,575 - mmseg - INFO - Summary:\n",
      "2022-03-07 17:17:30,576 - mmseg - INFO - \n",
      "+------+-------+-------+\n",
      "| aAcc |  mIoU |  mAcc |\n",
      "+------+-------+-------+\n",
      "| 94.8 | 77.58 | 90.11 |\n",
      "+------+-------+-------+\n",
      "2022-03-07 17:17:30,580 - mmseg - INFO - Iter(val) [800]\taAcc: 0.9480, mIoU: 0.7758, mAcc: 0.9011, IoU.face: 0.6082, IoU.bg: 0.9434, Acc.face: 0.8430, Acc.bg: 0.9591\n",
      "2022-03-07 17:21:33,542 - mmseg - INFO - Iter [2600/80000]\tlr: 9.675e-05, eta: 1 day, 7:52:48, time: 1.806, data_time: 0.607, memory: 4940, decode.loss_ce: 0.1506, decode.acc_seg: 79.5362, aux.loss_ce: 0.0665, aux.acc_seg: 78.9358, loss: 0.2170\n",
      "2022-03-07 17:25:34,114 - mmseg - INFO - Iter [2800/80000]\tlr: 9.650e-05, eta: 1 day, 7:22:07, time: 1.203, data_time: 0.005, memory: 4940, decode.loss_ce: 0.1545, decode.acc_seg: 80.4805, aux.loss_ce: 0.0682, aux.acc_seg: 79.7505, loss: 0.2227\n"
     ]
    },
    {
     "name": "stdout",
     "output_type": "stream",
     "text": [
      "[>>>>>>>>>>>>>>>>>>>>>>>>>>>>>] 800/800, 6.8 task/s, elapsed: 118s, ETA:     0s"
     ]
    },
    {
     "name": "stderr",
     "output_type": "stream",
     "text": [
      "2022-03-07 17:27:31,743 - mmseg - INFO - per class results:\n",
      "2022-03-07 17:27:31,745 - mmseg - INFO - \n",
      "+-------+-------+-------+\n",
      "| Class |  IoU  |  Acc  |\n",
      "+-------+-------+-------+\n",
      "|  face | 62.28 | 71.25 |\n",
      "|   bg  | 95.56 | 98.47 |\n",
      "+-------+-------+-------+\n",
      "2022-03-07 17:27:31,746 - mmseg - INFO - Summary:\n",
      "2022-03-07 17:27:31,748 - mmseg - INFO - \n",
      "+-------+-------+-------+\n",
      "|  aAcc |  mIoU |  mAcc |\n",
      "+-------+-------+-------+\n",
      "| 95.87 | 78.92 | 84.86 |\n",
      "+-------+-------+-------+\n",
      "2022-03-07 17:27:31,756 - mmseg - INFO - Iter(val) [800]\taAcc: 0.9587, mIoU: 0.7892, mAcc: 0.8486, IoU.face: 0.6228, IoU.bg: 0.9556, Acc.face: 0.7125, Acc.bg: 0.9847\n",
      "2022-03-07 17:31:34,650 - mmseg - INFO - Iter [3000/80000]\tlr: 9.625e-05, eta: 1 day, 7:46:19, time: 1.803, data_time: 0.604, memory: 4940, decode.loss_ce: 0.1546, decode.acc_seg: 79.3901, aux.loss_ce: 0.0683, aux.acc_seg: 78.6897, loss: 0.2229\n",
      "2022-03-07 17:35:35,299 - mmseg - INFO - Iter [3200/80000]\tlr: 9.600e-05, eta: 1 day, 7:18:48, time: 1.203, data_time: 0.005, memory: 4940, decode.loss_ce: 0.1377, decode.acc_seg: 80.8984, aux.loss_ce: 0.0619, aux.acc_seg: 80.2294, loss: 0.1996\n"
     ]
    },
    {
     "name": "stdout",
     "output_type": "stream",
     "text": [
      "[>>>>>>>>>>>>>>>>>>>>>>>>>>>>>] 800/800, 6.8 task/s, elapsed: 118s, ETA:     0s"
     ]
    },
    {
     "name": "stderr",
     "output_type": "stream",
     "text": [
      "2022-03-07 17:37:33,718 - mmseg - INFO - per class results:\n",
      "2022-03-07 17:37:33,719 - mmseg - INFO - \n",
      "+-------+-------+-------+\n",
      "| Class |  IoU  |  Acc  |\n",
      "+-------+-------+-------+\n",
      "|  face | 63.83 | 70.25 |\n",
      "|   bg  | 95.91 | 98.94 |\n",
      "+-------+-------+-------+\n",
      "2022-03-07 17:37:33,720 - mmseg - INFO - Summary:\n",
      "2022-03-07 17:37:33,721 - mmseg - INFO - \n",
      "+-------+-------+-------+\n",
      "|  aAcc |  mIoU |  mAcc |\n",
      "+-------+-------+-------+\n",
      "| 96.19 | 79.87 | 84.59 |\n",
      "+-------+-------+-------+\n",
      "2022-03-07 17:37:33,729 - mmseg - INFO - Iter(val) [800]\taAcc: 0.9619, mIoU: 0.7987, mAcc: 0.8459, IoU.face: 0.6383, IoU.bg: 0.9591, Acc.face: 0.7025, Acc.bg: 0.9894\n",
      "2022-03-07 17:41:36,507 - mmseg - INFO - Iter [3400/80000]\tlr: 9.575e-05, eta: 1 day, 7:39:18, time: 1.806, data_time: 0.608, memory: 4940, decode.loss_ce: 0.1358, decode.acc_seg: 80.1237, aux.loss_ce: 0.0599, aux.acc_seg: 79.5728, loss: 0.1958\n",
      "2022-03-07 17:45:37,622 - mmseg - INFO - Iter [3600/80000]\tlr: 9.550e-05, eta: 1 day, 7:14:23, time: 1.206, data_time: 0.005, memory: 4940, decode.loss_ce: 0.1355, decode.acc_seg: 81.1668, aux.loss_ce: 0.0601, aux.acc_seg: 80.5213, loss: 0.1957\n"
     ]
    },
    {
     "name": "stdout",
     "output_type": "stream",
     "text": [
      "[>>>>>>>>>>>>>>>>>>>>>>>>>>>>>] 800/800, 6.8 task/s, elapsed: 118s, ETA:     0s"
     ]
    },
    {
     "name": "stderr",
     "output_type": "stream",
     "text": [
      "2022-03-07 17:47:35,865 - mmseg - INFO - per class results:\n",
      "2022-03-07 17:47:35,866 - mmseg - INFO - \n",
      "+-------+-------+-------+\n",
      "| Class |  IoU  |  Acc  |\n",
      "+-------+-------+-------+\n",
      "|  face | 65.97 | 73.89 |\n",
      "|   bg  | 96.07 | 98.73 |\n",
      "+-------+-------+-------+\n",
      "2022-03-07 17:47:35,867 - mmseg - INFO - Summary:\n",
      "2022-03-07 17:47:35,868 - mmseg - INFO - \n",
      "+-------+-------+-------+\n",
      "|  aAcc |  mIoU |  mAcc |\n",
      "+-------+-------+-------+\n",
      "| 96.35 | 81.02 | 86.31 |\n",
      "+-------+-------+-------+\n",
      "2022-03-07 17:47:35,872 - mmseg - INFO - Iter(val) [800]\taAcc: 0.9635, mIoU: 0.8102, mAcc: 0.8631, IoU.face: 0.6597, IoU.bg: 0.9607, Acc.face: 0.7389, Acc.bg: 0.9873\n",
      "2022-03-07 17:51:38,893 - mmseg - INFO - Iter [3800/80000]\tlr: 9.525e-05, eta: 1 day, 7:31:49, time: 1.806, data_time: 0.607, memory: 4940, decode.loss_ce: 0.1247, decode.acc_seg: 80.1325, aux.loss_ce: 0.0562, aux.acc_seg: 79.4633, loss: 0.1810\n",
      "2022-03-07 17:55:39,523 - mmseg - INFO - Saving checkpoint at 4000 iterations\n",
      "2022-03-07 17:55:41,369 - mmseg - INFO - Iter [4000/80000]\tlr: 9.500e-05, eta: 1 day, 7:09:18, time: 1.212, data_time: 0.005, memory: 4940, decode.loss_ce: 0.1375, decode.acc_seg: 80.1700, aux.loss_ce: 0.0620, aux.acc_seg: 79.4204, loss: 0.1994\n"
     ]
    },
    {
     "name": "stdout",
     "output_type": "stream",
     "text": [
      "[>>>>>>>>>>>>>>>>>>>>>>>>>>>>>] 800/800, 6.8 task/s, elapsed: 118s, ETA:     0s"
     ]
    },
    {
     "name": "stderr",
     "output_type": "stream",
     "text": [
      "2022-03-07 17:57:39,448 - mmseg - INFO - per class results:\n",
      "2022-03-07 17:57:39,449 - mmseg - INFO - \n",
      "+-------+-------+-------+\n",
      "| Class |  IoU  |  Acc  |\n",
      "+-------+-------+-------+\n",
      "|  face | 63.91 |  83.0 |\n",
      "|   bg  | 95.12 | 96.84 |\n",
      "+-------+-------+-------+\n",
      "2022-03-07 17:57:39,450 - mmseg - INFO - Summary:\n",
      "2022-03-07 17:57:39,452 - mmseg - INFO - \n",
      "+-------+-------+-------+\n",
      "|  aAcc |  mIoU |  mAcc |\n",
      "+-------+-------+-------+\n",
      "| 95.51 | 79.52 | 89.92 |\n",
      "+-------+-------+-------+\n",
      "2022-03-07 17:57:39,466 - mmseg - INFO - Iter(val) [800]\taAcc: 0.9551, mIoU: 0.7952, mAcc: 0.8992, IoU.face: 0.6391, IoU.bg: 0.9512, Acc.face: 0.8300, Acc.bg: 0.9684\n",
      "2022-03-07 18:01:43,069 - mmseg - INFO - Iter [4200/80000]\tlr: 9.475e-05, eta: 1 day, 7:24:23, time: 1.808, data_time: 0.608, memory: 4940, decode.loss_ce: 0.1368, decode.acc_seg: 80.8124, aux.loss_ce: 0.0616, aux.acc_seg: 80.0923, loss: 0.1984\n",
      "2022-03-07 18:05:44,045 - mmseg - INFO - Iter [4400/80000]\tlr: 9.450e-05, eta: 1 day, 7:03:00, time: 1.205, data_time: 0.005, memory: 4940, decode.loss_ce: 0.1229, decode.acc_seg: 80.9283, aux.loss_ce: 0.0556, aux.acc_seg: 80.2177, loss: 0.1786\n"
     ]
    },
    {
     "name": "stdout",
     "output_type": "stream",
     "text": [
      "[>>>>>>>>>>>>>>>>>>>>>>>>>>>>>] 800/800, 6.7 task/s, elapsed: 119s, ETA:     0s"
     ]
    },
    {
     "name": "stderr",
     "output_type": "stream",
     "text": [
      "2022-03-07 18:07:43,268 - mmseg - INFO - per class results:\n",
      "2022-03-07 18:07:43,269 - mmseg - INFO - \n",
      "+-------+-------+-------+\n",
      "| Class |  IoU  |  Acc  |\n",
      "+-------+-------+-------+\n",
      "|  face | 68.78 | 89.03 |\n",
      "|   bg  | 95.77 | 96.88 |\n",
      "+-------+-------+-------+\n",
      "2022-03-07 18:07:43,270 - mmseg - INFO - Summary:\n",
      "2022-03-07 18:07:43,271 - mmseg - INFO - \n",
      "+-------+-------+-------+\n",
      "|  aAcc |  mIoU |  mAcc |\n",
      "+-------+-------+-------+\n",
      "| 96.13 | 82.28 | 92.96 |\n",
      "+-------+-------+-------+\n",
      "2022-03-07 18:07:43,279 - mmseg - INFO - Iter(val) [800]\taAcc: 0.9613, mIoU: 0.8228, mAcc: 0.9296, IoU.face: 0.6878, IoU.bg: 0.9577, Acc.face: 0.8903, Acc.bg: 0.9688\n",
      "2022-03-07 18:11:46,666 - mmseg - INFO - Iter [4600/80000]\tlr: 9.425e-05, eta: 1 day, 7:16:20, time: 1.813, data_time: 0.612, memory: 4940, decode.loss_ce: 0.1277, decode.acc_seg: 81.4990, aux.loss_ce: 0.0576, aux.acc_seg: 80.8501, loss: 0.1852\n",
      "2022-03-07 18:15:49,526 - mmseg - INFO - Iter [4800/80000]\tlr: 9.400e-05, eta: 1 day, 6:56:48, time: 1.214, data_time: 0.005, memory: 4940, decode.loss_ce: 0.1122, decode.acc_seg: 81.1218, aux.loss_ce: 0.0511, aux.acc_seg: 80.4654, loss: 0.1634\n"
     ]
    },
    {
     "name": "stdout",
     "output_type": "stream",
     "text": [
      "[>>>>>>>>>>>>>>>>>>>>>>>>>>>>>] 800/800, 6.8 task/s, elapsed: 118s, ETA:     0s"
     ]
    },
    {
     "name": "stderr",
     "output_type": "stream",
     "text": [
      "2022-03-07 18:17:47,960 - mmseg - INFO - per class results:\n",
      "2022-03-07 18:17:47,961 - mmseg - INFO - \n",
      "+-------+-------+-------+\n",
      "| Class |  IoU  |  Acc  |\n",
      "+-------+-------+-------+\n",
      "|  face | 69.27 | 84.19 |\n",
      "|   bg  | 96.11 | 97.72 |\n",
      "+-------+-------+-------+\n",
      "2022-03-07 18:17:47,962 - mmseg - INFO - Summary:\n",
      "2022-03-07 18:17:47,963 - mmseg - INFO - \n",
      "+-------+-------+-------+\n",
      "|  aAcc |  mIoU |  mAcc |\n",
      "+-------+-------+-------+\n",
      "| 96.42 | 82.69 | 90.95 |\n",
      "+-------+-------+-------+\n",
      "2022-03-07 18:17:47,975 - mmseg - INFO - Iter(val) [800]\taAcc: 0.9642, mIoU: 0.8269, mAcc: 0.9095, IoU.face: 0.6927, IoU.bg: 0.9611, Acc.face: 0.8419, Acc.bg: 0.9772\n",
      "2022-03-07 18:21:51,462 - mmseg - INFO - Iter [5000/80000]\tlr: 9.375e-05, eta: 1 day, 7:08:16, time: 1.810, data_time: 0.608, memory: 4940, decode.loss_ce: 0.1211, decode.acc_seg: 81.6345, aux.loss_ce: 0.0547, aux.acc_seg: 80.9336, loss: 0.1758\n",
      "2022-03-07 18:25:52,718 - mmseg - INFO - Iter [5200/80000]\tlr: 9.350e-05, eta: 1 day, 6:49:28, time: 1.206, data_time: 0.005, memory: 4940, decode.loss_ce: 0.1239, decode.acc_seg: 81.2954, aux.loss_ce: 0.0566, aux.acc_seg: 80.5527, loss: 0.1805\n"
     ]
    },
    {
     "name": "stdout",
     "output_type": "stream",
     "text": [
      "[>>>>>>>>>>>>>>>>>>>>>>>>>>>>>] 800/800, 6.8 task/s, elapsed: 118s, ETA:     0s"
     ]
    },
    {
     "name": "stderr",
     "output_type": "stream",
     "text": [
      "2022-03-07 18:27:50,898 - mmseg - INFO - per class results:\n",
      "2022-03-07 18:27:50,900 - mmseg - INFO - \n",
      "+-------+-------+-------+\n",
      "| Class |  IoU  |  Acc  |\n",
      "+-------+-------+-------+\n",
      "|  face | 71.54 | 85.33 |\n",
      "|   bg  | 96.46 | 97.96 |\n",
      "+-------+-------+-------+\n",
      "2022-03-07 18:27:50,900 - mmseg - INFO - Summary:\n",
      "2022-03-07 18:27:50,902 - mmseg - INFO - \n",
      "+-------+------+-------+\n",
      "|  aAcc | mIoU |  mAcc |\n",
      "+-------+------+-------+\n",
      "| 96.75 | 84.0 | 91.64 |\n",
      "+-------+------+-------+\n",
      "2022-03-07 18:27:50,917 - mmseg - INFO - Iter(val) [800]\taAcc: 0.9675, mIoU: 0.8400, mAcc: 0.9164, IoU.face: 0.7154, IoU.bg: 0.9646, Acc.face: 0.8533, Acc.bg: 0.9796\n",
      "2022-03-07 18:31:53,962 - mmseg - INFO - Iter [5400/80000]\tlr: 9.325e-05, eta: 1 day, 6:59:23, time: 1.806, data_time: 0.607, memory: 4940, decode.loss_ce: 0.1263, decode.acc_seg: 81.7190, aux.loss_ce: 0.0584, aux.acc_seg: 80.9152, loss: 0.1847\n",
      "2022-03-07 18:35:54,989 - mmseg - INFO - Iter [5600/80000]\tlr: 9.300e-05, eta: 1 day, 6:41:32, time: 1.205, data_time: 0.005, memory: 4940, decode.loss_ce: 0.1127, decode.acc_seg: 82.1513, aux.loss_ce: 0.0529, aux.acc_seg: 81.3652, loss: 0.1656\n"
     ]
    },
    {
     "name": "stdout",
     "output_type": "stream",
     "text": [
      "[>>>>>>>>>>>>>>>>>>>>>>>>>>>>>] 800/800, 6.7 task/s, elapsed: 120s, ETA:     0s"
     ]
    },
    {
     "name": "stderr",
     "output_type": "stream",
     "text": [
      "2022-03-07 18:37:55,140 - mmseg - INFO - per class results:\n",
      "2022-03-07 18:37:55,142 - mmseg - INFO - \n",
      "+-------+-------+-------+\n",
      "| Class |  IoU  |  Acc  |\n",
      "+-------+-------+-------+\n",
      "|  face | 72.09 | 86.27 |\n",
      "|   bg  | 96.51 | 97.92 |\n",
      "+-------+-------+-------+\n",
      "2022-03-07 18:37:55,143 - mmseg - INFO - Summary:\n",
      "2022-03-07 18:37:55,145 - mmseg - INFO - \n",
      "+------+------+-------+\n",
      "| aAcc | mIoU |  mAcc |\n",
      "+------+------+-------+\n",
      "| 96.8 | 84.3 | 92.09 |\n",
      "+------+------+-------+\n",
      "2022-03-07 18:37:55,149 - mmseg - INFO - Iter(val) [800]\taAcc: 0.9680, mIoU: 0.8430, mAcc: 0.9209, IoU.face: 0.7209, IoU.bg: 0.9651, Acc.face: 0.8627, Acc.bg: 0.9792\n",
      "2022-03-07 18:41:58,309 - mmseg - INFO - Iter [5800/80000]\tlr: 9.275e-05, eta: 1 day, 6:50:43, time: 1.817, data_time: 0.617, memory: 4940, decode.loss_ce: 0.1198, decode.acc_seg: 81.1985, aux.loss_ce: 0.0551, aux.acc_seg: 80.4965, loss: 0.1749\n",
      "2022-03-07 18:45:59,250 - mmseg - INFO - Saving checkpoint at 6000 iterations\n",
      "2022-03-07 18:46:01,123 - mmseg - INFO - Iter [6000/80000]\tlr: 9.250e-05, eta: 1 day, 6:34:07, time: 1.214, data_time: 0.005, memory: 4940, decode.loss_ce: 0.1115, decode.acc_seg: 82.1253, aux.loss_ce: 0.0507, aux.acc_seg: 81.4381, loss: 0.1622\n"
     ]
    },
    {
     "name": "stdout",
     "output_type": "stream",
     "text": [
      "[>>>>>>>>>>>>>>>>>>>>>>>>>>>>>] 800/800, 6.7 task/s, elapsed: 120s, ETA:     0s"
     ]
    },
    {
     "name": "stderr",
     "output_type": "stream",
     "text": [
      "2022-03-07 18:48:00,832 - mmseg - INFO - per class results:\n",
      "2022-03-07 18:48:00,834 - mmseg - INFO - \n",
      "+-------+-------+-------+\n",
      "| Class |  IoU  |  Acc  |\n",
      "+-------+-------+-------+\n",
      "|  face | 72.31 | 86.21 |\n",
      "|   bg  | 96.55 | 97.96 |\n",
      "+-------+-------+-------+\n",
      "2022-03-07 18:48:00,836 - mmseg - INFO - Summary:\n",
      "2022-03-07 18:48:00,837 - mmseg - INFO - \n",
      "+-------+-------+-------+\n",
      "|  aAcc |  mIoU |  mAcc |\n",
      "+-------+-------+-------+\n",
      "| 96.84 | 84.43 | 92.09 |\n",
      "+-------+-------+-------+\n",
      "2022-03-07 18:48:00,841 - mmseg - INFO - Iter(val) [800]\taAcc: 0.9684, mIoU: 0.8443, mAcc: 0.9209, IoU.face: 0.7231, IoU.bg: 0.9655, Acc.face: 0.8621, Acc.bg: 0.9796\n",
      "2022-03-07 18:52:04,048 - mmseg - INFO - Iter [6200/80000]\tlr: 9.225e-05, eta: 1 day, 6:42:09, time: 1.814, data_time: 0.614, memory: 4940, decode.loss_ce: 0.1169, decode.acc_seg: 81.8709, aux.loss_ce: 0.0534, aux.acc_seg: 81.1619, loss: 0.1703\n",
      "2022-03-07 18:56:04,989 - mmseg - INFO - Iter [6400/80000]\tlr: 9.200e-05, eta: 1 day, 6:25:56, time: 1.205, data_time: 0.005, memory: 4940, decode.loss_ce: 0.1062, decode.acc_seg: 81.7073, aux.loss_ce: 0.0489, aux.acc_seg: 81.0854, loss: 0.1550\n"
     ]
    },
    {
     "name": "stdout",
     "output_type": "stream",
     "text": [
      "[>>>>>>>>>>>>>>>>>>>>>>>>>>>>>] 800/800, 6.8 task/s, elapsed: 118s, ETA:     0s"
     ]
    },
    {
     "name": "stderr",
     "output_type": "stream",
     "text": [
      "2022-03-07 18:58:03,368 - mmseg - INFO - per class results:\n",
      "2022-03-07 18:58:03,370 - mmseg - INFO - \n",
      "+-------+-------+-------+\n",
      "| Class |  IoU  |  Acc  |\n",
      "+-------+-------+-------+\n",
      "|  face | 72.35 | 79.68 |\n",
      "|   bg  | 96.84 | 98.93 |\n",
      "+-------+-------+-------+\n",
      "2022-03-07 18:58:03,371 - mmseg - INFO - Summary:\n",
      "2022-03-07 18:58:03,372 - mmseg - INFO - \n",
      "+-------+------+-------+\n",
      "|  aAcc | mIoU |  mAcc |\n",
      "+-------+------+-------+\n",
      "| 97.08 | 84.6 | 89.31 |\n",
      "+-------+------+-------+\n",
      "2022-03-07 18:58:03,377 - mmseg - INFO - Iter(val) [800]\taAcc: 0.9708, mIoU: 0.8460, mAcc: 0.8931, IoU.face: 0.7235, IoU.bg: 0.9684, Acc.face: 0.7968, Acc.bg: 0.9893\n",
      "2022-03-07 19:02:07,087 - mmseg - INFO - Iter [6600/80000]\tlr: 9.175e-05, eta: 1 day, 6:32:54, time: 1.810, data_time: 0.609, memory: 4940, decode.loss_ce: 0.1048, decode.acc_seg: 81.0728, aux.loss_ce: 0.0486, aux.acc_seg: 80.4081, loss: 0.1533\n",
      "2022-03-07 19:06:08,547 - mmseg - INFO - Iter [6800/80000]\tlr: 9.150e-05, eta: 1 day, 6:17:28, time: 1.207, data_time: 0.005, memory: 4940, decode.loss_ce: 0.1150, decode.acc_seg: 81.6277, aux.loss_ce: 0.0523, aux.acc_seg: 81.0123, loss: 0.1673\n"
     ]
    },
    {
     "name": "stdout",
     "output_type": "stream",
     "text": [
      "[>>>>>>>>>>>>>>>>>>>>>>>>>>>>>] 800/800, 6.7 task/s, elapsed: 119s, ETA:     0s"
     ]
    },
    {
     "name": "stderr",
     "output_type": "stream",
     "text": [
      "2022-03-07 19:08:07,465 - mmseg - INFO - per class results:\n",
      "2022-03-07 19:08:07,467 - mmseg - INFO - \n",
      "+-------+-------+-------+\n",
      "| Class |  IoU  |  Acc  |\n",
      "+-------+-------+-------+\n",
      "|  face | 74.26 | 82.87 |\n",
      "|   bg  | 97.01 | 98.77 |\n",
      "+-------+-------+-------+\n",
      "2022-03-07 19:08:07,468 - mmseg - INFO - Summary:\n",
      "2022-03-07 19:08:07,470 - mmseg - INFO - \n",
      "+-------+-------+-------+\n",
      "|  aAcc |  mIoU |  mAcc |\n",
      "+-------+-------+-------+\n",
      "| 97.25 | 85.64 | 90.82 |\n",
      "+-------+-------+-------+\n",
      "2022-03-07 19:08:07,474 - mmseg - INFO - Iter(val) [800]\taAcc: 0.9725, mIoU: 0.8564, mAcc: 0.9082, IoU.face: 0.7426, IoU.bg: 0.9701, Acc.face: 0.8287, Acc.bg: 0.9877\n",
      "2022-03-07 19:12:10,797 - mmseg - INFO - Iter [7000/80000]\tlr: 9.125e-05, eta: 1 day, 6:23:40, time: 1.811, data_time: 0.611, memory: 4940, decode.loss_ce: 0.0973, decode.acc_seg: 81.8922, aux.loss_ce: 0.0460, aux.acc_seg: 81.1444, loss: 0.1434\n",
      "2022-03-07 19:16:11,689 - mmseg - INFO - Iter [7200/80000]\tlr: 9.100e-05, eta: 1 day, 6:08:45, time: 1.205, data_time: 0.005, memory: 4940, decode.loss_ce: 0.1115, decode.acc_seg: 81.2714, aux.loss_ce: 0.0509, aux.acc_seg: 80.6495, loss: 0.1623\n"
     ]
    },
    {
     "name": "stdout",
     "output_type": "stream",
     "text": [
      "[>>>>>>>>>>>>>>>>>>>>>>>>>>>>>] 800/800, 6.8 task/s, elapsed: 118s, ETA:     0s"
     ]
    },
    {
     "name": "stderr",
     "output_type": "stream",
     "text": [
      "2022-03-07 19:18:10,097 - mmseg - INFO - per class results:\n",
      "2022-03-07 19:18:10,099 - mmseg - INFO - \n",
      "+-------+-------+-------+\n",
      "| Class |  IoU  |  Acc  |\n",
      "+-------+-------+-------+\n",
      "|  face | 73.81 | 84.66 |\n",
      "|   bg  | 96.87 | 98.44 |\n",
      "+-------+-------+-------+\n",
      "2022-03-07 19:18:10,101 - mmseg - INFO - Summary:\n",
      "2022-03-07 19:18:10,102 - mmseg - INFO - \n",
      "+-------+-------+-------+\n",
      "|  aAcc |  mIoU |  mAcc |\n",
      "+-------+-------+-------+\n",
      "| 97.12 | 85.34 | 91.55 |\n",
      "+-------+-------+-------+\n",
      "2022-03-07 19:18:10,115 - mmseg - INFO - Iter(val) [800]\taAcc: 0.9712, mIoU: 0.8534, mAcc: 0.9155, IoU.face: 0.7381, IoU.bg: 0.9687, Acc.face: 0.8466, Acc.bg: 0.9844\n",
      "2022-03-07 19:22:13,264 - mmseg - INFO - Iter [7400/80000]\tlr: 9.075e-05, eta: 1 day, 6:14:09, time: 1.808, data_time: 0.608, memory: 4940, decode.loss_ce: 0.1007, decode.acc_seg: 81.6061, aux.loss_ce: 0.0474, aux.acc_seg: 80.9098, loss: 0.1481\n",
      "2022-03-07 19:26:13,512 - mmseg - INFO - Iter [7600/80000]\tlr: 9.050e-05, eta: 1 day, 5:59:41, time: 1.201, data_time: 0.005, memory: 4940, decode.loss_ce: 0.1077, decode.acc_seg: 81.3666, aux.loss_ce: 0.0494, aux.acc_seg: 80.6896, loss: 0.1571\n"
     ]
    },
    {
     "name": "stdout",
     "output_type": "stream",
     "text": [
      "[>>>>>>>>>>>>>>>>>>>>>>>>>>>>>] 800/800, 6.7 task/s, elapsed: 119s, ETA:     0s"
     ]
    },
    {
     "name": "stderr",
     "output_type": "stream",
     "text": [
      "2022-03-07 19:28:12,350 - mmseg - INFO - per class results:\n",
      "2022-03-07 19:28:12,352 - mmseg - INFO - \n",
      "+-------+-------+-------+\n",
      "| Class |  IoU  |  Acc  |\n",
      "+-------+-------+-------+\n",
      "|  face | 73.67 | 82.58 |\n",
      "|   bg  | 96.93 | 98.72 |\n",
      "+-------+-------+-------+\n",
      "2022-03-07 19:28:12,352 - mmseg - INFO - Summary:\n",
      "2022-03-07 19:28:12,354 - mmseg - INFO - \n",
      "+-------+------+-------+\n",
      "|  aAcc | mIoU |  mAcc |\n",
      "+-------+------+-------+\n",
      "| 97.17 | 85.3 | 90.65 |\n",
      "+-------+------+-------+\n",
      "2022-03-07 19:28:12,358 - mmseg - INFO - Iter(val) [800]\taAcc: 0.9717, mIoU: 0.8530, mAcc: 0.9065, IoU.face: 0.7367, IoU.bg: 0.9693, Acc.face: 0.8258, Acc.bg: 0.9872\n",
      "2022-03-07 19:32:15,793 - mmseg - INFO - Iter [7800/80000]\tlr: 9.025e-05, eta: 1 day, 6:04:35, time: 1.811, data_time: 0.610, memory: 4940, decode.loss_ce: 0.1063, decode.acc_seg: 81.3210, aux.loss_ce: 0.0488, aux.acc_seg: 80.7609, loss: 0.1551\n",
      "2022-03-07 19:36:18,150 - mmseg - INFO - Saving checkpoint at 8000 iterations\n",
      "2022-03-07 19:36:20,014 - mmseg - INFO - Iter [8000/80000]\tlr: 9.000e-05, eta: 1 day, 5:51:14, time: 1.221, data_time: 0.005, memory: 4940, decode.loss_ce: 0.1036, decode.acc_seg: 82.4284, aux.loss_ce: 0.0473, aux.acc_seg: 81.8345, loss: 0.1510\n"
     ]
    },
    {
     "name": "stdout",
     "output_type": "stream",
     "text": [
      "[>>>>>>>>>>>>>>>>>>>>>>>>>>>>>] 800/800, 6.8 task/s, elapsed: 118s, ETA:     0s"
     ]
    },
    {
     "name": "stderr",
     "output_type": "stream",
     "text": [
      "2022-03-07 19:38:18,257 - mmseg - INFO - per class results:\n",
      "2022-03-07 19:38:18,259 - mmseg - INFO - \n",
      "+-------+-------+-------+\n",
      "| Class |  IoU  |  Acc  |\n",
      "+-------+-------+-------+\n",
      "|  face | 74.61 | 84.81 |\n",
      "|   bg  | 96.99 | 98.55 |\n",
      "+-------+-------+-------+\n",
      "2022-03-07 19:38:18,260 - mmseg - INFO - Summary:\n",
      "2022-03-07 19:38:18,261 - mmseg - INFO - \n",
      "+-------+------+-------+\n",
      "|  aAcc | mIoU |  mAcc |\n",
      "+-------+------+-------+\n",
      "| 97.24 | 85.8 | 91.68 |\n",
      "+-------+------+-------+\n",
      "2022-03-07 19:38:18,269 - mmseg - INFO - Iter(val) [800]\taAcc: 0.9724, mIoU: 0.8580, mAcc: 0.9168, IoU.face: 0.7461, IoU.bg: 0.9699, Acc.face: 0.8481, Acc.bg: 0.9855\n",
      "2022-03-07 19:42:21,364 - mmseg - INFO - Iter [8200/80000]\tlr: 8.975e-05, eta: 1 day, 5:55:25, time: 1.807, data_time: 0.607, memory: 4940, decode.loss_ce: 0.1075, decode.acc_seg: 82.3755, aux.loss_ce: 0.0495, aux.acc_seg: 81.7232, loss: 0.1570\n",
      "2022-03-07 19:46:22,127 - mmseg - INFO - Iter [8400/80000]\tlr: 8.950e-05, eta: 1 day, 5:42:00, time: 1.204, data_time: 0.005, memory: 4940, decode.loss_ce: 0.1046, decode.acc_seg: 82.2500, aux.loss_ce: 0.0484, aux.acc_seg: 81.6568, loss: 0.1530\n"
     ]
    },
    {
     "name": "stdout",
     "output_type": "stream",
     "text": [
      "[>>>>>>>>>>>>>>>>>>>>>>>>>>>>>] 800/800, 6.7 task/s, elapsed: 119s, ETA:     0s"
     ]
    },
    {
     "name": "stderr",
     "output_type": "stream",
     "text": [
      "2022-03-07 19:48:21,619 - mmseg - INFO - per class results:\n",
      "2022-03-07 19:48:21,621 - mmseg - INFO - \n",
      "+-------+-------+-------+\n",
      "| Class |  IoU  |  Acc  |\n",
      "+-------+-------+-------+\n",
      "|  face | 74.58 | 84.03 |\n",
      "|   bg  | 97.02 | 98.66 |\n",
      "+-------+-------+-------+\n",
      "2022-03-07 19:48:21,621 - mmseg - INFO - Summary:\n",
      "2022-03-07 19:48:21,622 - mmseg - INFO - \n",
      "+-------+------+-------+\n",
      "|  aAcc | mIoU |  mAcc |\n",
      "+-------+------+-------+\n",
      "| 97.26 | 85.8 | 91.34 |\n",
      "+-------+------+-------+\n",
      "2022-03-07 19:48:21,630 - mmseg - INFO - Iter(val) [800]\taAcc: 0.9726, mIoU: 0.8580, mAcc: 0.9134, IoU.face: 0.7458, IoU.bg: 0.9702, Acc.face: 0.8403, Acc.bg: 0.9866\n",
      "2022-03-07 19:52:24,647 - mmseg - INFO - Iter [8600/80000]\tlr: 8.925e-05, eta: 1 day, 5:45:51, time: 1.813, data_time: 0.613, memory: 4940, decode.loss_ce: 0.1038, decode.acc_seg: 82.7055, aux.loss_ce: 0.0488, aux.acc_seg: 82.0687, loss: 0.1526\n",
      "2022-03-07 19:56:25,414 - mmseg - INFO - Iter [8800/80000]\tlr: 8.900e-05, eta: 1 day, 5:32:51, time: 1.204, data_time: 0.005, memory: 4940, decode.loss_ce: 0.1009, decode.acc_seg: 81.4757, aux.loss_ce: 0.0465, aux.acc_seg: 80.8815, loss: 0.1474\n"
     ]
    },
    {
     "name": "stdout",
     "output_type": "stream",
     "text": [
      "[>>>>>>>>>>>>>>>>>>>>>>>>>>>>>] 800/800, 6.7 task/s, elapsed: 119s, ETA:     0s"
     ]
    },
    {
     "name": "stderr",
     "output_type": "stream",
     "text": [
      "2022-03-07 19:58:24,286 - mmseg - INFO - per class results:\n",
      "2022-03-07 19:58:24,288 - mmseg - INFO - \n",
      "+-------+-------+-------+\n",
      "| Class |  IoU  |  Acc  |\n",
      "+-------+-------+-------+\n",
      "|  face | 74.71 | 85.03 |\n",
      "|   bg  |  97.0 | 98.54 |\n",
      "+-------+-------+-------+\n",
      "2022-03-07 19:58:24,288 - mmseg - INFO - Summary:\n",
      "2022-03-07 19:58:24,289 - mmseg - INFO - \n",
      "+-------+-------+-------+\n",
      "|  aAcc |  mIoU |  mAcc |\n",
      "+-------+-------+-------+\n",
      "| 97.24 | 85.85 | 91.78 |\n",
      "+-------+-------+-------+\n",
      "2022-03-07 19:58:24,293 - mmseg - INFO - Iter(val) [800]\taAcc: 0.9724, mIoU: 0.8585, mAcc: 0.9178, IoU.face: 0.7471, IoU.bg: 0.9700, Acc.face: 0.8503, Acc.bg: 0.9854\n",
      "2022-03-07 20:02:27,404 - mmseg - INFO - Iter [9000/80000]\tlr: 8.875e-05, eta: 1 day, 5:36:10, time: 1.810, data_time: 0.610, memory: 4940, decode.loss_ce: 0.0945, decode.acc_seg: 81.9792, aux.loss_ce: 0.0435, aux.acc_seg: 81.3947, loss: 0.1380\n",
      "2022-03-07 20:06:28,172 - mmseg - INFO - Iter [9200/80000]\tlr: 8.850e-05, eta: 1 day, 5:23:33, time: 1.204, data_time: 0.005, memory: 4940, decode.loss_ce: 0.1137, decode.acc_seg: 82.5751, aux.loss_ce: 0.0513, aux.acc_seg: 81.9677, loss: 0.1650\n"
     ]
    },
    {
     "name": "stdout",
     "output_type": "stream",
     "text": [
      "[>>>>>>>>>>>>>>>>>>>>>>>>>>>>>] 800/800, 6.7 task/s, elapsed: 119s, ETA:     0s"
     ]
    },
    {
     "name": "stderr",
     "output_type": "stream",
     "text": [
      "2022-03-07 20:08:27,597 - mmseg - INFO - per class results:\n",
      "2022-03-07 20:08:27,599 - mmseg - INFO - \n",
      "+-------+-------+-------+\n",
      "| Class |  IoU  |  Acc  |\n",
      "+-------+-------+-------+\n",
      "|  face | 72.36 | 88.58 |\n",
      "|   bg  | 96.46 | 97.62 |\n",
      "+-------+-------+-------+\n",
      "2022-03-07 20:08:27,600 - mmseg - INFO - Summary:\n",
      "2022-03-07 20:08:27,601 - mmseg - INFO - \n",
      "+-------+-------+------+\n",
      "|  aAcc |  mIoU | mAcc |\n",
      "+-------+-------+------+\n",
      "| 96.76 | 84.41 | 93.1 |\n",
      "+-------+-------+------+\n",
      "2022-03-07 20:08:27,606 - mmseg - INFO - Iter(val) [800]\taAcc: 0.9676, mIoU: 0.8441, mAcc: 0.9310, IoU.face: 0.7236, IoU.bg: 0.9646, Acc.face: 0.8858, Acc.bg: 0.9762\n",
      "2022-03-07 20:12:30,579 - mmseg - INFO - Iter [9400/80000]\tlr: 8.825e-05, eta: 1 day, 5:26:31, time: 1.812, data_time: 0.613, memory: 4940, decode.loss_ce: 0.1064, decode.acc_seg: 82.5399, aux.loss_ce: 0.0478, aux.acc_seg: 82.0157, loss: 0.1542\n",
      "2022-03-07 20:16:31,256 - mmseg - INFO - Iter [9600/80000]\tlr: 8.800e-05, eta: 1 day, 5:14:13, time: 1.203, data_time: 0.005, memory: 4940, decode.loss_ce: 0.0921, decode.acc_seg: 82.3146, aux.loss_ce: 0.0433, aux.acc_seg: 81.6786, loss: 0.1354\n"
     ]
    },
    {
     "name": "stdout",
     "output_type": "stream",
     "text": [
      "[>>>>>>>>>>>>>>>>>>>>>>>>>>>>>] 800/800, 6.7 task/s, elapsed: 119s, ETA:     0s"
     ]
    },
    {
     "name": "stderr",
     "output_type": "stream",
     "text": [
      "2022-03-07 20:18:30,484 - mmseg - INFO - per class results:\n",
      "2022-03-07 20:18:30,485 - mmseg - INFO - \n",
      "+-------+-------+-------+\n",
      "| Class |  IoU  |  Acc  |\n",
      "+-------+-------+-------+\n",
      "|  face | 75.39 | 85.46 |\n",
      "|   bg  | 97.09 | 98.58 |\n",
      "+-------+-------+-------+\n",
      "2022-03-07 20:18:30,488 - mmseg - INFO - Summary:\n",
      "2022-03-07 20:18:30,489 - mmseg - INFO - \n",
      "+-------+-------+-------+\n",
      "|  aAcc |  mIoU |  mAcc |\n",
      "+-------+-------+-------+\n",
      "| 97.33 | 86.24 | 92.02 |\n",
      "+-------+-------+-------+\n",
      "2022-03-07 20:18:30,506 - mmseg - INFO - Iter(val) [800]\taAcc: 0.9733, mIoU: 0.8624, mAcc: 0.9202, IoU.face: 0.7539, IoU.bg: 0.9709, Acc.face: 0.8546, Acc.bg: 0.9858\n",
      "2022-03-07 20:22:33,376 - mmseg - INFO - Iter [9800/80000]\tlr: 8.775e-05, eta: 1 day, 5:16:46, time: 1.811, data_time: 0.612, memory: 4940, decode.loss_ce: 0.0910, decode.acc_seg: 82.5348, aux.loss_ce: 0.0422, aux.acc_seg: 81.9978, loss: 0.1331\n",
      "2022-03-07 20:26:34,107 - mmseg - INFO - Saving checkpoint at 10000 iterations\n",
      "2022-03-07 20:26:35,965 - mmseg - INFO - Iter [10000/80000]\tlr: 8.750e-05, eta: 1 day, 5:05:02, time: 1.213, data_time: 0.005, memory: 4940, decode.loss_ce: 0.1038, decode.acc_seg: 81.5212, aux.loss_ce: 0.0475, aux.acc_seg: 80.9084, loss: 0.1513\n"
     ]
    },
    {
     "name": "stdout",
     "output_type": "stream",
     "text": [
      "[>>>>>>>>>>>>>>>>>>>>>>>>>>>>>] 800/800, 6.8 task/s, elapsed: 118s, ETA:     0s"
     ]
    },
    {
     "name": "stderr",
     "output_type": "stream",
     "text": [
      "2022-03-07 20:28:34,259 - mmseg - INFO - per class results:\n",
      "2022-03-07 20:28:34,260 - mmseg - INFO - \n",
      "+-------+-------+-------+\n",
      "| Class |  IoU  |  Acc  |\n",
      "+-------+-------+-------+\n",
      "|  face | 75.69 |  86.8 |\n",
      "|   bg  | 97.09 | 98.45 |\n",
      "+-------+-------+-------+\n",
      "2022-03-07 20:28:34,261 - mmseg - INFO - Summary:\n",
      "2022-03-07 20:28:34,262 - mmseg - INFO - \n",
      "+-------+-------+-------+\n",
      "|  aAcc |  mIoU |  mAcc |\n",
      "+-------+-------+-------+\n",
      "| 97.33 | 86.39 | 92.62 |\n",
      "+-------+-------+-------+\n",
      "2022-03-07 20:28:34,266 - mmseg - INFO - Iter(val) [800]\taAcc: 0.9733, mIoU: 0.8639, mAcc: 0.9262, IoU.face: 0.7569, IoU.bg: 0.9709, Acc.face: 0.8680, Acc.bg: 0.9845\n",
      "2022-03-07 20:32:37,600 - mmseg - INFO - Iter [10200/80000]\tlr: 8.725e-05, eta: 1 day, 5:07:10, time: 1.808, data_time: 0.607, memory: 4940, decode.loss_ce: 0.0877, decode.acc_seg: 82.9309, aux.loss_ce: 0.0416, aux.acc_seg: 82.3002, loss: 0.1293\n",
      "2022-03-07 20:36:38,837 - mmseg - INFO - Iter [10400/80000]\tlr: 8.700e-05, eta: 1 day, 4:55:34, time: 1.206, data_time: 0.005, memory: 4940, decode.loss_ce: 0.1004, decode.acc_seg: 82.3871, aux.loss_ce: 0.0460, aux.acc_seg: 81.7693, loss: 0.1464\n"
     ]
    },
    {
     "name": "stdout",
     "output_type": "stream",
     "text": [
      "[>>>>>>>>>>>>>>>>>>>>>>>>>>>>>] 800/800, 6.8 task/s, elapsed: 118s, ETA:     0s"
     ]
    },
    {
     "name": "stderr",
     "output_type": "stream",
     "text": [
      "2022-03-07 20:38:37,342 - mmseg - INFO - per class results:\n",
      "2022-03-07 20:38:37,343 - mmseg - INFO - \n",
      "+-------+-------+-------+\n",
      "| Class |  IoU  |  Acc  |\n",
      "+-------+-------+-------+\n",
      "|  face | 73.77 | 82.85 |\n",
      "|   bg  | 96.93 |  98.7 |\n",
      "+-------+-------+-------+\n",
      "2022-03-07 20:38:37,344 - mmseg - INFO - Summary:\n",
      "2022-03-07 20:38:37,345 - mmseg - INFO - \n",
      "+-------+-------+-------+\n",
      "|  aAcc |  mIoU |  mAcc |\n",
      "+-------+-------+-------+\n",
      "| 97.18 | 85.35 | 90.77 |\n",
      "+-------+-------+-------+\n",
      "2022-03-07 20:38:37,350 - mmseg - INFO - Iter(val) [800]\taAcc: 0.9718, mIoU: 0.8535, mAcc: 0.9077, IoU.face: 0.7377, IoU.bg: 0.9693, Acc.face: 0.8285, Acc.bg: 0.9870\n",
      "2022-03-07 20:42:40,053 - mmseg - INFO - Iter [10600/80000]\tlr: 8.675e-05, eta: 1 day, 4:57:21, time: 1.806, data_time: 0.609, memory: 4940, decode.loss_ce: 0.1086, decode.acc_seg: 82.6360, aux.loss_ce: 0.0498, aux.acc_seg: 82.0148, loss: 0.1584\n",
      "2022-03-07 20:46:40,862 - mmseg - INFO - Iter [10800/80000]\tlr: 8.650e-05, eta: 1 day, 4:45:58, time: 1.204, data_time: 0.005, memory: 4940, decode.loss_ce: 0.0884, decode.acc_seg: 81.0420, aux.loss_ce: 0.0415, aux.acc_seg: 80.4693, loss: 0.1299\n"
     ]
    },
    {
     "name": "stdout",
     "output_type": "stream",
     "text": [
      "[>>>>>>>>>>>>>>>>>>>>>>>>>>>>>] 800/800, 6.8 task/s, elapsed: 118s, ETA:     0s"
     ]
    },
    {
     "name": "stderr",
     "output_type": "stream",
     "text": [
      "2022-03-07 20:48:39,127 - mmseg - INFO - per class results:\n",
      "2022-03-07 20:48:39,128 - mmseg - INFO - \n",
      "+-------+-------+-------+\n",
      "| Class |  IoU  |  Acc  |\n",
      "+-------+-------+-------+\n",
      "|  face |  76.0 | 84.67 |\n",
      "|   bg  | 97.21 | 98.79 |\n",
      "+-------+-------+-------+\n",
      "2022-03-07 20:48:39,129 - mmseg - INFO - Summary:\n",
      "2022-03-07 20:48:39,130 - mmseg - INFO - \n",
      "+-------+-------+-------+\n",
      "|  aAcc |  mIoU |  mAcc |\n",
      "+-------+-------+-------+\n",
      "| 97.44 | 86.61 | 91.73 |\n",
      "+-------+-------+-------+\n",
      "2022-03-07 20:48:39,133 - mmseg - INFO - Iter(val) [800]\taAcc: 0.9744, mIoU: 0.8661, mAcc: 0.9173, IoU.face: 0.7600, IoU.bg: 0.9721, Acc.face: 0.8467, Acc.bg: 0.9879\n",
      "2022-03-07 20:52:43,334 - mmseg - INFO - Iter [11000/80000]\tlr: 8.625e-05, eta: 1 day, 4:47:35, time: 1.812, data_time: 0.607, memory: 4940, decode.loss_ce: 0.0906, decode.acc_seg: 82.5733, aux.loss_ce: 0.0422, aux.acc_seg: 82.0079, loss: 0.1329\n",
      "2022-03-07 20:56:45,425 - mmseg - INFO - Iter [11200/80000]\tlr: 8.600e-05, eta: 1 day, 4:36:36, time: 1.210, data_time: 0.005, memory: 4940, decode.loss_ce: 0.1002, decode.acc_seg: 82.0507, aux.loss_ce: 0.0460, aux.acc_seg: 81.4423, loss: 0.1461\n"
     ]
    },
    {
     "name": "stdout",
     "output_type": "stream",
     "text": [
      "[>>>>>>>>>>>>>>>>>>>>>>>>>>>>>] 800/800, 6.8 task/s, elapsed: 118s, ETA:     0s"
     ]
    },
    {
     "name": "stderr",
     "output_type": "stream",
     "text": [
      "2022-03-07 20:58:43,687 - mmseg - INFO - per class results:\n",
      "2022-03-07 20:58:43,689 - mmseg - INFO - \n",
      "+-------+-------+-------+\n",
      "| Class |  IoU  |  Acc  |\n",
      "+-------+-------+-------+\n",
      "|  face | 76.24 | 85.46 |\n",
      "|   bg  | 97.22 | 98.72 |\n",
      "+-------+-------+-------+\n",
      "2022-03-07 20:58:43,690 - mmseg - INFO - Summary:\n",
      "2022-03-07 20:58:43,691 - mmseg - INFO - \n",
      "+-------+-------+-------+\n",
      "|  aAcc |  mIoU |  mAcc |\n",
      "+-------+-------+-------+\n",
      "| 97.45 | 86.73 | 92.09 |\n",
      "+-------+-------+-------+\n",
      "2022-03-07 20:58:43,695 - mmseg - INFO - Iter(val) [800]\taAcc: 0.9745, mIoU: 0.8673, mAcc: 0.9209, IoU.face: 0.7624, IoU.bg: 0.9722, Acc.face: 0.8546, Acc.bg: 0.9872\n",
      "2022-03-07 21:02:47,183 - mmseg - INFO - Iter [11400/80000]\tlr: 8.575e-05, eta: 1 day, 4:37:52, time: 1.809, data_time: 0.607, memory: 4940, decode.loss_ce: 0.1008, decode.acc_seg: 81.3975, aux.loss_ce: 0.0469, aux.acc_seg: 80.7811, loss: 0.1477\n",
      "2022-03-07 21:06:48,278 - mmseg - INFO - Iter [11600/80000]\tlr: 8.550e-05, eta: 1 day, 4:27:01, time: 1.205, data_time: 0.005, memory: 4940, decode.loss_ce: 0.0863, decode.acc_seg: 81.4404, aux.loss_ce: 0.0402, aux.acc_seg: 80.9146, loss: 0.1266\n"
     ]
    },
    {
     "name": "stdout",
     "output_type": "stream",
     "text": [
      "[>>>>>>>>>>>>>>>>>>>>>>>>>>>>>] 800/800, 6.7 task/s, elapsed: 119s, ETA:     0s"
     ]
    },
    {
     "name": "stderr",
     "output_type": "stream",
     "text": [
      "2022-03-07 21:08:46,823 - mmseg - INFO - per class results:\n",
      "2022-03-07 21:08:46,824 - mmseg - INFO - \n",
      "+-------+-------+-------+\n",
      "| Class |  IoU  |  Acc  |\n",
      "+-------+-------+-------+\n",
      "|  face | 76.16 |  86.2 |\n",
      "|   bg  | 97.18 | 98.61 |\n",
      "+-------+-------+-------+\n",
      "2022-03-07 21:08:46,825 - mmseg - INFO - Summary:\n",
      "2022-03-07 21:08:46,827 - mmseg - INFO - \n",
      "+-------+-------+------+\n",
      "|  aAcc |  mIoU | mAcc |\n",
      "+-------+-------+------+\n",
      "| 97.42 | 86.67 | 92.4 |\n",
      "+-------+-------+------+\n",
      "2022-03-07 21:08:46,836 - mmseg - INFO - Iter(val) [800]\taAcc: 0.9742, mIoU: 0.8667, mAcc: 0.9240, IoU.face: 0.7616, IoU.bg: 0.9718, Acc.face: 0.8620, Acc.bg: 0.9861\n",
      "2022-03-07 21:12:50,003 - mmseg - INFO - Iter [11800/80000]\tlr: 8.525e-05, eta: 1 day, 4:28:02, time: 1.809, data_time: 0.609, memory: 4940, decode.loss_ce: 0.0929, decode.acc_seg: 81.6370, aux.loss_ce: 0.0430, aux.acc_seg: 81.0469, loss: 0.1359\n",
      "2022-03-07 21:16:50,807 - mmseg - INFO - Saving checkpoint at 12000 iterations\n",
      "2022-03-07 21:16:52,664 - mmseg - INFO - Iter [12000/80000]\tlr: 8.500e-05, eta: 1 day, 4:17:33, time: 1.213, data_time: 0.005, memory: 4940, decode.loss_ce: 0.0878, decode.acc_seg: 82.1645, aux.loss_ce: 0.0407, aux.acc_seg: 81.5881, loss: 0.1286\n"
     ]
    },
    {
     "name": "stdout",
     "output_type": "stream",
     "text": [
      "[>>>>>>>>>>>>>>>>>>>>>>>>>>>>>] 800/800, 6.8 task/s, elapsed: 118s, ETA:     0s"
     ]
    },
    {
     "name": "stderr",
     "output_type": "stream",
     "text": [
      "2022-03-07 21:18:50,642 - mmseg - INFO - per class results:\n",
      "2022-03-07 21:18:50,644 - mmseg - INFO - \n",
      "+-------+-------+-------+\n",
      "| Class |  IoU  |  Acc  |\n",
      "+-------+-------+-------+\n",
      "|  face | 76.82 | 85.22 |\n",
      "|   bg  | 97.32 | 98.84 |\n",
      "+-------+-------+-------+\n",
      "2022-03-07 21:18:50,644 - mmseg - INFO - Summary:\n",
      "2022-03-07 21:18:50,646 - mmseg - INFO - \n",
      "+-------+-------+-------+\n",
      "|  aAcc |  mIoU |  mAcc |\n",
      "+-------+-------+-------+\n",
      "| 97.54 | 87.07 | 92.03 |\n",
      "+-------+-------+-------+\n",
      "2022-03-07 21:18:50,650 - mmseg - INFO - Iter(val) [800]\taAcc: 0.9754, mIoU: 0.8707, mAcc: 0.9203, IoU.face: 0.7682, IoU.bg: 0.9732, Acc.face: 0.8522, Acc.bg: 0.9884\n",
      "2022-03-07 21:22:53,932 - mmseg - INFO - Iter [12200/80000]\tlr: 8.475e-05, eta: 1 day, 4:18:16, time: 1.806, data_time: 0.606, memory: 4940, decode.loss_ce: 0.0987, decode.acc_seg: 82.6702, aux.loss_ce: 0.0452, aux.acc_seg: 82.1167, loss: 0.1439\n",
      "2022-03-07 21:26:54,838 - mmseg - INFO - Iter [12400/80000]\tlr: 8.450e-05, eta: 1 day, 4:07:50, time: 1.204, data_time: 0.005, memory: 4940, decode.loss_ce: 0.0833, decode.acc_seg: 82.5720, aux.loss_ce: 0.0399, aux.acc_seg: 81.9376, loss: 0.1232\n"
     ]
    },
    {
     "name": "stdout",
     "output_type": "stream",
     "text": [
      "[>>>>>>>>>>>>>>>>>>>>>>>>>>>>>] 800/800, 6.7 task/s, elapsed: 119s, ETA:     0s"
     ]
    },
    {
     "name": "stderr",
     "output_type": "stream",
     "text": [
      "2022-03-07 21:28:54,013 - mmseg - INFO - per class results:\n",
      "2022-03-07 21:28:54,014 - mmseg - INFO - \n",
      "+-------+-------+-------+\n",
      "| Class |  IoU  |  Acc  |\n",
      "+-------+-------+-------+\n",
      "|  face | 76.75 |  83.5 |\n",
      "|   bg  | 97.37 | 99.07 |\n",
      "+-------+-------+-------+\n",
      "2022-03-07 21:28:54,015 - mmseg - INFO - Summary:\n",
      "2022-03-07 21:28:54,016 - mmseg - INFO - \n",
      "+-------+-------+-------+\n",
      "|  aAcc |  mIoU |  mAcc |\n",
      "+-------+-------+-------+\n",
      "| 97.58 | 87.06 | 91.28 |\n",
      "+-------+-------+-------+\n",
      "2022-03-07 21:28:54,019 - mmseg - INFO - Iter(val) [800]\taAcc: 0.9758, mIoU: 0.8706, mAcc: 0.9128, IoU.face: 0.7675, IoU.bg: 0.9737, Acc.face: 0.8350, Acc.bg: 0.9907\n",
      "2022-03-07 21:32:57,600 - mmseg - INFO - Iter [12600/80000]\tlr: 8.425e-05, eta: 1 day, 4:08:29, time: 1.814, data_time: 0.612, memory: 4940, decode.loss_ce: 0.0760, decode.acc_seg: 82.6817, aux.loss_ce: 0.0364, aux.acc_seg: 82.1560, loss: 0.1124\n",
      "2022-03-07 21:36:58,867 - mmseg - INFO - Iter [12800/80000]\tlr: 8.400e-05, eta: 1 day, 3:58:16, time: 1.206, data_time: 0.005, memory: 4940, decode.loss_ce: 0.1024, decode.acc_seg: 82.7985, aux.loss_ce: 0.0467, aux.acc_seg: 82.2855, loss: 0.1490\n"
     ]
    },
    {
     "name": "stdout",
     "output_type": "stream",
     "text": [
      "[>>>>>>>>>>>>>>>>>>>>>>>>>>>>>] 800/800, 6.7 task/s, elapsed: 119s, ETA:     0s"
     ]
    },
    {
     "name": "stderr",
     "output_type": "stream",
     "text": [
      "2022-03-07 21:38:57,445 - mmseg - INFO - per class results:\n",
      "2022-03-07 21:38:57,447 - mmseg - INFO - \n",
      "+-------+-------+-------+\n",
      "| Class |  IoU  |  Acc  |\n",
      "+-------+-------+-------+\n",
      "|  face | 77.41 | 86.83 |\n",
      "|   bg  | 97.35 | 98.71 |\n",
      "+-------+-------+-------+\n",
      "2022-03-07 21:38:57,448 - mmseg - INFO - Summary:\n",
      "2022-03-07 21:38:57,450 - mmseg - INFO - \n",
      "+-------+-------+-------+\n",
      "|  aAcc |  mIoU |  mAcc |\n",
      "+-------+-------+-------+\n",
      "| 97.57 | 87.38 | 92.77 |\n",
      "+-------+-------+-------+\n",
      "2022-03-07 21:38:57,455 - mmseg - INFO - Iter(val) [800]\taAcc: 0.9757, mIoU: 0.8738, mAcc: 0.9277, IoU.face: 0.7741, IoU.bg: 0.9735, Acc.face: 0.8683, Acc.bg: 0.9871\n",
      "2022-03-07 21:43:00,456 - mmseg - INFO - Iter [13000/80000]\tlr: 8.375e-05, eta: 1 day, 3:58:36, time: 1.808, data_time: 0.609, memory: 4940, decode.loss_ce: 0.0996, decode.acc_seg: 82.2149, aux.loss_ce: 0.0452, aux.acc_seg: 81.6917, loss: 0.1449\n",
      "2022-03-07 21:47:01,221 - mmseg - INFO - Iter [13200/80000]\tlr: 8.350e-05, eta: 1 day, 3:48:32, time: 1.204, data_time: 0.005, memory: 4940, decode.loss_ce: 0.0903, decode.acc_seg: 82.5124, aux.loss_ce: 0.0429, aux.acc_seg: 81.8572, loss: 0.1332\n"
     ]
    },
    {
     "name": "stdout",
     "output_type": "stream",
     "text": [
      "[>>>>>>>>>>>>>>>>>>>>>>>>>>>>>] 800/800, 6.8 task/s, elapsed: 118s, ETA:     0s"
     ]
    },
    {
     "name": "stderr",
     "output_type": "stream",
     "text": [
      "2022-03-07 21:48:59,724 - mmseg - INFO - per class results:\n",
      "2022-03-07 21:48:59,725 - mmseg - INFO - \n",
      "+-------+-------+-------+\n",
      "| Class |  IoU  |  Acc  |\n",
      "+-------+-------+-------+\n",
      "|  face | 77.16 | 86.65 |\n",
      "|   bg  | 97.32 |  98.7 |\n",
      "+-------+-------+-------+\n",
      "2022-03-07 21:48:59,726 - mmseg - INFO - Summary:\n",
      "2022-03-07 21:48:59,727 - mmseg - INFO - \n",
      "+-------+-------+-------+\n",
      "|  aAcc |  mIoU |  mAcc |\n",
      "+-------+-------+-------+\n",
      "| 97.54 | 87.24 | 92.67 |\n",
      "+-------+-------+-------+\n",
      "2022-03-07 21:48:59,737 - mmseg - INFO - Iter(val) [800]\taAcc: 0.9754, mIoU: 0.8724, mAcc: 0.9267, IoU.face: 0.7716, IoU.bg: 0.9732, Acc.face: 0.8665, Acc.bg: 0.9870\n",
      "2022-03-07 21:53:02,621 - mmseg - INFO - Iter [13400/80000]\tlr: 8.325e-05, eta: 1 day, 3:48:39, time: 1.807, data_time: 0.608, memory: 4940, decode.loss_ce: 0.0948, decode.acc_seg: 82.3249, aux.loss_ce: 0.0445, aux.acc_seg: 81.7623, loss: 0.1393\n",
      "2022-03-07 21:57:03,797 - mmseg - INFO - Iter [13600/80000]\tlr: 8.300e-05, eta: 1 day, 3:38:47, time: 1.206, data_time: 0.005, memory: 4940, decode.loss_ce: 0.0820, decode.acc_seg: 82.0432, aux.loss_ce: 0.0388, aux.acc_seg: 81.4496, loss: 0.1208\n"
     ]
    },
    {
     "name": "stdout",
     "output_type": "stream",
     "text": [
      "[>>>>>>>>>>>>>>>>>>>>>>>>>>>>>] 800/800, 6.7 task/s, elapsed: 119s, ETA:     0s"
     ]
    },
    {
     "name": "stderr",
     "output_type": "stream",
     "text": [
      "2022-03-07 21:59:02,430 - mmseg - INFO - per class results:\n",
      "2022-03-07 21:59:02,432 - mmseg - INFO - \n",
      "+-------+-------+-------+\n",
      "| Class |  IoU  |  Acc  |\n",
      "+-------+-------+-------+\n",
      "|  face |  76.8 | 83.37 |\n",
      "|   bg  | 97.38 | 99.09 |\n",
      "+-------+-------+-------+\n",
      "2022-03-07 21:59:02,432 - mmseg - INFO - Summary:\n",
      "2022-03-07 21:59:02,436 - mmseg - INFO - \n",
      "+-------+-------+-------+\n",
      "|  aAcc |  mIoU |  mAcc |\n",
      "+-------+-------+-------+\n",
      "| 97.59 | 87.09 | 91.23 |\n",
      "+-------+-------+-------+\n",
      "2022-03-07 21:59:02,448 - mmseg - INFO - Iter(val) [800]\taAcc: 0.9759, mIoU: 0.8709, mAcc: 0.9123, IoU.face: 0.7680, IoU.bg: 0.9738, Acc.face: 0.8337, Acc.bg: 0.9909\n",
      "2022-03-07 22:03:05,871 - mmseg - INFO - Iter [13800/80000]\tlr: 8.275e-05, eta: 1 day, 3:38:46, time: 1.810, data_time: 0.609, memory: 4940, decode.loss_ce: 0.0912, decode.acc_seg: 82.5790, aux.loss_ce: 0.0424, aux.acc_seg: 82.0132, loss: 0.1336\n",
      "2022-03-07 22:07:07,245 - mmseg - INFO - Saving checkpoint at 14000 iterations\n",
      "2022-03-07 22:07:09,124 - mmseg - INFO - Iter [14000/80000]\tlr: 8.250e-05, eta: 1 day, 3:29:15, time: 1.216, data_time: 0.005, memory: 4940, decode.loss_ce: 0.0913, decode.acc_seg: 82.6464, aux.loss_ce: 0.0416, aux.acc_seg: 82.1317, loss: 0.1330\n"
     ]
    },
    {
     "name": "stdout",
     "output_type": "stream",
     "text": [
      "[>>>>>>>>>>>>>>>>>>>>>>>>>>>>>] 800/800, 6.7 task/s, elapsed: 120s, ETA:     0s"
     ]
    },
    {
     "name": "stderr",
     "output_type": "stream",
     "text": [
      "2022-03-07 22:09:08,723 - mmseg - INFO - per class results:\n",
      "2022-03-07 22:09:08,725 - mmseg - INFO - \n",
      "+-------+-------+-------+\n",
      "| Class |  IoU  |  Acc  |\n",
      "+-------+-------+-------+\n",
      "|  face | 76.81 | 86.22 |\n",
      "|   bg  | 97.28 |  98.7 |\n",
      "+-------+-------+-------+\n",
      "2022-03-07 22:09:08,726 - mmseg - INFO - Summary:\n",
      "2022-03-07 22:09:08,727 - mmseg - INFO - \n",
      "+-------+-------+-------+\n",
      "|  aAcc |  mIoU |  mAcc |\n",
      "+-------+-------+-------+\n",
      "| 97.51 | 87.05 | 92.46 |\n",
      "+-------+-------+-------+\n",
      "2022-03-07 22:09:08,736 - mmseg - INFO - Iter(val) [800]\taAcc: 0.9751, mIoU: 0.8705, mAcc: 0.9246, IoU.face: 0.7681, IoU.bg: 0.9728, Acc.face: 0.8622, Acc.bg: 0.9870\n",
      "2022-03-07 22:13:11,145 - mmseg - INFO - Iter [14200/80000]\tlr: 8.225e-05, eta: 1 day, 3:29:03, time: 1.810, data_time: 0.614, memory: 4940, decode.loss_ce: 0.0893, decode.acc_seg: 82.5266, aux.loss_ce: 0.0414, aux.acc_seg: 82.0077, loss: 0.1306\n",
      "2022-03-07 22:17:15,257 - mmseg - INFO - Iter [14400/80000]\tlr: 8.200e-05, eta: 1 day, 3:19:44, time: 1.221, data_time: 0.005, memory: 4940, decode.loss_ce: 0.0878, decode.acc_seg: 82.3287, aux.loss_ce: 0.0419, aux.acc_seg: 81.6793, loss: 0.1297\n"
     ]
    },
    {
     "name": "stdout",
     "output_type": "stream",
     "text": [
      "[>>>>>>>>>>>>>>>>>>>>>>>>>>>>>] 800/800, 6.8 task/s, elapsed: 118s, ETA:     0s"
     ]
    },
    {
     "name": "stderr",
     "output_type": "stream",
     "text": [
      "2022-03-07 22:19:13,494 - mmseg - INFO - per class results:\n",
      "2022-03-07 22:19:13,495 - mmseg - INFO - \n",
      "+-------+-------+-------+\n",
      "| Class |  IoU  |  Acc  |\n",
      "+-------+-------+-------+\n",
      "|  face | 77.39 |  87.0 |\n",
      "|   bg  | 97.34 | 98.68 |\n",
      "+-------+-------+-------+\n",
      "2022-03-07 22:19:13,496 - mmseg - INFO - Summary:\n",
      "2022-03-07 22:19:13,498 - mmseg - INFO - \n",
      "+-------+-------+-------+\n",
      "|  aAcc |  mIoU |  mAcc |\n",
      "+-------+-------+-------+\n",
      "| 97.57 | 87.37 | 92.84 |\n",
      "+-------+-------+-------+\n",
      "2022-03-07 22:19:13,502 - mmseg - INFO - Iter(val) [800]\taAcc: 0.9757, mIoU: 0.8737, mAcc: 0.9284, IoU.face: 0.7739, IoU.bg: 0.9734, Acc.face: 0.8700, Acc.bg: 0.9868\n",
      "2022-03-07 22:23:18,543 - mmseg - INFO - Iter [14600/80000]\tlr: 8.175e-05, eta: 1 day, 3:19:28, time: 1.816, data_time: 0.607, memory: 4940, decode.loss_ce: 0.0787, decode.acc_seg: 82.3816, aux.loss_ce: 0.0374, aux.acc_seg: 81.8454, loss: 0.1161\n",
      "2022-03-07 22:27:21,462 - mmseg - INFO - Iter [14800/80000]\tlr: 8.150e-05, eta: 1 day, 3:10:12, time: 1.215, data_time: 0.005, memory: 4940, decode.loss_ce: 0.0945, decode.acc_seg: 82.3044, aux.loss_ce: 0.0439, aux.acc_seg: 81.7652, loss: 0.1384\n"
     ]
    },
    {
     "name": "stdout",
     "output_type": "stream",
     "text": [
      "[>>>>>>>>>>>>>>>>>>>>>>>>>>>>>] 800/800, 6.7 task/s, elapsed: 119s, ETA:     0s"
     ]
    },
    {
     "name": "stderr",
     "output_type": "stream",
     "text": [
      "2022-03-07 22:29:20,530 - mmseg - INFO - per class results:\n",
      "2022-03-07 22:29:20,532 - mmseg - INFO - \n",
      "+-------+-------+-------+\n",
      "| Class |  IoU  |  Acc  |\n",
      "+-------+-------+-------+\n",
      "|  face | 76.11 |  85.8 |\n",
      "|   bg  | 97.19 | 98.65 |\n",
      "+-------+-------+-------+\n",
      "2022-03-07 22:29:20,532 - mmseg - INFO - Summary:\n",
      "2022-03-07 22:29:20,533 - mmseg - INFO - \n",
      "+-------+-------+-------+\n",
      "|  aAcc |  mIoU |  mAcc |\n",
      "+-------+-------+-------+\n",
      "| 97.42 | 86.65 | 92.23 |\n",
      "+-------+-------+-------+\n",
      "2022-03-07 22:29:20,537 - mmseg - INFO - Iter(val) [800]\taAcc: 0.9742, mIoU: 0.8665, mAcc: 0.9223, IoU.face: 0.7611, IoU.bg: 0.9719, Acc.face: 0.8580, Acc.bg: 0.9865\n",
      "2022-03-07 22:33:24,820 - mmseg - INFO - Iter [15000/80000]\tlr: 8.125e-05, eta: 1 day, 3:09:47, time: 1.817, data_time: 0.612, memory: 4940, decode.loss_ce: 0.0874, decode.acc_seg: 82.6357, aux.loss_ce: 0.0403, aux.acc_seg: 82.0896, loss: 0.1277\n",
      "2022-03-07 22:37:26,993 - mmseg - INFO - Iter [15200/80000]\tlr: 8.100e-05, eta: 1 day, 3:00:35, time: 1.211, data_time: 0.005, memory: 4940, decode.loss_ce: 0.0884, decode.acc_seg: 82.5694, aux.loss_ce: 0.0418, aux.acc_seg: 81.9879, loss: 0.1302\n"
     ]
    },
    {
     "name": "stdout",
     "output_type": "stream",
     "text": [
      "[>>>>>>>>>>>>>>>>>>>>>>>>>>>>>] 800/800, 6.7 task/s, elapsed: 119s, ETA:     0s"
     ]
    },
    {
     "name": "stderr",
     "output_type": "stream",
     "text": [
      "2022-03-07 22:39:25,780 - mmseg - INFO - per class results:\n",
      "2022-03-07 22:39:25,782 - mmseg - INFO - \n",
      "+-------+-------+-------+\n",
      "| Class |  IoU  |  Acc  |\n",
      "+-------+-------+-------+\n",
      "|  face |  76.9 | 85.86 |\n",
      "|   bg  | 97.31 | 98.77 |\n",
      "+-------+-------+-------+\n",
      "2022-03-07 22:39:25,785 - mmseg - INFO - Summary:\n",
      "2022-03-07 22:39:25,786 - mmseg - INFO - \n",
      "+-------+-------+-------+\n",
      "|  aAcc |  mIoU |  mAcc |\n",
      "+-------+-------+-------+\n",
      "| 97.53 | 87.11 | 92.32 |\n",
      "+-------+-------+-------+\n",
      "2022-03-07 22:39:25,795 - mmseg - INFO - Iter(val) [800]\taAcc: 0.9753, mIoU: 0.8711, mAcc: 0.9232, IoU.face: 0.7690, IoU.bg: 0.9731, Acc.face: 0.8586, Acc.bg: 0.9877\n",
      "2022-03-07 22:43:29,455 - mmseg - INFO - Iter [15400/80000]\tlr: 8.075e-05, eta: 1 day, 2:59:57, time: 1.812, data_time: 0.610, memory: 4940, decode.loss_ce: 0.0915, decode.acc_seg: 81.8583, aux.loss_ce: 0.0421, aux.acc_seg: 81.3266, loss: 0.1336\n",
      "2022-03-07 22:47:30,474 - mmseg - INFO - Iter [15600/80000]\tlr: 8.050e-05, eta: 1 day, 2:50:49, time: 1.205, data_time: 0.005, memory: 4940, decode.loss_ce: 0.0886, decode.acc_seg: 82.3162, aux.loss_ce: 0.0416, aux.acc_seg: 81.7711, loss: 0.1302\n"
     ]
    },
    {
     "name": "stdout",
     "output_type": "stream",
     "text": [
      "[>>>>>>>>>>>>>>>>>>>>>>>>>>>>>] 800/800, 6.8 task/s, elapsed: 118s, ETA:     0s"
     ]
    },
    {
     "name": "stderr",
     "output_type": "stream",
     "text": [
      "2022-03-07 22:49:28,979 - mmseg - INFO - per class results:\n",
      "2022-03-07 22:49:28,981 - mmseg - INFO - \n",
      "+-------+-------+-------+\n",
      "| Class |  IoU  |  Acc  |\n",
      "+-------+-------+-------+\n",
      "|  face | 75.53 | 81.41 |\n",
      "|   bg  | 97.26 | 99.17 |\n",
      "+-------+-------+-------+\n",
      "2022-03-07 22:49:28,982 - mmseg - INFO - Summary:\n",
      "2022-03-07 22:49:28,983 - mmseg - INFO - \n",
      "+-------+-------+-------+\n",
      "|  aAcc |  mIoU |  mAcc |\n",
      "+-------+-------+-------+\n",
      "| 97.47 | 86.39 | 90.29 |\n",
      "+-------+-------+-------+\n",
      "2022-03-07 22:49:28,988 - mmseg - INFO - Iter(val) [800]\taAcc: 0.9747, mIoU: 0.8639, mAcc: 0.9029, IoU.face: 0.7553, IoU.bg: 0.9726, Acc.face: 0.8141, Acc.bg: 0.9917\n",
      "2022-03-07 22:53:32,763 - mmseg - INFO - Iter [15800/80000]\tlr: 8.025e-05, eta: 1 day, 2:50:01, time: 1.811, data_time: 0.609, memory: 4940, decode.loss_ce: 0.0910, decode.acc_seg: 82.7045, aux.loss_ce: 0.0418, aux.acc_seg: 82.2024, loss: 0.1328\n",
      "2022-03-07 22:57:34,536 - mmseg - INFO - Saving checkpoint at 16000 iterations\n",
      "2022-03-07 22:57:36,394 - mmseg - INFO - Iter [16000/80000]\tlr: 8.000e-05, eta: 1 day, 2:41:11, time: 1.218, data_time: 0.005, memory: 4940, decode.loss_ce: 0.0878, decode.acc_seg: 82.1234, aux.loss_ce: 0.0409, aux.acc_seg: 81.6463, loss: 0.1287\n"
     ]
    },
    {
     "name": "stdout",
     "output_type": "stream",
     "text": [
      "[>>>>>>>>>>>>>>>>>>>>>>>>>>>>>] 800/800, 6.7 task/s, elapsed: 119s, ETA:     0s"
     ]
    },
    {
     "name": "stderr",
     "output_type": "stream",
     "text": [
      "2022-03-07 22:59:35,163 - mmseg - INFO - per class results:\n",
      "2022-03-07 22:59:35,164 - mmseg - INFO - \n",
      "+-------+-------+-------+\n",
      "| Class |  IoU  |  Acc  |\n",
      "+-------+-------+-------+\n",
      "|  face |  77.8 | 85.67 |\n",
      "|   bg  | 97.45 | 98.93 |\n",
      "+-------+-------+-------+\n",
      "2022-03-07 22:59:35,165 - mmseg - INFO - Summary:\n",
      "2022-03-07 22:59:35,166 - mmseg - INFO - \n",
      "+-------+-------+------+\n",
      "|  aAcc |  mIoU | mAcc |\n",
      "+-------+-------+------+\n",
      "| 97.66 | 87.63 | 92.3 |\n",
      "+-------+-------+------+\n",
      "2022-03-07 22:59:35,175 - mmseg - INFO - Iter(val) [800]\taAcc: 0.9766, mIoU: 0.8763, mAcc: 0.9230, IoU.face: 0.7780, IoU.bg: 0.9745, Acc.face: 0.8567, Acc.bg: 0.9893\n",
      "2022-03-07 23:03:39,553 - mmseg - INFO - Iter [16200/80000]\tlr: 7.975e-05, eta: 1 day, 2:40:18, time: 1.816, data_time: 0.610, memory: 4940, decode.loss_ce: 0.0772, decode.acc_seg: 82.8924, aux.loss_ce: 0.0368, aux.acc_seg: 82.3301, loss: 0.1140\n",
      "2022-03-07 23:07:42,327 - mmseg - INFO - Iter [16400/80000]\tlr: 7.950e-05, eta: 1 day, 2:31:31, time: 1.214, data_time: 0.005, memory: 4940, decode.loss_ce: 0.0924, decode.acc_seg: 81.0516, aux.loss_ce: 0.0424, aux.acc_seg: 80.5004, loss: 0.1348\n"
     ]
    },
    {
     "name": "stdout",
     "output_type": "stream",
     "text": [
      "[>>>>>>>>>>>>>>>>>>>>>>>>>>>>>] 800/800, 6.7 task/s, elapsed: 119s, ETA:     0s"
     ]
    },
    {
     "name": "stderr",
     "output_type": "stream",
     "text": [
      "2022-03-07 23:09:41,188 - mmseg - INFO - per class results:\n",
      "2022-03-07 23:09:41,190 - mmseg - INFO - \n",
      "+-------+-------+-------+\n",
      "| Class |  IoU  |  Acc  |\n",
      "+-------+-------+-------+\n",
      "|  face | 76.53 | 86.77 |\n",
      "|   bg  | 97.22 | 98.58 |\n",
      "+-------+-------+-------+\n",
      "2022-03-07 23:09:41,191 - mmseg - INFO - Summary:\n",
      "2022-03-07 23:09:41,192 - mmseg - INFO - \n",
      "+-------+-------+-------+\n",
      "|  aAcc |  mIoU |  mAcc |\n",
      "+-------+-------+-------+\n",
      "| 97.45 | 86.88 | 92.68 |\n",
      "+-------+-------+-------+\n",
      "2022-03-07 23:09:41,197 - mmseg - INFO - Iter(val) [800]\taAcc: 0.9745, mIoU: 0.8688, mAcc: 0.9268, IoU.face: 0.7653, IoU.bg: 0.9722, Acc.face: 0.8677, Acc.bg: 0.9858\n",
      "2022-03-07 23:13:45,588 - mmseg - INFO - Iter [16600/80000]\tlr: 7.925e-05, eta: 1 day, 2:30:32, time: 1.816, data_time: 0.610, memory: 4940, decode.loss_ce: 0.0819, decode.acc_seg: 83.2492, aux.loss_ce: 0.0378, aux.acc_seg: 82.7605, loss: 0.1197\n",
      "2022-03-07 23:17:46,851 - mmseg - INFO - Iter [16800/80000]\tlr: 7.900e-05, eta: 1 day, 2:21:46, time: 1.206, data_time: 0.005, memory: 4940, decode.loss_ce: 0.0865, decode.acc_seg: 81.6864, aux.loss_ce: 0.0401, aux.acc_seg: 81.1788, loss: 0.1266\n"
     ]
    },
    {
     "name": "stdout",
     "output_type": "stream",
     "text": [
      "[>>>>>>>>>>>>>>>>>>>>>>>>>>>>>] 800/800, 6.7 task/s, elapsed: 119s, ETA:     0s"
     ]
    },
    {
     "name": "stderr",
     "output_type": "stream",
     "text": [
      "2022-03-07 23:19:46,205 - mmseg - INFO - per class results:\n",
      "2022-03-07 23:19:46,206 - mmseg - INFO - \n",
      "+-------+-------+-------+\n",
      "| Class |  IoU  |  Acc  |\n",
      "+-------+-------+-------+\n",
      "|  face | 76.83 | 85.72 |\n",
      "|   bg  |  97.3 | 98.77 |\n",
      "+-------+-------+-------+\n",
      "2022-03-07 23:19:46,207 - mmseg - INFO - Summary:\n",
      "2022-03-07 23:19:46,209 - mmseg - INFO - \n",
      "+-------+-------+-------+\n",
      "|  aAcc |  mIoU |  mAcc |\n",
      "+-------+-------+-------+\n",
      "| 97.52 | 87.07 | 92.25 |\n",
      "+-------+-------+-------+\n",
      "2022-03-07 23:19:46,219 - mmseg - INFO - Iter(val) [800]\taAcc: 0.9752, mIoU: 0.8707, mAcc: 0.9225, IoU.face: 0.7683, IoU.bg: 0.9730, Acc.face: 0.8572, Acc.bg: 0.9877\n",
      "2022-03-07 23:23:49,551 - mmseg - INFO - Iter [17000/80000]\tlr: 7.875e-05, eta: 1 day, 2:20:36, time: 1.813, data_time: 0.613, memory: 4940, decode.loss_ce: 0.0846, decode.acc_seg: 82.7749, aux.loss_ce: 0.0395, aux.acc_seg: 82.2505, loss: 0.1241\n",
      "2022-03-07 23:27:51,020 - mmseg - INFO - Iter [17200/80000]\tlr: 7.850e-05, eta: 1 day, 2:11:58, time: 1.207, data_time: 0.005, memory: 4940, decode.loss_ce: 0.0833, decode.acc_seg: 82.2140, aux.loss_ce: 0.0384, aux.acc_seg: 81.7085, loss: 0.1217\n"
     ]
    },
    {
     "name": "stdout",
     "output_type": "stream",
     "text": [
      "[>>>>>>>>>>>>>>>>>>>>>>>>>>>>>] 800/800, 6.7 task/s, elapsed: 119s, ETA:     0s"
     ]
    },
    {
     "name": "stderr",
     "output_type": "stream",
     "text": [
      "2022-03-07 23:29:49,929 - mmseg - INFO - per class results:\n",
      "2022-03-07 23:29:49,931 - mmseg - INFO - \n",
      "+-------+-------+-------+\n",
      "| Class |  IoU  |  Acc  |\n",
      "+-------+-------+-------+\n",
      "|  face | 77.74 | 84.76 |\n",
      "|   bg  | 97.47 | 99.04 |\n",
      "+-------+-------+-------+\n",
      "2022-03-07 23:29:49,932 - mmseg - INFO - Summary:\n",
      "2022-03-07 23:29:49,933 - mmseg - INFO - \n",
      "+-------+-------+------+\n",
      "|  aAcc |  mIoU | mAcc |\n",
      "+-------+-------+------+\n",
      "| 97.68 | 87.61 | 91.9 |\n",
      "+-------+-------+------+\n",
      "2022-03-07 23:29:49,944 - mmseg - INFO - Iter(val) [800]\taAcc: 0.9768, mIoU: 0.8761, mAcc: 0.9190, IoU.face: 0.7774, IoU.bg: 0.9747, Acc.face: 0.8476, Acc.bg: 0.9904\n",
      "2022-03-07 23:33:53,506 - mmseg - INFO - Iter [17400/80000]\tlr: 7.825e-05, eta: 1 day, 2:10:41, time: 1.812, data_time: 0.611, memory: 4940, decode.loss_ce: 0.0891, decode.acc_seg: 82.5958, aux.loss_ce: 0.0408, aux.acc_seg: 82.0587, loss: 0.1299\n",
      "2022-03-07 23:37:54,760 - mmseg - INFO - Iter [17600/80000]\tlr: 7.800e-05, eta: 1 day, 2:02:08, time: 1.206, data_time: 0.005, memory: 4940, decode.loss_ce: 0.0860, decode.acc_seg: 81.3502, aux.loss_ce: 0.0397, aux.acc_seg: 80.8989, loss: 0.1257\n"
     ]
    },
    {
     "name": "stdout",
     "output_type": "stream",
     "text": [
      "[>>>>>>>>>>>>>>>>>>>>>>>>>>>>>] 800/800, 6.8 task/s, elapsed: 118s, ETA:     0s"
     ]
    },
    {
     "name": "stderr",
     "output_type": "stream",
     "text": [
      "2022-03-07 23:39:53,179 - mmseg - INFO - per class results:\n",
      "2022-03-07 23:39:53,180 - mmseg - INFO - \n",
      "+-------+-------+-------+\n",
      "| Class |  IoU  |  Acc  |\n",
      "+-------+-------+-------+\n",
      "|  face | 77.72 | 84.11 |\n",
      "|   bg  | 97.49 | 99.13 |\n",
      "+-------+-------+-------+\n",
      "2022-03-07 23:39:53,181 - mmseg - INFO - Summary:\n",
      "2022-03-07 23:39:53,182 - mmseg - INFO - \n",
      "+-------+------+-------+\n",
      "|  aAcc | mIoU |  mAcc |\n",
      "+-------+------+-------+\n",
      "| 97.69 | 87.6 | 91.62 |\n",
      "+-------+------+-------+\n",
      "2022-03-07 23:39:53,188 - mmseg - INFO - Iter(val) [800]\taAcc: 0.9769, mIoU: 0.8760, mAcc: 0.9162, IoU.face: 0.7772, IoU.bg: 0.9749, Acc.face: 0.8411, Acc.bg: 0.9913\n",
      "2022-03-07 23:43:56,590 - mmseg - INFO - Iter [17800/80000]\tlr: 7.775e-05, eta: 1 day, 2:00:42, time: 1.809, data_time: 0.608, memory: 4940, decode.loss_ce: 0.0829, decode.acc_seg: 82.6321, aux.loss_ce: 0.0392, aux.acc_seg: 82.1335, loss: 0.1221\n",
      "2022-03-07 23:47:58,308 - mmseg - INFO - Saving checkpoint at 18000 iterations\n",
      "2022-03-07 23:48:00,167 - mmseg - INFO - Iter [18000/80000]\tlr: 7.750e-05, eta: 1 day, 1:52:23, time: 1.218, data_time: 0.005, memory: 4940, decode.loss_ce: 0.0827, decode.acc_seg: 81.7698, aux.loss_ce: 0.0386, aux.acc_seg: 81.2505, loss: 0.1213\n"
     ]
    },
    {
     "name": "stdout",
     "output_type": "stream",
     "text": [
      "[>>>>>>>>>>>>>>>>>>>>>>>>>>>>>] 800/800, 6.7 task/s, elapsed: 119s, ETA:     0s"
     ]
    },
    {
     "name": "stderr",
     "output_type": "stream",
     "text": [
      "2022-03-07 23:49:58,798 - mmseg - INFO - per class results:\n",
      "2022-03-07 23:49:58,799 - mmseg - INFO - \n",
      "+-------+-------+-------+\n",
      "| Class |  IoU  |  Acc  |\n",
      "+-------+-------+-------+\n",
      "|  face | 77.09 |  83.5 |\n",
      "|   bg  | 97.42 | 99.12 |\n",
      "+-------+-------+-------+\n",
      "2022-03-07 23:49:58,800 - mmseg - INFO - Summary:\n",
      "2022-03-07 23:49:58,801 - mmseg - INFO - \n",
      "+-------+-------+-------+\n",
      "|  aAcc |  mIoU |  mAcc |\n",
      "+-------+-------+-------+\n",
      "| 97.62 | 87.25 | 91.31 |\n",
      "+-------+-------+-------+\n",
      "2022-03-07 23:49:58,804 - mmseg - INFO - Iter(val) [800]\taAcc: 0.9762, mIoU: 0.8725, mAcc: 0.9131, IoU.face: 0.7709, IoU.bg: 0.9742, Acc.face: 0.8350, Acc.bg: 0.9912\n",
      "2022-03-07 23:54:02,853 - mmseg - INFO - Iter [18200/80000]\tlr: 7.725e-05, eta: 1 day, 1:50:53, time: 1.813, data_time: 0.609, memory: 4940, decode.loss_ce: 0.0871, decode.acc_seg: 83.1117, aux.loss_ce: 0.0402, aux.acc_seg: 82.6282, loss: 0.1274\n",
      "2022-03-07 23:58:02,837 - mmseg - INFO - Iter [18400/80000]\tlr: 7.700e-05, eta: 1 day, 1:42:27, time: 1.200, data_time: 0.005, memory: 4940, decode.loss_ce: 0.0833, decode.acc_seg: 82.2305, aux.loss_ce: 0.0383, aux.acc_seg: 81.7757, loss: 0.1216\n"
     ]
    },
    {
     "name": "stdout",
     "output_type": "stream",
     "text": [
      "[>>>>>>>>>>>>>>>>>>>>>>>>>>>>>] 800/800, 6.8 task/s, elapsed: 118s, ETA:     0s"
     ]
    },
    {
     "name": "stderr",
     "output_type": "stream",
     "text": [
      "2022-03-08 00:00:00,630 - mmseg - INFO - per class results:\n",
      "2022-03-08 00:00:00,631 - mmseg - INFO - \n",
      "+-------+-------+-------+\n",
      "| Class |  IoU  |  Acc  |\n",
      "+-------+-------+-------+\n",
      "|  face | 77.61 |  86.2 |\n",
      "|   bg  |  97.4 | 98.83 |\n",
      "+-------+-------+-------+\n",
      "2022-03-08 00:00:00,631 - mmseg - INFO - Summary:\n",
      "2022-03-08 00:00:00,633 - mmseg - INFO - \n",
      "+-------+-------+-------+\n",
      "|  aAcc |  mIoU |  mAcc |\n",
      "+-------+-------+-------+\n",
      "| 97.62 | 87.51 | 92.52 |\n",
      "+-------+-------+-------+\n",
      "2022-03-08 00:00:00,636 - mmseg - INFO - Iter(val) [800]\taAcc: 0.9762, mIoU: 0.8751, mAcc: 0.9252, IoU.face: 0.7761, IoU.bg: 0.9740, Acc.face: 0.8620, Acc.bg: 0.9883\n",
      "2022-03-08 00:04:04,416 - mmseg - INFO - Iter [18600/80000]\tlr: 7.675e-05, eta: 1 day, 1:40:49, time: 1.808, data_time: 0.605, memory: 4940, decode.loss_ce: 0.0878, decode.acc_seg: 82.8041, aux.loss_ce: 0.0396, aux.acc_seg: 82.3548, loss: 0.1274\n",
      "2022-03-08 00:08:06,616 - mmseg - INFO - Iter [18800/80000]\tlr: 7.650e-05, eta: 1 day, 1:32:36, time: 1.211, data_time: 0.005, memory: 4940, decode.loss_ce: 0.0844, decode.acc_seg: 83.3625, aux.loss_ce: 0.0393, aux.acc_seg: 82.8588, loss: 0.1238\n"
     ]
    },
    {
     "name": "stdout",
     "output_type": "stream",
     "text": [
      "[>>>>>>>>>>>>>>>>>>>>>>>>>>>>>] 800/800, 6.7 task/s, elapsed: 119s, ETA:     0s"
     ]
    },
    {
     "name": "stderr",
     "output_type": "stream",
     "text": [
      "2022-03-08 00:10:05,491 - mmseg - INFO - per class results:\n",
      "2022-03-08 00:10:05,493 - mmseg - INFO - \n",
      "+-------+-------+-------+\n",
      "| Class |  IoU  |  Acc  |\n",
      "+-------+-------+-------+\n",
      "|  face | 77.05 | 87.33 |\n",
      "|   bg  | 97.28 | 98.59 |\n",
      "+-------+-------+-------+\n",
      "2022-03-08 00:10:05,494 - mmseg - INFO - Summary:\n",
      "2022-03-08 00:10:05,495 - mmseg - INFO - \n",
      "+-------+-------+-------+\n",
      "|  aAcc |  mIoU |  mAcc |\n",
      "+-------+-------+-------+\n",
      "| 97.51 | 87.16 | 92.96 |\n",
      "+-------+-------+-------+\n",
      "2022-03-08 00:10:05,505 - mmseg - INFO - Iter(val) [800]\taAcc: 0.9751, mIoU: 0.8716, mAcc: 0.9296, IoU.face: 0.7705, IoU.bg: 0.9728, Acc.face: 0.8733, Acc.bg: 0.9859\n",
      "2022-03-08 00:14:08,816 - mmseg - INFO - Iter [19000/80000]\tlr: 7.625e-05, eta: 1 day, 1:30:53, time: 1.811, data_time: 0.610, memory: 4940, decode.loss_ce: 0.0841, decode.acc_seg: 82.6997, aux.loss_ce: 0.0389, aux.acc_seg: 82.2574, loss: 0.1229\n",
      "2022-03-08 00:18:09,716 - mmseg - INFO - Iter [19200/80000]\tlr: 7.600e-05, eta: 1 day, 1:22:41, time: 1.205, data_time: 0.005, memory: 4940, decode.loss_ce: 0.0821, decode.acc_seg: 83.0800, aux.loss_ce: 0.0386, aux.acc_seg: 82.5905, loss: 0.1207\n"
     ]
    },
    {
     "name": "stdout",
     "output_type": "stream",
     "text": [
      "[>>>>>>>>>>>>>>>>>>>>>>>>>>>>>] 800/800, 6.7 task/s, elapsed: 119s, ETA:     0s"
     ]
    },
    {
     "name": "stderr",
     "output_type": "stream",
     "text": [
      "2022-03-08 00:20:08,973 - mmseg - INFO - per class results:\n",
      "2022-03-08 00:20:08,975 - mmseg - INFO - \n",
      "+-------+-------+-------+\n",
      "| Class |  IoU  |  Acc  |\n",
      "+-------+-------+-------+\n",
      "|  face | 77.74 | 86.28 |\n",
      "|   bg  | 97.42 | 98.84 |\n",
      "+-------+-------+-------+\n",
      "2022-03-08 00:20:08,975 - mmseg - INFO - Summary:\n",
      "2022-03-08 00:20:08,976 - mmseg - INFO - \n",
      "+-------+-------+-------+\n",
      "|  aAcc |  mIoU |  mAcc |\n",
      "+-------+-------+-------+\n",
      "| 97.63 | 87.58 | 92.56 |\n",
      "+-------+-------+-------+\n",
      "2022-03-08 00:20:08,984 - mmseg - INFO - Iter(val) [800]\taAcc: 0.9763, mIoU: 0.8758, mAcc: 0.9256, IoU.face: 0.7774, IoU.bg: 0.9742, Acc.face: 0.8628, Acc.bg: 0.9884\n",
      "2022-03-08 00:24:13,346 - mmseg - INFO - Iter [19400/80000]\tlr: 7.575e-05, eta: 1 day, 1:20:58, time: 1.818, data_time: 0.612, memory: 4940, decode.loss_ce: 0.0829, decode.acc_seg: 82.8864, aux.loss_ce: 0.0392, aux.acc_seg: 82.3305, loss: 0.1221\n",
      "2022-03-08 00:28:15,137 - mmseg - INFO - Iter [19600/80000]\tlr: 7.550e-05, eta: 1 day, 1:12:53, time: 1.209, data_time: 0.005, memory: 4940, decode.loss_ce: 0.0838, decode.acc_seg: 82.4128, aux.loss_ce: 0.0392, aux.acc_seg: 81.9008, loss: 0.1231\n"
     ]
    },
    {
     "name": "stdout",
     "output_type": "stream",
     "text": [
      "[>>>>>>>>>>>>>>>>>>>>>>>>>>>>>] 800/800, 6.7 task/s, elapsed: 119s, ETA:     0s"
     ]
    },
    {
     "name": "stderr",
     "output_type": "stream",
     "text": [
      "2022-03-08 00:30:13,714 - mmseg - INFO - per class results:\n",
      "2022-03-08 00:30:13,716 - mmseg - INFO - \n",
      "+-------+-------+-------+\n",
      "| Class |  IoU  |  Acc  |\n",
      "+-------+-------+-------+\n",
      "|  face | 77.98 |  87.6 |\n",
      "|   bg  | 97.41 | 98.69 |\n",
      "+-------+-------+-------+\n",
      "2022-03-08 00:30:13,717 - mmseg - INFO - Summary:\n",
      "2022-03-08 00:30:13,718 - mmseg - INFO - \n",
      "+-------+------+-------+\n",
      "|  aAcc | mIoU |  mAcc |\n",
      "+-------+------+-------+\n",
      "| 97.63 | 87.7 | 93.15 |\n",
      "+-------+------+-------+\n",
      "2022-03-08 00:30:13,723 - mmseg - INFO - Iter(val) [800]\taAcc: 0.9763, mIoU: 0.8770, mAcc: 0.9315, IoU.face: 0.7798, IoU.bg: 0.9741, Acc.face: 0.8760, Acc.bg: 0.9869\n",
      "2022-03-08 00:34:17,159 - mmseg - INFO - Iter [19800/80000]\tlr: 7.525e-05, eta: 1 day, 1:11:00, time: 1.810, data_time: 0.609, memory: 4940, decode.loss_ce: 0.0750, decode.acc_seg: 82.4675, aux.loss_ce: 0.0356, aux.acc_seg: 82.0070, loss: 0.1106\n",
      "2022-03-08 00:38:18,387 - mmseg - INFO - Saving checkpoint at 20000 iterations\n",
      "2022-03-08 00:38:20,251 - mmseg - INFO - Iter [20000/80000]\tlr: 7.500e-05, eta: 1 day, 1:03:04, time: 1.216, data_time: 0.005, memory: 4940, decode.loss_ce: 0.0898, decode.acc_seg: 81.6830, aux.loss_ce: 0.0416, aux.acc_seg: 81.1965, loss: 0.1314\n"
     ]
    },
    {
     "name": "stdout",
     "output_type": "stream",
     "text": [
      "[>>>>>>>>>>>>>>>>>>>>>>>>>>>>>] 800/800, 6.7 task/s, elapsed: 119s, ETA:     0s"
     ]
    },
    {
     "name": "stderr",
     "output_type": "stream",
     "text": [
      "2022-03-08 00:40:19,245 - mmseg - INFO - per class results:\n",
      "2022-03-08 00:40:19,247 - mmseg - INFO - \n",
      "+-------+-------+-------+\n",
      "| Class |  IoU  |  Acc  |\n",
      "+-------+-------+-------+\n",
      "|  face | 77.42 | 84.34 |\n",
      "|   bg  | 97.44 | 99.05 |\n",
      "+-------+-------+-------+\n",
      "2022-03-08 00:40:19,248 - mmseg - INFO - Summary:\n",
      "2022-03-08 00:40:19,249 - mmseg - INFO - \n",
      "+-------+-------+-------+\n",
      "|  aAcc |  mIoU |  mAcc |\n",
      "+-------+-------+-------+\n",
      "| 97.64 | 87.43 | 91.69 |\n",
      "+-------+-------+-------+\n",
      "2022-03-08 00:40:19,252 - mmseg - INFO - Iter(val) [800]\taAcc: 0.9764, mIoU: 0.8743, mAcc: 0.9169, IoU.face: 0.7742, IoU.bg: 0.9744, Acc.face: 0.8434, Acc.bg: 0.9905\n",
      "2022-03-08 00:44:22,011 - mmseg - INFO - Iter [20200/80000]\tlr: 7.475e-05, eta: 1 day, 1:01:05, time: 1.809, data_time: 0.611, memory: 4940, decode.loss_ce: 0.0804, decode.acc_seg: 82.5417, aux.loss_ce: 0.0378, aux.acc_seg: 82.0588, loss: 0.1182\n",
      "2022-03-08 00:48:26,072 - mmseg - INFO - Iter [20400/80000]\tlr: 7.450e-05, eta: 1 day, 0:53:16, time: 1.220, data_time: 0.005, memory: 4940, decode.loss_ce: 0.0770, decode.acc_seg: 82.8698, aux.loss_ce: 0.0359, aux.acc_seg: 82.4027, loss: 0.1130\n"
     ]
    },
    {
     "name": "stdout",
     "output_type": "stream",
     "text": [
      "[>>>>>>>>>>>>>>>>>>>>>>>>>>>>>] 800/800, 6.8 task/s, elapsed: 117s, ETA:     0s"
     ]
    },
    {
     "name": "stderr",
     "output_type": "stream",
     "text": [
      "2022-03-08 00:50:23,215 - mmseg - INFO - per class results:\n",
      "2022-03-08 00:50:23,217 - mmseg - INFO - \n",
      "+-------+-------+-------+\n",
      "| Class |  IoU  |  Acc  |\n",
      "+-------+-------+-------+\n",
      "|  face | 77.63 | 84.77 |\n",
      "|   bg  | 97.45 | 99.03 |\n",
      "+-------+-------+-------+\n",
      "2022-03-08 00:50:23,218 - mmseg - INFO - Summary:\n",
      "2022-03-08 00:50:23,219 - mmseg - INFO - \n",
      "+-------+-------+------+\n",
      "|  aAcc |  mIoU | mAcc |\n",
      "+-------+-------+------+\n",
      "| 97.66 | 87.54 | 91.9 |\n",
      "+-------+-------+------+\n",
      "2022-03-08 00:50:23,222 - mmseg - INFO - Iter(val) [800]\taAcc: 0.9766, mIoU: 0.8754, mAcc: 0.9190, IoU.face: 0.7763, IoU.bg: 0.9745, Acc.face: 0.8477, Acc.bg: 0.9903\n",
      "2022-03-08 00:54:25,165 - mmseg - INFO - Iter [20600/80000]\tlr: 7.425e-05, eta: 1 day, 0:51:04, time: 1.795, data_time: 0.602, memory: 4940, decode.loss_ce: 0.0728, decode.acc_seg: 82.3067, aux.loss_ce: 0.0353, aux.acc_seg: 81.7747, loss: 0.1081\n",
      "2022-03-08 00:58:25,390 - mmseg - INFO - Iter [20800/80000]\tlr: 7.400e-05, eta: 1 day, 0:43:09, time: 1.201, data_time: 0.005, memory: 4940, decode.loss_ce: 0.0964, decode.acc_seg: 83.5951, aux.loss_ce: 0.0445, aux.acc_seg: 83.0532, loss: 0.1409\n"
     ]
    },
    {
     "name": "stdout",
     "output_type": "stream",
     "text": [
      "[>>>>>>>>>>>>>>>>>>>>>>>>>>>>>] 800/800, 6.8 task/s, elapsed: 118s, ETA:     0s"
     ]
    },
    {
     "name": "stderr",
     "output_type": "stream",
     "text": [
      "2022-03-08 01:00:23,714 - mmseg - INFO - per class results:\n",
      "2022-03-08 01:00:23,716 - mmseg - INFO - \n",
      "+-------+-------+-------+\n",
      "| Class |  IoU  |  Acc  |\n",
      "+-------+-------+-------+\n",
      "|  face |  77.8 | 86.73 |\n",
      "|   bg  | 97.41 | 98.78 |\n",
      "+-------+-------+-------+\n",
      "2022-03-08 01:00:23,717 - mmseg - INFO - Summary:\n",
      "2022-03-08 01:00:23,718 - mmseg - INFO - \n",
      "+-------+-------+-------+\n",
      "|  aAcc |  mIoU |  mAcc |\n",
      "+-------+-------+-------+\n",
      "| 97.63 | 87.61 | 92.76 |\n",
      "+-------+-------+-------+\n",
      "2022-03-08 01:00:23,721 - mmseg - INFO - Iter(val) [800]\taAcc: 0.9763, mIoU: 0.8761, mAcc: 0.9276, IoU.face: 0.7780, IoU.bg: 0.9741, Acc.face: 0.8673, Acc.bg: 0.9878\n",
      "2022-03-08 01:04:25,886 - mmseg - INFO - Iter [21000/80000]\tlr: 7.375e-05, eta: 1 day, 0:40:57, time: 1.802, data_time: 0.607, memory: 4940, decode.loss_ce: 0.0859, decode.acc_seg: 83.0008, aux.loss_ce: 0.0404, aux.acc_seg: 82.4793, loss: 0.1263\n",
      "2022-03-08 01:08:26,136 - mmseg - INFO - Iter [21200/80000]\tlr: 7.350e-05, eta: 1 day, 0:33:06, time: 1.201, data_time: 0.005, memory: 4940, decode.loss_ce: 0.0825, decode.acc_seg: 83.2679, aux.loss_ce: 0.0384, aux.acc_seg: 82.7614, loss: 0.1209\n"
     ]
    },
    {
     "name": "stdout",
     "output_type": "stream",
     "text": [
      "[>>>>>>>>>>>>>>>>>>>>>>>>>>>>>] 800/800, 6.8 task/s, elapsed: 118s, ETA:     0s"
     ]
    },
    {
     "name": "stderr",
     "output_type": "stream",
     "text": [
      "2022-03-08 01:10:23,990 - mmseg - INFO - per class results:\n",
      "2022-03-08 01:10:23,992 - mmseg - INFO - \n",
      "+-------+-------+-------+\n",
      "| Class |  IoU  |  Acc  |\n",
      "+-------+-------+-------+\n",
      "|  face | 78.18 | 85.78 |\n",
      "|   bg  |  97.5 | 98.97 |\n",
      "+-------+-------+-------+\n",
      "2022-03-08 01:10:23,992 - mmseg - INFO - Summary:\n",
      "2022-03-08 01:10:23,993 - mmseg - INFO - \n",
      "+-------+-------+-------+\n",
      "|  aAcc |  mIoU |  mAcc |\n",
      "+-------+-------+-------+\n",
      "| 97.71 | 87.84 | 92.37 |\n",
      "+-------+-------+-------+\n",
      "2022-03-08 01:10:23,997 - mmseg - INFO - Iter(val) [800]\taAcc: 0.9771, mIoU: 0.8784, mAcc: 0.9237, IoU.face: 0.7818, IoU.bg: 0.9750, Acc.face: 0.8578, Acc.bg: 0.9897\n",
      "2022-03-08 01:14:26,690 - mmseg - INFO - Iter [21400/80000]\tlr: 7.325e-05, eta: 1 day, 0:30:50, time: 1.803, data_time: 0.606, memory: 4940, decode.loss_ce: 0.0911, decode.acc_seg: 82.7919, aux.loss_ce: 0.0418, aux.acc_seg: 82.3132, loss: 0.1329\n",
      "2022-03-08 01:18:26,944 - mmseg - INFO - Iter [21600/80000]\tlr: 7.300e-05, eta: 1 day, 0:23:04, time: 1.201, data_time: 0.005, memory: 4940, decode.loss_ce: 0.0710, decode.acc_seg: 82.7136, aux.loss_ce: 0.0335, aux.acc_seg: 82.2615, loss: 0.1045\n"
     ]
    },
    {
     "name": "stdout",
     "output_type": "stream",
     "text": [
      "[>>>>>>>>>>>>>>>>>>>>>>>>>>>>>] 800/800, 6.6 task/s, elapsed: 122s, ETA:     0s"
     ]
    },
    {
     "name": "stderr",
     "output_type": "stream",
     "text": [
      "2022-03-08 01:20:28,967 - mmseg - INFO - per class results:\n",
      "2022-03-08 01:20:28,969 - mmseg - INFO - \n",
      "+-------+-------+-------+\n",
      "| Class |  IoU  |  Acc  |\n",
      "+-------+-------+-------+\n",
      "|  face | 78.47 | 86.01 |\n",
      "|   bg  | 97.54 | 98.98 |\n",
      "+-------+-------+-------+\n",
      "2022-03-08 01:20:28,971 - mmseg - INFO - Summary:\n",
      "2022-03-08 01:20:28,973 - mmseg - INFO - \n",
      "+-------+------+------+\n",
      "|  aAcc | mIoU | mAcc |\n",
      "+-------+------+------+\n",
      "| 97.74 | 88.0 | 92.5 |\n",
      "+-------+------+------+\n",
      "2022-03-08 01:20:28,979 - mmseg - INFO - Iter(val) [800]\taAcc: 0.9774, mIoU: 0.8800, mAcc: 0.9250, IoU.face: 0.7847, IoU.bg: 0.9754, Acc.face: 0.8601, Acc.bg: 0.9898\n",
      "2022-03-08 01:24:30,615 - mmseg - INFO - Iter [21800/80000]\tlr: 7.275e-05, eta: 1 day, 0:20:52, time: 1.818, data_time: 0.626, memory: 4940, decode.loss_ce: 0.0782, decode.acc_seg: 82.5854, aux.loss_ce: 0.0370, aux.acc_seg: 82.0731, loss: 0.1152\n",
      "2022-03-08 01:28:31,203 - mmseg - INFO - Saving checkpoint at 22000 iterations\n",
      "2022-03-08 01:28:33,060 - mmseg - INFO - Iter [22000/80000]\tlr: 7.250e-05, eta: 1 day, 0:13:15, time: 1.212, data_time: 0.005, memory: 4940, decode.loss_ce: 0.0789, decode.acc_seg: 83.5258, aux.loss_ce: 0.0367, aux.acc_seg: 83.0549, loss: 0.1156\n"
     ]
    },
    {
     "name": "stdout",
     "output_type": "stream",
     "text": [
      "[>>>>>>>>>>>>>>>>>>>>>>>>>>>>>] 800/800, 6.8 task/s, elapsed: 118s, ETA:     0s"
     ]
    },
    {
     "name": "stderr",
     "output_type": "stream",
     "text": [
      "2022-03-08 01:30:31,520 - mmseg - INFO - per class results:\n",
      "2022-03-08 01:30:31,522 - mmseg - INFO - \n",
      "+-------+-------+-------+\n",
      "| Class |  IoU  |  Acc  |\n",
      "+-------+-------+-------+\n",
      "|  face | 78.44 | 87.11 |\n",
      "|   bg  |  97.5 | 98.83 |\n",
      "+-------+-------+-------+\n",
      "2022-03-08 01:30:31,524 - mmseg - INFO - Summary:\n",
      "2022-03-08 01:30:31,525 - mmseg - INFO - \n",
      "+-------+-------+-------+\n",
      "|  aAcc |  mIoU |  mAcc |\n",
      "+-------+-------+-------+\n",
      "| 97.71 | 87.97 | 92.97 |\n",
      "+-------+-------+-------+\n",
      "2022-03-08 01:30:31,530 - mmseg - INFO - Iter(val) [800]\taAcc: 0.9771, mIoU: 0.8797, mAcc: 0.9297, IoU.face: 0.7844, IoU.bg: 0.9750, Acc.face: 0.8711, Acc.bg: 0.9883\n",
      "2022-03-08 01:34:34,457 - mmseg - INFO - Iter [22200/80000]\tlr: 7.225e-05, eta: 1 day, 0:10:53, time: 1.807, data_time: 0.608, memory: 4940, decode.loss_ce: 0.0800, decode.acc_seg: 82.6083, aux.loss_ce: 0.0379, aux.acc_seg: 82.0882, loss: 0.1179\n",
      "2022-03-08 01:38:35,228 - mmseg - INFO - Iter [22400/80000]\tlr: 7.200e-05, eta: 1 day, 0:03:16, time: 1.204, data_time: 0.005, memory: 4940, decode.loss_ce: 0.0781, decode.acc_seg: 82.8206, aux.loss_ce: 0.0373, aux.acc_seg: 82.2478, loss: 0.1155\n"
     ]
    },
    {
     "name": "stdout",
     "output_type": "stream",
     "text": [
      "[>>>>>>>>>>>>>>>>>>>>>>>>>>>>>] 800/800, 6.8 task/s, elapsed: 118s, ETA:     0s"
     ]
    },
    {
     "name": "stderr",
     "output_type": "stream",
     "text": [
      "2022-03-08 01:40:33,620 - mmseg - INFO - per class results:\n",
      "2022-03-08 01:40:33,622 - mmseg - INFO - \n",
      "+-------+-------+-------+\n",
      "| Class |  IoU  |  Acc  |\n",
      "+-------+-------+-------+\n",
      "|  face | 78.76 |  87.4 |\n",
      "|   bg  | 97.54 | 98.84 |\n",
      "+-------+-------+-------+\n",
      "2022-03-08 01:40:33,623 - mmseg - INFO - Summary:\n",
      "2022-03-08 01:40:33,624 - mmseg - INFO - \n",
      "+-------+-------+-------+\n",
      "|  aAcc |  mIoU |  mAcc |\n",
      "+-------+-------+-------+\n",
      "| 97.74 | 88.15 | 93.12 |\n",
      "+-------+-------+-------+\n",
      "2022-03-08 01:40:33,628 - mmseg - INFO - Iter(val) [800]\taAcc: 0.9774, mIoU: 0.8815, mAcc: 0.9312, IoU.face: 0.7876, IoU.bg: 0.9754, Acc.face: 0.8740, Acc.bg: 0.9884\n",
      "2022-03-08 01:44:36,581 - mmseg - INFO - Iter [22600/80000]\tlr: 7.175e-05, eta: 1 day, 0:00:50, time: 1.807, data_time: 0.608, memory: 4940, decode.loss_ce: 0.0698, decode.acc_seg: 82.6635, aux.loss_ce: 0.0341, aux.acc_seg: 82.1301, loss: 0.1039\n",
      "2022-03-08 01:48:38,099 - mmseg - INFO - Iter [22800/80000]\tlr: 7.150e-05, eta: 23:53:19, time: 1.208, data_time: 0.005, memory: 4940, decode.loss_ce: 0.0894, decode.acc_seg: 83.1208, aux.loss_ce: 0.0409, aux.acc_seg: 82.6476, loss: 0.1303\n"
     ]
    },
    {
     "name": "stdout",
     "output_type": "stream",
     "text": [
      "[>>>>>>>>>>>>>>>>>>>>>>>>>>>>>] 800/800, 6.7 task/s, elapsed: 119s, ETA:     0s"
     ]
    },
    {
     "name": "stderr",
     "output_type": "stream",
     "text": [
      "2022-03-08 01:50:37,209 - mmseg - INFO - per class results:\n",
      "2022-03-08 01:50:37,210 - mmseg - INFO - \n",
      "+-------+-------+-------+\n",
      "| Class |  IoU  |  Acc  |\n",
      "+-------+-------+-------+\n",
      "|  face | 78.81 | 87.29 |\n",
      "|   bg  | 97.55 | 98.86 |\n",
      "+-------+-------+-------+\n",
      "2022-03-08 01:50:37,211 - mmseg - INFO - Summary:\n",
      "2022-03-08 01:50:37,212 - mmseg - INFO - \n",
      "+-------+-------+-------+\n",
      "|  aAcc |  mIoU |  mAcc |\n",
      "+-------+-------+-------+\n",
      "| 97.75 | 88.18 | 93.08 |\n",
      "+-------+-------+-------+\n",
      "2022-03-08 01:50:37,221 - mmseg - INFO - Iter(val) [800]\taAcc: 0.9775, mIoU: 0.8818, mAcc: 0.9308, IoU.face: 0.7881, IoU.bg: 0.9755, Acc.face: 0.8729, Acc.bg: 0.9886\n",
      "2022-03-08 01:54:40,065 - mmseg - INFO - Iter [23000/80000]\tlr: 7.125e-05, eta: 23:50:50, time: 1.810, data_time: 0.612, memory: 4940, decode.loss_ce: 0.0849, decode.acc_seg: 82.5491, aux.loss_ce: 0.0395, aux.acc_seg: 82.0965, loss: 0.1244\n",
      "2022-03-08 01:58:43,682 - mmseg - INFO - Iter [23200/80000]\tlr: 7.100e-05, eta: 23:43:27, time: 1.218, data_time: 0.005, memory: 4940, decode.loss_ce: 0.0732, decode.acc_seg: 82.8527, aux.loss_ce: 0.0343, aux.acc_seg: 82.3928, loss: 0.1075\n"
     ]
    },
    {
     "name": "stdout",
     "output_type": "stream",
     "text": [
      "[>>>>>>>>>>>>>>>>>>>>>>>>>>>>>] 800/800, 6.8 task/s, elapsed: 118s, ETA:     0s"
     ]
    },
    {
     "name": "stderr",
     "output_type": "stream",
     "text": [
      "2022-03-08 02:00:41,830 - mmseg - INFO - per class results:\n",
      "2022-03-08 02:00:41,832 - mmseg - INFO - \n",
      "+-------+-------+-------+\n",
      "| Class |  IoU  |  Acc  |\n",
      "+-------+-------+-------+\n",
      "|  face | 78.67 | 87.47 |\n",
      "|   bg  | 97.52 | 98.81 |\n",
      "+-------+-------+-------+\n",
      "2022-03-08 02:00:41,833 - mmseg - INFO - Summary:\n",
      "2022-03-08 02:00:41,834 - mmseg - INFO - \n",
      "+-------+-------+-------+\n",
      "|  aAcc |  mIoU |  mAcc |\n",
      "+-------+-------+-------+\n",
      "| 97.73 | 88.09 | 93.14 |\n",
      "+-------+-------+-------+\n",
      "2022-03-08 02:00:41,838 - mmseg - INFO - Iter(val) [800]\taAcc: 0.9773, mIoU: 0.8809, mAcc: 0.9314, IoU.face: 0.7867, IoU.bg: 0.9752, Acc.face: 0.8747, Acc.bg: 0.9881\n",
      "2022-03-08 02:04:43,462 - mmseg - INFO - Iter [23400/80000]\tlr: 7.075e-05, eta: 23:40:49, time: 1.799, data_time: 0.606, memory: 4940, decode.loss_ce: 0.0786, decode.acc_seg: 82.0423, aux.loss_ce: 0.0367, aux.acc_seg: 81.6088, loss: 0.1153\n",
      "2022-03-08 02:08:43,929 - mmseg - INFO - Iter [23600/80000]\tlr: 7.050e-05, eta: 23:33:23, time: 1.202, data_time: 0.005, memory: 4940, decode.loss_ce: 0.0822, decode.acc_seg: 83.2387, aux.loss_ce: 0.0382, aux.acc_seg: 82.7624, loss: 0.1204\n"
     ]
    },
    {
     "name": "stdout",
     "output_type": "stream",
     "text": [
      "[>>>>>>>>>>>>>>>>>>>>>>>>>>>>>] 800/800, 6.7 task/s, elapsed: 119s, ETA:     0s"
     ]
    },
    {
     "name": "stderr",
     "output_type": "stream",
     "text": [
      "2022-03-08 02:10:42,566 - mmseg - INFO - per class results:\n",
      "2022-03-08 02:10:42,568 - mmseg - INFO - \n",
      "+-------+-------+-------+\n",
      "| Class |  IoU  |  Acc  |\n",
      "+-------+-------+-------+\n",
      "|  face | 78.61 | 86.56 |\n",
      "|   bg  | 97.54 | 98.93 |\n",
      "+-------+-------+-------+\n",
      "2022-03-08 02:10:42,569 - mmseg - INFO - Summary:\n",
      "2022-03-08 02:10:42,570 - mmseg - INFO - \n",
      "+-------+-------+-------+\n",
      "|  aAcc |  mIoU |  mAcc |\n",
      "+-------+-------+-------+\n",
      "| 97.74 | 88.08 | 92.75 |\n",
      "+-------+-------+-------+\n",
      "2022-03-08 02:10:42,575 - mmseg - INFO - Iter(val) [800]\taAcc: 0.9774, mIoU: 0.8808, mAcc: 0.9275, IoU.face: 0.7861, IoU.bg: 0.9754, Acc.face: 0.8656, Acc.bg: 0.9893\n",
      "2022-03-08 02:14:45,564 - mmseg - INFO - Iter [23800/80000]\tlr: 7.025e-05, eta: 23:30:46, time: 1.808, data_time: 0.609, memory: 4940, decode.loss_ce: 0.0816, decode.acc_seg: 83.9416, aux.loss_ce: 0.0383, aux.acc_seg: 83.4695, loss: 0.1199\n",
      "2022-03-08 02:18:46,322 - mmseg - INFO - Saving checkpoint at 24000 iterations\n",
      "2022-03-08 02:18:48,184 - mmseg - INFO - Iter [24000/80000]\tlr: 7.000e-05, eta: 23:23:28, time: 1.213, data_time: 0.005, memory: 4940, decode.loss_ce: 0.0746, decode.acc_seg: 82.4404, aux.loss_ce: 0.0351, aux.acc_seg: 81.9965, loss: 0.1096\n"
     ]
    },
    {
     "name": "stdout",
     "output_type": "stream",
     "text": [
      "[>>>>>>>>>>>>>>>>>>>>>>>>>>>>>] 800/800, 6.8 task/s, elapsed: 118s, ETA:     0s"
     ]
    },
    {
     "name": "stderr",
     "output_type": "stream",
     "text": [
      "2022-03-08 02:20:46,548 - mmseg - INFO - per class results:\n",
      "2022-03-08 02:20:46,550 - mmseg - INFO - \n",
      "+-------+-------+-------+\n",
      "| Class |  IoU  |  Acc  |\n",
      "+-------+-------+-------+\n",
      "|  face | 78.71 | 88.83 |\n",
      "|   bg  | 97.48 | 98.64 |\n",
      "+-------+-------+-------+\n",
      "2022-03-08 02:20:46,551 - mmseg - INFO - Summary:\n",
      "2022-03-08 02:20:46,552 - mmseg - INFO - \n",
      "+------+------+-------+\n",
      "| aAcc | mIoU |  mAcc |\n",
      "+------+------+-------+\n",
      "| 97.7 | 88.1 | 93.73 |\n",
      "+------+------+-------+\n",
      "2022-03-08 02:20:46,556 - mmseg - INFO - Iter(val) [800]\taAcc: 0.9770, mIoU: 0.8810, mAcc: 0.9373, IoU.face: 0.7871, IoU.bg: 0.9748, Acc.face: 0.8883, Acc.bg: 0.9864\n",
      "2022-03-08 02:24:49,577 - mmseg - INFO - Iter [24200/80000]\tlr: 6.975e-05, eta: 23:20:47, time: 1.807, data_time: 0.608, memory: 4940, decode.loss_ce: 0.0898, decode.acc_seg: 83.3148, aux.loss_ce: 0.0404, aux.acc_seg: 82.8886, loss: 0.1302\n",
      "2022-03-08 02:28:50,513 - mmseg - INFO - Iter [24400/80000]\tlr: 6.950e-05, eta: 23:13:28, time: 1.205, data_time: 0.005, memory: 4940, decode.loss_ce: 0.0715, decode.acc_seg: 82.5780, aux.loss_ce: 0.0338, aux.acc_seg: 82.1072, loss: 0.1052\n"
     ]
    },
    {
     "name": "stdout",
     "output_type": "stream",
     "text": [
      "[>>>>>>>>>>>>>>>>>>>>>>>>>>>>>] 800/800, 6.8 task/s, elapsed: 118s, ETA:     0s"
     ]
    },
    {
     "name": "stderr",
     "output_type": "stream",
     "text": [
      "2022-03-08 02:30:48,225 - mmseg - INFO - per class results:\n",
      "2022-03-08 02:30:48,226 - mmseg - INFO - \n",
      "+-------+-------+-------+\n",
      "| Class |  IoU  |  Acc  |\n",
      "+-------+-------+-------+\n",
      "|  face | 78.16 | 87.57 |\n",
      "|   bg  | 97.44 | 98.72 |\n",
      "+-------+-------+-------+\n",
      "2022-03-08 02:30:48,227 - mmseg - INFO - Summary:\n",
      "2022-03-08 02:30:48,229 - mmseg - INFO - \n",
      "+-------+------+-------+\n",
      "|  aAcc | mIoU |  mAcc |\n",
      "+-------+------+-------+\n",
      "| 97.66 | 87.8 | 93.15 |\n",
      "+-------+------+-------+\n",
      "2022-03-08 02:30:48,237 - mmseg - INFO - Iter(val) [800]\taAcc: 0.9766, mIoU: 0.8780, mAcc: 0.9315, IoU.face: 0.7816, IoU.bg: 0.9744, Acc.face: 0.8757, Acc.bg: 0.9872\n",
      "2022-03-08 02:34:54,380 - mmseg - INFO - Iter [24600/80000]\tlr: 6.925e-05, eta: 23:10:50, time: 1.819, data_time: 0.605, memory: 4940, decode.loss_ce: 0.0707, decode.acc_seg: 82.9749, aux.loss_ce: 0.0333, aux.acc_seg: 82.5467, loss: 0.1040\n",
      "2022-03-08 02:38:54,291 - mmseg - INFO - Iter [24800/80000]\tlr: 6.900e-05, eta: 23:03:32, time: 1.200, data_time: 0.005, memory: 4940, decode.loss_ce: 0.0848, decode.acc_seg: 82.5903, aux.loss_ce: 0.0387, aux.acc_seg: 82.1271, loss: 0.1235\n"
     ]
    },
    {
     "name": "stdout",
     "output_type": "stream",
     "text": [
      "[>>>>>>>>>>>>>>>>>>>>>>>>>>>>>] 800/800, 6.7 task/s, elapsed: 119s, ETA:     0s"
     ]
    },
    {
     "name": "stderr",
     "output_type": "stream",
     "text": [
      "2022-03-08 02:40:52,927 - mmseg - INFO - per class results:\n",
      "2022-03-08 02:40:52,928 - mmseg - INFO - \n",
      "+-------+-------+-------+\n",
      "| Class |  IoU  |  Acc  |\n",
      "+-------+-------+-------+\n",
      "|  face | 77.75 |  84.3 |\n",
      "|   bg  | 97.49 | 99.11 |\n",
      "+-------+-------+-------+\n",
      "2022-03-08 02:40:52,929 - mmseg - INFO - Summary:\n",
      "2022-03-08 02:40:52,930 - mmseg - INFO - \n",
      "+-------+-------+------+\n",
      "|  aAcc |  mIoU | mAcc |\n",
      "+-------+-------+------+\n",
      "| 97.69 | 87.62 | 91.7 |\n",
      "+-------+-------+------+\n",
      "2022-03-08 02:40:52,938 - mmseg - INFO - Iter(val) [800]\taAcc: 0.9769, mIoU: 0.8762, mAcc: 0.9170, IoU.face: 0.7775, IoU.bg: 0.9749, Acc.face: 0.8430, Acc.bg: 0.9911\n",
      "2022-03-08 02:44:55,893 - mmseg - INFO - Iter [25000/80000]\tlr: 6.875e-05, eta: 23:00:45, time: 1.808, data_time: 0.609, memory: 4940, decode.loss_ce: 0.0742, decode.acc_seg: 83.5996, aux.loss_ce: 0.0350, aux.acc_seg: 83.1369, loss: 0.1092\n",
      "2022-03-08 02:48:56,985 - mmseg - INFO - Iter [25200/80000]\tlr: 6.850e-05, eta: 22:53:33, time: 1.205, data_time: 0.005, memory: 4940, decode.loss_ce: 0.0851, decode.acc_seg: 82.4650, aux.loss_ce: 0.0406, aux.acc_seg: 81.9290, loss: 0.1258\n"
     ]
    },
    {
     "name": "stdout",
     "output_type": "stream",
     "text": [
      "[>>>>>>>>>>>>>>>>>>>>>>>>>>>>>] 800/800, 6.8 task/s, elapsed: 118s, ETA:     0s"
     ]
    },
    {
     "name": "stderr",
     "output_type": "stream",
     "text": [
      "2022-03-08 02:50:54,936 - mmseg - INFO - per class results:\n",
      "2022-03-08 02:50:54,938 - mmseg - INFO - \n",
      "+-------+-------+-------+\n",
      "| Class |  IoU  |  Acc  |\n",
      "+-------+-------+-------+\n",
      "|  face | 78.95 | 87.39 |\n",
      "|   bg  | 97.57 | 98.87 |\n",
      "+-------+-------+-------+\n",
      "2022-03-08 02:50:54,938 - mmseg - INFO - Summary:\n",
      "2022-03-08 02:50:54,941 - mmseg - INFO - \n",
      "+-------+-------+-------+\n",
      "|  aAcc |  mIoU |  mAcc |\n",
      "+-------+-------+-------+\n",
      "| 97.77 | 88.26 | 93.13 |\n",
      "+-------+-------+-------+\n",
      "2022-03-08 02:50:54,945 - mmseg - INFO - Iter(val) [800]\taAcc: 0.9777, mIoU: 0.8826, mAcc: 0.9313, IoU.face: 0.7895, IoU.bg: 0.9757, Acc.face: 0.8739, Acc.bg: 0.9887\n",
      "2022-03-08 02:54:57,971 - mmseg - INFO - Iter [25400/80000]\tlr: 6.825e-05, eta: 22:50:42, time: 1.805, data_time: 0.606, memory: 4940, decode.loss_ce: 0.0802, decode.acc_seg: 82.8924, aux.loss_ce: 0.0370, aux.acc_seg: 82.4153, loss: 0.1173\n",
      "2022-03-08 02:58:58,089 - mmseg - INFO - Iter [25600/80000]\tlr: 6.800e-05, eta: 22:43:30, time: 1.201, data_time: 0.005, memory: 4940, decode.loss_ce: 0.0808, decode.acc_seg: 82.7792, aux.loss_ce: 0.0379, aux.acc_seg: 82.3309, loss: 0.1187\n"
     ]
    },
    {
     "name": "stdout",
     "output_type": "stream",
     "text": [
      "[>>>>>>>>>>>>>>>>>>>>>>>>>>>>>] 800/800, 6.7 task/s, elapsed: 120s, ETA:     0s"
     ]
    },
    {
     "name": "stderr",
     "output_type": "stream",
     "text": [
      "2022-03-08 03:00:58,174 - mmseg - INFO - per class results:\n",
      "2022-03-08 03:00:58,176 - mmseg - INFO - \n",
      "+-------+-------+-------+\n",
      "| Class |  IoU  |  Acc  |\n",
      "+-------+-------+-------+\n",
      "|  face | 78.45 |  87.0 |\n",
      "|   bg  |  97.5 | 98.85 |\n",
      "+-------+-------+-------+\n",
      "2022-03-08 03:00:58,177 - mmseg - INFO - Summary:\n",
      "2022-03-08 03:00:58,178 - mmseg - INFO - \n",
      "+-------+-------+-------+\n",
      "|  aAcc |  mIoU |  mAcc |\n",
      "+-------+-------+-------+\n",
      "| 97.71 | 87.98 | 92.92 |\n",
      "+-------+-------+-------+\n",
      "2022-03-08 03:00:58,186 - mmseg - INFO - Iter(val) [800]\taAcc: 0.9771, mIoU: 0.8798, mAcc: 0.9292, IoU.face: 0.7845, IoU.bg: 0.9750, Acc.face: 0.8700, Acc.bg: 0.9885\n",
      "2022-03-08 03:05:01,217 - mmseg - INFO - Iter [25800/80000]\tlr: 6.775e-05, eta: 22:40:41, time: 1.816, data_time: 0.617, memory: 4940, decode.loss_ce: 0.0783, decode.acc_seg: 82.5600, aux.loss_ce: 0.0361, aux.acc_seg: 82.1035, loss: 0.1144\n",
      "2022-03-08 03:09:02,436 - mmseg - INFO - Saving checkpoint at 26000 iterations\n",
      "2022-03-08 03:09:04,316 - mmseg - INFO - Iter [26000/80000]\tlr: 6.750e-05, eta: 22:33:39, time: 1.216, data_time: 0.005, memory: 4940, decode.loss_ce: 0.0777, decode.acc_seg: 83.2287, aux.loss_ce: 0.0363, aux.acc_seg: 82.8055, loss: 0.1141\n"
     ]
    },
    {
     "name": "stdout",
     "output_type": "stream",
     "text": [
      "[>>>>>>>>>>>>>>>>>>>>>>>>>>>>>] 800/800, 6.8 task/s, elapsed: 118s, ETA:     0s"
     ]
    },
    {
     "name": "stderr",
     "output_type": "stream",
     "text": [
      "2022-03-08 03:11:02,597 - mmseg - INFO - per class results:\n",
      "2022-03-08 03:11:02,599 - mmseg - INFO - \n",
      "+-------+-------+-------+\n",
      "| Class |  IoU  |  Acc  |\n",
      "+-------+-------+-------+\n",
      "|  face |  78.3 | 85.94 |\n",
      "|   bg  | 97.51 | 98.97 |\n",
      "+-------+-------+-------+\n",
      "2022-03-08 03:11:02,600 - mmseg - INFO - Summary:\n",
      "2022-03-08 03:11:02,601 - mmseg - INFO - \n",
      "+-------+------+-------+\n",
      "|  aAcc | mIoU |  mAcc |\n",
      "+-------+------+-------+\n",
      "| 97.72 | 87.9 | 92.45 |\n",
      "+-------+------+-------+\n",
      "2022-03-08 03:11:02,607 - mmseg - INFO - Iter(val) [800]\taAcc: 0.9772, mIoU: 0.8790, mAcc: 0.9245, IoU.face: 0.7830, IoU.bg: 0.9751, Acc.face: 0.8594, Acc.bg: 0.9897\n",
      "2022-03-08 03:15:08,460 - mmseg - INFO - Iter [26200/80000]\tlr: 6.725e-05, eta: 22:30:48, time: 1.821, data_time: 0.607, memory: 4940, decode.loss_ce: 0.0728, decode.acc_seg: 83.2519, aux.loss_ce: 0.0341, aux.acc_seg: 82.8352, loss: 0.1069\n",
      "2022-03-08 03:19:07,432 - mmseg - INFO - Iter [26400/80000]\tlr: 6.700e-05, eta: 22:23:40, time: 1.195, data_time: 0.005, memory: 4940, decode.loss_ce: 0.0789, decode.acc_seg: 83.1337, aux.loss_ce: 0.0370, aux.acc_seg: 82.7092, loss: 0.1158\n"
     ]
    },
    {
     "name": "stdout",
     "output_type": "stream",
     "text": [
      "[>>>>>>>>>>>>>>>>>>>>>>>>>>>>>] 800/800, 6.8 task/s, elapsed: 118s, ETA:     0s"
     ]
    },
    {
     "name": "stderr",
     "output_type": "stream",
     "text": [
      "2022-03-08 03:21:05,672 - mmseg - INFO - per class results:\n",
      "2022-03-08 03:21:05,674 - mmseg - INFO - \n",
      "+-------+-------+-------+\n",
      "| Class |  IoU  |  Acc  |\n",
      "+-------+-------+-------+\n",
      "|  face | 79.34 | 88.39 |\n",
      "|   bg  | 97.59 | 98.79 |\n",
      "+-------+-------+-------+\n",
      "2022-03-08 03:21:05,675 - mmseg - INFO - Summary:\n",
      "2022-03-08 03:21:05,676 - mmseg - INFO - \n",
      "+------+-------+-------+\n",
      "| aAcc |  mIoU |  mAcc |\n",
      "+------+-------+-------+\n",
      "| 97.8 | 88.47 | 93.59 |\n",
      "+------+-------+-------+\n",
      "2022-03-08 03:21:05,687 - mmseg - INFO - Iter(val) [800]\taAcc: 0.9780, mIoU: 0.8847, mAcc: 0.9359, IoU.face: 0.7934, IoU.bg: 0.9759, Acc.face: 0.8839, Acc.bg: 0.9879\n",
      "2022-03-08 03:25:08,128 - mmseg - INFO - Iter [26600/80000]\tlr: 6.675e-05, eta: 22:20:39, time: 1.803, data_time: 0.607, memory: 4940, decode.loss_ce: 0.0802, decode.acc_seg: 83.4269, aux.loss_ce: 0.0379, aux.acc_seg: 82.9203, loss: 0.1182\n",
      "2022-03-08 03:29:08,805 - mmseg - INFO - Iter [26800/80000]\tlr: 6.650e-05, eta: 22:13:38, time: 1.203, data_time: 0.005, memory: 4940, decode.loss_ce: 0.0753, decode.acc_seg: 82.6085, aux.loss_ce: 0.0346, aux.acc_seg: 82.2178, loss: 0.1099\n"
     ]
    },
    {
     "name": "stdout",
     "output_type": "stream",
     "text": [
      "[>>>>>>>>>>>>>>>>>>>>>>>>>>>>>] 800/800, 6.8 task/s, elapsed: 118s, ETA:     0s"
     ]
    },
    {
     "name": "stderr",
     "output_type": "stream",
     "text": [
      "2022-03-08 03:31:06,535 - mmseg - INFO - per class results:\n",
      "2022-03-08 03:31:06,536 - mmseg - INFO - \n",
      "+-------+-------+-------+\n",
      "| Class |  IoU  |  Acc  |\n",
      "+-------+-------+-------+\n",
      "|  face | 78.97 | 87.87 |\n",
      "|   bg  | 97.55 | 98.81 |\n",
      "+-------+-------+-------+\n",
      "2022-03-08 03:31:06,537 - mmseg - INFO - Summary:\n",
      "2022-03-08 03:31:06,539 - mmseg - INFO - \n",
      "+-------+-------+-------+\n",
      "|  aAcc |  mIoU |  mAcc |\n",
      "+-------+-------+-------+\n",
      "| 97.76 | 88.26 | 93.34 |\n",
      "+-------+-------+-------+\n",
      "2022-03-08 03:31:06,544 - mmseg - INFO - Iter(val) [800]\taAcc: 0.9776, mIoU: 0.8826, mAcc: 0.9334, IoU.face: 0.7897, IoU.bg: 0.9755, Acc.face: 0.8787, Acc.bg: 0.9881\n",
      "2022-03-08 03:35:08,677 - mmseg - INFO - Iter [27000/80000]\tlr: 6.625e-05, eta: 22:10:33, time: 1.799, data_time: 0.604, memory: 4940, decode.loss_ce: 0.0746, decode.acc_seg: 83.0209, aux.loss_ce: 0.0342, aux.acc_seg: 82.6125, loss: 0.1089\n",
      "2022-03-08 03:39:08,977 - mmseg - INFO - Iter [27200/80000]\tlr: 6.600e-05, eta: 22:03:33, time: 1.201, data_time: 0.005, memory: 4940, decode.loss_ce: 0.0828, decode.acc_seg: 83.7243, aux.loss_ce: 0.0382, aux.acc_seg: 83.2450, loss: 0.1210\n"
     ]
    },
    {
     "name": "stdout",
     "output_type": "stream",
     "text": [
      "[>>>>>>>>>>>>>>>>>>>>>>>>>>>>>] 800/800, 6.8 task/s, elapsed: 118s, ETA:     0s"
     ]
    },
    {
     "name": "stderr",
     "output_type": "stream",
     "text": [
      "2022-03-08 03:41:06,926 - mmseg - INFO - per class results:\n",
      "2022-03-08 03:41:06,928 - mmseg - INFO - \n",
      "+-------+-------+-------+\n",
      "| Class |  IoU  |  Acc  |\n",
      "+-------+-------+-------+\n",
      "|  face |  78.5 | 86.59 |\n",
      "|   bg  | 97.52 | 98.91 |\n",
      "+-------+-------+-------+\n",
      "2022-03-08 03:41:06,928 - mmseg - INFO - Summary:\n",
      "2022-03-08 03:41:06,929 - mmseg - INFO - \n",
      "+-------+-------+-------+\n",
      "|  aAcc |  mIoU |  mAcc |\n",
      "+-------+-------+-------+\n",
      "| 97.73 | 88.01 | 92.75 |\n",
      "+-------+-------+-------+\n",
      "2022-03-08 03:41:06,939 - mmseg - INFO - Iter(val) [800]\taAcc: 0.9773, mIoU: 0.8801, mAcc: 0.9275, IoU.face: 0.7850, IoU.bg: 0.9752, Acc.face: 0.8659, Acc.bg: 0.9891\n",
      "2022-03-08 03:45:12,854 - mmseg - INFO - Iter [27400/80000]\tlr: 6.575e-05, eta: 22:00:33, time: 1.819, data_time: 0.606, memory: 4940, decode.loss_ce: 0.0761, decode.acc_seg: 82.7522, aux.loss_ce: 0.0359, aux.acc_seg: 82.2712, loss: 0.1120\n",
      "2022-03-08 03:49:12,274 - mmseg - INFO - Iter [27600/80000]\tlr: 6.550e-05, eta: 21:53:35, time: 1.197, data_time: 0.005, memory: 4940, decode.loss_ce: 0.0761, decode.acc_seg: 82.6132, aux.loss_ce: 0.0354, aux.acc_seg: 82.1494, loss: 0.1115\n"
     ]
    },
    {
     "name": "stdout",
     "output_type": "stream",
     "text": [
      "[>>>>>>>>>>>>>>>>>>>>>>>>>>>>>] 800/800, 6.6 task/s, elapsed: 120s, ETA:     0s"
     ]
    },
    {
     "name": "stderr",
     "output_type": "stream",
     "text": [
      "2022-03-08 03:51:12,630 - mmseg - INFO - per class results:\n",
      "2022-03-08 03:51:12,632 - mmseg - INFO - \n",
      "+-------+-------+-------+\n",
      "| Class |  IoU  |  Acc  |\n",
      "+-------+-------+-------+\n",
      "|  face | 77.84 | 88.25 |\n",
      "|   bg  | 97.37 | 98.58 |\n",
      "+-------+-------+-------+\n",
      "2022-03-08 03:51:12,632 - mmseg - INFO - Summary:\n",
      "2022-03-08 03:51:12,634 - mmseg - INFO - \n",
      "+-------+-------+-------+\n",
      "|  aAcc |  mIoU |  mAcc |\n",
      "+-------+-------+-------+\n",
      "| 97.59 | 87.61 | 93.42 |\n",
      "+-------+-------+-------+\n",
      "2022-03-08 03:51:12,640 - mmseg - INFO - Iter(val) [800]\taAcc: 0.9759, mIoU: 0.8761, mAcc: 0.9342, IoU.face: 0.7784, IoU.bg: 0.9737, Acc.face: 0.8825, Acc.bg: 0.9858\n",
      "2022-03-08 03:55:18,794 - mmseg - INFO - Iter [27800/80000]\tlr: 6.525e-05, eta: 21:50:37, time: 1.833, data_time: 0.618, memory: 4940, decode.loss_ce: 0.0755, decode.acc_seg: 82.8348, aux.loss_ce: 0.0354, aux.acc_seg: 82.4291, loss: 0.1109\n",
      "2022-03-08 03:59:21,762 - mmseg - INFO - Saving checkpoint at 28000 iterations\n",
      "2022-03-08 03:59:23,735 - mmseg - INFO - Iter [28000/80000]\tlr: 6.500e-05, eta: 21:43:51, time: 1.225, data_time: 0.005, memory: 4940, decode.loss_ce: 0.0761, decode.acc_seg: 82.2212, aux.loss_ce: 0.0358, aux.acc_seg: 81.7658, loss: 0.1119\n"
     ]
    },
    {
     "name": "stdout",
     "output_type": "stream",
     "text": [
      "[>>>>>>>>>>>>>>>>>>>>>>>>>>>>>] 800/800, 6.7 task/s, elapsed: 119s, ETA:     0s"
     ]
    },
    {
     "name": "stderr",
     "output_type": "stream",
     "text": [
      "2022-03-08 04:01:22,525 - mmseg - INFO - per class results:\n",
      "2022-03-08 04:01:22,527 - mmseg - INFO - \n",
      "+-------+-------+-------+\n",
      "| Class |  IoU  |  Acc  |\n",
      "+-------+-------+-------+\n",
      "|  face | 79.07 | 87.49 |\n",
      "|   bg  | 97.58 | 98.87 |\n",
      "+-------+-------+-------+\n",
      "2022-03-08 04:01:22,528 - mmseg - INFO - Summary:\n",
      "2022-03-08 04:01:22,529 - mmseg - INFO - \n",
      "+-------+-------+-------+\n",
      "|  aAcc |  mIoU |  mAcc |\n",
      "+-------+-------+-------+\n",
      "| 97.78 | 88.33 | 93.18 |\n",
      "+-------+-------+-------+\n",
      "2022-03-08 04:01:22,533 - mmseg - INFO - Iter(val) [800]\taAcc: 0.9778, mIoU: 0.8833, mAcc: 0.9318, IoU.face: 0.7907, IoU.bg: 0.9758, Acc.face: 0.8749, Acc.bg: 0.9887\n",
      "2022-03-08 04:05:26,678 - mmseg - INFO - Iter [28200/80000]\tlr: 6.475e-05, eta: 21:40:44, time: 1.815, data_time: 0.610, memory: 4940, decode.loss_ce: 0.0763, decode.acc_seg: 82.9325, aux.loss_ce: 0.0355, aux.acc_seg: 82.5196, loss: 0.1118\n",
      "2022-03-08 04:09:29,217 - mmseg - INFO - Iter [28400/80000]\tlr: 6.450e-05, eta: 21:33:56, time: 1.213, data_time: 0.005, memory: 4940, decode.loss_ce: 0.0807, decode.acc_seg: 83.4752, aux.loss_ce: 0.0366, aux.acc_seg: 83.0322, loss: 0.1173\n"
     ]
    },
    {
     "name": "stdout",
     "output_type": "stream",
     "text": [
      "[>>>>>>>>>>>>>>>>>>>>>>>>>>>>>] 800/800, 6.7 task/s, elapsed: 119s, ETA:     0s"
     ]
    },
    {
     "name": "stderr",
     "output_type": "stream",
     "text": [
      "2022-03-08 04:11:28,146 - mmseg - INFO - per class results:\n",
      "2022-03-08 04:11:28,147 - mmseg - INFO - \n",
      "+-------+-------+-------+\n",
      "| Class |  IoU  |  Acc  |\n",
      "+-------+-------+-------+\n",
      "|  face | 78.48 | 85.13 |\n",
      "|   bg  | 97.57 |  99.1 |\n",
      "+-------+-------+-------+\n",
      "2022-03-08 04:11:28,148 - mmseg - INFO - Summary:\n",
      "2022-03-08 04:11:28,149 - mmseg - INFO - \n",
      "+-------+-------+-------+\n",
      "|  aAcc |  mIoU |  mAcc |\n",
      "+-------+-------+-------+\n",
      "| 97.76 | 88.02 | 92.12 |\n",
      "+-------+-------+-------+\n",
      "2022-03-08 04:11:28,153 - mmseg - INFO - Iter(val) [800]\taAcc: 0.9776, mIoU: 0.8802, mAcc: 0.9212, IoU.face: 0.7848, IoU.bg: 0.9757, Acc.face: 0.8513, Acc.bg: 0.9910\n",
      "2022-03-08 04:15:36,280 - mmseg - INFO - Iter [28600/80000]\tlr: 6.425e-05, eta: 21:30:54, time: 1.835, data_time: 0.611, memory: 4940, decode.loss_ce: 0.0798, decode.acc_seg: 82.0416, aux.loss_ce: 0.0361, aux.acc_seg: 81.6408, loss: 0.1159\n",
      "2022-03-08 04:19:41,517 - mmseg - INFO - Iter [28800/80000]\tlr: 6.400e-05, eta: 21:24:13, time: 1.226, data_time: 0.005, memory: 4940, decode.loss_ce: 0.0727, decode.acc_seg: 83.7520, aux.loss_ce: 0.0341, aux.acc_seg: 83.2996, loss: 0.1068\n"
     ]
    },
    {
     "name": "stdout",
     "output_type": "stream",
     "text": [
      "[>>>>>>>>>>>>>>>>>>>>>>>>>>>>>] 800/800, 6.7 task/s, elapsed: 119s, ETA:     0s"
     ]
    },
    {
     "name": "stderr",
     "output_type": "stream",
     "text": [
      "2022-03-08 04:21:40,853 - mmseg - INFO - per class results:\n",
      "2022-03-08 04:21:40,854 - mmseg - INFO - \n",
      "+-------+-------+-------+\n",
      "| Class |  IoU  |  Acc  |\n",
      "+-------+-------+-------+\n",
      "|  face | 78.72 | 86.01 |\n",
      "|   bg  | 97.57 | 99.02 |\n",
      "+-------+-------+-------+\n",
      "2022-03-08 04:21:40,855 - mmseg - INFO - Summary:\n",
      "2022-03-08 04:21:40,856 - mmseg - INFO - \n",
      "+-------+-------+-------+\n",
      "|  aAcc |  mIoU |  mAcc |\n",
      "+-------+-------+-------+\n",
      "| 97.77 | 88.14 | 92.51 |\n",
      "+-------+-------+-------+\n",
      "2022-03-08 04:21:40,859 - mmseg - INFO - Iter(val) [800]\taAcc: 0.9777, mIoU: 0.8814, mAcc: 0.9251, IoU.face: 0.7872, IoU.bg: 0.9757, Acc.face: 0.8601, Acc.bg: 0.9902\n",
      "2022-03-08 04:25:45,385 - mmseg - INFO - Iter [29000/80000]\tlr: 6.375e-05, eta: 21:21:03, time: 1.819, data_time: 0.613, memory: 4940, decode.loss_ce: 0.0657, decode.acc_seg: 82.3417, aux.loss_ce: 0.0307, aux.acc_seg: 81.9750, loss: 0.0965\n",
      "2022-03-08 04:29:47,417 - mmseg - INFO - Iter [29200/80000]\tlr: 6.350e-05, eta: 21:14:18, time: 1.210, data_time: 0.005, memory: 4940, decode.loss_ce: 0.0876, decode.acc_seg: 83.2987, aux.loss_ce: 0.0408, aux.acc_seg: 82.8515, loss: 0.1284\n"
     ]
    },
    {
     "name": "stdout",
     "output_type": "stream",
     "text": [
      "[>>>>>>>>>>>>>>>>>>>>>>>>>>>>>] 800/800, 6.8 task/s, elapsed: 118s, ETA:     0s"
     ]
    },
    {
     "name": "stderr",
     "output_type": "stream",
     "text": [
      "2022-03-08 04:31:45,704 - mmseg - INFO - per class results:\n",
      "2022-03-08 04:31:45,706 - mmseg - INFO - \n",
      "+-------+-------+-------+\n",
      "| Class |  IoU  |  Acc  |\n",
      "+-------+-------+-------+\n",
      "|  face | 78.95 | 85.95 |\n",
      "|   bg  | 97.61 | 99.06 |\n",
      "+-------+-------+-------+\n",
      "2022-03-08 04:31:45,708 - mmseg - INFO - Summary:\n",
      "2022-03-08 04:31:45,710 - mmseg - INFO - \n",
      "+-------+-------+------+\n",
      "|  aAcc |  mIoU | mAcc |\n",
      "+-------+-------+------+\n",
      "| 97.81 | 88.28 | 92.5 |\n",
      "+-------+-------+------+\n",
      "2022-03-08 04:31:45,718 - mmseg - INFO - Iter(val) [800]\taAcc: 0.9781, mIoU: 0.8828, mAcc: 0.9250, IoU.face: 0.7895, IoU.bg: 0.9761, Acc.face: 0.8595, Acc.bg: 0.9906\n",
      "2022-03-08 04:35:47,833 - mmseg - INFO - Iter [29400/80000]\tlr: 6.325e-05, eta: 21:10:59, time: 1.802, data_time: 0.607, memory: 4940, decode.loss_ce: 0.0722, decode.acc_seg: 83.9952, aux.loss_ce: 0.0345, aux.acc_seg: 83.5322, loss: 0.1067\n",
      "2022-03-08 04:39:48,640 - mmseg - INFO - Iter [29600/80000]\tlr: 6.300e-05, eta: 21:04:14, time: 1.204, data_time: 0.005, memory: 4940, decode.loss_ce: 0.0810, decode.acc_seg: 82.9682, aux.loss_ce: 0.0378, aux.acc_seg: 82.5436, loss: 0.1188\n"
     ]
    },
    {
     "name": "stdout",
     "output_type": "stream",
     "text": [
      "[>>>>>>>>>>>>>>>>>>>>>>>>>>>>>] 800/800, 6.8 task/s, elapsed: 118s, ETA:     0s"
     ]
    },
    {
     "name": "stderr",
     "output_type": "stream",
     "text": [
      "2022-03-08 04:41:46,878 - mmseg - INFO - per class results:\n",
      "2022-03-08 04:41:46,879 - mmseg - INFO - \n",
      "+-------+-------+-------+\n",
      "| Class |  IoU  |  Acc  |\n",
      "+-------+-------+-------+\n",
      "|  face | 79.25 | 87.86 |\n",
      "|   bg  | 97.59 | 98.85 |\n",
      "+-------+-------+-------+\n",
      "2022-03-08 04:41:46,880 - mmseg - INFO - Summary:\n",
      "2022-03-08 04:41:46,881 - mmseg - INFO - \n",
      "+------+-------+-------+\n",
      "| aAcc |  mIoU |  mAcc |\n",
      "+------+-------+-------+\n",
      "| 97.8 | 88.42 | 93.36 |\n",
      "+------+-------+-------+\n",
      "2022-03-08 04:41:46,886 - mmseg - INFO - Iter(val) [800]\taAcc: 0.9780, mIoU: 0.8842, mAcc: 0.9336, IoU.face: 0.7925, IoU.bg: 0.9759, Acc.face: 0.8786, Acc.bg: 0.9885\n",
      "2022-03-08 04:45:52,875 - mmseg - INFO - Iter [29800/80000]\tlr: 6.275e-05, eta: 21:01:00, time: 1.821, data_time: 0.607, memory: 4940, decode.loss_ce: 0.0703, decode.acc_seg: 82.8111, aux.loss_ce: 0.0333, aux.acc_seg: 82.3574, loss: 0.1036\n",
      "2022-03-08 04:49:52,043 - mmseg - INFO - Saving checkpoint at 30000 iterations\n",
      "2022-03-08 04:49:53,861 - mmseg - INFO - Iter [30000/80000]\tlr: 6.250e-05, eta: 20:54:18, time: 1.205, data_time: 0.005, memory: 4940, decode.loss_ce: 0.0829, decode.acc_seg: 82.7299, aux.loss_ce: 0.0382, aux.acc_seg: 82.3434, loss: 0.1211\n"
     ]
    },
    {
     "name": "stdout",
     "output_type": "stream",
     "text": [
      "[>>>>>>>>>>>>>>>>>>>>>>>>>>>>>] 800/800, 6.7 task/s, elapsed: 119s, ETA:     0s"
     ]
    },
    {
     "name": "stderr",
     "output_type": "stream",
     "text": [
      "2022-03-08 04:51:52,795 - mmseg - INFO - per class results:\n",
      "2022-03-08 04:51:52,796 - mmseg - INFO - \n",
      "+-------+-------+-------+\n",
      "| Class |  IoU  |  Acc  |\n",
      "+-------+-------+-------+\n",
      "|  face | 78.05 | 85.27 |\n",
      "|   bg  |  97.5 | 99.02 |\n",
      "+-------+-------+-------+\n",
      "2022-03-08 04:51:52,798 - mmseg - INFO - Summary:\n",
      "2022-03-08 04:51:52,799 - mmseg - INFO - \n",
      "+------+-------+-------+\n",
      "| aAcc |  mIoU |  mAcc |\n",
      "+------+-------+-------+\n",
      "| 97.7 | 87.77 | 92.14 |\n",
      "+------+-------+-------+\n",
      "2022-03-08 04:51:52,802 - mmseg - INFO - Iter(val) [800]\taAcc: 0.9770, mIoU: 0.8777, mAcc: 0.9214, IoU.face: 0.7805, IoU.bg: 0.9750, Acc.face: 0.8527, Acc.bg: 0.9902\n",
      "2022-03-08 04:55:57,305 - mmseg - INFO - Iter [30200/80000]\tlr: 6.225e-05, eta: 20:51:00, time: 1.817, data_time: 0.611, memory: 4940, decode.loss_ce: 0.0742, decode.acc_seg: 82.9260, aux.loss_ce: 0.0347, aux.acc_seg: 82.5391, loss: 0.1089\n",
      "2022-03-08 04:59:57,466 - mmseg - INFO - Iter [30400/80000]\tlr: 6.200e-05, eta: 20:44:18, time: 1.201, data_time: 0.005, memory: 4940, decode.loss_ce: 0.0745, decode.acc_seg: 83.6389, aux.loss_ce: 0.0350, aux.acc_seg: 83.2389, loss: 0.1095\n"
     ]
    },
    {
     "name": "stdout",
     "output_type": "stream",
     "text": [
      "[>>>>>>>>>>>>>>>>>>>>>>>>>>>>>] 800/800, 6.8 task/s, elapsed: 118s, ETA:     0s"
     ]
    },
    {
     "name": "stderr",
     "output_type": "stream",
     "text": [
      "2022-03-08 05:01:55,106 - mmseg - INFO - per class results:\n",
      "2022-03-08 05:01:55,107 - mmseg - INFO - \n",
      "+-------+-------+-------+\n",
      "| Class |  IoU  |  Acc  |\n",
      "+-------+-------+-------+\n",
      "|  face |  78.4 | 86.48 |\n",
      "|   bg  | 97.51 | 98.91 |\n",
      "+-------+-------+-------+\n",
      "2022-03-08 05:01:55,108 - mmseg - INFO - Summary:\n",
      "2022-03-08 05:01:55,109 - mmseg - INFO - \n",
      "+-------+-------+-------+\n",
      "|  aAcc |  mIoU |  mAcc |\n",
      "+-------+-------+-------+\n",
      "| 97.72 | 87.96 | 92.69 |\n",
      "+-------+-------+-------+\n",
      "2022-03-08 05:01:55,117 - mmseg - INFO - Iter(val) [800]\taAcc: 0.9772, mIoU: 0.8796, mAcc: 0.9269, IoU.face: 0.7840, IoU.bg: 0.9751, Acc.face: 0.8648, Acc.bg: 0.9891\n",
      "2022-03-08 05:05:58,844 - mmseg - INFO - Iter [30600/80000]\tlr: 6.175e-05, eta: 20:40:54, time: 1.807, data_time: 0.604, memory: 4940, decode.loss_ce: 0.0805, decode.acc_seg: 82.4690, aux.loss_ce: 0.0378, aux.acc_seg: 81.9443, loss: 0.1183\n",
      "2022-03-08 05:10:00,979 - mmseg - INFO - Iter [30800/80000]\tlr: 6.150e-05, eta: 20:34:18, time: 1.211, data_time: 0.005, memory: 4940, decode.loss_ce: 0.0812, decode.acc_seg: 83.0953, aux.loss_ce: 0.0369, aux.acc_seg: 82.6974, loss: 0.1181\n"
     ]
    },
    {
     "name": "stdout",
     "output_type": "stream",
     "text": [
      "[>>>>>>>>>>>>>>>>>>>>>>>>>>>>>] 800/800, 6.7 task/s, elapsed: 119s, ETA:     0s"
     ]
    },
    {
     "name": "stderr",
     "output_type": "stream",
     "text": [
      "2022-03-08 05:11:59,969 - mmseg - INFO - per class results:\n",
      "2022-03-08 05:11:59,971 - mmseg - INFO - \n",
      "+-------+-------+-------+\n",
      "| Class |  IoU  |  Acc  |\n",
      "+-------+-------+-------+\n",
      "|  face | 78.78 | 86.68 |\n",
      "|   bg  | 97.56 | 98.94 |\n",
      "+-------+-------+-------+\n",
      "2022-03-08 05:11:59,972 - mmseg - INFO - Summary:\n",
      "2022-03-08 05:11:59,972 - mmseg - INFO - \n",
      "+-------+-------+-------+\n",
      "|  aAcc |  mIoU |  mAcc |\n",
      "+-------+-------+-------+\n",
      "| 97.76 | 88.17 | 92.81 |\n",
      "+-------+-------+-------+\n",
      "2022-03-08 05:11:59,976 - mmseg - INFO - Iter(val) [800]\taAcc: 0.9776, mIoU: 0.8817, mAcc: 0.9281, IoU.face: 0.7878, IoU.bg: 0.9756, Acc.face: 0.8668, Acc.bg: 0.9894\n",
      "2022-03-08 05:16:13,238 - mmseg - INFO - Iter [31000/80000]\tlr: 6.125e-05, eta: 20:31:10, time: 1.861, data_time: 0.611, memory: 4940, decode.loss_ce: 0.0779, decode.acc_seg: 83.0316, aux.loss_ce: 0.0361, aux.acc_seg: 82.5886, loss: 0.1139\n",
      "2022-03-08 05:20:13,307 - mmseg - INFO - Iter [31200/80000]\tlr: 6.100e-05, eta: 20:24:32, time: 1.200, data_time: 0.005, memory: 4940, decode.loss_ce: 0.0767, decode.acc_seg: 82.9792, aux.loss_ce: 0.0352, aux.acc_seg: 82.5860, loss: 0.1119\n"
     ]
    },
    {
     "name": "stdout",
     "output_type": "stream",
     "text": [
      "[>>>>>>>>>>>>>>>>>>>>>>>>>>>>>] 800/800, 6.7 task/s, elapsed: 120s, ETA:     0s"
     ]
    },
    {
     "name": "stderr",
     "output_type": "stream",
     "text": [
      "2022-03-08 05:22:13,286 - mmseg - INFO - per class results:\n",
      "2022-03-08 05:22:13,287 - mmseg - INFO - \n",
      "+-------+-------+-------+\n",
      "| Class |  IoU  |  Acc  |\n",
      "+-------+-------+-------+\n",
      "|  face | 79.01 | 87.23 |\n",
      "|   bg  | 97.58 |  98.9 |\n",
      "+-------+-------+-------+\n",
      "2022-03-08 05:22:13,288 - mmseg - INFO - Summary:\n",
      "2022-03-08 05:22:13,289 - mmseg - INFO - \n",
      "+-------+------+-------+\n",
      "|  aAcc | mIoU |  mAcc |\n",
      "+-------+------+-------+\n",
      "| 97.78 | 88.3 | 93.06 |\n",
      "+-------+------+-------+\n",
      "2022-03-08 05:22:13,297 - mmseg - INFO - Iter(val) [800]\taAcc: 0.9778, mIoU: 0.8830, mAcc: 0.9306, IoU.face: 0.7901, IoU.bg: 0.9758, Acc.face: 0.8723, Acc.bg: 0.9890\n",
      "2022-03-08 05:26:17,947 - mmseg - INFO - Iter [31400/80000]\tlr: 6.075e-05, eta: 20:21:09, time: 1.823, data_time: 0.616, memory: 4940, decode.loss_ce: 0.0760, decode.acc_seg: 82.9808, aux.loss_ce: 0.0354, aux.acc_seg: 82.5872, loss: 0.1114\n",
      "2022-03-08 05:30:20,076 - mmseg - INFO - Iter [31600/80000]\tlr: 6.050e-05, eta: 20:14:37, time: 1.211, data_time: 0.005, memory: 4940, decode.loss_ce: 0.0708, decode.acc_seg: 82.9862, aux.loss_ce: 0.0330, aux.acc_seg: 82.5801, loss: 0.1038\n"
     ]
    },
    {
     "name": "stdout",
     "output_type": "stream",
     "text": [
      "[>>>>>>>>>>>>>>>>>>>>>>>>>>>>>] 800/800, 6.7 task/s, elapsed: 119s, ETA:     0s"
     ]
    },
    {
     "name": "stderr",
     "output_type": "stream",
     "text": [
      "2022-03-08 05:32:19,595 - mmseg - INFO - per class results:\n",
      "2022-03-08 05:32:19,596 - mmseg - INFO - \n",
      "+-------+-------+-------+\n",
      "| Class |  IoU  |  Acc  |\n",
      "+-------+-------+-------+\n",
      "|  face | 78.83 | 87.84 |\n",
      "|   bg  | 97.53 | 98.79 |\n",
      "+-------+-------+-------+\n",
      "2022-03-08 05:32:19,597 - mmseg - INFO - Summary:\n",
      "2022-03-08 05:32:19,599 - mmseg - INFO - \n",
      "+-------+-------+-------+\n",
      "|  aAcc |  mIoU |  mAcc |\n",
      "+-------+-------+-------+\n",
      "| 97.74 | 88.18 | 93.32 |\n",
      "+-------+-------+-------+\n",
      "2022-03-08 05:32:19,604 - mmseg - INFO - Iter(val) [800]\taAcc: 0.9774, mIoU: 0.8818, mAcc: 0.9332, IoU.face: 0.7883, IoU.bg: 0.9753, Acc.face: 0.8784, Acc.bg: 0.9879\n",
      "2022-03-08 05:36:23,508 - mmseg - INFO - Iter [31800/80000]\tlr: 6.025e-05, eta: 20:11:10, time: 1.817, data_time: 0.614, memory: 4940, decode.loss_ce: 0.0768, decode.acc_seg: 82.8962, aux.loss_ce: 0.0362, aux.acc_seg: 82.4426, loss: 0.1131\n",
      "2022-03-08 05:40:27,739 - mmseg - INFO - Saving checkpoint at 32000 iterations\n",
      "2022-03-08 05:40:29,578 - mmseg - INFO - Iter [32000/80000]\tlr: 6.000e-05, eta: 20:04:45, time: 1.230, data_time: 0.005, memory: 4940, decode.loss_ce: 0.0727, decode.acc_seg: 82.9906, aux.loss_ce: 0.0337, aux.acc_seg: 82.6122, loss: 0.1064\n"
     ]
    },
    {
     "name": "stdout",
     "output_type": "stream",
     "text": [
      "[>>>>>>>>>>>>>>>>>>>>>>>>>>>>>] 800/800, 6.7 task/s, elapsed: 119s, ETA:     0s"
     ]
    },
    {
     "name": "stderr",
     "output_type": "stream",
     "text": [
      "2022-03-08 05:42:28,874 - mmseg - INFO - per class results:\n",
      "2022-03-08 05:42:28,876 - mmseg - INFO - \n",
      "+-------+-------+-------+\n",
      "| Class |  IoU  |  Acc  |\n",
      "+-------+-------+-------+\n",
      "|  face | 79.18 | 87.34 |\n",
      "|   bg  |  97.6 | 98.91 |\n",
      "+-------+-------+-------+\n",
      "2022-03-08 05:42:28,879 - mmseg - INFO - Summary:\n",
      "2022-03-08 05:42:28,880 - mmseg - INFO - \n",
      "+------+-------+-------+\n",
      "| aAcc |  mIoU |  mAcc |\n",
      "+------+-------+-------+\n",
      "| 97.8 | 88.39 | 93.12 |\n",
      "+------+-------+-------+\n",
      "2022-03-08 05:42:28,893 - mmseg - INFO - Iter(val) [800]\taAcc: 0.9780, mIoU: 0.8839, mAcc: 0.9312, IoU.face: 0.7918, IoU.bg: 0.9760, Acc.face: 0.8734, Acc.bg: 0.9891\n",
      "2022-03-08 05:46:32,082 - mmseg - INFO - Iter [32200/80000]\tlr: 5.975e-05, eta: 20:01:15, time: 1.812, data_time: 0.612, memory: 4940, decode.loss_ce: 0.0816, decode.acc_seg: 82.6046, aux.loss_ce: 0.0381, aux.acc_seg: 82.1432, loss: 0.1197\n",
      "2022-03-08 05:50:35,155 - mmseg - INFO - Iter [32400/80000]\tlr: 5.950e-05, eta: 19:54:48, time: 1.215, data_time: 0.005, memory: 4940, decode.loss_ce: 0.0659, decode.acc_seg: 83.2404, aux.loss_ce: 0.0304, aux.acc_seg: 82.9010, loss: 0.0963\n"
     ]
    },
    {
     "name": "stdout",
     "output_type": "stream",
     "text": [
      "[>>>>>>>>>>>>>>>>>>>>>>>>>>>>>] 800/800, 6.8 task/s, elapsed: 118s, ETA:     0s"
     ]
    },
    {
     "name": "stderr",
     "output_type": "stream",
     "text": [
      "2022-03-08 05:52:33,577 - mmseg - INFO - per class results:\n",
      "2022-03-08 05:52:33,578 - mmseg - INFO - \n",
      "+-------+-------+-------+\n",
      "| Class |  IoU  |  Acc  |\n",
      "+-------+-------+-------+\n",
      "|  face | 79.33 | 87.44 |\n",
      "|   bg  | 97.62 | 98.92 |\n",
      "+-------+-------+-------+\n",
      "2022-03-08 05:52:33,579 - mmseg - INFO - Summary:\n",
      "2022-03-08 05:52:33,581 - mmseg - INFO - \n",
      "+-------+-------+-------+\n",
      "|  aAcc |  mIoU |  mAcc |\n",
      "+-------+-------+-------+\n",
      "| 97.82 | 88.47 | 93.18 |\n",
      "+-------+-------+-------+\n",
      "2022-03-08 05:52:33,583 - mmseg - INFO - Iter(val) [800]\taAcc: 0.9782, mIoU: 0.8847, mAcc: 0.9318, IoU.face: 0.7933, IoU.bg: 0.9762, Acc.face: 0.8744, Acc.bg: 0.9892\n",
      "2022-03-08 05:56:35,167 - mmseg - INFO - Iter [32600/80000]\tlr: 5.925e-05, eta: 19:51:12, time: 1.800, data_time: 0.608, memory: 4940, decode.loss_ce: 0.0729, decode.acc_seg: 82.8054, aux.loss_ce: 0.0340, aux.acc_seg: 82.4202, loss: 0.1069\n",
      "2022-03-08 06:00:36,495 - mmseg - INFO - Iter [32800/80000]\tlr: 5.900e-05, eta: 19:44:44, time: 1.207, data_time: 0.005, memory: 4940, decode.loss_ce: 0.0744, decode.acc_seg: 83.0085, aux.loss_ce: 0.0350, aux.acc_seg: 82.5506, loss: 0.1094\n"
     ]
    },
    {
     "name": "stdout",
     "output_type": "stream",
     "text": [
      "[>>>>>>>>>>>>>>>>>>>>>>>>>>>>>] 800/800, 6.7 task/s, elapsed: 119s, ETA:     0s"
     ]
    },
    {
     "name": "stderr",
     "output_type": "stream",
     "text": [
      "2022-03-08 06:02:35,372 - mmseg - INFO - per class results:\n",
      "2022-03-08 06:02:35,374 - mmseg - INFO - \n",
      "+-------+-------+-------+\n",
      "| Class |  IoU  |  Acc  |\n",
      "+-------+-------+-------+\n",
      "|  face | 78.83 | 87.66 |\n",
      "|   bg  | 97.54 | 98.81 |\n",
      "+-------+-------+-------+\n",
      "2022-03-08 06:02:35,375 - mmseg - INFO - Summary:\n",
      "2022-03-08 06:02:35,376 - mmseg - INFO - \n",
      "+-------+-------+-------+\n",
      "|  aAcc |  mIoU |  mAcc |\n",
      "+-------+-------+-------+\n",
      "| 97.74 | 88.18 | 93.24 |\n",
      "+-------+-------+-------+\n",
      "2022-03-08 06:02:35,380 - mmseg - INFO - Iter(val) [800]\taAcc: 0.9774, mIoU: 0.8818, mAcc: 0.9324, IoU.face: 0.7883, IoU.bg: 0.9754, Acc.face: 0.8766, Acc.bg: 0.9881\n",
      "2022-03-08 06:06:40,573 - mmseg - INFO - Iter [33000/80000]\tlr: 5.875e-05, eta: 19:41:12, time: 1.820, data_time: 0.610, memory: 4940, decode.loss_ce: 0.0734, decode.acc_seg: 82.4692, aux.loss_ce: 0.0341, aux.acc_seg: 82.0587, loss: 0.1075\n",
      "2022-03-08 06:10:43,228 - mmseg - INFO - Iter [33200/80000]\tlr: 5.850e-05, eta: 19:34:47, time: 1.213, data_time: 0.005, memory: 4940, decode.loss_ce: 0.0749, decode.acc_seg: 81.9482, aux.loss_ce: 0.0351, aux.acc_seg: 81.5200, loss: 0.1099\n"
     ]
    },
    {
     "name": "stdout",
     "output_type": "stream",
     "text": [
      "[>>>>>>>>>>>>>>>>>>>>>>>>>>>>>] 800/800, 6.6 task/s, elapsed: 121s, ETA:     0s"
     ]
    },
    {
     "name": "stderr",
     "output_type": "stream",
     "text": [
      "2022-03-08 06:12:43,988 - mmseg - INFO - per class results:\n",
      "2022-03-08 06:12:43,989 - mmseg - INFO - \n",
      "+-------+-------+-------+\n",
      "| Class |  IoU  |  Acc  |\n",
      "+-------+-------+-------+\n",
      "|  face | 78.94 | 87.37 |\n",
      "|   bg  | 97.56 | 98.87 |\n",
      "+-------+-------+-------+\n",
      "2022-03-08 06:12:43,990 - mmseg - INFO - Summary:\n",
      "2022-03-08 06:12:43,991 - mmseg - INFO - \n",
      "+-------+-------+-------+\n",
      "|  aAcc |  mIoU |  mAcc |\n",
      "+-------+-------+-------+\n",
      "| 97.77 | 88.25 | 93.12 |\n",
      "+-------+-------+-------+\n",
      "2022-03-08 06:12:43,995 - mmseg - INFO - Iter(val) [800]\taAcc: 0.9777, mIoU: 0.8825, mAcc: 0.9312, IoU.face: 0.7894, IoU.bg: 0.9756, Acc.face: 0.8737, Acc.bg: 0.9887\n",
      "2022-03-08 06:16:46,268 - mmseg - INFO - Iter [33400/80000]\tlr: 5.825e-05, eta: 19:31:12, time: 1.815, data_time: 0.620, memory: 4940, decode.loss_ce: 0.0787, decode.acc_seg: 82.5427, aux.loss_ce: 0.0366, aux.acc_seg: 82.0901, loss: 0.1153\n",
      "2022-03-08 06:20:47,634 - mmseg - INFO - Iter [33600/80000]\tlr: 5.800e-05, eta: 19:24:48, time: 1.207, data_time: 0.005, memory: 4940, decode.loss_ce: 0.0709, decode.acc_seg: 82.5796, aux.loss_ce: 0.0337, aux.acc_seg: 82.1423, loss: 0.1046\n"
     ]
    },
    {
     "name": "stdout",
     "output_type": "stream",
     "text": [
      "[>>>>>>>>>>>>>>>>>>>>>>>>>>>>>] 800/800, 6.6 task/s, elapsed: 120s, ETA:     0s"
     ]
    },
    {
     "name": "stderr",
     "output_type": "stream",
     "text": [
      "2022-03-08 06:22:48,095 - mmseg - INFO - per class results:\n",
      "2022-03-08 06:22:48,096 - mmseg - INFO - \n",
      "+-------+-------+-------+\n",
      "| Class |  IoU  |  Acc  |\n",
      "+-------+-------+-------+\n",
      "|  face | 79.05 | 88.64 |\n",
      "|   bg  | 97.54 | 98.72 |\n",
      "+-------+-------+-------+\n",
      "2022-03-08 06:22:48,097 - mmseg - INFO - Summary:\n",
      "2022-03-08 06:22:48,099 - mmseg - INFO - \n",
      "+-------+------+-------+\n",
      "|  aAcc | mIoU |  mAcc |\n",
      "+-------+------+-------+\n",
      "| 97.75 | 88.3 | 93.68 |\n",
      "+-------+------+-------+\n",
      "2022-03-08 06:22:48,109 - mmseg - INFO - Iter(val) [800]\taAcc: 0.9775, mIoU: 0.8830, mAcc: 0.9368, IoU.face: 0.7905, IoU.bg: 0.9754, Acc.face: 0.8864, Acc.bg: 0.9872\n",
      "2022-03-08 06:26:52,235 - mmseg - INFO - Iter [33800/80000]\tlr: 5.775e-05, eta: 19:21:13, time: 1.823, data_time: 0.618, memory: 4940, decode.loss_ce: 0.0672, decode.acc_seg: 82.1092, aux.loss_ce: 0.0314, aux.acc_seg: 81.7223, loss: 0.0986\n",
      "2022-03-08 06:30:52,912 - mmseg - INFO - Saving checkpoint at 34000 iterations\n",
      "2022-03-08 06:30:54,752 - mmseg - INFO - Iter [34000/80000]\tlr: 5.750e-05, eta: 19:14:51, time: 1.213, data_time: 0.005, memory: 4940, decode.loss_ce: 0.0805, decode.acc_seg: 83.3449, aux.loss_ce: 0.0377, aux.acc_seg: 82.8985, loss: 0.1182\n"
     ]
    },
    {
     "name": "stdout",
     "output_type": "stream",
     "text": [
      "[>>>>>>>>>>>>>>>>>>>>>>>>>>>>>] 800/800, 6.7 task/s, elapsed: 119s, ETA:     0s"
     ]
    },
    {
     "name": "stderr",
     "output_type": "stream",
     "text": [
      "2022-03-08 06:32:53,904 - mmseg - INFO - per class results:\n",
      "2022-03-08 06:32:53,905 - mmseg - INFO - \n",
      "+-------+-------+-------+\n",
      "| Class |  IoU  |  Acc  |\n",
      "+-------+-------+-------+\n",
      "|  face | 78.71 | 88.51 |\n",
      "|   bg  |  97.5 | 98.68 |\n",
      "+-------+-------+-------+\n",
      "2022-03-08 06:32:53,906 - mmseg - INFO - Summary:\n",
      "2022-03-08 06:32:53,907 - mmseg - INFO - \n",
      "+-------+------+------+\n",
      "|  aAcc | mIoU | mAcc |\n",
      "+-------+------+------+\n",
      "| 97.71 | 88.1 | 93.6 |\n",
      "+-------+------+------+\n",
      "2022-03-08 06:32:53,911 - mmseg - INFO - Iter(val) [800]\taAcc: 0.9771, mIoU: 0.8810, mAcc: 0.9360, IoU.face: 0.7871, IoU.bg: 0.9750, Acc.face: 0.8851, Acc.bg: 0.9868\n",
      "2022-03-08 06:36:56,511 - mmseg - INFO - Iter [34200/80000]\tlr: 5.725e-05, eta: 19:11:11, time: 1.809, data_time: 0.611, memory: 4940, decode.loss_ce: 0.0712, decode.acc_seg: 83.3243, aux.loss_ce: 0.0336, aux.acc_seg: 82.8651, loss: 0.1048\n",
      "2022-03-08 06:40:57,938 - mmseg - INFO - Iter [34400/80000]\tlr: 5.700e-05, eta: 19:04:50, time: 1.207, data_time: 0.005, memory: 4940, decode.loss_ce: 0.0767, decode.acc_seg: 82.8195, aux.loss_ce: 0.0366, aux.acc_seg: 82.3174, loss: 0.1133\n"
     ]
    },
    {
     "name": "stdout",
     "output_type": "stream",
     "text": [
      "[>>>>>>>>>>>>>>>>>>>>>>>>>>>>>] 800/800, 6.7 task/s, elapsed: 120s, ETA:     0s"
     ]
    },
    {
     "name": "stderr",
     "output_type": "stream",
     "text": [
      "2022-03-08 06:42:57,898 - mmseg - INFO - per class results:\n",
      "2022-03-08 06:42:57,899 - mmseg - INFO - \n",
      "+-------+-------+-------+\n",
      "| Class |  IoU  |  Acc  |\n",
      "+-------+-------+-------+\n",
      "|  face |  79.1 | 87.59 |\n",
      "|   bg  | 97.58 | 98.86 |\n",
      "+-------+-------+-------+\n",
      "2022-03-08 06:42:57,899 - mmseg - INFO - Summary:\n",
      "2022-03-08 06:42:57,900 - mmseg - INFO - \n",
      "+-------+-------+-------+\n",
      "|  aAcc |  mIoU |  mAcc |\n",
      "+-------+-------+-------+\n",
      "| 97.78 | 88.34 | 93.23 |\n",
      "+-------+-------+-------+\n",
      "2022-03-08 06:42:57,904 - mmseg - INFO - Iter(val) [800]\taAcc: 0.9778, mIoU: 0.8834, mAcc: 0.9323, IoU.face: 0.7910, IoU.bg: 0.9758, Acc.face: 0.8759, Acc.bg: 0.9886\n",
      "2022-03-08 06:47:02,236 - mmseg - INFO - Iter [34600/80000]\tlr: 5.675e-05, eta: 19:01:11, time: 1.821, data_time: 0.616, memory: 4940, decode.loss_ce: 0.0759, decode.acc_seg: 82.6408, aux.loss_ce: 0.0354, aux.acc_seg: 82.2214, loss: 0.1113\n",
      "2022-03-08 06:51:04,328 - mmseg - INFO - Iter [34800/80000]\tlr: 5.650e-05, eta: 18:54:52, time: 1.210, data_time: 0.005, memory: 4940, decode.loss_ce: 0.0726, decode.acc_seg: 82.8638, aux.loss_ce: 0.0340, aux.acc_seg: 82.4848, loss: 0.1066\n"
     ]
    },
    {
     "name": "stdout",
     "output_type": "stream",
     "text": [
      "[>>>>>>>>>>>>>>>>>>>>>>>>>>>>>] 800/800, 6.7 task/s, elapsed: 120s, ETA:     0s"
     ]
    },
    {
     "name": "stderr",
     "output_type": "stream",
     "text": [
      "2022-03-08 06:53:04,252 - mmseg - INFO - per class results:\n",
      "2022-03-08 06:53:04,254 - mmseg - INFO - \n",
      "+-------+-------+-------+\n",
      "| Class |  IoU  |  Acc  |\n",
      "+-------+-------+-------+\n",
      "|  face | 78.68 | 86.77 |\n",
      "|   bg  | 97.54 | 98.91 |\n",
      "+-------+-------+-------+\n",
      "2022-03-08 06:53:04,255 - mmseg - INFO - Summary:\n",
      "2022-03-08 06:53:04,256 - mmseg - INFO - \n",
      "+-------+-------+-------+\n",
      "|  aAcc |  mIoU |  mAcc |\n",
      "+-------+-------+-------+\n",
      "| 97.75 | 88.11 | 92.84 |\n",
      "+-------+-------+-------+\n",
      "2022-03-08 06:53:04,267 - mmseg - INFO - Iter(val) [800]\taAcc: 0.9775, mIoU: 0.8811, mAcc: 0.9284, IoU.face: 0.7868, IoU.bg: 0.9754, Acc.face: 0.8677, Acc.bg: 0.9891\n",
      "2022-03-08 06:57:07,706 - mmseg - INFO - Iter [35000/80000]\tlr: 5.625e-05, eta: 18:51:11, time: 1.817, data_time: 0.616, memory: 4940, decode.loss_ce: 0.0681, decode.acc_seg: 82.8496, aux.loss_ce: 0.0319, aux.acc_seg: 82.4469, loss: 0.1000\n",
      "2022-03-08 07:01:09,319 - mmseg - INFO - Iter [35200/80000]\tlr: 5.600e-05, eta: 18:44:53, time: 1.208, data_time: 0.005, memory: 4940, decode.loss_ce: 0.0724, decode.acc_seg: 82.5724, aux.loss_ce: 0.0337, aux.acc_seg: 82.1811, loss: 0.1060\n"
     ]
    },
    {
     "name": "stdout",
     "output_type": "stream",
     "text": [
      "[>>>>>>>>>>>>>>>>>>>>>>>>>>>>>] 800/800, 6.7 task/s, elapsed: 119s, ETA:     0s"
     ]
    },
    {
     "name": "stderr",
     "output_type": "stream",
     "text": [
      "2022-03-08 07:03:08,152 - mmseg - INFO - per class results:\n",
      "2022-03-08 07:03:08,153 - mmseg - INFO - \n",
      "+-------+-------+-------+\n",
      "| Class |  IoU  |  Acc  |\n",
      "+-------+-------+-------+\n",
      "|  face | 79.04 | 87.18 |\n",
      "|   bg  | 97.58 | 98.91 |\n",
      "+-------+-------+-------+\n",
      "2022-03-08 07:03:08,154 - mmseg - INFO - Summary:\n",
      "2022-03-08 07:03:08,155 - mmseg - INFO - \n",
      "+-------+-------+-------+\n",
      "|  aAcc |  mIoU |  mAcc |\n",
      "+-------+-------+-------+\n",
      "| 97.79 | 88.31 | 93.05 |\n",
      "+-------+-------+-------+\n",
      "2022-03-08 07:03:08,159 - mmseg - INFO - Iter(val) [800]\taAcc: 0.9779, mIoU: 0.8831, mAcc: 0.9305, IoU.face: 0.7904, IoU.bg: 0.9758, Acc.face: 0.8718, Acc.bg: 0.9891\n",
      "2022-03-08 07:07:11,620 - mmseg - INFO - Iter [35400/80000]\tlr: 5.575e-05, eta: 18:41:08, time: 1.811, data_time: 0.610, memory: 4940, decode.loss_ce: 0.0683, decode.acc_seg: 83.4728, aux.loss_ce: 0.0318, aux.acc_seg: 83.0959, loss: 0.1001\n",
      "2022-03-08 07:11:12,995 - mmseg - INFO - Iter [35600/80000]\tlr: 5.550e-05, eta: 18:34:51, time: 1.207, data_time: 0.005, memory: 4940, decode.loss_ce: 0.0794, decode.acc_seg: 83.0485, aux.loss_ce: 0.0372, aux.acc_seg: 82.6184, loss: 0.1166\n"
     ]
    },
    {
     "name": "stdout",
     "output_type": "stream",
     "text": [
      "[>>>>>>>>>>>>>>>>>>>>>>>>>>>>>] 800/800, 6.7 task/s, elapsed: 119s, ETA:     0s"
     ]
    },
    {
     "name": "stderr",
     "output_type": "stream",
     "text": [
      "2022-03-08 07:13:12,310 - mmseg - INFO - per class results:\n",
      "2022-03-08 07:13:12,311 - mmseg - INFO - \n",
      "+-------+-------+-------+\n",
      "| Class |  IoU  |  Acc  |\n",
      "+-------+-------+-------+\n",
      "|  face | 79.24 | 87.33 |\n",
      "|   bg  | 97.61 | 98.92 |\n",
      "+-------+-------+-------+\n",
      "2022-03-08 07:13:12,313 - mmseg - INFO - Summary:\n",
      "2022-03-08 07:13:12,314 - mmseg - INFO - \n",
      "+-------+-------+-------+\n",
      "|  aAcc |  mIoU |  mAcc |\n",
      "+-------+-------+-------+\n",
      "| 97.81 | 88.42 | 93.12 |\n",
      "+-------+-------+-------+\n",
      "2022-03-08 07:13:12,326 - mmseg - INFO - Iter(val) [800]\taAcc: 0.9781, mIoU: 0.8842, mAcc: 0.9312, IoU.face: 0.7924, IoU.bg: 0.9761, Acc.face: 0.8733, Acc.bg: 0.9892\n",
      "2022-03-08 07:17:15,286 - mmseg - INFO - Iter [35800/80000]\tlr: 5.525e-05, eta: 18:31:05, time: 1.811, data_time: 0.613, memory: 4940, decode.loss_ce: 0.0706, decode.acc_seg: 83.6130, aux.loss_ce: 0.0330, aux.acc_seg: 83.1875, loss: 0.1037\n",
      "2022-03-08 07:21:15,909 - mmseg - INFO - Saving checkpoint at 36000 iterations\n",
      "2022-03-08 07:21:17,756 - mmseg - INFO - Iter [36000/80000]\tlr: 5.500e-05, eta: 18:24:51, time: 1.212, data_time: 0.005, memory: 4940, decode.loss_ce: 0.0803, decode.acc_seg: 83.8648, aux.loss_ce: 0.0375, aux.acc_seg: 83.4396, loss: 0.1178\n"
     ]
    },
    {
     "name": "stdout",
     "output_type": "stream",
     "text": [
      "[>>>>>>>>>>>>>>>>>>>>>>>>>>>>>] 800/800, 6.7 task/s, elapsed: 119s, ETA:     0s"
     ]
    },
    {
     "name": "stderr",
     "output_type": "stream",
     "text": [
      "2022-03-08 07:23:16,770 - mmseg - INFO - per class results:\n",
      "2022-03-08 07:23:16,772 - mmseg - INFO - \n",
      "+-------+-------+-------+\n",
      "| Class |  IoU  |  Acc  |\n",
      "+-------+-------+-------+\n",
      "|  face | 78.63 |  88.4 |\n",
      "|   bg  | 97.49 | 98.68 |\n",
      "+-------+-------+-------+\n",
      "2022-03-08 07:23:16,773 - mmseg - INFO - Summary:\n",
      "2022-03-08 07:23:16,774 - mmseg - INFO - \n",
      "+------+-------+-------+\n",
      "| aAcc |  mIoU |  mAcc |\n",
      "+------+-------+-------+\n",
      "| 97.7 | 88.06 | 93.54 |\n",
      "+------+-------+-------+\n",
      "2022-03-08 07:23:16,776 - mmseg - INFO - Iter(val) [800]\taAcc: 0.9770, mIoU: 0.8806, mAcc: 0.9354, IoU.face: 0.7863, IoU.bg: 0.9749, Acc.face: 0.8840, Acc.bg: 0.9868\n",
      "2022-03-08 07:27:20,067 - mmseg - INFO - Iter [36200/80000]\tlr: 5.475e-05, eta: 18:21:04, time: 1.811, data_time: 0.611, memory: 4940, decode.loss_ce: 0.0713, decode.acc_seg: 83.7160, aux.loss_ce: 0.0336, aux.acc_seg: 83.3469, loss: 0.1049\n",
      "2022-03-08 07:31:21,818 - mmseg - INFO - Iter [36400/80000]\tlr: 5.450e-05, eta: 18:14:50, time: 1.209, data_time: 0.005, memory: 4940, decode.loss_ce: 0.0802, decode.acc_seg: 82.8236, aux.loss_ce: 0.0370, aux.acc_seg: 82.4160, loss: 0.1172\n"
     ]
    },
    {
     "name": "stdout",
     "output_type": "stream",
     "text": [
      "[>>>>>>>>>>>>>>>>>>>>>>>>>>>>>] 800/800, 6.7 task/s, elapsed: 119s, ETA:     0s"
     ]
    },
    {
     "name": "stderr",
     "output_type": "stream",
     "text": [
      "2022-03-08 07:33:21,313 - mmseg - INFO - per class results:\n",
      "2022-03-08 07:33:21,314 - mmseg - INFO - \n",
      "+-------+-------+-------+\n",
      "| Class |  IoU  |  Acc  |\n",
      "+-------+-------+-------+\n",
      "|  face | 78.62 | 89.88 |\n",
      "|   bg  | 97.44 | 98.48 |\n",
      "+-------+-------+-------+\n",
      "2022-03-08 07:33:21,315 - mmseg - INFO - Summary:\n",
      "2022-03-08 07:33:21,316 - mmseg - INFO - \n",
      "+-------+-------+-------+\n",
      "|  aAcc |  mIoU |  mAcc |\n",
      "+-------+-------+-------+\n",
      "| 97.66 | 88.03 | 94.18 |\n",
      "+-------+-------+-------+\n",
      "2022-03-08 07:33:21,325 - mmseg - INFO - Iter(val) [800]\taAcc: 0.9766, mIoU: 0.8803, mAcc: 0.9418, IoU.face: 0.7862, IoU.bg: 0.9744, Acc.face: 0.8988, Acc.bg: 0.9848\n",
      "2022-03-08 07:37:38,100 - mmseg - INFO - Iter [36600/80000]\tlr: 5.425e-05, eta: 18:11:18, time: 1.881, data_time: 0.613, memory: 4940, decode.loss_ce: 0.0801, decode.acc_seg: 82.8849, aux.loss_ce: 0.0379, aux.acc_seg: 82.3936, loss: 0.1180\n",
      "2022-03-08 07:41:37,834 - mmseg - INFO - Iter [36800/80000]\tlr: 5.400e-05, eta: 18:05:03, time: 1.199, data_time: 0.005, memory: 4940, decode.loss_ce: 0.0733, decode.acc_seg: 83.3829, aux.loss_ce: 0.0344, aux.acc_seg: 82.9709, loss: 0.1077\n"
     ]
    },
    {
     "name": "stdout",
     "output_type": "stream",
     "text": [
      "[>>>>>>>>>>>>>>>>>>>>>>>>>>>>>] 800/800, 6.8 task/s, elapsed: 118s, ETA:     0s"
     ]
    },
    {
     "name": "stderr",
     "output_type": "stream",
     "text": [
      "2022-03-08 07:43:36,192 - mmseg - INFO - per class results:\n",
      "2022-03-08 07:43:36,194 - mmseg - INFO - \n",
      "+-------+-------+-------+\n",
      "| Class |  IoU  |  Acc  |\n",
      "+-------+-------+-------+\n",
      "|  face | 79.21 |  87.2 |\n",
      "|   bg  | 97.61 | 98.93 |\n",
      "+-------+-------+-------+\n",
      "2022-03-08 07:43:36,195 - mmseg - INFO - Summary:\n",
      "2022-03-08 07:43:36,196 - mmseg - INFO - \n",
      "+-------+-------+-------+\n",
      "|  aAcc |  mIoU |  mAcc |\n",
      "+-------+-------+-------+\n",
      "| 97.81 | 88.41 | 93.06 |\n",
      "+-------+-------+-------+\n",
      "2022-03-08 07:43:36,205 - mmseg - INFO - Iter(val) [800]\taAcc: 0.9781, mIoU: 0.8841, mAcc: 0.9306, IoU.face: 0.7921, IoU.bg: 0.9761, Acc.face: 0.8720, Acc.bg: 0.9893\n",
      "2022-03-08 07:47:38,561 - mmseg - INFO - Iter [37000/80000]\tlr: 5.375e-05, eta: 18:01:11, time: 1.804, data_time: 0.608, memory: 4940, decode.loss_ce: 0.0671, decode.acc_seg: 83.3599, aux.loss_ce: 0.0315, aux.acc_seg: 83.0074, loss: 0.0986\n",
      "2022-03-08 07:51:39,860 - mmseg - INFO - Iter [37200/80000]\tlr: 5.350e-05, eta: 17:54:59, time: 1.206, data_time: 0.005, memory: 4940, decode.loss_ce: 0.0752, decode.acc_seg: 83.2522, aux.loss_ce: 0.0352, aux.acc_seg: 82.8787, loss: 0.1104\n"
     ]
    },
    {
     "name": "stdout",
     "output_type": "stream",
     "text": [
      "[>>>>>>>>>>>>>>>>>>>>>>>>>>>>>] 800/800, 6.7 task/s, elapsed: 119s, ETA:     0s"
     ]
    },
    {
     "name": "stderr",
     "output_type": "stream",
     "text": [
      "2022-03-08 07:53:38,758 - mmseg - INFO - per class results:\n",
      "2022-03-08 07:53:38,759 - mmseg - INFO - \n",
      "+-------+-------+-------+\n",
      "| Class |  IoU  |  Acc  |\n",
      "+-------+-------+-------+\n",
      "|  face | 79.01 | 86.68 |\n",
      "|   bg  | 97.59 | 98.97 |\n",
      "+-------+-------+-------+\n",
      "2022-03-08 07:53:38,760 - mmseg - INFO - Summary:\n",
      "2022-03-08 07:53:38,761 - mmseg - INFO - \n",
      "+-------+------+-------+\n",
      "|  aAcc | mIoU |  mAcc |\n",
      "+-------+------+-------+\n",
      "| 97.79 | 88.3 | 92.82 |\n",
      "+-------+------+-------+\n",
      "2022-03-08 07:53:38,764 - mmseg - INFO - Iter(val) [800]\taAcc: 0.9779, mIoU: 0.8830, mAcc: 0.9282, IoU.face: 0.7901, IoU.bg: 0.9759, Acc.face: 0.8668, Acc.bg: 0.9897\n",
      "2022-03-08 07:57:41,980 - mmseg - INFO - Iter [37400/80000]\tlr: 5.325e-05, eta: 17:51:07, time: 1.811, data_time: 0.610, memory: 4940, decode.loss_ce: 0.0734, decode.acc_seg: 83.5259, aux.loss_ce: 0.0341, aux.acc_seg: 83.1147, loss: 0.1075\n",
      "2022-03-08 08:01:42,662 - mmseg - INFO - Iter [37600/80000]\tlr: 5.300e-05, eta: 17:44:57, time: 1.203, data_time: 0.005, memory: 4940, decode.loss_ce: 0.0682, decode.acc_seg: 83.1770, aux.loss_ce: 0.0318, aux.acc_seg: 82.7976, loss: 0.1000\n"
     ]
    },
    {
     "name": "stdout",
     "output_type": "stream",
     "text": [
      "[>>>>>>>>>>>>>>>>>>>>>>>>>>>>>] 800/800, 6.8 task/s, elapsed: 118s, ETA:     0s"
     ]
    },
    {
     "name": "stderr",
     "output_type": "stream",
     "text": [
      "2022-03-08 08:03:40,635 - mmseg - INFO - per class results:\n",
      "2022-03-08 08:03:40,636 - mmseg - INFO - \n",
      "+-------+-------+-------+\n",
      "| Class |  IoU  |  Acc  |\n",
      "+-------+-------+-------+\n",
      "|  face | 78.87 | 86.37 |\n",
      "|   bg  | 97.58 | 98.99 |\n",
      "+-------+-------+-------+\n",
      "2022-03-08 08:03:40,637 - mmseg - INFO - Summary:\n",
      "2022-03-08 08:03:40,637 - mmseg - INFO - \n",
      "+-------+-------+-------+\n",
      "|  aAcc |  mIoU |  mAcc |\n",
      "+-------+-------+-------+\n",
      "| 97.78 | 88.23 | 92.68 |\n",
      "+-------+-------+-------+\n",
      "2022-03-08 08:03:40,647 - mmseg - INFO - Iter(val) [800]\taAcc: 0.9778, mIoU: 0.8823, mAcc: 0.9268, IoU.face: 0.7887, IoU.bg: 0.9758, Acc.face: 0.8637, Acc.bg: 0.9899\n",
      "2022-03-08 08:07:43,050 - mmseg - INFO - Iter [37800/80000]\tlr: 5.275e-05, eta: 17:41:01, time: 1.802, data_time: 0.606, memory: 4940, decode.loss_ce: 0.0664, decode.acc_seg: 83.3819, aux.loss_ce: 0.0313, aux.acc_seg: 82.9909, loss: 0.0977\n",
      "2022-03-08 08:11:43,041 - mmseg - INFO - Saving checkpoint at 38000 iterations\n",
      "2022-03-08 08:11:44,899 - mmseg - INFO - Iter [38000/80000]\tlr: 5.250e-05, eta: 17:34:53, time: 1.209, data_time: 0.005, memory: 4940, decode.loss_ce: 0.0820, decode.acc_seg: 82.7394, aux.loss_ce: 0.0378, aux.acc_seg: 82.3086, loss: 0.1199\n"
     ]
    },
    {
     "name": "stdout",
     "output_type": "stream",
     "text": [
      "[>>>>>>>>>>>>>>>>>>>>>>>>>>>>>] 800/800, 6.8 task/s, elapsed: 117s, ETA:     0s"
     ]
    },
    {
     "name": "stderr",
     "output_type": "stream",
     "text": [
      "2022-03-08 08:13:42,362 - mmseg - INFO - per class results:\n",
      "2022-03-08 08:13:42,363 - mmseg - INFO - \n",
      "+-------+-------+-------+\n",
      "| Class |  IoU  |  Acc  |\n",
      "+-------+-------+-------+\n",
      "|  face | 78.91 | 86.87 |\n",
      "|   bg  | 97.57 | 98.93 |\n",
      "+-------+-------+-------+\n",
      "2022-03-08 08:13:42,364 - mmseg - INFO - Summary:\n",
      "2022-03-08 08:13:42,365 - mmseg - INFO - \n",
      "+-------+-------+------+\n",
      "|  aAcc |  mIoU | mAcc |\n",
      "+-------+-------+------+\n",
      "| 97.78 | 88.24 | 92.9 |\n",
      "+-------+-------+------+\n",
      "2022-03-08 08:13:42,368 - mmseg - INFO - Iter(val) [800]\taAcc: 0.9778, mIoU: 0.8824, mAcc: 0.9290, IoU.face: 0.7891, IoU.bg: 0.9757, Acc.face: 0.8687, Acc.bg: 0.9893\n",
      "2022-03-08 08:17:46,598 - mmseg - INFO - Iter [38200/80000]\tlr: 5.225e-05, eta: 17:30:58, time: 1.808, data_time: 0.603, memory: 4940, decode.loss_ce: 0.0779, decode.acc_seg: 82.9127, aux.loss_ce: 0.0364, aux.acc_seg: 82.4725, loss: 0.1143\n",
      "2022-03-08 08:21:50,287 - mmseg - INFO - Iter [38400/80000]\tlr: 5.200e-05, eta: 17:24:53, time: 1.218, data_time: 0.004, memory: 4940, decode.loss_ce: 0.0715, decode.acc_seg: 82.5154, aux.loss_ce: 0.0344, aux.acc_seg: 82.1093, loss: 0.1059\n"
     ]
    },
    {
     "name": "stdout",
     "output_type": "stream",
     "text": [
      "[>>>>>>>>>>>>>>>>>>>>>>>>>>>>>] 800/800, 6.7 task/s, elapsed: 119s, ETA:     0s"
     ]
    },
    {
     "name": "stderr",
     "output_type": "stream",
     "text": [
      "2022-03-08 08:23:49,249 - mmseg - INFO - per class results:\n",
      "2022-03-08 08:23:49,250 - mmseg - INFO - \n",
      "+-------+-------+-------+\n",
      "| Class |  IoU  |  Acc  |\n",
      "+-------+-------+-------+\n",
      "|  face |  78.9 | 86.31 |\n",
      "|   bg  | 97.59 | 99.01 |\n",
      "+-------+-------+-------+\n",
      "2022-03-08 08:23:49,251 - mmseg - INFO - Summary:\n",
      "2022-03-08 08:23:49,252 - mmseg - INFO - \n",
      "+-------+-------+-------+\n",
      "|  aAcc |  mIoU |  mAcc |\n",
      "+-------+-------+-------+\n",
      "| 97.79 | 88.24 | 92.66 |\n",
      "+-------+-------+-------+\n",
      "2022-03-08 08:23:49,262 - mmseg - INFO - Iter(val) [800]\taAcc: 0.9779, mIoU: 0.8824, mAcc: 0.9266, IoU.face: 0.7890, IoU.bg: 0.9759, Acc.face: 0.8631, Acc.bg: 0.9901\n",
      "2022-03-08 08:27:52,593 - mmseg - INFO - Iter [38600/80000]\tlr: 5.175e-05, eta: 17:20:57, time: 1.812, data_time: 0.611, memory: 4940, decode.loss_ce: 0.0777, decode.acc_seg: 83.5448, aux.loss_ce: 0.0363, aux.acc_seg: 83.1610, loss: 0.1140\n",
      "2022-03-08 08:31:53,551 - mmseg - INFO - Iter [38800/80000]\tlr: 5.150e-05, eta: 17:14:51, time: 1.205, data_time: 0.005, memory: 4940, decode.loss_ce: 0.0646, decode.acc_seg: 83.4098, aux.loss_ce: 0.0299, aux.acc_seg: 83.0318, loss: 0.0945\n"
     ]
    },
    {
     "name": "stdout",
     "output_type": "stream",
     "text": [
      "[>>>>>>>>>>>>>>>>>>>>>>>>>>>>>] 800/800, 6.7 task/s, elapsed: 119s, ETA:     0s"
     ]
    },
    {
     "name": "stderr",
     "output_type": "stream",
     "text": [
      "2022-03-08 08:33:52,582 - mmseg - INFO - per class results:\n",
      "2022-03-08 08:33:52,583 - mmseg - INFO - \n",
      "+-------+-------+-------+\n",
      "| Class |  IoU  |  Acc  |\n",
      "+-------+-------+-------+\n",
      "|  face | 79.47 | 87.98 |\n",
      "|   bg  | 97.62 | 98.87 |\n",
      "+-------+-------+-------+\n",
      "2022-03-08 08:33:52,584 - mmseg - INFO - Summary:\n",
      "2022-03-08 08:33:52,586 - mmseg - INFO - \n",
      "+-------+-------+-------+\n",
      "|  aAcc |  mIoU |  mAcc |\n",
      "+-------+-------+-------+\n",
      "| 97.82 | 88.54 | 93.42 |\n",
      "+-------+-------+-------+\n",
      "2022-03-08 08:33:52,591 - mmseg - INFO - Iter(val) [800]\taAcc: 0.9782, mIoU: 0.8854, mAcc: 0.9342, IoU.face: 0.7947, IoU.bg: 0.9762, Acc.face: 0.8798, Acc.bg: 0.9887\n",
      "2022-03-08 08:37:55,455 - mmseg - INFO - Iter [39000/80000]\tlr: 5.125e-05, eta: 17:10:53, time: 1.810, data_time: 0.611, memory: 4940, decode.loss_ce: 0.0679, decode.acc_seg: 83.7901, aux.loss_ce: 0.0312, aux.acc_seg: 83.4263, loss: 0.0990\n",
      "2022-03-08 08:41:56,051 - mmseg - INFO - Iter [39200/80000]\tlr: 5.100e-05, eta: 17:04:48, time: 1.203, data_time: 0.005, memory: 4940, decode.loss_ce: 0.0726, decode.acc_seg: 83.6343, aux.loss_ce: 0.0337, aux.acc_seg: 83.2891, loss: 0.1062\n"
     ]
    },
    {
     "name": "stdout",
     "output_type": "stream",
     "text": [
      "[>>>>>>>>>>>>>>>>>>>>>>>>>>>>>] 800/800, 6.7 task/s, elapsed: 119s, ETA:     0s"
     ]
    },
    {
     "name": "stderr",
     "output_type": "stream",
     "text": [
      "2022-03-08 08:43:55,174 - mmseg - INFO - per class results:\n",
      "2022-03-08 08:43:55,176 - mmseg - INFO - \n",
      "+-------+-------+-------+\n",
      "| Class |  IoU  |  Acc  |\n",
      "+-------+-------+-------+\n",
      "|  face | 79.48 | 88.11 |\n",
      "|   bg  | 97.62 | 98.85 |\n",
      "+-------+-------+-------+\n",
      "2022-03-08 08:43:55,176 - mmseg - INFO - Summary:\n",
      "2022-03-08 08:43:55,177 - mmseg - INFO - \n",
      "+-------+-------+-------+\n",
      "|  aAcc |  mIoU |  mAcc |\n",
      "+-------+-------+-------+\n",
      "| 97.82 | 88.55 | 93.48 |\n",
      "+-------+-------+-------+\n",
      "2022-03-08 08:43:55,180 - mmseg - INFO - Iter(val) [800]\taAcc: 0.9782, mIoU: 0.8855, mAcc: 0.9348, IoU.face: 0.7948, IoU.bg: 0.9762, Acc.face: 0.8811, Acc.bg: 0.9885\n",
      "2022-03-08 08:47:59,575 - mmseg - INFO - Iter [39400/80000]\tlr: 5.075e-05, eta: 17:00:50, time: 1.818, data_time: 0.611, memory: 4940, decode.loss_ce: 0.0732, decode.acc_seg: 83.2490, aux.loss_ce: 0.0342, aux.acc_seg: 82.8385, loss: 0.1074\n",
      "2022-03-08 08:52:01,605 - mmseg - INFO - Iter [39600/80000]\tlr: 5.050e-05, eta: 16:54:48, time: 1.210, data_time: 0.005, memory: 4940, decode.loss_ce: 0.0705, decode.acc_seg: 82.3982, aux.loss_ce: 0.0332, aux.acc_seg: 81.9685, loss: 0.1037\n"
     ]
    },
    {
     "name": "stdout",
     "output_type": "stream",
     "text": [
      "[>>>>>>>>>>>>>>>>>>>>>>>>>>>>>] 800/800, 6.7 task/s, elapsed: 120s, ETA:     0s"
     ]
    },
    {
     "name": "stderr",
     "output_type": "stream",
     "text": [
      "2022-03-08 08:54:01,243 - mmseg - INFO - per class results:\n",
      "2022-03-08 08:54:01,245 - mmseg - INFO - \n",
      "+-------+-------+-------+\n",
      "| Class |  IoU  |  Acc  |\n",
      "+-------+-------+-------+\n",
      "|  face | 78.85 | 86.13 |\n",
      "|   bg  | 97.59 | 99.02 |\n",
      "+-------+-------+-------+\n",
      "2022-03-08 08:54:01,246 - mmseg - INFO - Summary:\n",
      "2022-03-08 08:54:01,247 - mmseg - INFO - \n",
      "+-------+-------+-------+\n",
      "|  aAcc |  mIoU |  mAcc |\n",
      "+-------+-------+-------+\n",
      "| 97.79 | 88.22 | 92.58 |\n",
      "+-------+-------+-------+\n",
      "2022-03-08 08:54:01,252 - mmseg - INFO - Iter(val) [800]\taAcc: 0.9779, mIoU: 0.8822, mAcc: 0.9258, IoU.face: 0.7885, IoU.bg: 0.9759, Acc.face: 0.8613, Acc.bg: 0.9902\n",
      "2022-03-08 08:58:04,747 - mmseg - INFO - Iter [39800/80000]\tlr: 5.025e-05, eta: 16:50:49, time: 1.816, data_time: 0.614, memory: 4940, decode.loss_ce: 0.0777, decode.acc_seg: 83.6855, aux.loss_ce: 0.0352, aux.acc_seg: 83.2959, loss: 0.1129\n",
      "2022-03-08 09:02:03,947 - mmseg - INFO - Saving checkpoint at 40000 iterations\n",
      "2022-03-08 09:02:05,873 - mmseg - INFO - Iter [40000/80000]\tlr: 5.000e-05, eta: 16:44:46, time: 1.206, data_time: 0.005, memory: 4940, decode.loss_ce: 0.0656, decode.acc_seg: 82.8435, aux.loss_ce: 0.0304, aux.acc_seg: 82.5222, loss: 0.0960\n"
     ]
    },
    {
     "name": "stdout",
     "output_type": "stream",
     "text": [
      "[>>>>>>>>>>>>>>>>>>>>>>>>>>>>>] 800/800, 6.8 task/s, elapsed: 117s, ETA:     0s"
     ]
    },
    {
     "name": "stderr",
     "output_type": "stream",
     "text": [
      "2022-03-08 09:04:03,199 - mmseg - INFO - per class results:\n",
      "2022-03-08 09:04:03,201 - mmseg - INFO - \n",
      "+-------+-------+-------+\n",
      "| Class |  IoU  |  Acc  |\n",
      "+-------+-------+-------+\n",
      "|  face | 78.75 | 85.57 |\n",
      "|   bg  | 97.59 | 99.08 |\n",
      "+-------+-------+-------+\n",
      "2022-03-08 09:04:03,202 - mmseg - INFO - Summary:\n",
      "2022-03-08 09:04:03,203 - mmseg - INFO - \n",
      "+-------+-------+-------+\n",
      "|  aAcc |  mIoU |  mAcc |\n",
      "+-------+-------+-------+\n",
      "| 97.79 | 88.17 | 92.33 |\n",
      "+-------+-------+-------+\n",
      "2022-03-08 09:04:03,212 - mmseg - INFO - Iter(val) [800]\taAcc: 0.9779, mIoU: 0.8817, mAcc: 0.9233, IoU.face: 0.7875, IoU.bg: 0.9759, Acc.face: 0.8557, Acc.bg: 0.9908\n",
      "2022-03-08 09:08:04,518 - mmseg - INFO - Iter [40200/80000]\tlr: 4.975e-05, eta: 16:40:41, time: 1.793, data_time: 0.602, memory: 4940, decode.loss_ce: 0.0676, decode.acc_seg: 83.6772, aux.loss_ce: 0.0318, aux.acc_seg: 83.3035, loss: 0.0994\n",
      "2022-03-08 09:12:05,235 - mmseg - INFO - Iter [40400/80000]\tlr: 4.950e-05, eta: 16:34:40, time: 1.204, data_time: 0.005, memory: 4940, decode.loss_ce: 0.0743, decode.acc_seg: 83.2709, aux.loss_ce: 0.0347, aux.acc_seg: 82.8379, loss: 0.1090\n"
     ]
    },
    {
     "name": "stdout",
     "output_type": "stream",
     "text": [
      "[>>>>>>>>>>>>>>>>>>>>>>>>>>>>>] 800/800, 6.7 task/s, elapsed: 119s, ETA:     0s"
     ]
    },
    {
     "name": "stderr",
     "output_type": "stream",
     "text": [
      "2022-03-08 09:14:04,077 - mmseg - INFO - per class results:\n",
      "2022-03-08 09:14:04,079 - mmseg - INFO - \n",
      "+-------+-------+-------+\n",
      "| Class |  IoU  |  Acc  |\n",
      "+-------+-------+-------+\n",
      "|  face | 79.47 | 87.08 |\n",
      "|   bg  | 97.65 | 98.99 |\n",
      "+-------+-------+-------+\n",
      "2022-03-08 09:14:04,081 - mmseg - INFO - Summary:\n",
      "2022-03-08 09:14:04,083 - mmseg - INFO - \n",
      "+-------+-------+-------+\n",
      "|  aAcc |  mIoU |  mAcc |\n",
      "+-------+-------+-------+\n",
      "| 97.85 | 88.56 | 93.03 |\n",
      "+-------+-------+-------+\n",
      "2022-03-08 09:14:04,087 - mmseg - INFO - Iter(val) [800]\taAcc: 0.9785, mIoU: 0.8856, mAcc: 0.9303, IoU.face: 0.7947, IoU.bg: 0.9765, Acc.face: 0.8708, Acc.bg: 0.9899\n",
      "2022-03-08 09:18:09,197 - mmseg - INFO - Iter [40600/80000]\tlr: 4.925e-05, eta: 16:30:39, time: 1.820, data_time: 0.610, memory: 4940, decode.loss_ce: 0.0710, decode.acc_seg: 82.9547, aux.loss_ce: 0.0339, aux.acc_seg: 82.5281, loss: 0.1049\n",
      "2022-03-08 09:22:10,476 - mmseg - INFO - Iter [40800/80000]\tlr: 4.900e-05, eta: 16:24:39, time: 1.206, data_time: 0.005, memory: 4940, decode.loss_ce: 0.0690, decode.acc_seg: 82.8008, aux.loss_ce: 0.0323, aux.acc_seg: 82.4375, loss: 0.1013\n"
     ]
    },
    {
     "name": "stdout",
     "output_type": "stream",
     "text": [
      "[>>>>>>>>>>>>>>>>>>>>>>>>>>>>>] 800/800, 6.6 task/s, elapsed: 121s, ETA:     0s"
     ]
    },
    {
     "name": "stderr",
     "output_type": "stream",
     "text": [
      "2022-03-08 09:24:11,503 - mmseg - INFO - per class results:\n",
      "2022-03-08 09:24:11,504 - mmseg - INFO - \n",
      "+-------+-------+-------+\n",
      "| Class |  IoU  |  Acc  |\n",
      "+-------+-------+-------+\n",
      "|  face |  79.4 | 87.96 |\n",
      "|   bg  | 97.61 | 98.86 |\n",
      "+-------+-------+-------+\n",
      "2022-03-08 09:24:11,505 - mmseg - INFO - Summary:\n",
      "2022-03-08 09:24:11,506 - mmseg - INFO - \n",
      "+-------+-------+-------+\n",
      "|  aAcc |  mIoU |  mAcc |\n",
      "+-------+-------+-------+\n",
      "| 97.81 | 88.51 | 93.41 |\n",
      "+-------+-------+-------+\n",
      "2022-03-08 09:24:11,522 - mmseg - INFO - Iter(val) [800]\taAcc: 0.9781, mIoU: 0.8851, mAcc: 0.9341, IoU.face: 0.7940, IoU.bg: 0.9761, Acc.face: 0.8796, Acc.bg: 0.9886\n",
      "2022-03-08 09:28:27,321 - mmseg - INFO - Iter [41000/80000]\tlr: 4.875e-05, eta: 16:20:50, time: 1.884, data_time: 0.621, memory: 4940, decode.loss_ce: 0.0790, decode.acc_seg: 82.4864, aux.loss_ce: 0.0371, aux.acc_seg: 82.0838, loss: 0.1161\n",
      "2022-03-08 09:32:27,840 - mmseg - INFO - Iter [41200/80000]\tlr: 4.850e-05, eta: 16:14:50, time: 1.203, data_time: 0.004, memory: 4940, decode.loss_ce: 0.0640, decode.acc_seg: 82.4431, aux.loss_ce: 0.0299, aux.acc_seg: 82.0811, loss: 0.0939\n"
     ]
    },
    {
     "name": "stdout",
     "output_type": "stream",
     "text": [
      "[>>>>>>>>>>>>>>>>>>>>>>>>>>>>>] 800/800, 6.7 task/s, elapsed: 119s, ETA:     0s"
     ]
    },
    {
     "name": "stderr",
     "output_type": "stream",
     "text": [
      "2022-03-08 09:34:27,301 - mmseg - INFO - per class results:\n",
      "2022-03-08 09:34:27,302 - mmseg - INFO - \n",
      "+-------+-------+-------+\n",
      "| Class |  IoU  |  Acc  |\n",
      "+-------+-------+-------+\n",
      "|  face | 79.29 | 87.22 |\n",
      "|   bg  | 97.62 | 98.94 |\n",
      "+-------+-------+-------+\n",
      "2022-03-08 09:34:27,303 - mmseg - INFO - Summary:\n",
      "2022-03-08 09:34:27,305 - mmseg - INFO - \n",
      "+-------+-------+-------+\n",
      "|  aAcc |  mIoU |  mAcc |\n",
      "+-------+-------+-------+\n",
      "| 97.82 | 88.46 | 93.08 |\n",
      "+-------+-------+-------+\n",
      "2022-03-08 09:34:27,309 - mmseg - INFO - Iter(val) [800]\taAcc: 0.9782, mIoU: 0.8846, mAcc: 0.9308, IoU.face: 0.7929, IoU.bg: 0.9762, Acc.face: 0.8722, Acc.bg: 0.9894\n",
      "2022-03-08 09:38:31,358 - mmseg - INFO - Iter [41400/80000]\tlr: 4.825e-05, eta: 16:10:46, time: 1.818, data_time: 0.613, memory: 4940, decode.loss_ce: 0.0721, decode.acc_seg: 83.4322, aux.loss_ce: 0.0343, aux.acc_seg: 83.0019, loss: 0.1064\n",
      "2022-03-08 09:42:33,043 - mmseg - INFO - Iter [41600/80000]\tlr: 4.800e-05, eta: 16:04:49, time: 1.208, data_time: 0.005, memory: 4940, decode.loss_ce: 0.0684, decode.acc_seg: 83.5294, aux.loss_ce: 0.0313, aux.acc_seg: 83.2034, loss: 0.0996\n"
     ]
    },
    {
     "name": "stdout",
     "output_type": "stream",
     "text": [
      "[>>>>>>>>>>>>>>>>>>>>>>>>>>>>>] 800/800, 6.8 task/s, elapsed: 118s, ETA:     0s"
     ]
    },
    {
     "name": "stderr",
     "output_type": "stream",
     "text": [
      "2022-03-08 09:44:31,531 - mmseg - INFO - per class results:\n",
      "2022-03-08 09:44:31,533 - mmseg - INFO - \n",
      "+-------+-------+-------+\n",
      "| Class |  IoU  |  Acc  |\n",
      "+-------+-------+-------+\n",
      "|  face | 79.37 | 86.93 |\n",
      "|   bg  | 97.64 | 98.99 |\n",
      "+-------+-------+-------+\n",
      "2022-03-08 09:44:31,535 - mmseg - INFO - Summary:\n",
      "2022-03-08 09:44:31,536 - mmseg - INFO - \n",
      "+-------+-------+-------+\n",
      "|  aAcc |  mIoU |  mAcc |\n",
      "+-------+-------+-------+\n",
      "| 97.84 | 88.51 | 92.96 |\n",
      "+-------+-------+-------+\n",
      "2022-03-08 09:44:31,540 - mmseg - INFO - Iter(val) [800]\taAcc: 0.9784, mIoU: 0.8851, mAcc: 0.9296, IoU.face: 0.7937, IoU.bg: 0.9764, Acc.face: 0.8693, Acc.bg: 0.9899\n",
      "2022-03-08 09:48:35,481 - mmseg - INFO - Iter [41800/80000]\tlr: 4.775e-05, eta: 16:00:43, time: 1.812, data_time: 0.608, memory: 4940, decode.loss_ce: 0.0625, decode.acc_seg: 83.9153, aux.loss_ce: 0.0289, aux.acc_seg: 83.5377, loss: 0.0914\n",
      "2022-03-08 09:52:37,181 - mmseg - INFO - Saving checkpoint at 42000 iterations\n",
      "2022-03-08 09:52:39,087 - mmseg - INFO - Iter [42000/80000]\tlr: 4.750e-05, eta: 15:54:49, time: 1.218, data_time: 0.005, memory: 4940, decode.loss_ce: 0.0787, decode.acc_seg: 82.5588, aux.loss_ce: 0.0379, aux.acc_seg: 82.1514, loss: 0.1167\n"
     ]
    },
    {
     "name": "stdout",
     "output_type": "stream",
     "text": [
      "[>>>>>>>>>>>>>>>>>>>>>>>>>>>>>] 800/800, 6.8 task/s, elapsed: 118s, ETA:     0s"
     ]
    },
    {
     "name": "stderr",
     "output_type": "stream",
     "text": [
      "2022-03-08 09:54:37,246 - mmseg - INFO - per class results:\n",
      "2022-03-08 09:54:37,247 - mmseg - INFO - \n",
      "+-------+-------+-------+\n",
      "| Class |  IoU  |  Acc  |\n",
      "+-------+-------+-------+\n",
      "|  face |  78.8 | 87.34 |\n",
      "|   bg  | 97.54 | 98.85 |\n",
      "+-------+-------+-------+\n",
      "2022-03-08 09:54:37,248 - mmseg - INFO - Summary:\n",
      "2022-03-08 09:54:37,249 - mmseg - INFO - \n",
      "+-------+-------+-------+\n",
      "|  aAcc |  mIoU |  mAcc |\n",
      "+-------+-------+-------+\n",
      "| 97.75 | 88.17 | 93.09 |\n",
      "+-------+-------+-------+\n",
      "2022-03-08 09:54:37,253 - mmseg - INFO - Iter(val) [800]\taAcc: 0.9775, mIoU: 0.8817, mAcc: 0.9309, IoU.face: 0.7880, IoU.bg: 0.9754, Acc.face: 0.8734, Acc.bg: 0.9885\n",
      "2022-03-08 09:58:39,957 - mmseg - INFO - Iter [42200/80000]\tlr: 4.725e-05, eta: 15:50:41, time: 1.804, data_time: 0.607, memory: 4940, decode.loss_ce: 0.0625, decode.acc_seg: 84.2231, aux.loss_ce: 0.0295, aux.acc_seg: 83.8452, loss: 0.0920\n",
      "2022-03-08 10:02:40,452 - mmseg - INFO - Iter [42400/80000]\tlr: 4.700e-05, eta: 15:44:44, time: 1.202, data_time: 0.005, memory: 4940, decode.loss_ce: 0.0815, decode.acc_seg: 83.2921, aux.loss_ce: 0.0377, aux.acc_seg: 82.8871, loss: 0.1192\n"
     ]
    },
    {
     "name": "stdout",
     "output_type": "stream",
     "text": [
      "[>>>>>>>>>>>>>>>>>>>>>>>>>>>>>] 800/800, 6.8 task/s, elapsed: 118s, ETA:     0s"
     ]
    },
    {
     "name": "stderr",
     "output_type": "stream",
     "text": [
      "2022-03-08 10:04:38,743 - mmseg - INFO - per class results:\n",
      "2022-03-08 10:04:38,745 - mmseg - INFO - \n",
      "+-------+------+-------+\n",
      "| Class | IoU  |  Acc  |\n",
      "+-------+------+-------+\n",
      "|  face | 79.0 | 86.43 |\n",
      "|   bg  | 97.6 |  99.0 |\n",
      "+-------+------+-------+\n",
      "2022-03-08 10:04:38,746 - mmseg - INFO - Summary:\n",
      "2022-03-08 10:04:38,747 - mmseg - INFO - \n",
      "+------+------+-------+\n",
      "| aAcc | mIoU |  mAcc |\n",
      "+------+------+-------+\n",
      "| 97.8 | 88.3 | 92.72 |\n",
      "+------+------+-------+\n",
      "2022-03-08 10:04:38,752 - mmseg - INFO - Iter(val) [800]\taAcc: 0.9780, mIoU: 0.8830, mAcc: 0.9272, IoU.face: 0.7900, IoU.bg: 0.9760, Acc.face: 0.8643, Acc.bg: 0.9900\n",
      "2022-03-08 10:08:41,626 - mmseg - INFO - Iter [42600/80000]\tlr: 4.675e-05, eta: 15:40:35, time: 1.806, data_time: 0.608, memory: 4940, decode.loss_ce: 0.0721, decode.acc_seg: 83.5344, aux.loss_ce: 0.0336, aux.acc_seg: 83.2297, loss: 0.1057\n",
      "2022-03-08 10:12:43,181 - mmseg - INFO - Iter [42800/80000]\tlr: 4.650e-05, eta: 15:34:41, time: 1.208, data_time: 0.004, memory: 4940, decode.loss_ce: 0.0720, decode.acc_seg: 83.2944, aux.loss_ce: 0.0335, aux.acc_seg: 82.8850, loss: 0.1055\n"
     ]
    },
    {
     "name": "stdout",
     "output_type": "stream",
     "text": [
      "[>>>>>>>>>>>>>>>>>>>>>>>>>>>>>] 800/800, 5.6 task/s, elapsed: 142s, ETA:     0s"
     ]
    },
    {
     "name": "stderr",
     "output_type": "stream",
     "text": [
      "2022-03-08 10:15:05,448 - mmseg - INFO - per class results:\n",
      "2022-03-08 10:15:05,449 - mmseg - INFO - \n",
      "+-------+-------+-------+\n",
      "| Class |  IoU  |  Acc  |\n",
      "+-------+-------+-------+\n",
      "|  face | 79.51 | 87.37 |\n",
      "|   bg  | 97.65 | 98.95 |\n",
      "+-------+-------+-------+\n",
      "2022-03-08 10:15:05,450 - mmseg - INFO - Summary:\n",
      "2022-03-08 10:15:05,451 - mmseg - INFO - \n",
      "+-------+-------+-------+\n",
      "|  aAcc |  mIoU |  mAcc |\n",
      "+-------+-------+-------+\n",
      "| 97.84 | 88.58 | 93.16 |\n",
      "+-------+-------+-------+\n",
      "2022-03-08 10:15:05,464 - mmseg - INFO - Iter(val) [800]\taAcc: 0.9784, mIoU: 0.8858, mAcc: 0.9316, IoU.face: 0.7951, IoU.bg: 0.9765, Acc.face: 0.8737, Acc.bg: 0.9895\n",
      "2022-03-08 10:19:10,247 - mmseg - INFO - Iter [43000/80000]\tlr: 4.625e-05, eta: 15:30:53, time: 1.935, data_time: 0.727, memory: 4940, decode.loss_ce: 0.0691, decode.acc_seg: 81.9221, aux.loss_ce: 0.0327, aux.acc_seg: 81.4859, loss: 0.1019\n",
      "2022-03-08 10:23:11,049 - mmseg - INFO - Iter [43200/80000]\tlr: 4.600e-05, eta: 15:24:59, time: 1.204, data_time: 0.004, memory: 4940, decode.loss_ce: 0.0716, decode.acc_seg: 82.6944, aux.loss_ce: 0.0337, aux.acc_seg: 82.2878, loss: 0.1054\n"
     ]
    },
    {
     "name": "stdout",
     "output_type": "stream",
     "text": [
      "[>>>>>>>>>>>>>>>>>>>>>>>>>>>>>] 800/800, 6.8 task/s, elapsed: 118s, ETA:     0s"
     ]
    },
    {
     "name": "stderr",
     "output_type": "stream",
     "text": [
      "2022-03-08 10:25:09,480 - mmseg - INFO - per class results:\n",
      "2022-03-08 10:25:09,482 - mmseg - INFO - \n",
      "+-------+-------+-------+\n",
      "| Class |  IoU  |  Acc  |\n",
      "+-------+-------+-------+\n",
      "|  face | 79.52 | 86.86 |\n",
      "|   bg  | 97.66 | 99.02 |\n",
      "+-------+-------+-------+\n",
      "2022-03-08 10:25:09,484 - mmseg - INFO - Summary:\n",
      "2022-03-08 10:25:09,485 - mmseg - INFO - \n",
      "+-------+-------+-------+\n",
      "|  aAcc |  mIoU |  mAcc |\n",
      "+-------+-------+-------+\n",
      "| 97.86 | 88.59 | 92.94 |\n",
      "+-------+-------+-------+\n",
      "2022-03-08 10:25:09,489 - mmseg - INFO - Iter(val) [800]\taAcc: 0.9786, mIoU: 0.8859, mAcc: 0.9294, IoU.face: 0.7952, IoU.bg: 0.9766, Acc.face: 0.8686, Acc.bg: 0.9902\n",
      "2022-03-08 10:29:12,330 - mmseg - INFO - Iter [43400/80000]\tlr: 4.575e-05, eta: 15:20:48, time: 1.806, data_time: 0.608, memory: 4940, decode.loss_ce: 0.0677, decode.acc_seg: 83.3597, aux.loss_ce: 0.0318, aux.acc_seg: 82.9441, loss: 0.0996\n",
      "2022-03-08 10:33:13,002 - mmseg - INFO - Iter [43600/80000]\tlr: 4.550e-05, eta: 15:14:55, time: 1.203, data_time: 0.005, memory: 4940, decode.loss_ce: 0.0709, decode.acc_seg: 83.0611, aux.loss_ce: 0.0336, aux.acc_seg: 82.6619, loss: 0.1045\n"
     ]
    },
    {
     "name": "stdout",
     "output_type": "stream",
     "text": [
      "[>>>>>>>>>>>>>>>>>>>>>>>>>>>>>] 800/800, 6.7 task/s, elapsed: 119s, ETA:     0s"
     ]
    },
    {
     "name": "stderr",
     "output_type": "stream",
     "text": [
      "2022-03-08 10:35:12,450 - mmseg - INFO - per class results:\n",
      "2022-03-08 10:35:12,451 - mmseg - INFO - \n",
      "+-------+-------+-------+\n",
      "| Class |  IoU  |  Acc  |\n",
      "+-------+-------+-------+\n",
      "|  face | 79.32 | 86.85 |\n",
      "|   bg  | 97.64 | 98.99 |\n",
      "+-------+-------+-------+\n",
      "2022-03-08 10:35:12,453 - mmseg - INFO - Summary:\n",
      "2022-03-08 10:35:12,457 - mmseg - INFO - \n",
      "+-------+-------+-------+\n",
      "|  aAcc |  mIoU |  mAcc |\n",
      "+-------+-------+-------+\n",
      "| 97.83 | 88.48 | 92.92 |\n",
      "+-------+-------+-------+\n",
      "2022-03-08 10:35:12,470 - mmseg - INFO - Iter(val) [800]\taAcc: 0.9783, mIoU: 0.8848, mAcc: 0.9292, IoU.face: 0.7932, IoU.bg: 0.9764, Acc.face: 0.8685, Acc.bg: 0.9899\n",
      "2022-03-08 10:39:17,392 - mmseg - INFO - Iter [43800/80000]\tlr: 4.525e-05, eta: 15:10:45, time: 1.822, data_time: 0.613, memory: 4940, decode.loss_ce: 0.0727, decode.acc_seg: 82.3308, aux.loss_ce: 0.0338, aux.acc_seg: 81.9718, loss: 0.1065\n",
      "2022-03-08 10:43:18,104 - mmseg - INFO - Saving checkpoint at 44000 iterations\n",
      "2022-03-08 10:43:19,930 - mmseg - INFO - Iter [44000/80000]\tlr: 4.500e-05, eta: 15:04:55, time: 1.213, data_time: 0.005, memory: 4940, decode.loss_ce: 0.0673, decode.acc_seg: 83.1818, aux.loss_ce: 0.0320, aux.acc_seg: 82.7991, loss: 0.0993\n"
     ]
    },
    {
     "name": "stdout",
     "output_type": "stream",
     "text": [
      "[>>>>>>>>>>>>>>>>>>>>>>>>>>>>>] 800/800, 6.7 task/s, elapsed: 120s, ETA:     0s"
     ]
    },
    {
     "name": "stderr",
     "output_type": "stream",
     "text": [
      "2022-03-08 10:45:20,032 - mmseg - INFO - per class results:\n",
      "2022-03-08 10:45:20,034 - mmseg - INFO - \n",
      "+-------+-------+-------+\n",
      "| Class |  IoU  |  Acc  |\n",
      "+-------+-------+-------+\n",
      "|  face | 79.47 | 87.02 |\n",
      "|   bg  | 97.65 | 98.99 |\n",
      "+-------+-------+-------+\n",
      "2022-03-08 10:45:20,034 - mmseg - INFO - Summary:\n",
      "2022-03-08 10:45:20,035 - mmseg - INFO - \n",
      "+-------+-------+-------+\n",
      "|  aAcc |  mIoU |  mAcc |\n",
      "+-------+-------+-------+\n",
      "| 97.85 | 88.56 | 93.01 |\n",
      "+-------+-------+-------+\n",
      "2022-03-08 10:45:20,038 - mmseg - INFO - Iter(val) [800]\taAcc: 0.9785, mIoU: 0.8856, mAcc: 0.9301, IoU.face: 0.7947, IoU.bg: 0.9765, Acc.face: 0.8702, Acc.bg: 0.9899\n",
      "2022-03-08 10:49:21,947 - mmseg - INFO - Iter [44200/80000]\tlr: 4.475e-05, eta: 15:00:42, time: 1.810, data_time: 0.616, memory: 4940, decode.loss_ce: 0.0698, decode.acc_seg: 83.8178, aux.loss_ce: 0.0332, aux.acc_seg: 83.4336, loss: 0.1030\n",
      "2022-03-08 10:53:23,559 - mmseg - INFO - Iter [44400/80000]\tlr: 4.450e-05, eta: 14:54:52, time: 1.208, data_time: 0.005, memory: 4940, decode.loss_ce: 0.0671, decode.acc_seg: 83.1234, aux.loss_ce: 0.0319, aux.acc_seg: 82.7296, loss: 0.0990\n"
     ]
    },
    {
     "name": "stdout",
     "output_type": "stream",
     "text": [
      "[>>>>>>>>>>>>>>>>>>>>>>>>>>>>>] 800/800, 6.7 task/s, elapsed: 120s, ETA:     0s"
     ]
    },
    {
     "name": "stderr",
     "output_type": "stream",
     "text": [
      "2022-03-08 10:55:23,125 - mmseg - INFO - per class results:\n",
      "2022-03-08 10:55:23,126 - mmseg - INFO - \n",
      "+-------+-------+-------+\n",
      "| Class |  IoU  |  Acc  |\n",
      "+-------+-------+-------+\n",
      "|  face | 79.61 | 87.77 |\n",
      "|   bg  | 97.65 | 98.92 |\n",
      "+-------+-------+-------+\n",
      "2022-03-08 10:55:23,128 - mmseg - INFO - Summary:\n",
      "2022-03-08 10:55:23,129 - mmseg - INFO - \n",
      "+-------+-------+-------+\n",
      "|  aAcc |  mIoU |  mAcc |\n",
      "+-------+-------+-------+\n",
      "| 97.85 | 88.63 | 93.34 |\n",
      "+-------+-------+-------+\n",
      "2022-03-08 10:55:23,136 - mmseg - INFO - Iter(val) [800]\taAcc: 0.9785, mIoU: 0.8863, mAcc: 0.9334, IoU.face: 0.7961, IoU.bg: 0.9765, Acc.face: 0.8777, Acc.bg: 0.9892\n",
      "2022-03-08 10:59:27,904 - mmseg - INFO - Iter [44600/80000]\tlr: 4.425e-05, eta: 14:50:40, time: 1.822, data_time: 0.614, memory: 4940, decode.loss_ce: 0.0686, decode.acc_seg: 82.9002, aux.loss_ce: 0.0325, aux.acc_seg: 82.4615, loss: 0.1012\n",
      "2022-03-08 11:03:31,043 - mmseg - INFO - Iter [44800/80000]\tlr: 4.400e-05, eta: 14:44:52, time: 1.216, data_time: 0.005, memory: 4940, decode.loss_ce: 0.0695, decode.acc_seg: 83.8402, aux.loss_ce: 0.0320, aux.acc_seg: 83.4931, loss: 0.1015\n"
     ]
    },
    {
     "name": "stdout",
     "output_type": "stream",
     "text": [
      "[>>>>>>>>>>>>>>>>>>>>>>>>>>>>>] 800/800, 6.8 task/s, elapsed: 118s, ETA:     0s"
     ]
    },
    {
     "name": "stderr",
     "output_type": "stream",
     "text": [
      "2022-03-08 11:05:29,302 - mmseg - INFO - per class results:\n",
      "2022-03-08 11:05:29,304 - mmseg - INFO - \n",
      "+-------+-------+-------+\n",
      "| Class |  IoU  |  Acc  |\n",
      "+-------+-------+-------+\n",
      "|  face | 79.71 | 87.54 |\n",
      "|   bg  | 97.67 | 98.96 |\n",
      "+-------+-------+-------+\n",
      "2022-03-08 11:05:29,305 - mmseg - INFO - Summary:\n",
      "2022-03-08 11:05:29,307 - mmseg - INFO - \n",
      "+-------+-------+-------+\n",
      "|  aAcc |  mIoU |  mAcc |\n",
      "+-------+-------+-------+\n",
      "| 97.87 | 88.69 | 93.25 |\n",
      "+-------+-------+-------+\n",
      "2022-03-08 11:05:29,316 - mmseg - INFO - Iter(val) [800]\taAcc: 0.9787, mIoU: 0.8869, mAcc: 0.9325, IoU.face: 0.7971, IoU.bg: 0.9767, Acc.face: 0.8754, Acc.bg: 0.9896\n",
      "2022-03-08 11:09:32,867 - mmseg - INFO - Iter [45000/80000]\tlr: 4.375e-05, eta: 14:40:37, time: 1.809, data_time: 0.607, memory: 4940, decode.loss_ce: 0.0674, decode.acc_seg: 82.9408, aux.loss_ce: 0.0322, aux.acc_seg: 82.5576, loss: 0.0997\n",
      "2022-03-08 11:13:33,838 - mmseg - INFO - Iter [45200/80000]\tlr: 4.350e-05, eta: 14:34:48, time: 1.205, data_time: 0.005, memory: 4940, decode.loss_ce: 0.0690, decode.acc_seg: 83.9214, aux.loss_ce: 0.0322, aux.acc_seg: 83.5363, loss: 0.1012\n"
     ]
    },
    {
     "name": "stdout",
     "output_type": "stream",
     "text": [
      "[>>>>>>>>>>>>>>>>>>>>>>>>>>>>>] 800/800, 6.7 task/s, elapsed: 119s, ETA:     0s"
     ]
    },
    {
     "name": "stderr",
     "output_type": "stream",
     "text": [
      "2022-03-08 11:15:32,660 - mmseg - INFO - per class results:\n",
      "2022-03-08 11:15:32,661 - mmseg - INFO - \n",
      "+-------+-------+-------+\n",
      "| Class |  IoU  |  Acc  |\n",
      "+-------+-------+-------+\n",
      "|  face | 79.53 | 86.46 |\n",
      "|   bg  | 97.68 | 99.08 |\n",
      "+-------+-------+-------+\n",
      "2022-03-08 11:15:32,662 - mmseg - INFO - Summary:\n",
      "2022-03-08 11:15:32,663 - mmseg - INFO - \n",
      "+-------+------+-------+\n",
      "|  aAcc | mIoU |  mAcc |\n",
      "+-------+------+-------+\n",
      "| 97.87 | 88.6 | 92.77 |\n",
      "+-------+------+-------+\n",
      "2022-03-08 11:15:32,674 - mmseg - INFO - Iter(val) [800]\taAcc: 0.9787, mIoU: 0.8860, mAcc: 0.9277, IoU.face: 0.7953, IoU.bg: 0.9768, Acc.face: 0.8646, Acc.bg: 0.9908\n",
      "2022-03-08 11:19:39,000 - mmseg - INFO - Iter [45400/80000]\tlr: 4.325e-05, eta: 14:30:35, time: 1.826, data_time: 0.610, memory: 4940, decode.loss_ce: 0.0684, decode.acc_seg: 83.0979, aux.loss_ce: 0.0319, aux.acc_seg: 82.7489, loss: 0.1003\n",
      "2022-03-08 11:23:41,609 - mmseg - INFO - Iter [45600/80000]\tlr: 4.300e-05, eta: 14:24:48, time: 1.213, data_time: 0.005, memory: 4940, decode.loss_ce: 0.0701, decode.acc_seg: 83.5237, aux.loss_ce: 0.0324, aux.acc_seg: 83.1243, loss: 0.1025\n"
     ]
    },
    {
     "name": "stdout",
     "output_type": "stream",
     "text": [
      "[>>>>>>>>>>>>>>>>>>>>>>>>>>>>>] 800/800, 6.7 task/s, elapsed: 120s, ETA:     0s"
     ]
    },
    {
     "name": "stderr",
     "output_type": "stream",
     "text": [
      "2022-03-08 11:25:41,411 - mmseg - INFO - per class results:\n",
      "2022-03-08 11:25:41,413 - mmseg - INFO - \n",
      "+-------+-------+-------+\n",
      "| Class |  IoU  |  Acc  |\n",
      "+-------+-------+-------+\n",
      "|  face | 79.13 | 87.58 |\n",
      "|   bg  | 97.58 | 98.87 |\n",
      "+-------+-------+-------+\n",
      "2022-03-08 11:25:41,413 - mmseg - INFO - Summary:\n",
      "2022-03-08 11:25:41,414 - mmseg - INFO - \n",
      "+-------+-------+-------+\n",
      "|  aAcc |  mIoU |  mAcc |\n",
      "+-------+-------+-------+\n",
      "| 97.79 | 88.36 | 93.22 |\n",
      "+-------+-------+-------+\n",
      "2022-03-08 11:25:41,417 - mmseg - INFO - Iter(val) [800]\taAcc: 0.9779, mIoU: 0.8836, mAcc: 0.9322, IoU.face: 0.7913, IoU.bg: 0.9758, Acc.face: 0.8758, Acc.bg: 0.9887\n",
      "2022-03-08 11:29:44,468 - mmseg - INFO - Iter [45800/80000]\tlr: 4.275e-05, eta: 14:20:32, time: 1.814, data_time: 0.615, memory: 4940, decode.loss_ce: 0.0740, decode.acc_seg: 83.1113, aux.loss_ce: 0.0354, aux.acc_seg: 82.6656, loss: 0.1094\n",
      "2022-03-08 11:33:46,133 - mmseg - INFO - Saving checkpoint at 46000 iterations\n",
      "2022-03-08 11:33:48,020 - mmseg - INFO - Iter [46000/80000]\tlr: 4.250e-05, eta: 14:14:47, time: 1.218, data_time: 0.005, memory: 4940, decode.loss_ce: 0.0671, decode.acc_seg: 82.6879, aux.loss_ce: 0.0319, aux.acc_seg: 82.3210, loss: 0.0990\n"
     ]
    },
    {
     "name": "stdout",
     "output_type": "stream",
     "text": [
      "[>>>>>>>>>>>>>>>>>>>>>>>>>>>>>] 800/800, 6.7 task/s, elapsed: 119s, ETA:     0s"
     ]
    },
    {
     "name": "stderr",
     "output_type": "stream",
     "text": [
      "2022-03-08 11:35:46,561 - mmseg - INFO - per class results:\n",
      "2022-03-08 11:35:46,562 - mmseg - INFO - \n",
      "+-------+-------+-------+\n",
      "| Class |  IoU  |  Acc  |\n",
      "+-------+-------+-------+\n",
      "|  face |  79.8 | 87.55 |\n",
      "|   bg  | 97.68 | 98.97 |\n",
      "+-------+-------+-------+\n",
      "2022-03-08 11:35:46,562 - mmseg - INFO - Summary:\n",
      "2022-03-08 11:35:46,563 - mmseg - INFO - \n",
      "+-------+-------+-------+\n",
      "|  aAcc |  mIoU |  mAcc |\n",
      "+-------+-------+-------+\n",
      "| 97.88 | 88.74 | 93.26 |\n",
      "+-------+-------+-------+\n",
      "2022-03-08 11:35:46,572 - mmseg - INFO - Iter(val) [800]\taAcc: 0.9788, mIoU: 0.8874, mAcc: 0.9326, IoU.face: 0.7980, IoU.bg: 0.9768, Acc.face: 0.8755, Acc.bg: 0.9897\n",
      "2022-03-08 11:39:51,679 - mmseg - INFO - Iter [46200/80000]\tlr: 4.225e-05, eta: 14:10:30, time: 1.818, data_time: 0.608, memory: 4940, decode.loss_ce: 0.0705, decode.acc_seg: 82.7464, aux.loss_ce: 0.0337, aux.acc_seg: 82.3554, loss: 0.1042\n",
      "2022-03-08 11:43:52,059 - mmseg - INFO - Iter [46400/80000]\tlr: 4.200e-05, eta: 14:04:44, time: 1.202, data_time: 0.005, memory: 4940, decode.loss_ce: 0.0663, decode.acc_seg: 83.4827, aux.loss_ce: 0.0310, aux.acc_seg: 83.1526, loss: 0.0974\n"
     ]
    },
    {
     "name": "stdout",
     "output_type": "stream",
     "text": [
      "[>>>>>>>>>>>>>>>>>>>>>>>>>>>>>] 800/800, 6.7 task/s, elapsed: 119s, ETA:     0s"
     ]
    },
    {
     "name": "stderr",
     "output_type": "stream",
     "text": [
      "2022-03-08 11:45:51,522 - mmseg - INFO - per class results:\n",
      "2022-03-08 11:45:51,523 - mmseg - INFO - \n",
      "+-------+-------+-------+\n",
      "| Class |  IoU  |  Acc  |\n",
      "+-------+-------+-------+\n",
      "|  face | 79.34 | 86.21 |\n",
      "|   bg  | 97.66 | 99.08 |\n",
      "+-------+-------+-------+\n",
      "2022-03-08 11:45:51,524 - mmseg - INFO - Summary:\n",
      "2022-03-08 11:45:51,525 - mmseg - INFO - \n",
      "+-------+------+-------+\n",
      "|  aAcc | mIoU |  mAcc |\n",
      "+-------+------+-------+\n",
      "| 97.85 | 88.5 | 92.65 |\n",
      "+-------+------+-------+\n",
      "2022-03-08 11:45:51,530 - mmseg - INFO - Iter(val) [800]\taAcc: 0.9785, mIoU: 0.8850, mAcc: 0.9265, IoU.face: 0.7934, IoU.bg: 0.9766, Acc.face: 0.8621, Acc.bg: 0.9908\n",
      "2022-03-08 11:49:57,809 - mmseg - INFO - Iter [46600/80000]\tlr: 4.175e-05, eta: 14:00:28, time: 1.829, data_time: 0.613, memory: 4940, decode.loss_ce: 0.0637, decode.acc_seg: 82.6681, aux.loss_ce: 0.0310, aux.acc_seg: 82.3219, loss: 0.0947\n",
      "2022-03-08 11:54:00,498 - mmseg - INFO - Iter [46800/80000]\tlr: 4.150e-05, eta: 13:54:44, time: 1.213, data_time: 0.005, memory: 4940, decode.loss_ce: 0.0669, decode.acc_seg: 83.2361, aux.loss_ce: 0.0319, aux.acc_seg: 82.8724, loss: 0.0988\n"
     ]
    },
    {
     "name": "stdout",
     "output_type": "stream",
     "text": [
      "[>>>>>>>>>>>>>>>>>>>>>>>>>>>>>] 800/800, 6.7 task/s, elapsed: 120s, ETA:     0s"
     ]
    },
    {
     "name": "stderr",
     "output_type": "stream",
     "text": [
      "2022-03-08 11:56:00,616 - mmseg - INFO - per class results:\n",
      "2022-03-08 11:56:00,617 - mmseg - INFO - \n",
      "+-------+-------+-------+\n",
      "| Class |  IoU  |  Acc  |\n",
      "+-------+-------+-------+\n",
      "|  face | 79.49 | 87.27 |\n",
      "|   bg  | 97.65 | 98.96 |\n",
      "+-------+-------+-------+\n",
      "2022-03-08 11:56:00,618 - mmseg - INFO - Summary:\n",
      "2022-03-08 11:56:00,619 - mmseg - INFO - \n",
      "+-------+-------+-------+\n",
      "|  aAcc |  mIoU |  mAcc |\n",
      "+-------+-------+-------+\n",
      "| 97.84 | 88.57 | 93.12 |\n",
      "+-------+-------+-------+\n",
      "2022-03-08 11:56:00,627 - mmseg - INFO - Iter(val) [800]\taAcc: 0.9784, mIoU: 0.8857, mAcc: 0.9312, IoU.face: 0.7949, IoU.bg: 0.9765, Acc.face: 0.8727, Acc.bg: 0.9896\n",
      "2022-03-08 12:00:04,944 - mmseg - INFO - Iter [47000/80000]\tlr: 4.125e-05, eta: 13:50:26, time: 1.822, data_time: 0.617, memory: 4940, decode.loss_ce: 0.0707, decode.acc_seg: 82.7347, aux.loss_ce: 0.0326, aux.acc_seg: 82.3969, loss: 0.1033\n",
      "2022-03-08 12:04:08,135 - mmseg - INFO - Iter [47200/80000]\tlr: 4.100e-05, eta: 13:44:44, time: 1.216, data_time: 0.005, memory: 4940, decode.loss_ce: 0.0692, decode.acc_seg: 83.1454, aux.loss_ce: 0.0319, aux.acc_seg: 82.7970, loss: 0.1010\n"
     ]
    },
    {
     "name": "stdout",
     "output_type": "stream",
     "text": [
      "[>>>>>>>>>>>>>>>>>>>>>>>>>>>>>] 800/800, 6.8 task/s, elapsed: 118s, ETA:     0s"
     ]
    },
    {
     "name": "stderr",
     "output_type": "stream",
     "text": [
      "2022-03-08 12:06:05,689 - mmseg - INFO - per class results:\n",
      "2022-03-08 12:06:05,690 - mmseg - INFO - \n",
      "+-------+-------+-------+\n",
      "| Class |  IoU  |  Acc  |\n",
      "+-------+-------+-------+\n",
      "|  face | 79.36 | 87.96 |\n",
      "|   bg  | 97.61 | 98.85 |\n",
      "+-------+-------+-------+\n",
      "2022-03-08 12:06:05,691 - mmseg - INFO - Summary:\n",
      "2022-03-08 12:06:05,692 - mmseg - INFO - \n",
      "+-------+-------+-------+\n",
      "|  aAcc |  mIoU |  mAcc |\n",
      "+-------+-------+-------+\n",
      "| 97.81 | 88.48 | 93.41 |\n",
      "+-------+-------+-------+\n",
      "2022-03-08 12:06:05,696 - mmseg - INFO - Iter(val) [800]\taAcc: 0.9781, mIoU: 0.8848, mAcc: 0.9341, IoU.face: 0.7936, IoU.bg: 0.9761, Acc.face: 0.8796, Acc.bg: 0.9885\n",
      "2022-03-08 12:10:11,468 - mmseg - INFO - Iter [47400/80000]\tlr: 4.075e-05, eta: 13:40:24, time: 1.817, data_time: 0.604, memory: 4940, decode.loss_ce: 0.0774, decode.acc_seg: 81.5389, aux.loss_ce: 0.0364, aux.acc_seg: 81.1747, loss: 0.1138\n",
      "2022-03-08 12:14:10,974 - mmseg - INFO - Iter [47600/80000]\tlr: 4.050e-05, eta: 13:34:40, time: 1.198, data_time: 0.005, memory: 4940, decode.loss_ce: 0.0635, decode.acc_seg: 83.3073, aux.loss_ce: 0.0295, aux.acc_seg: 82.9313, loss: 0.0930\n"
     ]
    },
    {
     "name": "stdout",
     "output_type": "stream",
     "text": [
      "[>>>>>>>>>>>>>>>>>>>>>>>>>>>>>] 800/800, 6.7 task/s, elapsed: 119s, ETA:     0s"
     ]
    },
    {
     "name": "stderr",
     "output_type": "stream",
     "text": [
      "2022-03-08 12:16:09,788 - mmseg - INFO - per class results:\n",
      "2022-03-08 12:16:09,789 - mmseg - INFO - \n",
      "+-------+-------+-------+\n",
      "| Class |  IoU  |  Acc  |\n",
      "+-------+-------+-------+\n",
      "|  face | 79.65 | 87.94 |\n",
      "|   bg  | 97.65 |  98.9 |\n",
      "+-------+-------+-------+\n",
      "2022-03-08 12:16:09,790 - mmseg - INFO - Summary:\n",
      "2022-03-08 12:16:09,792 - mmseg - INFO - \n",
      "+-------+-------+-------+\n",
      "|  aAcc |  mIoU |  mAcc |\n",
      "+-------+-------+-------+\n",
      "| 97.85 | 88.65 | 93.42 |\n",
      "+-------+-------+-------+\n",
      "2022-03-08 12:16:09,795 - mmseg - INFO - Iter(val) [800]\taAcc: 0.9785, mIoU: 0.8865, mAcc: 0.9342, IoU.face: 0.7965, IoU.bg: 0.9765, Acc.face: 0.8794, Acc.bg: 0.9890\n",
      "2022-03-08 12:20:12,364 - mmseg - INFO - Iter [47800/80000]\tlr: 4.025e-05, eta: 13:30:18, time: 1.807, data_time: 0.610, memory: 4940, decode.loss_ce: 0.0683, decode.acc_seg: 82.8469, aux.loss_ce: 0.0320, aux.acc_seg: 82.5265, loss: 0.1003\n",
      "2022-03-08 12:24:14,847 - mmseg - INFO - Saving checkpoint at 48000 iterations\n",
      "2022-03-08 12:24:16,695 - mmseg - INFO - Iter [48000/80000]\tlr: 4.000e-05, eta: 13:24:38, time: 1.222, data_time: 0.005, memory: 4940, decode.loss_ce: 0.0695, decode.acc_seg: 83.2490, aux.loss_ce: 0.0320, aux.acc_seg: 82.8911, loss: 0.1015\n"
     ]
    },
    {
     "name": "stdout",
     "output_type": "stream",
     "text": [
      "[>>>>>>>>>>>>>>>>>>>>>>>>>>>>>] 800/800, 6.6 task/s, elapsed: 121s, ETA:     0s"
     ]
    },
    {
     "name": "stderr",
     "output_type": "stream",
     "text": [
      "2022-03-08 12:26:17,491 - mmseg - INFO - per class results:\n",
      "2022-03-08 12:26:17,492 - mmseg - INFO - \n",
      "+-------+-------+-------+\n",
      "| Class |  IoU  |  Acc  |\n",
      "+-------+-------+-------+\n",
      "|  face | 79.51 | 86.93 |\n",
      "|   bg  | 97.66 | 99.01 |\n",
      "+-------+-------+-------+\n",
      "2022-03-08 12:26:17,494 - mmseg - INFO - Summary:\n",
      "2022-03-08 12:26:17,495 - mmseg - INFO - \n",
      "+-------+-------+-------+\n",
      "|  aAcc |  mIoU |  mAcc |\n",
      "+-------+-------+-------+\n",
      "| 97.85 | 88.58 | 92.97 |\n",
      "+-------+-------+-------+\n",
      "2022-03-08 12:26:17,500 - mmseg - INFO - Iter(val) [800]\taAcc: 0.9785, mIoU: 0.8858, mAcc: 0.9297, IoU.face: 0.7951, IoU.bg: 0.9766, Acc.face: 0.8693, Acc.bg: 0.9901\n",
      "2022-03-08 12:30:21,270 - mmseg - INFO - Iter [48200/80000]\tlr: 3.975e-05, eta: 13:20:17, time: 1.823, data_time: 0.620, memory: 4940, decode.loss_ce: 0.0636, decode.acc_seg: 82.6288, aux.loss_ce: 0.0298, aux.acc_seg: 82.2388, loss: 0.0934\n",
      "2022-03-08 12:34:24,876 - mmseg - INFO - Iter [48400/80000]\tlr: 3.950e-05, eta: 13:14:37, time: 1.218, data_time: 0.005, memory: 4940, decode.loss_ce: 0.0722, decode.acc_seg: 82.3660, aux.loss_ce: 0.0344, aux.acc_seg: 81.9619, loss: 0.1066\n"
     ]
    },
    {
     "name": "stdout",
     "output_type": "stream",
     "text": [
      "[>>>>>>>>>>>>>>>>>>>>>>>>>>>>>] 800/800, 6.7 task/s, elapsed: 120s, ETA:     0s"
     ]
    },
    {
     "name": "stderr",
     "output_type": "stream",
     "text": [
      "2022-03-08 12:36:24,940 - mmseg - INFO - per class results:\n",
      "2022-03-08 12:36:24,941 - mmseg - INFO - \n",
      "+-------+-------+-------+\n",
      "| Class |  IoU  |  Acc  |\n",
      "+-------+-------+-------+\n",
      "|  face |  79.6 | 88.05 |\n",
      "|   bg  | 97.64 | 98.88 |\n",
      "+-------+-------+-------+\n",
      "2022-03-08 12:36:24,942 - mmseg - INFO - Summary:\n",
      "2022-03-08 12:36:24,944 - mmseg - INFO - \n",
      "+-------+-------+-------+\n",
      "|  aAcc |  mIoU |  mAcc |\n",
      "+-------+-------+-------+\n",
      "| 97.84 | 88.62 | 93.46 |\n",
      "+-------+-------+-------+\n",
      "2022-03-08 12:36:24,949 - mmseg - INFO - Iter(val) [800]\taAcc: 0.9784, mIoU: 0.8862, mAcc: 0.9346, IoU.face: 0.7960, IoU.bg: 0.9764, Acc.face: 0.8805, Acc.bg: 0.9888\n",
      "2022-03-08 12:40:30,687 - mmseg - INFO - Iter [48600/80000]\tlr: 3.925e-05, eta: 13:10:17, time: 1.829, data_time: 0.616, memory: 4940, decode.loss_ce: 0.0640, decode.acc_seg: 82.6520, aux.loss_ce: 0.0307, aux.acc_seg: 82.2822, loss: 0.0948\n",
      "2022-03-08 12:44:34,962 - mmseg - INFO - Iter [48800/80000]\tlr: 3.900e-05, eta: 13:04:38, time: 1.221, data_time: 0.005, memory: 4940, decode.loss_ce: 0.0663, decode.acc_seg: 82.9092, aux.loss_ce: 0.0313, aux.acc_seg: 82.5523, loss: 0.0976\n"
     ]
    },
    {
     "name": "stdout",
     "output_type": "stream",
     "text": [
      "[>>>>>>>>>>>>>>>>>>>>>>>>>>>>>] 800/800, 6.6 task/s, elapsed: 120s, ETA:     0s"
     ]
    },
    {
     "name": "stderr",
     "output_type": "stream",
     "text": [
      "2022-03-08 12:46:35,333 - mmseg - INFO - per class results:\n",
      "2022-03-08 12:46:35,335 - mmseg - INFO - \n",
      "+-------+-------+-------+\n",
      "| Class |  IoU  |  Acc  |\n",
      "+-------+-------+-------+\n",
      "|  face | 79.42 | 88.51 |\n",
      "|   bg  |  97.6 | 98.79 |\n",
      "+-------+-------+-------+\n",
      "2022-03-08 12:46:35,336 - mmseg - INFO - Summary:\n",
      "2022-03-08 12:46:35,338 - mmseg - INFO - \n",
      "+------+-------+-------+\n",
      "| aAcc |  mIoU |  mAcc |\n",
      "+------+-------+-------+\n",
      "| 97.8 | 88.51 | 93.65 |\n",
      "+------+-------+-------+\n",
      "2022-03-08 12:46:35,341 - mmseg - INFO - Iter(val) [800]\taAcc: 0.9780, mIoU: 0.8851, mAcc: 0.9365, IoU.face: 0.7942, IoU.bg: 0.9760, Acc.face: 0.8851, Acc.bg: 0.9879\n",
      "2022-03-08 12:50:36,781 - mmseg - INFO - Iter [49000/80000]\tlr: 3.875e-05, eta: 13:00:14, time: 1.809, data_time: 0.618, memory: 4940, decode.loss_ce: 0.0714, decode.acc_seg: 83.2378, aux.loss_ce: 0.0334, aux.acc_seg: 82.8584, loss: 0.1048\n",
      "2022-03-08 12:54:37,447 - mmseg - INFO - Iter [49200/80000]\tlr: 3.850e-05, eta: 12:54:34, time: 1.203, data_time: 0.005, memory: 4940, decode.loss_ce: 0.0661, decode.acc_seg: 83.5140, aux.loss_ce: 0.0309, aux.acc_seg: 83.1689, loss: 0.0970\n"
     ]
    },
    {
     "name": "stdout",
     "output_type": "stream",
     "text": [
      "[>>>>>>>>>>>>>>>>>>>>>>>>>>>>>] 800/800, 6.8 task/s, elapsed: 118s, ETA:     0s"
     ]
    },
    {
     "name": "stderr",
     "output_type": "stream",
     "text": [
      "2022-03-08 12:56:35,362 - mmseg - INFO - per class results:\n",
      "2022-03-08 12:56:35,365 - mmseg - INFO - \n",
      "+-------+-------+-------+\n",
      "| Class |  IoU  |  Acc  |\n",
      "+-------+-------+-------+\n",
      "|  face | 79.75 | 87.22 |\n",
      "|   bg  | 97.69 | 99.01 |\n",
      "+-------+-------+-------+\n",
      "2022-03-08 12:56:35,367 - mmseg - INFO - Summary:\n",
      "2022-03-08 12:56:35,368 - mmseg - INFO - \n",
      "+-------+-------+-------+\n",
      "|  aAcc |  mIoU |  mAcc |\n",
      "+-------+-------+-------+\n",
      "| 97.88 | 88.72 | 93.11 |\n",
      "+-------+-------+-------+\n",
      "2022-03-08 12:56:35,370 - mmseg - INFO - Iter(val) [800]\taAcc: 0.9788, mIoU: 0.8872, mAcc: 0.9311, IoU.face: 0.7975, IoU.bg: 0.9769, Acc.face: 0.8722, Acc.bg: 0.9901\n",
      "2022-03-08 13:00:38,296 - mmseg - INFO - Iter [49400/80000]\tlr: 3.825e-05, eta: 12:50:09, time: 1.804, data_time: 0.606, memory: 4940, decode.loss_ce: 0.0729, decode.acc_seg: 82.3996, aux.loss_ce: 0.0341, aux.acc_seg: 82.0144, loss: 0.1069\n",
      "2022-03-08 13:04:39,951 - mmseg - INFO - Iter [49600/80000]\tlr: 3.800e-05, eta: 12:44:30, time: 1.208, data_time: 0.005, memory: 4940, decode.loss_ce: 0.0658, decode.acc_seg: 83.0910, aux.loss_ce: 0.0317, aux.acc_seg: 82.7202, loss: 0.0975\n"
     ]
    },
    {
     "name": "stdout",
     "output_type": "stream",
     "text": [
      "[>>>>>>>>>>>>>>>>>>>>>>>>>>>>>] 800/800, 6.7 task/s, elapsed: 120s, ETA:     0s"
     ]
    },
    {
     "name": "stderr",
     "output_type": "stream",
     "text": [
      "2022-03-08 13:06:40,168 - mmseg - INFO - per class results:\n",
      "2022-03-08 13:06:40,169 - mmseg - INFO - \n",
      "+-------+-------+-------+\n",
      "| Class |  IoU  |  Acc  |\n",
      "+-------+-------+-------+\n",
      "|  face | 79.27 | 87.11 |\n",
      "|   bg  | 97.62 | 98.95 |\n",
      "+-------+-------+-------+\n",
      "2022-03-08 13:06:40,170 - mmseg - INFO - Summary:\n",
      "2022-03-08 13:06:40,172 - mmseg - INFO - \n",
      "+-------+-------+-------+\n",
      "|  aAcc |  mIoU |  mAcc |\n",
      "+-------+-------+-------+\n",
      "| 97.82 | 88.44 | 93.03 |\n",
      "+-------+-------+-------+\n",
      "2022-03-08 13:06:40,176 - mmseg - INFO - Iter(val) [800]\taAcc: 0.9782, mIoU: 0.8844, mAcc: 0.9303, IoU.face: 0.7927, IoU.bg: 0.9762, Acc.face: 0.8711, Acc.bg: 0.9895\n",
      "2022-03-08 13:10:46,244 - mmseg - INFO - Iter [49800/80000]\tlr: 3.775e-05, eta: 12:40:07, time: 1.831, data_time: 0.617, memory: 4940, decode.loss_ce: 0.0733, decode.acc_seg: 82.3925, aux.loss_ce: 0.0344, aux.acc_seg: 82.0477, loss: 0.1077\n",
      "2022-03-08 13:14:48,834 - mmseg - INFO - Saving checkpoint at 50000 iterations\n",
      "2022-03-08 13:14:50,726 - mmseg - INFO - Iter [50000/80000]\tlr: 3.750e-05, eta: 12:34:30, time: 1.223, data_time: 0.005, memory: 4940, decode.loss_ce: 0.0646, decode.acc_seg: 83.2373, aux.loss_ce: 0.0311, aux.acc_seg: 82.8106, loss: 0.0958\n"
     ]
    },
    {
     "name": "stdout",
     "output_type": "stream",
     "text": [
      "[>>>>>>>>>>>>>>>>>>>>>>>>>>>>>] 800/800, 6.7 task/s, elapsed: 119s, ETA:     0s"
     ]
    },
    {
     "name": "stderr",
     "output_type": "stream",
     "text": [
      "2022-03-08 13:16:49,560 - mmseg - INFO - per class results:\n",
      "2022-03-08 13:16:49,561 - mmseg - INFO - \n",
      "+-------+-------+-------+\n",
      "| Class |  IoU  |  Acc  |\n",
      "+-------+-------+-------+\n",
      "|  face | 79.75 | 87.61 |\n",
      "|   bg  | 97.67 | 98.96 |\n",
      "+-------+-------+-------+\n",
      "2022-03-08 13:16:49,562 - mmseg - INFO - Summary:\n",
      "2022-03-08 13:16:49,564 - mmseg - INFO - \n",
      "+-------+-------+-------+\n",
      "|  aAcc |  mIoU |  mAcc |\n",
      "+-------+-------+-------+\n",
      "| 97.87 | 88.71 | 93.28 |\n",
      "+-------+-------+-------+\n",
      "2022-03-08 13:16:49,568 - mmseg - INFO - Iter(val) [800]\taAcc: 0.9787, mIoU: 0.8871, mAcc: 0.9328, IoU.face: 0.7975, IoU.bg: 0.9767, Acc.face: 0.8761, Acc.bg: 0.9896\n",
      "2022-03-08 13:20:52,636 - mmseg - INFO - Iter [50200/80000]\tlr: 3.725e-05, eta: 12:30:04, time: 1.809, data_time: 0.610, memory: 4940, decode.loss_ce: 0.0660, decode.acc_seg: 82.8803, aux.loss_ce: 0.0315, aux.acc_seg: 82.5447, loss: 0.0976\n",
      "2022-03-08 13:24:55,849 - mmseg - INFO - Iter [50400/80000]\tlr: 3.700e-05, eta: 12:24:28, time: 1.216, data_time: 0.005, memory: 4940, decode.loss_ce: 0.0669, decode.acc_seg: 83.7488, aux.loss_ce: 0.0327, aux.acc_seg: 83.3228, loss: 0.0997\n"
     ]
    },
    {
     "name": "stdout",
     "output_type": "stream",
     "text": [
      "[>>>>>>>>>>>>>>>>>>>>>>>>>>>>>] 800/800, 6.8 task/s, elapsed: 118s, ETA:     0s"
     ]
    },
    {
     "name": "stderr",
     "output_type": "stream",
     "text": [
      "2022-03-08 13:26:54,245 - mmseg - INFO - per class results:\n",
      "2022-03-08 13:26:54,246 - mmseg - INFO - \n",
      "+-------+-------+-------+\n",
      "| Class |  IoU  |  Acc  |\n",
      "+-------+-------+-------+\n",
      "|  face |  79.7 | 88.05 |\n",
      "|   bg  | 97.65 | 98.89 |\n",
      "+-------+-------+-------+\n",
      "2022-03-08 13:26:54,247 - mmseg - INFO - Summary:\n",
      "2022-03-08 13:26:54,248 - mmseg - INFO - \n",
      "+-------+-------+-------+\n",
      "|  aAcc |  mIoU |  mAcc |\n",
      "+-------+-------+-------+\n",
      "| 97.85 | 88.68 | 93.47 |\n",
      "+-------+-------+-------+\n",
      "2022-03-08 13:26:54,256 - mmseg - INFO - Iter(val) [800]\taAcc: 0.9785, mIoU: 0.8868, mAcc: 0.9347, IoU.face: 0.7970, IoU.bg: 0.9765, Acc.face: 0.8805, Acc.bg: 0.9889\n",
      "2022-03-08 13:30:56,023 - mmseg - INFO - Iter [50600/80000]\tlr: 3.675e-05, eta: 12:20:00, time: 1.801, data_time: 0.608, memory: 4940, decode.loss_ce: 0.0639, decode.acc_seg: 82.2829, aux.loss_ce: 0.0308, aux.acc_seg: 81.8983, loss: 0.0947\n",
      "2022-03-08 13:34:56,494 - mmseg - INFO - Iter [50800/80000]\tlr: 3.650e-05, eta: 12:14:22, time: 1.202, data_time: 0.005, memory: 4940, decode.loss_ce: 0.0672, decode.acc_seg: 82.0060, aux.loss_ce: 0.0319, aux.acc_seg: 81.6703, loss: 0.0991\n"
     ]
    },
    {
     "name": "stdout",
     "output_type": "stream",
     "text": [
      "[>>>>>>>>>>>>>>>>>>>>>>>>>>>>>] 800/800, 6.8 task/s, elapsed: 118s, ETA:     0s"
     ]
    },
    {
     "name": "stderr",
     "output_type": "stream",
     "text": [
      "2022-03-08 13:36:54,731 - mmseg - INFO - per class results:\n",
      "2022-03-08 13:36:54,733 - mmseg - INFO - \n",
      "+-------+-------+-------+\n",
      "| Class |  IoU  |  Acc  |\n",
      "+-------+-------+-------+\n",
      "|  face | 79.63 | 87.48 |\n",
      "|   bg  | 97.66 | 98.96 |\n",
      "+-------+-------+-------+\n",
      "2022-03-08 13:36:54,733 - mmseg - INFO - Summary:\n",
      "2022-03-08 13:36:54,735 - mmseg - INFO - \n",
      "+-------+-------+-------+\n",
      "|  aAcc |  mIoU |  mAcc |\n",
      "+-------+-------+-------+\n",
      "| 97.86 | 88.65 | 93.22 |\n",
      "+-------+-------+-------+\n",
      "2022-03-08 13:36:54,740 - mmseg - INFO - Iter(val) [800]\taAcc: 0.9786, mIoU: 0.8865, mAcc: 0.9322, IoU.face: 0.7963, IoU.bg: 0.9766, Acc.face: 0.8748, Acc.bg: 0.9896\n",
      "2022-03-08 13:40:59,358 - mmseg - INFO - Iter [51000/80000]\tlr: 3.625e-05, eta: 12:09:55, time: 1.814, data_time: 0.607, memory: 4940, decode.loss_ce: 0.0677, decode.acc_seg: 83.3185, aux.loss_ce: 0.0320, aux.acc_seg: 82.9547, loss: 0.0996\n",
      "2022-03-08 13:45:01,975 - mmseg - INFO - Iter [51200/80000]\tlr: 3.600e-05, eta: 12:04:20, time: 1.213, data_time: 0.004, memory: 4940, decode.loss_ce: 0.0655, decode.acc_seg: 82.3348, aux.loss_ce: 0.0319, aux.acc_seg: 81.9282, loss: 0.0974\n"
     ]
    },
    {
     "name": "stdout",
     "output_type": "stream",
     "text": [
      "[>>>>>>>>>>>>>>>>>>>>>>>>>>>>>] 800/800, 6.7 task/s, elapsed: 120s, ETA:     0s"
     ]
    },
    {
     "name": "stderr",
     "output_type": "stream",
     "text": [
      "2022-03-08 13:47:02,180 - mmseg - INFO - per class results:\n",
      "2022-03-08 13:47:02,181 - mmseg - INFO - \n",
      "+-------+-------+-------+\n",
      "| Class |  IoU  |  Acc  |\n",
      "+-------+-------+-------+\n",
      "|  face | 79.67 | 88.16 |\n",
      "|   bg  | 97.65 | 98.87 |\n",
      "+-------+-------+-------+\n",
      "2022-03-08 13:47:02,181 - mmseg - INFO - Summary:\n",
      "2022-03-08 13:47:02,182 - mmseg - INFO - \n",
      "+-------+-------+-------+\n",
      "|  aAcc |  mIoU |  mAcc |\n",
      "+-------+-------+-------+\n",
      "| 97.85 | 88.66 | 93.51 |\n",
      "+-------+-------+-------+\n",
      "2022-03-08 13:47:02,193 - mmseg - INFO - Iter(val) [800]\taAcc: 0.9785, mIoU: 0.8866, mAcc: 0.9351, IoU.face: 0.7967, IoU.bg: 0.9765, Acc.face: 0.8816, Acc.bg: 0.9887\n",
      "2022-03-08 13:51:05,688 - mmseg - INFO - Iter [51400/80000]\tlr: 3.575e-05, eta: 11:59:52, time: 1.819, data_time: 0.617, memory: 4940, decode.loss_ce: 0.0647, decode.acc_seg: 82.9157, aux.loss_ce: 0.0320, aux.acc_seg: 82.4835, loss: 0.0967\n",
      "2022-03-08 13:55:07,709 - mmseg - INFO - Iter [51600/80000]\tlr: 3.550e-05, eta: 11:54:17, time: 1.210, data_time: 0.004, memory: 4940, decode.loss_ce: 0.0692, decode.acc_seg: 83.1875, aux.loss_ce: 0.0331, aux.acc_seg: 82.8251, loss: 0.1023\n"
     ]
    },
    {
     "name": "stdout",
     "output_type": "stream",
     "text": [
      "[>>>>>>>>>>>>>>>>>>>>>>>>>>>>>] 800/800, 6.7 task/s, elapsed: 119s, ETA:     0s"
     ]
    },
    {
     "name": "stderr",
     "output_type": "stream",
     "text": [
      "2022-03-08 13:57:06,351 - mmseg - INFO - per class results:\n",
      "2022-03-08 13:57:06,352 - mmseg - INFO - \n",
      "+-------+-------+-------+\n",
      "| Class |  IoU  |  Acc  |\n",
      "+-------+-------+-------+\n",
      "|  face | 79.76 |  88.1 |\n",
      "|   bg  | 97.66 | 98.89 |\n",
      "+-------+-------+-------+\n",
      "2022-03-08 13:57:06,353 - mmseg - INFO - Summary:\n",
      "2022-03-08 13:57:06,355 - mmseg - INFO - \n",
      "+-------+-------+------+\n",
      "|  aAcc |  mIoU | mAcc |\n",
      "+-------+-------+------+\n",
      "| 97.86 | 88.71 | 93.5 |\n",
      "+-------+-------+------+\n",
      "2022-03-08 13:57:06,359 - mmseg - INFO - Iter(val) [800]\taAcc: 0.9786, mIoU: 0.8871, mAcc: 0.9350, IoU.face: 0.7976, IoU.bg: 0.9766, Acc.face: 0.8810, Acc.bg: 0.9889\n",
      "2022-03-08 14:01:08,829 - mmseg - INFO - Iter [51800/80000]\tlr: 3.525e-05, eta: 11:49:48, time: 1.806, data_time: 0.609, memory: 4940, decode.loss_ce: 0.0653, decode.acc_seg: 83.9074, aux.loss_ce: 0.0317, aux.acc_seg: 83.4691, loss: 0.0970\n",
      "2022-03-08 14:05:09,019 - mmseg - INFO - Saving checkpoint at 52000 iterations\n",
      "2022-03-08 14:05:10,935 - mmseg - INFO - Iter [52000/80000]\tlr: 3.500e-05, eta: 11:44:13, time: 1.211, data_time: 0.005, memory: 4940, decode.loss_ce: 0.0643, decode.acc_seg: 83.2506, aux.loss_ce: 0.0313, aux.acc_seg: 82.8689, loss: 0.0956\n"
     ]
    },
    {
     "name": "stdout",
     "output_type": "stream",
     "text": [
      "[>>>>>>>>>>>>>>>>>>>>>>>>>>>>>] 800/800, 6.7 task/s, elapsed: 119s, ETA:     0s"
     ]
    },
    {
     "name": "stderr",
     "output_type": "stream",
     "text": [
      "2022-03-08 14:07:10,449 - mmseg - INFO - per class results:\n",
      "2022-03-08 14:07:10,451 - mmseg - INFO - \n",
      "+-------+-------+-------+\n",
      "| Class |  IoU  |  Acc  |\n",
      "+-------+-------+-------+\n",
      "|  face | 79.87 | 87.87 |\n",
      "|   bg  | 97.68 | 98.94 |\n",
      "+-------+-------+-------+\n",
      "2022-03-08 14:07:10,451 - mmseg - INFO - Summary:\n",
      "2022-03-08 14:07:10,454 - mmseg - INFO - \n",
      "+-------+-------+------+\n",
      "|  aAcc |  mIoU | mAcc |\n",
      "+-------+-------+------+\n",
      "| 97.88 | 88.78 | 93.4 |\n",
      "+-------+-------+------+\n",
      "2022-03-08 14:07:10,457 - mmseg - INFO - Iter(val) [800]\taAcc: 0.9788, mIoU: 0.8878, mAcc: 0.9340, IoU.face: 0.7987, IoU.bg: 0.9768, Acc.face: 0.8787, Acc.bg: 0.9894\n",
      "2022-03-08 14:11:14,284 - mmseg - INFO - Iter [52200/80000]\tlr: 3.475e-05, eta: 11:39:44, time: 1.817, data_time: 0.613, memory: 4940, decode.loss_ce: 0.0593, decode.acc_seg: 82.4786, aux.loss_ce: 0.0288, aux.acc_seg: 82.1444, loss: 0.0881\n",
      "2022-03-08 14:15:14,987 - mmseg - INFO - Iter [52400/80000]\tlr: 3.450e-05, eta: 11:34:10, time: 1.203, data_time: 0.005, memory: 4940, decode.loss_ce: 0.0711, decode.acc_seg: 83.0674, aux.loss_ce: 0.0333, aux.acc_seg: 82.7146, loss: 0.1044\n"
     ]
    },
    {
     "name": "stdout",
     "output_type": "stream",
     "text": [
      "[>>>>>>>>>>>>>>>>>>>>>>>>>>>>>] 800/800, 6.8 task/s, elapsed: 118s, ETA:     0s"
     ]
    },
    {
     "name": "stderr",
     "output_type": "stream",
     "text": [
      "2022-03-08 14:17:13,451 - mmseg - INFO - per class results:\n",
      "2022-03-08 14:17:13,452 - mmseg - INFO - \n",
      "+-------+-------+-------+\n",
      "| Class |  IoU  |  Acc  |\n",
      "+-------+-------+-------+\n",
      "|  face | 79.72 | 88.11 |\n",
      "|   bg  | 97.66 | 98.89 |\n",
      "+-------+-------+-------+\n",
      "2022-03-08 14:17:13,453 - mmseg - INFO - Summary:\n",
      "2022-03-08 14:17:13,455 - mmseg - INFO - \n",
      "+-------+-------+------+\n",
      "|  aAcc |  mIoU | mAcc |\n",
      "+-------+-------+------+\n",
      "| 97.85 | 88.69 | 93.5 |\n",
      "+-------+-------+------+\n",
      "2022-03-08 14:17:13,463 - mmseg - INFO - Iter(val) [800]\taAcc: 0.9785, mIoU: 0.8869, mAcc: 0.9350, IoU.face: 0.7972, IoU.bg: 0.9766, Acc.face: 0.8811, Acc.bg: 0.9889\n",
      "2022-03-08 14:21:16,264 - mmseg - INFO - Iter [52600/80000]\tlr: 3.425e-05, eta: 11:29:39, time: 1.806, data_time: 0.608, memory: 4940, decode.loss_ce: 0.0674, decode.acc_seg: 83.2672, aux.loss_ce: 0.0329, aux.acc_seg: 82.9122, loss: 0.1002\n",
      "2022-03-08 14:25:15,923 - mmseg - INFO - Iter [52800/80000]\tlr: 3.400e-05, eta: 11:24:05, time: 1.198, data_time: 0.005, memory: 4940, decode.loss_ce: 0.0650, decode.acc_seg: 83.3694, aux.loss_ce: 0.0303, aux.acc_seg: 82.9739, loss: 0.0953\n"
     ]
    },
    {
     "name": "stdout",
     "output_type": "stream",
     "text": [
      "[>>>>>>>>>>>>>>>>>>>>>>>>>>>>>] 800/800, 6.7 task/s, elapsed: 119s, ETA:     0s"
     ]
    },
    {
     "name": "stderr",
     "output_type": "stream",
     "text": [
      "2022-03-08 14:27:14,606 - mmseg - INFO - per class results:\n",
      "2022-03-08 14:27:14,607 - mmseg - INFO - \n",
      "+-------+-------+-------+\n",
      "| Class |  IoU  |  Acc  |\n",
      "+-------+-------+-------+\n",
      "|  face | 79.32 | 87.66 |\n",
      "|   bg  | 97.61 | 98.89 |\n",
      "+-------+-------+-------+\n",
      "2022-03-08 14:27:14,608 - mmseg - INFO - Summary:\n",
      "2022-03-08 14:27:14,609 - mmseg - INFO - \n",
      "+-------+-------+-------+\n",
      "|  aAcc |  mIoU |  mAcc |\n",
      "+-------+-------+-------+\n",
      "| 97.81 | 88.47 | 93.27 |\n",
      "+-------+-------+-------+\n",
      "2022-03-08 14:27:14,616 - mmseg - INFO - Iter(val) [800]\taAcc: 0.9781, mIoU: 0.8847, mAcc: 0.9327, IoU.face: 0.7932, IoU.bg: 0.9761, Acc.face: 0.8766, Acc.bg: 0.9889\n",
      "2022-03-08 14:31:16,974 - mmseg - INFO - Iter [53000/80000]\tlr: 3.375e-05, eta: 11:19:33, time: 1.805, data_time: 0.609, memory: 4940, decode.loss_ce: 0.0611, decode.acc_seg: 83.0610, aux.loss_ce: 0.0284, aux.acc_seg: 82.7386, loss: 0.0894\n",
      "2022-03-08 14:35:19,671 - mmseg - INFO - Iter [53200/80000]\tlr: 3.350e-05, eta: 11:14:01, time: 1.213, data_time: 0.005, memory: 4940, decode.loss_ce: 0.0661, decode.acc_seg: 83.1093, aux.loss_ce: 0.0320, aux.acc_seg: 82.7923, loss: 0.0981\n"
     ]
    },
    {
     "name": "stdout",
     "output_type": "stream",
     "text": [
      "[>>>>>>>>>>>>>>>>>>>>>>>>>>>>>] 800/800, 6.7 task/s, elapsed: 120s, ETA:     0s"
     ]
    },
    {
     "name": "stderr",
     "output_type": "stream",
     "text": [
      "2022-03-08 14:37:19,811 - mmseg - INFO - per class results:\n",
      "2022-03-08 14:37:19,812 - mmseg - INFO - \n",
      "+-------+-------+-------+\n",
      "| Class |  IoU  |  Acc  |\n",
      "+-------+-------+-------+\n",
      "|  face | 78.87 | 86.78 |\n",
      "|   bg  | 97.57 | 98.94 |\n",
      "+-------+-------+-------+\n",
      "2022-03-08 14:37:19,813 - mmseg - INFO - Summary:\n",
      "2022-03-08 14:37:19,815 - mmseg - INFO - \n",
      "+-------+-------+-------+\n",
      "|  aAcc |  mIoU |  mAcc |\n",
      "+-------+-------+-------+\n",
      "| 97.77 | 88.22 | 92.86 |\n",
      "+-------+-------+-------+\n",
      "2022-03-08 14:37:19,826 - mmseg - INFO - Iter(val) [800]\taAcc: 0.9777, mIoU: 0.8822, mAcc: 0.9286, IoU.face: 0.7887, IoU.bg: 0.9757, Acc.face: 0.8678, Acc.bg: 0.9894\n",
      "2022-03-08 14:41:25,544 - mmseg - INFO - Iter [53400/80000]\tlr: 3.325e-05, eta: 11:09:32, time: 1.829, data_time: 0.617, memory: 4940, decode.loss_ce: 0.0581, decode.acc_seg: 82.4919, aux.loss_ce: 0.0276, aux.acc_seg: 82.1913, loss: 0.0857\n",
      "2022-03-08 14:45:30,379 - mmseg - INFO - Iter [53600/80000]\tlr: 3.300e-05, eta: 11:04:01, time: 1.224, data_time: 0.005, memory: 4940, decode.loss_ce: 0.0636, decode.acc_seg: 83.1243, aux.loss_ce: 0.0322, aux.acc_seg: 82.7248, loss: 0.0958\n"
     ]
    },
    {
     "name": "stdout",
     "output_type": "stream",
     "text": [
      "[>>>>>>>>>>>>>>>>>>>>>>>>>>>>>] 800/800, 6.7 task/s, elapsed: 119s, ETA:     0s"
     ]
    },
    {
     "name": "stderr",
     "output_type": "stream",
     "text": [
      "2022-03-08 14:47:29,544 - mmseg - INFO - per class results:\n",
      "2022-03-08 14:47:29,550 - mmseg - INFO - \n",
      "+-------+-------+-------+\n",
      "| Class |  IoU  |  Acc  |\n",
      "+-------+-------+-------+\n",
      "|  face | 79.94 | 87.51 |\n",
      "|   bg  | 97.71 |  99.0 |\n",
      "+-------+-------+-------+\n",
      "2022-03-08 14:47:29,558 - mmseg - INFO - Summary:\n",
      "2022-03-08 14:47:29,565 - mmseg - INFO - \n",
      "+------+-------+-------+\n",
      "| aAcc |  mIoU |  mAcc |\n",
      "+------+-------+-------+\n",
      "| 97.9 | 88.82 | 93.25 |\n",
      "+------+-------+-------+\n",
      "2022-03-08 14:47:29,573 - mmseg - INFO - Iter(val) [800]\taAcc: 0.9790, mIoU: 0.8882, mAcc: 0.9325, IoU.face: 0.7994, IoU.bg: 0.9771, Acc.face: 0.8751, Acc.bg: 0.9900\n",
      "2022-03-08 14:51:32,414 - mmseg - INFO - Iter [53800/80000]\tlr: 3.275e-05, eta: 10:59:29, time: 1.810, data_time: 0.612, memory: 4940, decode.loss_ce: 0.0659, decode.acc_seg: 82.9664, aux.loss_ce: 0.0318, aux.acc_seg: 82.5407, loss: 0.0977\n",
      "2022-03-08 14:55:36,082 - mmseg - INFO - Saving checkpoint at 54000 iterations\n",
      "2022-03-08 14:55:37,998 - mmseg - INFO - Iter [54000/80000]\tlr: 3.250e-05, eta: 10:54:00, time: 1.228, data_time: 0.004, memory: 4940, decode.loss_ce: 0.0703, decode.acc_seg: 83.6355, aux.loss_ce: 0.0325, aux.acc_seg: 83.3031, loss: 0.1027\n"
     ]
    },
    {
     "name": "stdout",
     "output_type": "stream",
     "text": [
      "[>>>>>>>>>>>>>>>>>>>>>>>>>>>>>] 800/800, 6.8 task/s, elapsed: 118s, ETA:     0s"
     ]
    },
    {
     "name": "stderr",
     "output_type": "stream",
     "text": [
      "2022-03-08 14:57:36,079 - mmseg - INFO - per class results:\n",
      "2022-03-08 14:57:36,080 - mmseg - INFO - \n",
      "+-------+-------+-------+\n",
      "| Class |  IoU  |  Acc  |\n",
      "+-------+-------+-------+\n",
      "|  face | 79.84 |  88.4 |\n",
      "|   bg  | 97.66 | 98.86 |\n",
      "+-------+-------+-------+\n",
      "2022-03-08 14:57:36,081 - mmseg - INFO - Summary:\n",
      "2022-03-08 14:57:36,083 - mmseg - INFO - \n",
      "+-------+-------+-------+\n",
      "|  aAcc |  mIoU |  mAcc |\n",
      "+-------+-------+-------+\n",
      "| 97.86 | 88.75 | 93.63 |\n",
      "+-------+-------+-------+\n",
      "2022-03-08 14:57:36,089 - mmseg - INFO - Iter(val) [800]\taAcc: 0.9786, mIoU: 0.8875, mAcc: 0.9363, IoU.face: 0.7984, IoU.bg: 0.9766, Acc.face: 0.8840, Acc.bg: 0.9886\n",
      "2022-03-08 15:01:37,868 - mmseg - INFO - Iter [54200/80000]\tlr: 3.225e-05, eta: 10:49:25, time: 1.799, data_time: 0.606, memory: 4940, decode.loss_ce: 0.0645, decode.acc_seg: 84.0707, aux.loss_ce: 0.0311, aux.acc_seg: 83.6990, loss: 0.0957\n",
      "2022-03-08 15:05:38,001 - mmseg - INFO - Iter [54400/80000]\tlr: 3.200e-05, eta: 10:43:54, time: 1.201, data_time: 0.005, memory: 4940, decode.loss_ce: 0.0629, decode.acc_seg: 82.9344, aux.loss_ce: 0.0306, aux.acc_seg: 82.5509, loss: 0.0935\n"
     ]
    },
    {
     "name": "stdout",
     "output_type": "stream",
     "text": [
      "[>>>>>>>>>>>>>>>>>>>>>>>>>>>>>] 800/800, 6.7 task/s, elapsed: 120s, ETA:     0s"
     ]
    },
    {
     "name": "stderr",
     "output_type": "stream",
     "text": [
      "2022-03-08 15:07:37,790 - mmseg - INFO - per class results:\n",
      "2022-03-08 15:07:37,791 - mmseg - INFO - \n",
      "+-------+-------+-------+\n",
      "| Class |  IoU  |  Acc  |\n",
      "+-------+-------+-------+\n",
      "|  face | 78.68 | 87.75 |\n",
      "|   bg  | 97.51 | 98.78 |\n",
      "+-------+-------+-------+\n",
      "2022-03-08 15:07:37,792 - mmseg - INFO - Summary:\n",
      "2022-03-08 15:07:37,794 - mmseg - INFO - \n",
      "+-------+------+-------+\n",
      "|  aAcc | mIoU |  mAcc |\n",
      "+-------+------+-------+\n",
      "| 97.72 | 88.1 | 93.27 |\n",
      "+-------+------+-------+\n",
      "2022-03-08 15:07:37,798 - mmseg - INFO - Iter(val) [800]\taAcc: 0.9772, mIoU: 0.8810, mAcc: 0.9327, IoU.face: 0.7868, IoU.bg: 0.9751, Acc.face: 0.8775, Acc.bg: 0.9878\n",
      "2022-03-08 15:11:40,886 - mmseg - INFO - Iter [54600/80000]\tlr: 3.175e-05, eta: 10:39:21, time: 1.814, data_time: 0.615, memory: 4940, decode.loss_ce: 0.0656, decode.acc_seg: 82.8756, aux.loss_ce: 0.0316, aux.acc_seg: 82.4746, loss: 0.0972\n",
      "2022-03-08 15:15:42,302 - mmseg - INFO - Iter [54800/80000]\tlr: 3.150e-05, eta: 10:33:51, time: 1.207, data_time: 0.005, memory: 4940, decode.loss_ce: 0.0633, decode.acc_seg: 82.9752, aux.loss_ce: 0.0307, aux.acc_seg: 82.5967, loss: 0.0940\n"
     ]
    },
    {
     "name": "stdout",
     "output_type": "stream",
     "text": [
      "[>>>>>>>>>>>>>>>>>>>>>>>>>>>>>] 800/800, 6.7 task/s, elapsed: 120s, ETA:     0s"
     ]
    },
    {
     "name": "stderr",
     "output_type": "stream",
     "text": [
      "2022-03-08 15:17:41,912 - mmseg - INFO - per class results:\n",
      "2022-03-08 15:17:41,914 - mmseg - INFO - \n",
      "+-------+-------+-------+\n",
      "| Class |  IoU  |  Acc  |\n",
      "+-------+-------+-------+\n",
      "|  face | 79.83 | 87.88 |\n",
      "|   bg  | 97.68 | 98.93 |\n",
      "+-------+-------+-------+\n",
      "2022-03-08 15:17:41,915 - mmseg - INFO - Summary:\n",
      "2022-03-08 15:17:41,916 - mmseg - INFO - \n",
      "+-------+-------+-------+\n",
      "|  aAcc |  mIoU |  mAcc |\n",
      "+-------+-------+-------+\n",
      "| 97.87 | 88.76 | 93.41 |\n",
      "+-------+-------+-------+\n",
      "2022-03-08 15:17:41,925 - mmseg - INFO - Iter(val) [800]\taAcc: 0.9787, mIoU: 0.8876, mAcc: 0.9341, IoU.face: 0.7983, IoU.bg: 0.9768, Acc.face: 0.8788, Acc.bg: 0.9893\n",
      "2022-03-08 15:21:43,775 - mmseg - INFO - Iter [55000/80000]\tlr: 3.125e-05, eta: 10:29:16, time: 1.807, data_time: 0.614, memory: 4940, decode.loss_ce: 0.0592, decode.acc_seg: 83.5701, aux.loss_ce: 0.0283, aux.acc_seg: 83.2469, loss: 0.0875\n",
      "2022-03-08 15:25:44,130 - mmseg - INFO - Iter [55200/80000]\tlr: 3.100e-05, eta: 10:23:46, time: 1.202, data_time: 0.005, memory: 4940, decode.loss_ce: 0.0634, decode.acc_seg: 83.3464, aux.loss_ce: 0.0310, aux.acc_seg: 82.9616, loss: 0.0944\n"
     ]
    },
    {
     "name": "stdout",
     "output_type": "stream",
     "text": [
      "[>>>>>>>>>>>>>>>>>>>>>>>>>>>>>] 800/800, 6.7 task/s, elapsed: 119s, ETA:     0s"
     ]
    },
    {
     "name": "stderr",
     "output_type": "stream",
     "text": [
      "2022-03-08 15:27:43,245 - mmseg - INFO - per class results:\n",
      "2022-03-08 15:27:43,247 - mmseg - INFO - \n",
      "+-------+-------+-------+\n",
      "| Class |  IoU  |  Acc  |\n",
      "+-------+-------+-------+\n",
      "|  face | 79.58 |  88.0 |\n",
      "|   bg  | 97.64 | 98.88 |\n",
      "+-------+-------+-------+\n",
      "2022-03-08 15:27:43,249 - mmseg - INFO - Summary:\n",
      "2022-03-08 15:27:43,250 - mmseg - INFO - \n",
      "+-------+-------+-------+\n",
      "|  aAcc |  mIoU |  mAcc |\n",
      "+-------+-------+-------+\n",
      "| 97.84 | 88.61 | 93.44 |\n",
      "+-------+-------+-------+\n",
      "2022-03-08 15:27:43,257 - mmseg - INFO - Iter(val) [800]\taAcc: 0.9784, mIoU: 0.8861, mAcc: 0.9344, IoU.face: 0.7958, IoU.bg: 0.9764, Acc.face: 0.8800, Acc.bg: 0.9888\n",
      "2022-03-08 15:31:45,755 - mmseg - INFO - Iter [55400/80000]\tlr: 3.075e-05, eta: 10:19:11, time: 1.808, data_time: 0.611, memory: 4940, decode.loss_ce: 0.0622, decode.acc_seg: 82.9902, aux.loss_ce: 0.0301, aux.acc_seg: 82.6406, loss: 0.0923\n",
      "2022-03-08 15:35:45,581 - mmseg - INFO - Iter [55600/80000]\tlr: 3.050e-05, eta: 10:13:42, time: 1.199, data_time: 0.005, memory: 4940, decode.loss_ce: 0.0643, decode.acc_seg: 83.4226, aux.loss_ce: 0.0300, aux.acc_seg: 83.0652, loss: 0.0943\n"
     ]
    },
    {
     "name": "stdout",
     "output_type": "stream",
     "text": [
      "[>>>>>>>>>>>>>>>>>>>>>>>>>>>>>] 800/800, 6.8 task/s, elapsed: 118s, ETA:     0s"
     ]
    },
    {
     "name": "stderr",
     "output_type": "stream",
     "text": [
      "2022-03-08 15:37:43,806 - mmseg - INFO - per class results:\n",
      "2022-03-08 15:37:43,808 - mmseg - INFO - \n",
      "+-------+-------+-------+\n",
      "| Class |  IoU  |  Acc  |\n",
      "+-------+-------+-------+\n",
      "|  face | 79.59 | 87.18 |\n",
      "|   bg  | 97.66 | 98.99 |\n",
      "+-------+-------+-------+\n",
      "2022-03-08 15:37:43,809 - mmseg - INFO - Summary:\n",
      "2022-03-08 15:37:43,811 - mmseg - INFO - \n",
      "+-------+-------+-------+\n",
      "|  aAcc |  mIoU |  mAcc |\n",
      "+-------+-------+-------+\n",
      "| 97.86 | 88.63 | 93.09 |\n",
      "+-------+-------+-------+\n",
      "2022-03-08 15:37:43,814 - mmseg - INFO - Iter(val) [800]\taAcc: 0.9786, mIoU: 0.8863, mAcc: 0.9309, IoU.face: 0.7959, IoU.bg: 0.9766, Acc.face: 0.8718, Acc.bg: 0.9899\n",
      "2022-03-08 15:41:46,781 - mmseg - INFO - Iter [55800/80000]\tlr: 3.025e-05, eta: 10:09:06, time: 1.806, data_time: 0.607, memory: 4940, decode.loss_ce: 0.0679, decode.acc_seg: 82.8199, aux.loss_ce: 0.0305, aux.acc_seg: 82.5173, loss: 0.0984\n",
      "2022-03-08 15:45:46,804 - mmseg - INFO - Saving checkpoint at 56000 iterations\n",
      "2022-03-08 15:45:48,662 - mmseg - INFO - Iter [56000/80000]\tlr: 3.000e-05, eta: 10:03:38, time: 1.210, data_time: 0.005, memory: 4940, decode.loss_ce: 0.0631, decode.acc_seg: 82.9763, aux.loss_ce: 0.0299, aux.acc_seg: 82.6109, loss: 0.0930\n"
     ]
    },
    {
     "name": "stdout",
     "output_type": "stream",
     "text": [
      "[>>>>>>>>>>>>>>>>>>>>>>>>>>>>>] 800/800, 6.8 task/s, elapsed: 118s, ETA:     0s"
     ]
    },
    {
     "name": "stderr",
     "output_type": "stream",
     "text": [
      "2022-03-08 15:47:46,577 - mmseg - INFO - per class results:\n",
      "2022-03-08 15:47:46,578 - mmseg - INFO - \n",
      "+-------+-------+-------+\n",
      "| Class |  IoU  |  Acc  |\n",
      "+-------+-------+-------+\n",
      "|  face | 79.48 | 87.21 |\n",
      "|   bg  | 97.65 | 98.97 |\n",
      "+-------+-------+-------+\n",
      "2022-03-08 15:47:46,579 - mmseg - INFO - Summary:\n",
      "2022-03-08 15:47:46,582 - mmseg - INFO - \n",
      "+-------+-------+-------+\n",
      "|  aAcc |  mIoU |  mAcc |\n",
      "+-------+-------+-------+\n",
      "| 97.84 | 88.56 | 93.09 |\n",
      "+-------+-------+-------+\n",
      "2022-03-08 15:47:46,585 - mmseg - INFO - Iter(val) [800]\taAcc: 0.9784, mIoU: 0.8856, mAcc: 0.9309, IoU.face: 0.7948, IoU.bg: 0.9765, Acc.face: 0.8721, Acc.bg: 0.9897\n",
      "2022-03-08 15:51:48,563 - mmseg - INFO - Iter [56200/80000]\tlr: 2.975e-05, eta: 9:59:00, time: 1.799, data_time: 0.605, memory: 4940, decode.loss_ce: 0.0691, decode.acc_seg: 82.9651, aux.loss_ce: 0.0325, aux.acc_seg: 82.6024, loss: 0.1016\n",
      "2022-03-08 15:55:48,303 - mmseg - INFO - Iter [56400/80000]\tlr: 2.950e-05, eta: 9:53:32, time: 1.199, data_time: 0.005, memory: 4940, decode.loss_ce: 0.0682, decode.acc_seg: 83.7521, aux.loss_ce: 0.0325, aux.acc_seg: 83.3679, loss: 0.1006\n"
     ]
    },
    {
     "name": "stdout",
     "output_type": "stream",
     "text": [
      "[>>>>>>>>>>>>>>>>>>>>>>>>>>>>>] 800/800, 6.7 task/s, elapsed: 119s, ETA:     0s"
     ]
    },
    {
     "name": "stderr",
     "output_type": "stream",
     "text": [
      "2022-03-08 15:57:47,444 - mmseg - INFO - per class results:\n",
      "2022-03-08 15:57:47,445 - mmseg - INFO - \n",
      "+-------+-------+-------+\n",
      "| Class |  IoU  |  Acc  |\n",
      "+-------+-------+-------+\n",
      "|  face | 79.95 | 88.64 |\n",
      "|   bg  | 97.67 | 98.85 |\n",
      "+-------+-------+-------+\n",
      "2022-03-08 15:57:47,447 - mmseg - INFO - Summary:\n",
      "2022-03-08 15:57:47,450 - mmseg - INFO - \n",
      "+-------+-------+-------+\n",
      "|  aAcc |  mIoU |  mAcc |\n",
      "+-------+-------+-------+\n",
      "| 97.87 | 88.81 | 93.75 |\n",
      "+-------+-------+-------+\n",
      "2022-03-08 15:57:47,452 - mmseg - INFO - Iter(val) [800]\taAcc: 0.9787, mIoU: 0.8881, mAcc: 0.9375, IoU.face: 0.7995, IoU.bg: 0.9767, Acc.face: 0.8864, Acc.bg: 0.9885\n",
      "2022-03-08 16:01:50,677 - mmseg - INFO - Iter [56600/80000]\tlr: 2.925e-05, eta: 9:48:56, time: 1.812, data_time: 0.612, memory: 4940, decode.loss_ce: 0.0598, decode.acc_seg: 83.4677, aux.loss_ce: 0.0289, aux.acc_seg: 83.0921, loss: 0.0888\n",
      "2022-03-08 16:05:53,547 - mmseg - INFO - Iter [56800/80000]\tlr: 2.900e-05, eta: 9:43:29, time: 1.214, data_time: 0.005, memory: 4940, decode.loss_ce: 0.0645, decode.acc_seg: 84.1399, aux.loss_ce: 0.0308, aux.acc_seg: 83.7744, loss: 0.0953\n"
     ]
    },
    {
     "name": "stdout",
     "output_type": "stream",
     "text": [
      "[>>>>>>>>>>>>>>>>>>>>>>>>>>>>>] 800/800, 6.7 task/s, elapsed: 120s, ETA:     0s"
     ]
    },
    {
     "name": "stderr",
     "output_type": "stream",
     "text": [
      "2022-03-08 16:07:53,415 - mmseg - INFO - per class results:\n",
      "2022-03-08 16:07:53,416 - mmseg - INFO - \n",
      "+-------+-------+-------+\n",
      "| Class |  IoU  |  Acc  |\n",
      "+-------+-------+-------+\n",
      "|  face | 79.76 | 87.34 |\n",
      "|   bg  | 97.68 | 98.99 |\n",
      "+-------+-------+-------+\n",
      "2022-03-08 16:07:53,418 - mmseg - INFO - Summary:\n",
      "2022-03-08 16:07:53,419 - mmseg - INFO - \n",
      "+-------+-------+-------+\n",
      "|  aAcc |  mIoU |  mAcc |\n",
      "+-------+-------+-------+\n",
      "| 97.88 | 88.72 | 93.17 |\n",
      "+-------+-------+-------+\n",
      "2022-03-08 16:07:53,429 - mmseg - INFO - Iter(val) [800]\taAcc: 0.9788, mIoU: 0.8872, mAcc: 0.9317, IoU.face: 0.7976, IoU.bg: 0.9768, Acc.face: 0.8734, Acc.bg: 0.9899\n",
      "2022-03-08 16:11:58,238 - mmseg - INFO - Iter [57000/80000]\tlr: 2.875e-05, eta: 9:38:53, time: 1.823, data_time: 0.615, memory: 4940, decode.loss_ce: 0.0698, decode.acc_seg: 83.5157, aux.loss_ce: 0.0333, aux.acc_seg: 83.1231, loss: 0.1031\n",
      "2022-03-08 16:15:59,507 - mmseg - INFO - Iter [57200/80000]\tlr: 2.850e-05, eta: 9:33:27, time: 1.206, data_time: 0.005, memory: 4940, decode.loss_ce: 0.0584, decode.acc_seg: 83.3606, aux.loss_ce: 0.0275, aux.acc_seg: 83.0335, loss: 0.0859\n"
     ]
    },
    {
     "name": "stdout",
     "output_type": "stream",
     "text": [
      "[>>>>>>>>>>>>>>>>>>>>>>>>>>>>>] 800/800, 6.5 task/s, elapsed: 123s, ETA:     0s"
     ]
    },
    {
     "name": "stderr",
     "output_type": "stream",
     "text": [
      "2022-03-08 16:18:02,203 - mmseg - INFO - per class results:\n",
      "2022-03-08 16:18:02,204 - mmseg - INFO - \n",
      "+-------+-------+-------+\n",
      "| Class |  IoU  |  Acc  |\n",
      "+-------+-------+-------+\n",
      "|  face | 79.88 | 87.94 |\n",
      "|   bg  | 97.68 | 98.93 |\n",
      "+-------+-------+-------+\n",
      "2022-03-08 16:18:02,205 - mmseg - INFO - Summary:\n",
      "2022-03-08 16:18:02,206 - mmseg - INFO - \n",
      "+-------+-------+-------+\n",
      "|  aAcc |  mIoU |  mAcc |\n",
      "+-------+-------+-------+\n",
      "| 97.88 | 88.78 | 93.44 |\n",
      "+-------+-------+-------+\n",
      "2022-03-08 16:18:02,212 - mmseg - INFO - Iter(val) [800]\taAcc: 0.9788, mIoU: 0.8878, mAcc: 0.9344, IoU.face: 0.7988, IoU.bg: 0.9768, Acc.face: 0.8794, Acc.bg: 0.9893\n",
      "2022-03-08 16:22:04,475 - mmseg - INFO - Iter [57400/80000]\tlr: 2.825e-05, eta: 9:28:50, time: 1.825, data_time: 0.629, memory: 4940, decode.loss_ce: 0.0617, decode.acc_seg: 83.5743, aux.loss_ce: 0.0297, aux.acc_seg: 83.2382, loss: 0.0915\n",
      "2022-03-08 16:26:06,462 - mmseg - INFO - Iter [57600/80000]\tlr: 2.800e-05, eta: 9:23:24, time: 1.210, data_time: 0.005, memory: 4940, decode.loss_ce: 0.0611, decode.acc_seg: 81.7433, aux.loss_ce: 0.0306, aux.acc_seg: 81.3212, loss: 0.0916\n"
     ]
    },
    {
     "name": "stdout",
     "output_type": "stream",
     "text": [
      "[>>>>>>>>>>>>>>>>>>>>>>>>>>>>>] 800/800, 6.7 task/s, elapsed: 119s, ETA:     0s"
     ]
    },
    {
     "name": "stderr",
     "output_type": "stream",
     "text": [
      "2022-03-08 16:28:05,490 - mmseg - INFO - per class results:\n",
      "2022-03-08 16:28:05,491 - mmseg - INFO - \n",
      "+-------+-------+-------+\n",
      "| Class |  IoU  |  Acc  |\n",
      "+-------+-------+-------+\n",
      "|  face | 78.79 | 87.39 |\n",
      "|   bg  | 97.54 | 98.84 |\n",
      "+-------+-------+-------+\n",
      "2022-03-08 16:28:05,492 - mmseg - INFO - Summary:\n",
      "2022-03-08 16:28:05,493 - mmseg - INFO - \n",
      "+-------+-------+-------+\n",
      "|  aAcc |  mIoU |  mAcc |\n",
      "+-------+-------+-------+\n",
      "| 97.75 | 88.17 | 93.12 |\n",
      "+-------+-------+-------+\n",
      "2022-03-08 16:28:05,496 - mmseg - INFO - Iter(val) [800]\taAcc: 0.9775, mIoU: 0.8817, mAcc: 0.9312, IoU.face: 0.7879, IoU.bg: 0.9754, Acc.face: 0.8739, Acc.bg: 0.9884\n",
      "2022-03-08 16:32:09,027 - mmseg - INFO - Iter [57800/80000]\tlr: 2.775e-05, eta: 9:18:46, time: 1.813, data_time: 0.611, memory: 4940, decode.loss_ce: 0.0610, decode.acc_seg: 83.7297, aux.loss_ce: 0.0292, aux.acc_seg: 83.3597, loss: 0.0902\n",
      "2022-03-08 16:36:10,092 - mmseg - INFO - Saving checkpoint at 58000 iterations\n",
      "2022-03-08 16:36:11,975 - mmseg - INFO - Iter [58000/80000]\tlr: 2.750e-05, eta: 9:13:21, time: 1.215, data_time: 0.004, memory: 4940, decode.loss_ce: 0.0663, decode.acc_seg: 83.2649, aux.loss_ce: 0.0320, aux.acc_seg: 82.9226, loss: 0.0984\n"
     ]
    },
    {
     "name": "stdout",
     "output_type": "stream",
     "text": [
      "[>>>>>>>>>>>>>>>>>>>>>>>>>>>>>] 800/800, 6.7 task/s, elapsed: 119s, ETA:     0s"
     ]
    },
    {
     "name": "stderr",
     "output_type": "stream",
     "text": [
      "2022-03-08 16:38:11,122 - mmseg - INFO - per class results:\n",
      "2022-03-08 16:38:11,124 - mmseg - INFO - \n",
      "+-------+-------+-------+\n",
      "| Class |  IoU  |  Acc  |\n",
      "+-------+-------+-------+\n",
      "|  face | 79.63 | 86.95 |\n",
      "|   bg  | 97.68 | 99.03 |\n",
      "+-------+-------+-------+\n",
      "2022-03-08 16:38:11,124 - mmseg - INFO - Summary:\n",
      "2022-03-08 16:38:11,126 - mmseg - INFO - \n",
      "+-------+-------+-------+\n",
      "|  aAcc |  mIoU |  mAcc |\n",
      "+-------+-------+-------+\n",
      "| 97.87 | 88.66 | 92.99 |\n",
      "+-------+-------+-------+\n",
      "2022-03-08 16:38:11,130 - mmseg - INFO - Iter(val) [800]\taAcc: 0.9787, mIoU: 0.8866, mAcc: 0.9299, IoU.face: 0.7963, IoU.bg: 0.9768, Acc.face: 0.8695, Acc.bg: 0.9903\n",
      "2022-03-08 16:42:14,427 - mmseg - INFO - Iter [58200/80000]\tlr: 2.725e-05, eta: 9:08:42, time: 1.812, data_time: 0.611, memory: 4940, decode.loss_ce: 0.0633, decode.acc_seg: 82.0956, aux.loss_ce: 0.0303, aux.acc_seg: 81.7328, loss: 0.0936\n",
      "2022-03-08 16:46:16,246 - mmseg - INFO - Iter [58400/80000]\tlr: 2.700e-05, eta: 9:03:18, time: 1.209, data_time: 0.005, memory: 4940, decode.loss_ce: 0.0625, decode.acc_seg: 83.9726, aux.loss_ce: 0.0300, aux.acc_seg: 83.6181, loss: 0.0925\n"
     ]
    },
    {
     "name": "stdout",
     "output_type": "stream",
     "text": [
      "[>>>>>>>>>>>>>>>>>>>>>>>>>>>>>] 800/800, 6.7 task/s, elapsed: 119s, ETA:     0s"
     ]
    },
    {
     "name": "stderr",
     "output_type": "stream",
     "text": [
      "2022-03-08 16:48:15,268 - mmseg - INFO - per class results:\n",
      "2022-03-08 16:48:15,269 - mmseg - INFO - \n",
      "+-------+-------+-------+\n",
      "| Class |  IoU  |  Acc  |\n",
      "+-------+-------+-------+\n",
      "|  face | 78.97 | 87.32 |\n",
      "|   bg  | 97.57 | 98.88 |\n",
      "+-------+-------+-------+\n",
      "2022-03-08 16:48:15,270 - mmseg - INFO - Summary:\n",
      "2022-03-08 16:48:15,272 - mmseg - INFO - \n",
      "+-------+-------+------+\n",
      "|  aAcc |  mIoU | mAcc |\n",
      "+-------+-------+------+\n",
      "| 97.77 | 88.27 | 93.1 |\n",
      "+-------+-------+------+\n",
      "2022-03-08 16:48:15,275 - mmseg - INFO - Iter(val) [800]\taAcc: 0.9777, mIoU: 0.8827, mAcc: 0.9310, IoU.face: 0.7897, IoU.bg: 0.9757, Acc.face: 0.8732, Acc.bg: 0.9888\n",
      "2022-03-08 16:52:18,427 - mmseg - INFO - Iter [58600/80000]\tlr: 2.675e-05, eta: 8:58:38, time: 1.811, data_time: 0.611, memory: 4940, decode.loss_ce: 0.0593, decode.acc_seg: 82.9018, aux.loss_ce: 0.0294, aux.acc_seg: 82.4896, loss: 0.0887\n",
      "2022-03-08 16:56:19,390 - mmseg - INFO - Iter [58800/80000]\tlr: 2.650e-05, eta: 8:53:14, time: 1.205, data_time: 0.005, memory: 4940, decode.loss_ce: 0.0645, decode.acc_seg: 81.8621, aux.loss_ce: 0.0310, aux.acc_seg: 81.4741, loss: 0.0955\n"
     ]
    },
    {
     "name": "stdout",
     "output_type": "stream",
     "text": [
      "[>>>>>>>>>>>>>>>>>>>>>>>>>>>>>] 800/800, 6.8 task/s, elapsed: 118s, ETA:     0s"
     ]
    },
    {
     "name": "stderr",
     "output_type": "stream",
     "text": [
      "2022-03-08 16:58:17,916 - mmseg - INFO - per class results:\n",
      "2022-03-08 16:58:17,918 - mmseg - INFO - \n",
      "+-------+-------+-------+\n",
      "| Class |  IoU  |  Acc  |\n",
      "+-------+-------+-------+\n",
      "|  face | 79.78 | 88.19 |\n",
      "|   bg  | 97.66 | 98.88 |\n",
      "+-------+-------+-------+\n",
      "2022-03-08 16:58:17,919 - mmseg - INFO - Summary:\n",
      "2022-03-08 16:58:17,920 - mmseg - INFO - \n",
      "+-------+-------+-------+\n",
      "|  aAcc |  mIoU |  mAcc |\n",
      "+-------+-------+-------+\n",
      "| 97.86 | 88.72 | 93.54 |\n",
      "+-------+-------+-------+\n",
      "2022-03-08 16:58:17,925 - mmseg - INFO - Iter(val) [800]\taAcc: 0.9786, mIoU: 0.8872, mAcc: 0.9354, IoU.face: 0.7978, IoU.bg: 0.9766, Acc.face: 0.8819, Acc.bg: 0.9888\n",
      "2022-03-08 17:02:22,651 - mmseg - INFO - Iter [59000/80000]\tlr: 2.625e-05, eta: 8:48:34, time: 1.816, data_time: 0.610, memory: 4940, decode.loss_ce: 0.0621, decode.acc_seg: 83.1712, aux.loss_ce: 0.0291, aux.acc_seg: 82.8224, loss: 0.0913\n",
      "2022-03-08 17:06:24,638 - mmseg - INFO - Iter [59200/80000]\tlr: 2.600e-05, eta: 8:43:11, time: 1.210, data_time: 0.004, memory: 4940, decode.loss_ce: 0.0644, decode.acc_seg: 82.9721, aux.loss_ce: 0.0316, aux.acc_seg: 82.5612, loss: 0.0960\n"
     ]
    },
    {
     "name": "stdout",
     "output_type": "stream",
     "text": [
      "[>>>>>>>>>>>>>>>>>>>>>>>>>>>>>] 800/800, 6.7 task/s, elapsed: 119s, ETA:     0s"
     ]
    },
    {
     "name": "stderr",
     "output_type": "stream",
     "text": [
      "2022-03-08 17:08:23,412 - mmseg - INFO - per class results:\n",
      "2022-03-08 17:08:23,413 - mmseg - INFO - \n",
      "+-------+-------+-------+\n",
      "| Class |  IoU  |  Acc  |\n",
      "+-------+-------+-------+\n",
      "|  face | 78.61 | 88.03 |\n",
      "|   bg  |  97.5 | 98.73 |\n",
      "+-------+-------+-------+\n",
      "2022-03-08 17:08:23,413 - mmseg - INFO - Summary:\n",
      "2022-03-08 17:08:23,414 - mmseg - INFO - \n",
      "+-------+-------+-------+\n",
      "|  aAcc |  mIoU |  mAcc |\n",
      "+-------+-------+-------+\n",
      "| 97.71 | 88.05 | 93.38 |\n",
      "+-------+-------+-------+\n",
      "2022-03-08 17:08:23,418 - mmseg - INFO - Iter(val) [800]\taAcc: 0.9771, mIoU: 0.8805, mAcc: 0.9338, IoU.face: 0.7861, IoU.bg: 0.9750, Acc.face: 0.8803, Acc.bg: 0.9873\n",
      "2022-03-08 17:12:26,877 - mmseg - INFO - Iter [59400/80000]\tlr: 2.575e-05, eta: 8:38:30, time: 1.811, data_time: 0.609, memory: 4940, decode.loss_ce: 0.0595, decode.acc_seg: 82.8395, aux.loss_ce: 0.0294, aux.acc_seg: 82.4840, loss: 0.0888\n",
      "2022-03-08 17:16:28,575 - mmseg - INFO - Iter [59600/80000]\tlr: 2.550e-05, eta: 8:33:07, time: 1.208, data_time: 0.005, memory: 4940, decode.loss_ce: 0.0607, decode.acc_seg: 83.4966, aux.loss_ce: 0.0299, aux.acc_seg: 83.0688, loss: 0.0906\n"
     ]
    },
    {
     "name": "stdout",
     "output_type": "stream",
     "text": [
      "[>>>>>>>>>>>>>>>>>>>>>>>>>>>>>] 800/800, 6.7 task/s, elapsed: 119s, ETA:     0s"
     ]
    },
    {
     "name": "stderr",
     "output_type": "stream",
     "text": [
      "2022-03-08 17:18:27,963 - mmseg - INFO - per class results:\n",
      "2022-03-08 17:18:27,965 - mmseg - INFO - \n",
      "+-------+-------+-------+\n",
      "| Class |  IoU  |  Acc  |\n",
      "+-------+-------+-------+\n",
      "|  face |  79.4 | 87.43 |\n",
      "|   bg  | 97.63 | 98.93 |\n",
      "+-------+-------+-------+\n",
      "2022-03-08 17:18:27,965 - mmseg - INFO - Summary:\n",
      "2022-03-08 17:18:27,966 - mmseg - INFO - \n",
      "+-------+-------+-------+\n",
      "|  aAcc |  mIoU |  mAcc |\n",
      "+-------+-------+-------+\n",
      "| 97.83 | 88.52 | 93.18 |\n",
      "+-------+-------+-------+\n",
      "2022-03-08 17:18:27,973 - mmseg - INFO - Iter(val) [800]\taAcc: 0.9783, mIoU: 0.8852, mAcc: 0.9318, IoU.face: 0.7940, IoU.bg: 0.9763, Acc.face: 0.8743, Acc.bg: 0.9893\n",
      "2022-03-08 17:22:33,135 - mmseg - INFO - Iter [59800/80000]\tlr: 2.525e-05, eta: 8:28:27, time: 1.823, data_time: 0.613, memory: 4940, decode.loss_ce: 0.0586, decode.acc_seg: 83.1182, aux.loss_ce: 0.0300, aux.acc_seg: 82.5951, loss: 0.0887\n",
      "2022-03-08 17:26:35,439 - mmseg - INFO - Saving checkpoint at 60000 iterations\n",
      "2022-03-08 17:26:37,964 - mmseg - INFO - Iter [60000/80000]\tlr: 2.500e-05, eta: 8:23:06, time: 1.224, data_time: 0.004, memory: 4940, decode.loss_ce: 0.0581, decode.acc_seg: 83.3608, aux.loss_ce: 0.0290, aux.acc_seg: 82.9730, loss: 0.0871\n"
     ]
    },
    {
     "name": "stdout",
     "output_type": "stream",
     "text": [
      "[>>>>>>>>>>>>>>>>>>>>>>>>>>>>>] 800/800, 6.6 task/s, elapsed: 122s, ETA:     0s"
     ]
    },
    {
     "name": "stderr",
     "output_type": "stream",
     "text": [
      "2022-03-08 17:28:39,812 - mmseg - INFO - per class results:\n",
      "2022-03-08 17:28:39,813 - mmseg - INFO - \n",
      "+-------+-------+-------+\n",
      "| Class |  IoU  |  Acc  |\n",
      "+-------+-------+-------+\n",
      "|  face | 79.49 | 87.16 |\n",
      "|   bg  | 97.65 | 98.98 |\n",
      "+-------+-------+-------+\n",
      "2022-03-08 17:28:39,817 - mmseg - INFO - Summary:\n",
      "2022-03-08 17:28:39,818 - mmseg - INFO - \n",
      "+-------+-------+-------+\n",
      "|  aAcc |  mIoU |  mAcc |\n",
      "+-------+-------+-------+\n",
      "| 97.85 | 88.57 | 93.07 |\n",
      "+-------+-------+-------+\n",
      "2022-03-08 17:28:39,821 - mmseg - INFO - Iter(val) [800]\taAcc: 0.9785, mIoU: 0.8857, mAcc: 0.9307, IoU.face: 0.7949, IoU.bg: 0.9765, Acc.face: 0.8716, Acc.bg: 0.9898\n",
      "2022-03-08 17:32:43,923 - mmseg - INFO - Iter [60200/80000]\tlr: 2.475e-05, eta: 8:18:25, time: 1.830, data_time: 0.625, memory: 4940, decode.loss_ce: 0.0666, decode.acc_seg: 82.3801, aux.loss_ce: 0.0313, aux.acc_seg: 82.0108, loss: 0.0979\n",
      "2022-03-08 17:36:50,006 - mmseg - INFO - Iter [60400/80000]\tlr: 2.450e-05, eta: 8:13:05, time: 1.230, data_time: 0.004, memory: 4940, decode.loss_ce: 0.0623, decode.acc_seg: 83.6646, aux.loss_ce: 0.0307, aux.acc_seg: 83.2972, loss: 0.0930\n"
     ]
    },
    {
     "name": "stdout",
     "output_type": "stream",
     "text": [
      "[>>>>>>>>>>>>>>>>>>>>>>>>>>>>>] 800/800, 6.8 task/s, elapsed: 118s, ETA:     0s"
     ]
    },
    {
     "name": "stderr",
     "output_type": "stream",
     "text": [
      "2022-03-08 17:38:47,905 - mmseg - INFO - per class results:\n",
      "2022-03-08 17:38:47,906 - mmseg - INFO - \n",
      "+-------+-------+-------+\n",
      "| Class |  IoU  |  Acc  |\n",
      "+-------+-------+-------+\n",
      "|  face | 76.31 | 86.83 |\n",
      "|   bg  | 97.18 | 98.54 |\n",
      "+-------+-------+-------+\n",
      "2022-03-08 17:38:47,907 - mmseg - INFO - Summary:\n",
      "2022-03-08 17:38:47,908 - mmseg - INFO - \n",
      "+-------+-------+-------+\n",
      "|  aAcc |  mIoU |  mAcc |\n",
      "+-------+-------+-------+\n",
      "| 97.42 | 86.75 | 92.69 |\n",
      "+-------+-------+-------+\n",
      "2022-03-08 17:38:47,911 - mmseg - INFO - Iter(val) [800]\taAcc: 0.9742, mIoU: 0.8675, mAcc: 0.9269, IoU.face: 0.7631, IoU.bg: 0.9718, Acc.face: 0.8683, Acc.bg: 0.9854\n",
      "2022-03-08 17:42:50,278 - mmseg - INFO - Iter [60600/80000]\tlr: 2.425e-05, eta: 8:08:21, time: 1.801, data_time: 0.605, memory: 4940, decode.loss_ce: 0.0635, decode.acc_seg: 82.6948, aux.loss_ce: 0.0310, aux.acc_seg: 82.2568, loss: 0.0946\n",
      "2022-03-08 17:46:50,197 - mmseg - INFO - Iter [60800/80000]\tlr: 2.400e-05, eta: 8:03:00, time: 1.200, data_time: 0.005, memory: 4940, decode.loss_ce: 0.0608, decode.acc_seg: 83.0696, aux.loss_ce: 0.0289, aux.acc_seg: 82.7159, loss: 0.0898\n"
     ]
    },
    {
     "name": "stdout",
     "output_type": "stream",
     "text": [
      "[>>>>>>>>>>>>>>>>>>>>>>>>>>>>>] 800/800, 6.8 task/s, elapsed: 118s, ETA:     0s"
     ]
    },
    {
     "name": "stderr",
     "output_type": "stream",
     "text": [
      "2022-03-08 17:48:48,681 - mmseg - INFO - per class results:\n",
      "2022-03-08 17:48:48,682 - mmseg - INFO - \n",
      "+-------+-------+-------+\n",
      "| Class |  IoU  |  Acc  |\n",
      "+-------+-------+-------+\n",
      "|  face | 79.92 | 87.99 |\n",
      "|   bg  | 97.69 | 98.93 |\n",
      "+-------+-------+-------+\n",
      "2022-03-08 17:48:48,683 - mmseg - INFO - Summary:\n",
      "2022-03-08 17:48:48,684 - mmseg - INFO - \n",
      "+-------+------+-------+\n",
      "|  aAcc | mIoU |  mAcc |\n",
      "+-------+------+-------+\n",
      "| 97.88 | 88.8 | 93.46 |\n",
      "+-------+------+-------+\n",
      "2022-03-08 17:48:48,687 - mmseg - INFO - Iter(val) [800]\taAcc: 0.9788, mIoU: 0.8880, mAcc: 0.9346, IoU.face: 0.7992, IoU.bg: 0.9769, Acc.face: 0.8799, Acc.bg: 0.9893\n",
      "2022-03-08 17:52:51,771 - mmseg - INFO - Iter [61000/80000]\tlr: 2.375e-05, eta: 7:58:16, time: 1.808, data_time: 0.608, memory: 4940, decode.loss_ce: 0.0577, decode.acc_seg: 82.8590, aux.loss_ce: 0.0292, aux.acc_seg: 82.4515, loss: 0.0869\n",
      "2022-03-08 17:56:52,136 - mmseg - INFO - Iter [61200/80000]\tlr: 2.350e-05, eta: 7:52:55, time: 1.202, data_time: 0.005, memory: 4940, decode.loss_ce: 0.0623, decode.acc_seg: 82.4257, aux.loss_ce: 0.0309, aux.acc_seg: 81.9403, loss: 0.0932\n"
     ]
    },
    {
     "name": "stdout",
     "output_type": "stream",
     "text": [
      "[>>>>>>>>>>>>>>>>>>>>>>>>>>>>>] 800/800, 6.7 task/s, elapsed: 119s, ETA:     0s"
     ]
    },
    {
     "name": "stderr",
     "output_type": "stream",
     "text": [
      "2022-03-08 17:58:50,835 - mmseg - INFO - per class results:\n",
      "2022-03-08 17:58:50,836 - mmseg - INFO - \n",
      "+-------+-------+-------+\n",
      "| Class |  IoU  |  Acc  |\n",
      "+-------+-------+-------+\n",
      "|  face | 79.86 | 87.52 |\n",
      "|   bg  | 97.69 | 98.98 |\n",
      "+-------+-------+-------+\n",
      "2022-03-08 17:58:50,837 - mmseg - INFO - Summary:\n",
      "2022-03-08 17:58:50,839 - mmseg - INFO - \n",
      "+-------+-------+-------+\n",
      "|  aAcc |  mIoU |  mAcc |\n",
      "+-------+-------+-------+\n",
      "| 97.89 | 88.77 | 93.25 |\n",
      "+-------+-------+-------+\n",
      "2022-03-08 17:58:50,842 - mmseg - INFO - Iter(val) [800]\taAcc: 0.9789, mIoU: 0.8877, mAcc: 0.9325, IoU.face: 0.7986, IoU.bg: 0.9769, Acc.face: 0.8752, Acc.bg: 0.9898\n",
      "2022-03-08 18:02:56,508 - mmseg - INFO - Iter [61400/80000]\tlr: 2.325e-05, eta: 7:48:12, time: 1.822, data_time: 0.609, memory: 4940, decode.loss_ce: 0.0662, decode.acc_seg: 82.8163, aux.loss_ce: 0.0327, aux.acc_seg: 82.4735, loss: 0.0989\n",
      "2022-03-08 18:06:58,101 - mmseg - INFO - Iter [61600/80000]\tlr: 2.300e-05, eta: 7:42:52, time: 1.208, data_time: 0.004, memory: 4940, decode.loss_ce: 0.0638, decode.acc_seg: 84.4791, aux.loss_ce: 0.0303, aux.acc_seg: 84.1689, loss: 0.0940\n"
     ]
    },
    {
     "name": "stdout",
     "output_type": "stream",
     "text": [
      "[>>>>>>>>>>>>>>>>>>>>>>>>>>>>>] 800/800, 6.6 task/s, elapsed: 120s, ETA:     0s"
     ]
    },
    {
     "name": "stderr",
     "output_type": "stream",
     "text": [
      "2022-03-08 18:08:58,557 - mmseg - INFO - per class results:\n",
      "2022-03-08 18:08:58,559 - mmseg - INFO - \n",
      "+-------+-------+-------+\n",
      "| Class |  IoU  |  Acc  |\n",
      "+-------+-------+-------+\n",
      "|  face | 80.05 | 88.53 |\n",
      "|   bg  | 97.69 | 98.88 |\n",
      "+-------+-------+-------+\n",
      "2022-03-08 18:08:58,561 - mmseg - INFO - Summary:\n",
      "2022-03-08 18:08:58,562 - mmseg - INFO - \n",
      "+-------+-------+------+\n",
      "|  aAcc |  mIoU | mAcc |\n",
      "+-------+-------+------+\n",
      "| 97.89 | 88.87 | 93.7 |\n",
      "+-------+-------+------+\n",
      "2022-03-08 18:08:58,567 - mmseg - INFO - Iter(val) [800]\taAcc: 0.9789, mIoU: 0.8887, mAcc: 0.9370, IoU.face: 0.8005, IoU.bg: 0.9769, Acc.face: 0.8853, Acc.bg: 0.9888\n",
      "2022-03-08 18:13:02,814 - mmseg - INFO - Iter [61800/80000]\tlr: 2.275e-05, eta: 7:38:09, time: 1.824, data_time: 0.618, memory: 4940, decode.loss_ce: 0.0623, decode.acc_seg: 83.9493, aux.loss_ce: 0.0297, aux.acc_seg: 83.6327, loss: 0.0920\n",
      "2022-03-08 18:17:06,430 - mmseg - INFO - Saving checkpoint at 62000 iterations\n",
      "2022-03-08 18:17:08,284 - mmseg - INFO - Iter [62000/80000]\tlr: 2.250e-05, eta: 7:32:50, time: 1.227, data_time: 0.004, memory: 4940, decode.loss_ce: 0.0650, decode.acc_seg: 83.8451, aux.loss_ce: 0.0303, aux.acc_seg: 83.4980, loss: 0.0953\n"
     ]
    },
    {
     "name": "stdout",
     "output_type": "stream",
     "text": [
      "[>>>>>>>>>>>>>>>>>>>>>>>>>>>>>] 800/800, 6.7 task/s, elapsed: 120s, ETA:     0s"
     ]
    },
    {
     "name": "stderr",
     "output_type": "stream",
     "text": [
      "2022-03-08 18:19:08,296 - mmseg - INFO - per class results:\n",
      "2022-03-08 18:19:08,297 - mmseg - INFO - \n",
      "+-------+-------+-------+\n",
      "| Class |  IoU  |  Acc  |\n",
      "+-------+-------+-------+\n",
      "|  face | 79.42 | 87.64 |\n",
      "|   bg  | 97.63 |  98.9 |\n",
      "+-------+-------+-------+\n",
      "2022-03-08 18:19:08,298 - mmseg - INFO - Summary:\n",
      "2022-03-08 18:19:08,300 - mmseg - INFO - \n",
      "+-------+-------+-------+\n",
      "|  aAcc |  mIoU |  mAcc |\n",
      "+-------+-------+-------+\n",
      "| 97.82 | 88.52 | 93.27 |\n",
      "+-------+-------+-------+\n",
      "2022-03-08 18:19:08,303 - mmseg - INFO - Iter(val) [800]\taAcc: 0.9782, mIoU: 0.8852, mAcc: 0.9327, IoU.face: 0.7942, IoU.bg: 0.9763, Acc.face: 0.8764, Acc.bg: 0.9890\n",
      "2022-03-08 18:23:11,579 - mmseg - INFO - Iter [62200/80000]\tlr: 2.225e-05, eta: 7:28:06, time: 1.816, data_time: 0.616, memory: 4940, decode.loss_ce: 0.0608, decode.acc_seg: 83.0665, aux.loss_ce: 0.0299, aux.acc_seg: 82.7358, loss: 0.0907\n",
      "2022-03-08 18:27:14,638 - mmseg - INFO - Iter [62400/80000]\tlr: 2.200e-05, eta: 7:22:47, time: 1.215, data_time: 0.004, memory: 4940, decode.loss_ce: 0.0594, decode.acc_seg: 82.4234, aux.loss_ce: 0.0283, aux.acc_seg: 82.0580, loss: 0.0876\n"
     ]
    },
    {
     "name": "stdout",
     "output_type": "stream",
     "text": [
      "[>>>>>>>>>>>>>>>>>>>>>>>>>>>>>] 800/800, 6.8 task/s, elapsed: 117s, ETA:     0s"
     ]
    },
    {
     "name": "stderr",
     "output_type": "stream",
     "text": [
      "2022-03-08 18:29:11,721 - mmseg - INFO - per class results:\n",
      "2022-03-08 18:29:11,723 - mmseg - INFO - \n",
      "+-------+-------+-------+\n",
      "| Class |  IoU  |  Acc  |\n",
      "+-------+-------+-------+\n",
      "|  face | 77.07 | 87.94 |\n",
      "|   bg  | 97.26 | 98.51 |\n",
      "+-------+-------+-------+\n",
      "2022-03-08 18:29:11,724 - mmseg - INFO - Summary:\n",
      "2022-03-08 18:29:11,725 - mmseg - INFO - \n",
      "+-------+-------+-------+\n",
      "|  aAcc |  mIoU |  mAcc |\n",
      "+-------+-------+-------+\n",
      "| 97.49 | 87.16 | 93.22 |\n",
      "+-------+-------+-------+\n",
      "2022-03-08 18:29:11,728 - mmseg - INFO - Iter(val) [800]\taAcc: 0.9749, mIoU: 0.8716, mAcc: 0.9322, IoU.face: 0.7707, IoU.bg: 0.9726, Acc.face: 0.8794, Acc.bg: 0.9851\n",
      "2022-03-08 18:33:13,625 - mmseg - INFO - Iter [62600/80000]\tlr: 2.175e-05, eta: 7:18:01, time: 1.795, data_time: 0.602, memory: 4940, decode.loss_ce: 0.0630, decode.acc_seg: 82.8786, aux.loss_ce: 0.0299, aux.acc_seg: 82.5665, loss: 0.0929\n",
      "2022-03-08 18:37:13,939 - mmseg - INFO - Iter [62800/80000]\tlr: 2.150e-05, eta: 7:12:42, time: 1.202, data_time: 0.005, memory: 4940, decode.loss_ce: 0.0650, decode.acc_seg: 83.6950, aux.loss_ce: 0.0316, aux.acc_seg: 83.2951, loss: 0.0966\n"
     ]
    },
    {
     "name": "stdout",
     "output_type": "stream",
     "text": [
      "[>>>>>>>>>>>>>>>>>>>>>>>>>>>>>] 800/800, 6.7 task/s, elapsed: 119s, ETA:     0s"
     ]
    },
    {
     "name": "stderr",
     "output_type": "stream",
     "text": [
      "2022-03-08 18:39:13,258 - mmseg - INFO - per class results:\n",
      "2022-03-08 18:39:13,259 - mmseg - INFO - \n",
      "+-------+-------+-------+\n",
      "| Class |  IoU  |  Acc  |\n",
      "+-------+-------+-------+\n",
      "|  face | 78.91 | 88.17 |\n",
      "|   bg  | 97.53 | 98.76 |\n",
      "+-------+-------+-------+\n",
      "2022-03-08 18:39:13,260 - mmseg - INFO - Summary:\n",
      "2022-03-08 18:39:13,261 - mmseg - INFO - \n",
      "+-------+-------+-------+\n",
      "|  aAcc |  mIoU |  mAcc |\n",
      "+-------+-------+-------+\n",
      "| 97.74 | 88.22 | 93.46 |\n",
      "+-------+-------+-------+\n",
      "2022-03-08 18:39:13,266 - mmseg - INFO - Iter(val) [800]\taAcc: 0.9774, mIoU: 0.8822, mAcc: 0.9346, IoU.face: 0.7891, IoU.bg: 0.9753, Acc.face: 0.8817, Acc.bg: 0.9876\n",
      "2022-03-08 18:43:17,240 - mmseg - INFO - Iter [63000/80000]\tlr: 2.125e-05, eta: 7:07:57, time: 1.816, data_time: 0.612, memory: 4940, decode.loss_ce: 0.0632, decode.acc_seg: 82.9632, aux.loss_ce: 0.0301, aux.acc_seg: 82.6168, loss: 0.0933\n",
      "2022-03-08 18:47:18,591 - mmseg - INFO - Iter [63200/80000]\tlr: 2.100e-05, eta: 7:02:39, time: 1.207, data_time: 0.005, memory: 4940, decode.loss_ce: 0.0588, decode.acc_seg: 82.7138, aux.loss_ce: 0.0282, aux.acc_seg: 82.4156, loss: 0.0870\n"
     ]
    },
    {
     "name": "stdout",
     "output_type": "stream",
     "text": [
      "[>>>>>>>>>>>>>>>>>>>>>>>>>>>>>] 800/800, 6.6 task/s, elapsed: 121s, ETA:     0s"
     ]
    },
    {
     "name": "stderr",
     "output_type": "stream",
     "text": [
      "2022-03-08 18:49:19,243 - mmseg - INFO - per class results:\n",
      "2022-03-08 18:49:19,245 - mmseg - INFO - \n",
      "+-------+-------+-------+\n",
      "| Class |  IoU  |  Acc  |\n",
      "+-------+-------+-------+\n",
      "|  face |  79.8 | 88.08 |\n",
      "|   bg  | 97.67 |  98.9 |\n",
      "+-------+-------+-------+\n",
      "2022-03-08 18:49:19,245 - mmseg - INFO - Summary:\n",
      "2022-03-08 18:49:19,246 - mmseg - INFO - \n",
      "+-------+-------+-------+\n",
      "|  aAcc |  mIoU |  mAcc |\n",
      "+-------+-------+-------+\n",
      "| 97.86 | 88.73 | 93.49 |\n",
      "+-------+-------+-------+\n",
      "2022-03-08 18:49:19,253 - mmseg - INFO - Iter(val) [800]\taAcc: 0.9786, mIoU: 0.8873, mAcc: 0.9349, IoU.face: 0.7980, IoU.bg: 0.9767, Acc.face: 0.8808, Acc.bg: 0.9890\n",
      "2022-03-08 18:53:21,598 - mmseg - INFO - Iter [63400/80000]\tlr: 2.075e-05, eta: 6:57:53, time: 1.815, data_time: 0.619, memory: 4940, decode.loss_ce: 0.0614, decode.acc_seg: 82.7400, aux.loss_ce: 0.0305, aux.acc_seg: 82.2917, loss: 0.0919\n",
      "2022-03-08 18:57:21,567 - mmseg - INFO - Iter [63600/80000]\tlr: 2.050e-05, eta: 6:52:35, time: 1.200, data_time: 0.005, memory: 4940, decode.loss_ce: 0.0619, decode.acc_seg: 83.1966, aux.loss_ce: 0.0295, aux.acc_seg: 82.8201, loss: 0.0915\n"
     ]
    },
    {
     "name": "stdout",
     "output_type": "stream",
     "text": [
      "[>>>>>>>>>>>>>>>>>>>>>>>>>>>>>] 800/800, 6.8 task/s, elapsed: 118s, ETA:     0s"
     ]
    },
    {
     "name": "stderr",
     "output_type": "stream",
     "text": [
      "2022-03-08 18:59:19,792 - mmseg - INFO - per class results:\n",
      "2022-03-08 18:59:19,794 - mmseg - INFO - \n",
      "+-------+-------+-------+\n",
      "| Class |  IoU  |  Acc  |\n",
      "+-------+-------+-------+\n",
      "|  face | 79.08 | 87.73 |\n",
      "|   bg  | 97.57 | 98.84 |\n",
      "+-------+-------+-------+\n",
      "2022-03-08 18:59:19,795 - mmseg - INFO - Summary:\n",
      "2022-03-08 18:59:19,797 - mmseg - INFO - \n",
      "+-------+-------+-------+\n",
      "|  aAcc |  mIoU |  mAcc |\n",
      "+-------+-------+-------+\n",
      "| 97.78 | 88.33 | 93.29 |\n",
      "+-------+-------+-------+\n",
      "2022-03-08 18:59:19,809 - mmseg - INFO - Iter(val) [800]\taAcc: 0.9778, mIoU: 0.8833, mAcc: 0.9329, IoU.face: 0.7908, IoU.bg: 0.9757, Acc.face: 0.8773, Acc.bg: 0.9884\n",
      "2022-03-08 19:03:22,228 - mmseg - INFO - Iter [63800/80000]\tlr: 2.025e-05, eta: 6:47:48, time: 1.803, data_time: 0.607, memory: 4940, decode.loss_ce: 0.0619, decode.acc_seg: 84.0500, aux.loss_ce: 0.0307, aux.acc_seg: 83.5789, loss: 0.0926\n",
      "2022-03-08 19:07:22,323 - mmseg - INFO - Saving checkpoint at 64000 iterations\n",
      "2022-03-08 19:07:24,210 - mmseg - INFO - Iter [64000/80000]\tlr: 2.000e-05, eta: 6:42:31, time: 1.210, data_time: 0.005, memory: 4940, decode.loss_ce: 0.0582, decode.acc_seg: 83.5170, aux.loss_ce: 0.0286, aux.acc_seg: 83.1276, loss: 0.0869\n"
     ]
    },
    {
     "name": "stdout",
     "output_type": "stream",
     "text": [
      "[>>>>>>>>>>>>>>>>>>>>>>>>>>>>>] 800/800, 6.7 task/s, elapsed: 119s, ETA:     0s"
     ]
    },
    {
     "name": "stderr",
     "output_type": "stream",
     "text": [
      "2022-03-08 19:09:22,824 - mmseg - INFO - per class results:\n",
      "2022-03-08 19:09:22,826 - mmseg - INFO - \n",
      "+-------+-------+-------+\n",
      "| Class |  IoU  |  Acc  |\n",
      "+-------+-------+-------+\n",
      "|  face | 78.54 | 88.14 |\n",
      "|   bg  | 97.48 |  98.7 |\n",
      "+-------+-------+-------+\n",
      "2022-03-08 19:09:22,826 - mmseg - INFO - Summary:\n",
      "2022-03-08 19:09:22,827 - mmseg - INFO - \n",
      "+-------+-------+-------+\n",
      "|  aAcc |  mIoU |  mAcc |\n",
      "+-------+-------+-------+\n",
      "| 97.69 | 88.01 | 93.42 |\n",
      "+-------+-------+-------+\n",
      "2022-03-08 19:09:22,831 - mmseg - INFO - Iter(val) [800]\taAcc: 0.9769, mIoU: 0.8801, mAcc: 0.9342, IoU.face: 0.7854, IoU.bg: 0.9748, Acc.face: 0.8814, Acc.bg: 0.9870\n",
      "2022-03-08 19:13:25,198 - mmseg - INFO - Iter [64200/80000]\tlr: 1.975e-05, eta: 6:37:43, time: 1.805, data_time: 0.609, memory: 4940, decode.loss_ce: 0.0567, decode.acc_seg: 83.8504, aux.loss_ce: 0.0275, aux.acc_seg: 83.4611, loss: 0.0842\n",
      "2022-03-08 19:17:26,160 - mmseg - INFO - Iter [64400/80000]\tlr: 1.950e-05, eta: 6:32:26, time: 1.205, data_time: 0.005, memory: 4940, decode.loss_ce: 0.0658, decode.acc_seg: 84.1072, aux.loss_ce: 0.0319, aux.acc_seg: 83.7065, loss: 0.0977\n"
     ]
    },
    {
     "name": "stdout",
     "output_type": "stream",
     "text": [
      "[>>>>>>>>>>>>>>>>>>>>>>>>>>>>>] 800/800, 6.7 task/s, elapsed: 120s, ETA:     0s"
     ]
    },
    {
     "name": "stderr",
     "output_type": "stream",
     "text": [
      "2022-03-08 19:19:25,724 - mmseg - INFO - per class results:\n",
      "2022-03-08 19:19:25,726 - mmseg - INFO - \n",
      "+-------+-------+-------+\n",
      "| Class |  IoU  |  Acc  |\n",
      "+-------+-------+-------+\n",
      "|  face | 78.16 | 88.11 |\n",
      "|   bg  | 97.42 | 98.65 |\n",
      "+-------+-------+-------+\n",
      "2022-03-08 19:19:25,727 - mmseg - INFO - Summary:\n",
      "2022-03-08 19:19:25,728 - mmseg - INFO - \n",
      "+-------+-------+-------+\n",
      "|  aAcc |  mIoU |  mAcc |\n",
      "+-------+-------+-------+\n",
      "| 97.64 | 87.79 | 93.38 |\n",
      "+-------+-------+-------+\n",
      "2022-03-08 19:19:25,733 - mmseg - INFO - Iter(val) [800]\taAcc: 0.9764, mIoU: 0.8779, mAcc: 0.9338, IoU.face: 0.7816, IoU.bg: 0.9742, Acc.face: 0.8811, Acc.bg: 0.9865\n",
      "2022-03-08 19:23:27,941 - mmseg - INFO - Iter [64600/80000]\tlr: 1.925e-05, eta: 6:27:39, time: 1.809, data_time: 0.614, memory: 4940, decode.loss_ce: 0.0603, decode.acc_seg: 83.7662, aux.loss_ce: 0.0287, aux.acc_seg: 83.4043, loss: 0.0889\n",
      "2022-03-08 19:27:28,040 - mmseg - INFO - Iter [64800/80000]\tlr: 1.900e-05, eta: 6:22:22, time: 1.200, data_time: 0.005, memory: 4940, decode.loss_ce: 0.0682, decode.acc_seg: 84.2749, aux.loss_ce: 0.0326, aux.acc_seg: 83.8288, loss: 0.1008\n"
     ]
    },
    {
     "name": "stdout",
     "output_type": "stream",
     "text": [
      "[>>>>>>>>>>>>>>>>>>>>>>>>>>>>>] 800/800, 6.8 task/s, elapsed: 118s, ETA:     0s"
     ]
    },
    {
     "name": "stderr",
     "output_type": "stream",
     "text": [
      "2022-03-08 19:29:26,364 - mmseg - INFO - per class results:\n",
      "2022-03-08 19:29:26,365 - mmseg - INFO - \n",
      "+-------+-------+-------+\n",
      "| Class |  IoU  |  Acc  |\n",
      "+-------+-------+-------+\n",
      "|  face | 78.82 | 87.54 |\n",
      "|   bg  | 97.54 | 98.83 |\n",
      "+-------+-------+-------+\n",
      "2022-03-08 19:29:26,366 - mmseg - INFO - Summary:\n",
      "2022-03-08 19:29:26,367 - mmseg - INFO - \n",
      "+-------+-------+-------+\n",
      "|  aAcc |  mIoU |  mAcc |\n",
      "+-------+-------+-------+\n",
      "| 97.75 | 88.18 | 93.18 |\n",
      "+-------+-------+-------+\n",
      "2022-03-08 19:29:26,371 - mmseg - INFO - Iter(val) [800]\taAcc: 0.9775, mIoU: 0.8818, mAcc: 0.9318, IoU.face: 0.7882, IoU.bg: 0.9754, Acc.face: 0.8754, Acc.bg: 0.9883\n",
      "2022-03-08 19:33:29,605 - mmseg - INFO - Iter [65000/80000]\tlr: 1.875e-05, eta: 6:17:34, time: 1.808, data_time: 0.608, memory: 4940, decode.loss_ce: 0.0591, decode.acc_seg: 83.3072, aux.loss_ce: 0.0281, aux.acc_seg: 83.0024, loss: 0.0872\n",
      "2022-03-08 19:37:34,396 - mmseg - INFO - Iter [65200/80000]\tlr: 1.850e-05, eta: 6:12:19, time: 1.224, data_time: 0.005, memory: 4940, decode.loss_ce: 0.0630, decode.acc_seg: 83.5626, aux.loss_ce: 0.0315, aux.acc_seg: 83.1888, loss: 0.0944\n"
     ]
    },
    {
     "name": "stdout",
     "output_type": "stream",
     "text": [
      "[>>>>>>>>>>>>>>>>>>>>>>>>>>>>>] 800/800, 6.5 task/s, elapsed: 123s, ETA:     0s"
     ]
    },
    {
     "name": "stderr",
     "output_type": "stream",
     "text": [
      "2022-03-08 19:39:37,735 - mmseg - INFO - per class results:\n",
      "2022-03-08 19:39:37,736 - mmseg - INFO - \n",
      "+-------+-------+-------+\n",
      "| Class |  IoU  |  Acc  |\n",
      "+-------+-------+-------+\n",
      "|  face | 78.45 | 88.02 |\n",
      "|   bg  | 97.47 | 98.71 |\n",
      "+-------+-------+-------+\n",
      "2022-03-08 19:39:37,737 - mmseg - INFO - Summary:\n",
      "2022-03-08 19:39:37,738 - mmseg - INFO - \n",
      "+-------+-------+-------+\n",
      "|  aAcc |  mIoU |  mAcc |\n",
      "+-------+-------+-------+\n",
      "| 97.68 | 87.96 | 93.37 |\n",
      "+-------+-------+-------+\n",
      "2022-03-08 19:39:37,740 - mmseg - INFO - Iter(val) [800]\taAcc: 0.9768, mIoU: 0.8796, mAcc: 0.9337, IoU.face: 0.7845, IoU.bg: 0.9747, Acc.face: 0.8802, Acc.bg: 0.9871\n",
      "2022-03-08 19:43:43,445 - mmseg - INFO - Iter [65400/80000]\tlr: 1.825e-05, eta: 6:07:32, time: 1.845, data_time: 0.632, memory: 4940, decode.loss_ce: 0.0614, decode.acc_seg: 83.0161, aux.loss_ce: 0.0300, aux.acc_seg: 82.5953, loss: 0.0914\n",
      "2022-03-08 19:48:05,186 - mmseg - INFO - Iter [65600/80000]\tlr: 1.800e-05, eta: 6:02:21, time: 1.309, data_time: 0.004, memory: 4940, decode.loss_ce: 0.0641, decode.acc_seg: 84.1375, aux.loss_ce: 0.0314, aux.acc_seg: 83.7246, loss: 0.0955\n"
     ]
    },
    {
     "name": "stdout",
     "output_type": "stream",
     "text": [
      "[>>>>>>>>>>>>>>>>>>>>>>>>>>>>>] 800/800, 6.8 task/s, elapsed: 117s, ETA:     0s"
     ]
    },
    {
     "name": "stderr",
     "output_type": "stream",
     "text": [
      "2022-03-08 19:50:02,476 - mmseg - INFO - per class results:\n",
      "2022-03-08 19:50:02,477 - mmseg - INFO - \n",
      "+-------+-------+-------+\n",
      "| Class |  IoU  |  Acc  |\n",
      "+-------+-------+-------+\n",
      "|  face | 79.45 | 88.32 |\n",
      "|   bg  | 97.61 | 98.82 |\n",
      "+-------+-------+-------+\n",
      "2022-03-08 19:50:02,478 - mmseg - INFO - Summary:\n",
      "2022-03-08 19:50:02,480 - mmseg - INFO - \n",
      "+-------+-------+-------+\n",
      "|  aAcc |  mIoU |  mAcc |\n",
      "+-------+-------+-------+\n",
      "| 97.81 | 88.53 | 93.57 |\n",
      "+-------+-------+-------+\n",
      "2022-03-08 19:50:02,487 - mmseg - INFO - Iter(val) [800]\taAcc: 0.9781, mIoU: 0.8853, mAcc: 0.9357, IoU.face: 0.7945, IoU.bg: 0.9761, Acc.face: 0.8832, Acc.bg: 0.9882\n",
      "2022-03-08 19:54:04,135 - mmseg - INFO - Iter [65800/80000]\tlr: 1.775e-05, eta: 5:57:32, time: 1.795, data_time: 0.602, memory: 4940, decode.loss_ce: 0.0577, decode.acc_seg: 83.1783, aux.loss_ce: 0.0283, aux.acc_seg: 82.7355, loss: 0.0860\n",
      "2022-03-08 19:58:03,328 - mmseg - INFO - Saving checkpoint at 66000 iterations\n",
      "2022-03-08 19:58:05,142 - mmseg - INFO - Iter [66000/80000]\tlr: 1.750e-05, eta: 5:52:16, time: 1.205, data_time: 0.004, memory: 4940, decode.loss_ce: 0.0591, decode.acc_seg: 84.3563, aux.loss_ce: 0.0294, aux.acc_seg: 83.9567, loss: 0.0885\n"
     ]
    },
    {
     "name": "stdout",
     "output_type": "stream",
     "text": [
      "[>>>>>>>>>>>>>>>>>>>>>>>>>>>>>] 800/800, 6.8 task/s, elapsed: 118s, ETA:     0s"
     ]
    },
    {
     "name": "stderr",
     "output_type": "stream",
     "text": [
      "2022-03-08 20:00:03,200 - mmseg - INFO - per class results:\n",
      "2022-03-08 20:00:03,201 - mmseg - INFO - \n",
      "+-------+-------+-------+\n",
      "| Class |  IoU  |  Acc  |\n",
      "+-------+-------+-------+\n",
      "|  face | 79.88 |  87.8 |\n",
      "|   bg  | 97.69 | 98.95 |\n",
      "+-------+-------+-------+\n",
      "2022-03-08 20:00:03,202 - mmseg - INFO - Summary:\n",
      "2022-03-08 20:00:03,203 - mmseg - INFO - \n",
      "+-------+-------+-------+\n",
      "|  aAcc |  mIoU |  mAcc |\n",
      "+-------+-------+-------+\n",
      "| 97.88 | 88.79 | 93.38 |\n",
      "+-------+-------+-------+\n",
      "2022-03-08 20:00:03,206 - mmseg - INFO - Iter(val) [800]\taAcc: 0.9788, mIoU: 0.8879, mAcc: 0.9338, IoU.face: 0.7988, IoU.bg: 0.9769, Acc.face: 0.8780, Acc.bg: 0.9895\n",
      "2022-03-08 20:04:06,477 - mmseg - INFO - Iter [66200/80000]\tlr: 1.725e-05, eta: 5:47:27, time: 1.807, data_time: 0.606, memory: 4940, decode.loss_ce: 0.0562, decode.acc_seg: 82.9897, aux.loss_ce: 0.0269, aux.acc_seg: 82.6486, loss: 0.0831\n",
      "2022-03-08 20:08:06,358 - mmseg - INFO - Iter [66400/80000]\tlr: 1.700e-05, eta: 5:42:12, time: 1.199, data_time: 0.005, memory: 4940, decode.loss_ce: 0.0652, decode.acc_seg: 83.4866, aux.loss_ce: 0.0316, aux.acc_seg: 83.0753, loss: 0.0968\n"
     ]
    },
    {
     "name": "stdout",
     "output_type": "stream",
     "text": [
      "[>>>>>>>>>>>>>>>>>>>>>>>>>>>>>] 800/800, 6.8 task/s, elapsed: 118s, ETA:     0s"
     ]
    },
    {
     "name": "stderr",
     "output_type": "stream",
     "text": [
      "2022-03-08 20:10:04,478 - mmseg - INFO - per class results:\n",
      "2022-03-08 20:10:04,480 - mmseg - INFO - \n",
      "+-------+-------+-------+\n",
      "| Class |  IoU  |  Acc  |\n",
      "+-------+-------+-------+\n",
      "|  face | 79.27 | 87.97 |\n",
      "|   bg  | 97.59 | 98.84 |\n",
      "+-------+-------+-------+\n",
      "2022-03-08 20:10:04,483 - mmseg - INFO - Summary:\n",
      "2022-03-08 20:10:04,484 - mmseg - INFO - \n",
      "+------+-------+------+\n",
      "| aAcc |  mIoU | mAcc |\n",
      "+------+-------+------+\n",
      "| 97.8 | 88.43 | 93.4 |\n",
      "+------+-------+------+\n",
      "2022-03-08 20:10:04,492 - mmseg - INFO - Iter(val) [800]\taAcc: 0.9780, mIoU: 0.8843, mAcc: 0.9340, IoU.face: 0.7927, IoU.bg: 0.9759, Acc.face: 0.8797, Acc.bg: 0.9884\n",
      "2022-03-08 20:14:07,018 - mmseg - INFO - Iter [66600/80000]\tlr: 1.675e-05, eta: 5:37:22, time: 1.803, data_time: 0.606, memory: 4940, decode.loss_ce: 0.0660, decode.acc_seg: 83.8276, aux.loss_ce: 0.0323, aux.acc_seg: 83.4074, loss: 0.0983\n",
      "2022-03-08 20:18:07,328 - mmseg - INFO - Iter [66800/80000]\tlr: 1.650e-05, eta: 5:32:07, time: 1.202, data_time: 0.004, memory: 4940, decode.loss_ce: 0.0576, decode.acc_seg: 83.3229, aux.loss_ce: 0.0285, aux.acc_seg: 82.8210, loss: 0.0861\n"
     ]
    },
    {
     "name": "stdout",
     "output_type": "stream",
     "text": [
      "[>>>>>>>>>>>>>>>>>>>>>>>>>>>>>] 800/800, 6.8 task/s, elapsed: 118s, ETA:     0s"
     ]
    },
    {
     "name": "stderr",
     "output_type": "stream",
     "text": [
      "2022-03-08 20:20:05,241 - mmseg - INFO - per class results:\n",
      "2022-03-08 20:20:05,242 - mmseg - INFO - \n",
      "+-------+-------+-------+\n",
      "| Class |  IoU  |  Acc  |\n",
      "+-------+-------+-------+\n",
      "|  face | 80.08 | 88.02 |\n",
      "|   bg  | 97.71 | 98.95 |\n",
      "+-------+-------+-------+\n",
      "2022-03-08 20:20:05,243 - mmseg - INFO - Summary:\n",
      "2022-03-08 20:20:05,244 - mmseg - INFO - \n",
      "+------+------+-------+\n",
      "| aAcc | mIoU |  mAcc |\n",
      "+------+------+-------+\n",
      "| 97.9 | 88.9 | 93.49 |\n",
      "+------+------+-------+\n",
      "2022-03-08 20:20:05,248 - mmseg - INFO - Iter(val) [800]\taAcc: 0.9790, mIoU: 0.8890, mAcc: 0.9349, IoU.face: 0.8008, IoU.bg: 0.9771, Acc.face: 0.8802, Acc.bg: 0.9895\n",
      "2022-03-08 20:24:07,211 - mmseg - INFO - Iter [67000/80000]\tlr: 1.625e-05, eta: 5:27:17, time: 1.799, data_time: 0.605, memory: 4940, decode.loss_ce: 0.0602, decode.acc_seg: 83.7406, aux.loss_ce: 0.0304, aux.acc_seg: 83.3184, loss: 0.0905\n",
      "2022-03-08 20:28:07,069 - mmseg - INFO - Iter [67200/80000]\tlr: 1.600e-05, eta: 5:22:03, time: 1.199, data_time: 0.005, memory: 4940, decode.loss_ce: 0.0642, decode.acc_seg: 83.4776, aux.loss_ce: 0.0310, aux.acc_seg: 83.1154, loss: 0.0952\n"
     ]
    },
    {
     "name": "stdout",
     "output_type": "stream",
     "text": [
      "[>>>>>>>>>>>>>>>>>>>>>>>>>>>>>] 800/800, 6.8 task/s, elapsed: 118s, ETA:     0s"
     ]
    },
    {
     "name": "stderr",
     "output_type": "stream",
     "text": [
      "2022-03-08 20:30:05,444 - mmseg - INFO - per class results:\n",
      "2022-03-08 20:30:05,446 - mmseg - INFO - \n",
      "+-------+-------+------+\n",
      "| Class |  IoU  | Acc  |\n",
      "+-------+-------+------+\n",
      "|  face | 79.94 | 87.5 |\n",
      "|   bg  |  97.7 | 99.0 |\n",
      "+-------+-------+------+\n",
      "2022-03-08 20:30:05,447 - mmseg - INFO - Summary:\n",
      "2022-03-08 20:30:05,449 - mmseg - INFO - \n",
      "+------+-------+-------+\n",
      "| aAcc |  mIoU |  mAcc |\n",
      "+------+-------+-------+\n",
      "| 97.9 | 88.82 | 93.25 |\n",
      "+------+-------+-------+\n",
      "2022-03-08 20:30:05,453 - mmseg - INFO - Iter(val) [800]\taAcc: 0.9790, mIoU: 0.8882, mAcc: 0.9325, IoU.face: 0.7994, IoU.bg: 0.9770, Acc.face: 0.8750, Acc.bg: 0.9900\n",
      "2022-03-08 20:34:09,987 - mmseg - INFO - Iter [67400/80000]\tlr: 1.575e-05, eta: 5:17:12, time: 1.815, data_time: 0.608, memory: 4940, decode.loss_ce: 0.0565, decode.acc_seg: 83.6623, aux.loss_ce: 0.0272, aux.acc_seg: 83.2652, loss: 0.0837\n",
      "2022-03-08 20:38:12,877 - mmseg - INFO - Iter [67600/80000]\tlr: 1.550e-05, eta: 5:11:59, time: 1.214, data_time: 0.004, memory: 4940, decode.loss_ce: 0.0588, decode.acc_seg: 82.7893, aux.loss_ce: 0.0295, aux.acc_seg: 82.2972, loss: 0.0883\n"
     ]
    },
    {
     "name": "stdout",
     "output_type": "stream",
     "text": [
      "[>>>>>>>>>>>>>>>>>>>>>>>>>>>>>] 800/800, 6.7 task/s, elapsed: 119s, ETA:     0s"
     ]
    },
    {
     "name": "stderr",
     "output_type": "stream",
     "text": [
      "2022-03-08 20:40:11,951 - mmseg - INFO - per class results:\n",
      "2022-03-08 20:40:11,953 - mmseg - INFO - \n",
      "+-------+-------+-------+\n",
      "| Class |  IoU  |  Acc  |\n",
      "+-------+-------+-------+\n",
      "|  face | 79.92 | 87.86 |\n",
      "|   bg  | 97.69 | 98.95 |\n",
      "+-------+-------+-------+\n",
      "2022-03-08 20:40:11,954 - mmseg - INFO - Summary:\n",
      "2022-03-08 20:40:11,955 - mmseg - INFO - \n",
      "+-------+-------+------+\n",
      "|  aAcc |  mIoU | mAcc |\n",
      "+-------+-------+------+\n",
      "| 97.89 | 88.81 | 93.4 |\n",
      "+-------+-------+------+\n",
      "2022-03-08 20:40:11,958 - mmseg - INFO - Iter(val) [800]\taAcc: 0.9789, mIoU: 0.8881, mAcc: 0.9340, IoU.face: 0.7992, IoU.bg: 0.9769, Acc.face: 0.8786, Acc.bg: 0.9895\n",
      "2022-03-08 20:44:15,614 - mmseg - INFO - Iter [67800/80000]\tlr: 1.525e-05, eta: 5:07:08, time: 1.814, data_time: 0.611, memory: 4940, decode.loss_ce: 0.0568, decode.acc_seg: 83.5265, aux.loss_ce: 0.0276, aux.acc_seg: 83.1123, loss: 0.0843\n",
      "2022-03-08 20:48:16,765 - mmseg - INFO - Saving checkpoint at 68000 iterations\n",
      "2022-03-08 20:48:18,549 - mmseg - INFO - Iter [68000/80000]\tlr: 1.500e-05, eta: 5:01:56, time: 1.215, data_time: 0.005, memory: 4940, decode.loss_ce: 0.0600, decode.acc_seg: 84.0094, aux.loss_ce: 0.0285, aux.acc_seg: 83.7018, loss: 0.0885\n"
     ]
    },
    {
     "name": "stdout",
     "output_type": "stream",
     "text": [
      "[>>>>>>>>>>>>>>>>>>>>>>>>>>>>>] 800/800, 6.7 task/s, elapsed: 119s, ETA:     0s"
     ]
    },
    {
     "name": "stderr",
     "output_type": "stream",
     "text": [
      "2022-03-08 20:50:17,776 - mmseg - INFO - per class results:\n",
      "2022-03-08 20:50:17,778 - mmseg - INFO - \n",
      "+-------+-------+-------+\n",
      "| Class |  IoU  |  Acc  |\n",
      "+-------+-------+-------+\n",
      "|  face | 79.91 | 87.19 |\n",
      "|   bg  | 97.71 | 99.04 |\n",
      "+-------+-------+-------+\n",
      "2022-03-08 20:50:17,780 - mmseg - INFO - Summary:\n",
      "2022-03-08 20:50:17,781 - mmseg - INFO - \n",
      "+------+-------+-------+\n",
      "| aAcc |  mIoU |  mAcc |\n",
      "+------+-------+-------+\n",
      "| 97.9 | 88.81 | 93.11 |\n",
      "+------+-------+-------+\n",
      "2022-03-08 20:50:17,789 - mmseg - INFO - Iter(val) [800]\taAcc: 0.9790, mIoU: 0.8881, mAcc: 0.9311, IoU.face: 0.7991, IoU.bg: 0.9771, Acc.face: 0.8719, Acc.bg: 0.9904\n",
      "2022-03-08 20:54:20,229 - mmseg - INFO - Iter [68200/80000]\tlr: 1.475e-05, eta: 4:57:04, time: 1.808, data_time: 0.612, memory: 4940, decode.loss_ce: 0.0575, decode.acc_seg: 81.9435, aux.loss_ce: 0.0285, aux.acc_seg: 81.4794, loss: 0.0860\n",
      "2022-03-08 20:58:21,636 - mmseg - INFO - Iter [68400/80000]\tlr: 1.450e-05, eta: 4:51:52, time: 1.207, data_time: 0.004, memory: 4940, decode.loss_ce: 0.0612, decode.acc_seg: 83.5466, aux.loss_ce: 0.0301, aux.acc_seg: 83.1702, loss: 0.0912\n"
     ]
    },
    {
     "name": "stdout",
     "output_type": "stream",
     "text": [
      "[>>>>>>>>>>>>>>>>>>>>>>>>>>>>>] 800/800, 6.8 task/s, elapsed: 117s, ETA:     0s"
     ]
    },
    {
     "name": "stderr",
     "output_type": "stream",
     "text": [
      "2022-03-08 21:00:18,945 - mmseg - INFO - per class results:\n",
      "2022-03-08 21:00:18,946 - mmseg - INFO - \n",
      "+-------+-------+-------+\n",
      "| Class |  IoU  |  Acc  |\n",
      "+-------+-------+-------+\n",
      "|  face | 78.03 | 87.41 |\n",
      "|   bg  | 97.43 | 98.73 |\n",
      "+-------+-------+-------+\n",
      "2022-03-08 21:00:18,947 - mmseg - INFO - Summary:\n",
      "2022-03-08 21:00:18,949 - mmseg - INFO - \n",
      "+-------+-------+-------+\n",
      "|  aAcc |  mIoU |  mAcc |\n",
      "+-------+-------+-------+\n",
      "| 97.64 | 87.73 | 93.07 |\n",
      "+-------+-------+-------+\n",
      "2022-03-08 21:00:18,953 - mmseg - INFO - Iter(val) [800]\taAcc: 0.9764, mIoU: 0.8773, mAcc: 0.9307, IoU.face: 0.7803, IoU.bg: 0.9743, Acc.face: 0.8741, Acc.bg: 0.9873\n",
      "2022-03-08 21:04:20,630 - mmseg - INFO - Iter [68600/80000]\tlr: 1.425e-05, eta: 4:46:59, time: 1.795, data_time: 0.602, memory: 4940, decode.loss_ce: 0.0606, decode.acc_seg: 83.7367, aux.loss_ce: 0.0303, aux.acc_seg: 83.2960, loss: 0.0909\n",
      "2022-03-08 21:08:20,995 - mmseg - INFO - Iter [68800/80000]\tlr: 1.400e-05, eta: 4:41:47, time: 1.202, data_time: 0.005, memory: 4940, decode.loss_ce: 0.0528, decode.acc_seg: 82.3340, aux.loss_ce: 0.0260, aux.acc_seg: 82.0081, loss: 0.0788\n"
     ]
    },
    {
     "name": "stdout",
     "output_type": "stream",
     "text": [
      "[>>>>>>>>>>>>>>>>>>>>>>>>>>>>>] 800/800, 6.8 task/s, elapsed: 118s, ETA:     0s"
     ]
    },
    {
     "name": "stderr",
     "output_type": "stream",
     "text": [
      "2022-03-08 21:10:19,339 - mmseg - INFO - per class results:\n",
      "2022-03-08 21:10:19,340 - mmseg - INFO - \n",
      "+-------+-------+-------+\n",
      "| Class |  IoU  |  Acc  |\n",
      "+-------+-------+-------+\n",
      "|  face | 79.68 | 87.72 |\n",
      "|   bg  | 97.66 | 98.93 |\n",
      "+-------+-------+-------+\n",
      "2022-03-08 21:10:19,341 - mmseg - INFO - Summary:\n",
      "2022-03-08 21:10:19,342 - mmseg - INFO - \n",
      "+-------+-------+-------+\n",
      "|  aAcc |  mIoU |  mAcc |\n",
      "+-------+-------+-------+\n",
      "| 97.86 | 88.67 | 93.32 |\n",
      "+-------+-------+-------+\n",
      "2022-03-08 21:10:19,350 - mmseg - INFO - Iter(val) [800]\taAcc: 0.9786, mIoU: 0.8867, mAcc: 0.9332, IoU.face: 0.7968, IoU.bg: 0.9766, Acc.face: 0.8772, Acc.bg: 0.9893\n",
      "2022-03-08 21:14:22,308 - mmseg - INFO - Iter [69000/80000]\tlr: 1.375e-05, eta: 4:36:55, time: 1.807, data_time: 0.608, memory: 4940, decode.loss_ce: 0.0564, decode.acc_seg: 83.5032, aux.loss_ce: 0.0270, aux.acc_seg: 83.1289, loss: 0.0833\n",
      "2022-03-08 21:18:23,580 - mmseg - INFO - Iter [69200/80000]\tlr: 1.350e-05, eta: 4:31:43, time: 1.206, data_time: 0.004, memory: 4940, decode.loss_ce: 0.0587, decode.acc_seg: 82.9668, aux.loss_ce: 0.0289, aux.acc_seg: 82.5040, loss: 0.0876\n"
     ]
    },
    {
     "name": "stdout",
     "output_type": "stream",
     "text": [
      "[>>>>>>>>>>>>>>>>>>>>>>>>>>>>>] 800/800, 6.7 task/s, elapsed: 119s, ETA:     0s"
     ]
    },
    {
     "name": "stderr",
     "output_type": "stream",
     "text": [
      "2022-03-08 21:20:22,795 - mmseg - INFO - per class results:\n",
      "2022-03-08 21:20:22,797 - mmseg - INFO - \n",
      "+-------+-------+-------+\n",
      "| Class |  IoU  |  Acc  |\n",
      "+-------+-------+-------+\n",
      "|  face |  79.4 | 87.44 |\n",
      "|   bg  | 97.63 | 98.93 |\n",
      "+-------+-------+-------+\n",
      "2022-03-08 21:20:22,797 - mmseg - INFO - Summary:\n",
      "2022-03-08 21:20:22,798 - mmseg - INFO - \n",
      "+-------+-------+-------+\n",
      "|  aAcc |  mIoU |  mAcc |\n",
      "+-------+-------+-------+\n",
      "| 97.83 | 88.51 | 93.18 |\n",
      "+-------+-------+-------+\n",
      "2022-03-08 21:20:22,801 - mmseg - INFO - Iter(val) [800]\taAcc: 0.9783, mIoU: 0.8851, mAcc: 0.9318, IoU.face: 0.7940, IoU.bg: 0.9763, Acc.face: 0.8744, Acc.bg: 0.9893\n",
      "2022-03-08 21:24:26,271 - mmseg - INFO - Iter [69400/80000]\tlr: 1.325e-05, eta: 4:26:50, time: 1.813, data_time: 0.612, memory: 4940, decode.loss_ce: 0.0609, decode.acc_seg: 84.2021, aux.loss_ce: 0.0288, aux.acc_seg: 83.8566, loss: 0.0898\n",
      "2022-03-08 21:28:25,944 - mmseg - INFO - Iter [69600/80000]\tlr: 1.300e-05, eta: 4:21:39, time: 1.198, data_time: 0.005, memory: 4940, decode.loss_ce: 0.0577, decode.acc_seg: 83.6360, aux.loss_ce: 0.0282, aux.acc_seg: 83.2154, loss: 0.0860\n"
     ]
    },
    {
     "name": "stdout",
     "output_type": "stream",
     "text": [
      "[>>>>>>>>>>>>>>>>>>>>>>>>>>>>>] 800/800, 6.8 task/s, elapsed: 118s, ETA:     0s"
     ]
    },
    {
     "name": "stderr",
     "output_type": "stream",
     "text": [
      "2022-03-08 21:30:24,281 - mmseg - INFO - per class results:\n",
      "2022-03-08 21:30:24,283 - mmseg - INFO - \n",
      "+-------+-------+-------+\n",
      "| Class |  IoU  |  Acc  |\n",
      "+-------+-------+-------+\n",
      "|  face | 80.18 |  88.8 |\n",
      "|   bg  |  97.7 | 98.86 |\n",
      "+-------+-------+-------+\n",
      "2022-03-08 21:30:24,284 - mmseg - INFO - Summary:\n",
      "2022-03-08 21:30:24,286 - mmseg - INFO - \n",
      "+------+-------+-------+\n",
      "| aAcc |  mIoU |  mAcc |\n",
      "+------+-------+-------+\n",
      "| 97.9 | 88.94 | 93.83 |\n",
      "+------+-------+-------+\n",
      "2022-03-08 21:30:24,290 - mmseg - INFO - Iter(val) [800]\taAcc: 0.9790, mIoU: 0.8894, mAcc: 0.9383, IoU.face: 0.8018, IoU.bg: 0.9770, Acc.face: 0.8880, Acc.bg: 0.9886\n",
      "2022-03-08 21:34:29,455 - mmseg - INFO - Iter [69800/80000]\tlr: 1.275e-05, eta: 4:16:46, time: 1.818, data_time: 0.607, memory: 4940, decode.loss_ce: 0.0582, decode.acc_seg: 83.3028, aux.loss_ce: 0.0283, aux.acc_seg: 82.9151, loss: 0.0865\n",
      "2022-03-08 21:38:35,982 - mmseg - INFO - Saving checkpoint at 70000 iterations\n",
      "2022-03-08 21:38:37,784 - mmseg - INFO - Iter [70000/80000]\tlr: 1.250e-05, eta: 4:11:36, time: 1.242, data_time: 0.005, memory: 4940, decode.loss_ce: 0.0587, decode.acc_seg: 83.5569, aux.loss_ce: 0.0288, aux.acc_seg: 83.2232, loss: 0.0875\n"
     ]
    },
    {
     "name": "stdout",
     "output_type": "stream",
     "text": [
      "[>>>>>>>>>>>>>>>>>>>>>>>>>>>>>] 800/800, 6.6 task/s, elapsed: 122s, ETA:     0s"
     ]
    },
    {
     "name": "stderr",
     "output_type": "stream",
     "text": [
      "2022-03-08 21:40:39,488 - mmseg - INFO - per class results:\n",
      "2022-03-08 21:40:39,489 - mmseg - INFO - \n",
      "+-------+-------+-------+\n",
      "| Class |  IoU  |  Acc  |\n",
      "+-------+-------+-------+\n",
      "|  face | 80.13 | 88.47 |\n",
      "|   bg  |  97.7 |  98.9 |\n",
      "+-------+-------+-------+\n",
      "2022-03-08 21:40:39,490 - mmseg - INFO - Summary:\n",
      "2022-03-08 21:40:39,492 - mmseg - INFO - \n",
      "+------+-------+-------+\n",
      "| aAcc |  mIoU |  mAcc |\n",
      "+------+-------+-------+\n",
      "| 97.9 | 88.91 | 93.68 |\n",
      "+------+-------+-------+\n",
      "2022-03-08 21:40:39,496 - mmseg - INFO - Iter(val) [800]\taAcc: 0.9790, mIoU: 0.8891, mAcc: 0.9368, IoU.face: 0.8013, IoU.bg: 0.9770, Acc.face: 0.8847, Acc.bg: 0.9890\n",
      "2022-03-08 21:44:46,260 - mmseg - INFO - Iter [70200/80000]\tlr: 1.225e-05, eta: 4:06:44, time: 1.842, data_time: 0.625, memory: 4940, decode.loss_ce: 0.0553, decode.acc_seg: 83.3059, aux.loss_ce: 0.0263, aux.acc_seg: 82.9560, loss: 0.0816\n",
      "2022-03-08 21:48:49,598 - mmseg - INFO - Iter [70400/80000]\tlr: 1.200e-05, eta: 4:01:34, time: 1.217, data_time: 0.005, memory: 4940, decode.loss_ce: 0.0579, decode.acc_seg: 83.9363, aux.loss_ce: 0.0279, aux.acc_seg: 83.5455, loss: 0.0858\n"
     ]
    },
    {
     "name": "stdout",
     "output_type": "stream",
     "text": [
      "[>>>>>>>>>>>>>>>>>>>>>>>>>>>>>] 800/800, 6.8 task/s, elapsed: 118s, ETA:     0s"
     ]
    },
    {
     "name": "stderr",
     "output_type": "stream",
     "text": [
      "2022-03-08 21:50:47,787 - mmseg - INFO - per class results:\n",
      "2022-03-08 21:50:47,788 - mmseg - INFO - \n",
      "+-------+-------+-------+\n",
      "| Class |  IoU  |  Acc  |\n",
      "+-------+-------+-------+\n",
      "|  face |  80.0 |  87.7 |\n",
      "|   bg  | 97.71 | 98.98 |\n",
      "+-------+-------+-------+\n",
      "2022-03-08 21:50:47,789 - mmseg - INFO - Summary:\n",
      "2022-03-08 21:50:47,790 - mmseg - INFO - \n",
      "+------+-------+-------+\n",
      "| aAcc |  mIoU |  mAcc |\n",
      "+------+-------+-------+\n",
      "| 97.9 | 88.86 | 93.34 |\n",
      "+------+-------+-------+\n",
      "2022-03-08 21:50:47,796 - mmseg - INFO - Iter(val) [800]\taAcc: 0.9790, mIoU: 0.8886, mAcc: 0.9334, IoU.face: 0.8000, IoU.bg: 0.9771, Acc.face: 0.8770, Acc.bg: 0.9898\n",
      "2022-03-08 21:54:52,014 - mmseg - INFO - Iter [70600/80000]\tlr: 1.175e-05, eta: 3:56:40, time: 1.812, data_time: 0.607, memory: 4940, decode.loss_ce: 0.0599, decode.acc_seg: 83.6612, aux.loss_ce: 0.0297, aux.acc_seg: 83.1854, loss: 0.0896\n",
      "2022-03-08 21:58:53,733 - mmseg - INFO - Iter [70800/80000]\tlr: 1.150e-05, eta: 3:51:30, time: 1.209, data_time: 0.005, memory: 4940, decode.loss_ce: 0.0573, decode.acc_seg: 83.1270, aux.loss_ce: 0.0287, aux.acc_seg: 82.6613, loss: 0.0860\n"
     ]
    },
    {
     "name": "stdout",
     "output_type": "stream",
     "text": [
      "[>>>>>>>>>>>>>>>>>>>>>>>>>>>>>] 800/800, 6.6 task/s, elapsed: 120s, ETA:     0s"
     ]
    },
    {
     "name": "stderr",
     "output_type": "stream",
     "text": [
      "2022-03-08 22:00:54,140 - mmseg - INFO - per class results:\n",
      "2022-03-08 22:00:54,141 - mmseg - INFO - \n",
      "+-------+-------+-------+\n",
      "| Class |  IoU  |  Acc  |\n",
      "+-------+-------+-------+\n",
      "|  face | 78.66 | 88.18 |\n",
      "|   bg  |  97.5 | 98.72 |\n",
      "+-------+-------+-------+\n",
      "2022-03-08 22:00:54,143 - mmseg - INFO - Summary:\n",
      "2022-03-08 22:00:54,144 - mmseg - INFO - \n",
      "+-------+-------+-------+\n",
      "|  aAcc |  mIoU |  mAcc |\n",
      "+-------+-------+-------+\n",
      "| 97.71 | 88.08 | 93.45 |\n",
      "+-------+-------+-------+\n",
      "2022-03-08 22:00:54,149 - mmseg - INFO - Iter(val) [800]\taAcc: 0.9771, mIoU: 0.8808, mAcc: 0.9345, IoU.face: 0.7866, IoU.bg: 0.9750, Acc.face: 0.8818, Acc.bg: 0.9872\n",
      "2022-03-08 22:04:58,473 - mmseg - INFO - Iter [71000/80000]\tlr: 1.125e-05, eta: 3:46:36, time: 1.824, data_time: 0.618, memory: 4940, decode.loss_ce: 0.0570, decode.acc_seg: 83.7745, aux.loss_ce: 0.0291, aux.acc_seg: 83.3012, loss: 0.0861\n",
      "2022-03-08 22:09:38,291 - mmseg - INFO - Iter [71200/80000]\tlr: 1.100e-05, eta: 3:41:31, time: 1.399, data_time: 0.005, memory: 4940, decode.loss_ce: 0.0593, decode.acc_seg: 84.7693, aux.loss_ce: 0.0295, aux.acc_seg: 84.3423, loss: 0.0888\n"
     ]
    },
    {
     "name": "stdout",
     "output_type": "stream",
     "text": [
      "[>>>>>>>>>>>>>>>>>>>>>>>>>>>>>] 800/800, 6.7 task/s, elapsed: 119s, ETA:     0s"
     ]
    },
    {
     "name": "stderr",
     "output_type": "stream",
     "text": [
      "2022-03-08 22:11:37,476 - mmseg - INFO - per class results:\n",
      "2022-03-08 22:11:37,477 - mmseg - INFO - \n",
      "+-------+-------+-------+\n",
      "| Class |  IoU  |  Acc  |\n",
      "+-------+-------+-------+\n",
      "|  face | 79.31 | 87.67 |\n",
      "|   bg  | 97.61 | 98.88 |\n",
      "+-------+-------+-------+\n",
      "2022-03-08 22:11:37,478 - mmseg - INFO - Summary:\n",
      "2022-03-08 22:11:37,479 - mmseg - INFO - \n",
      "+-------+-------+-------+\n",
      "|  aAcc |  mIoU |  mAcc |\n",
      "+-------+-------+-------+\n",
      "| 97.81 | 88.46 | 93.28 |\n",
      "+-------+-------+-------+\n",
      "2022-03-08 22:11:37,483 - mmseg - INFO - Iter(val) [800]\taAcc: 0.9781, mIoU: 0.8846, mAcc: 0.9328, IoU.face: 0.7931, IoU.bg: 0.9761, Acc.face: 0.8767, Acc.bg: 0.9888\n",
      "2022-03-08 22:15:43,152 - mmseg - INFO - Iter [71400/80000]\tlr: 1.075e-05, eta: 3:36:36, time: 1.824, data_time: 0.612, memory: 4940, decode.loss_ce: 0.0585, decode.acc_seg: 83.4078, aux.loss_ce: 0.0278, aux.acc_seg: 83.0359, loss: 0.0863\n",
      "2022-03-08 22:19:45,170 - mmseg - INFO - Iter [71600/80000]\tlr: 1.050e-05, eta: 3:31:27, time: 1.210, data_time: 0.005, memory: 4940, decode.loss_ce: 0.0641, decode.acc_seg: 82.3270, aux.loss_ce: 0.0309, aux.acc_seg: 82.0340, loss: 0.0950\n"
     ]
    },
    {
     "name": "stdout",
     "output_type": "stream",
     "text": [
      "[>>>>>>>>>>>>>>>>>>>>>>>>>>>>>] 800/800, 6.7 task/s, elapsed: 120s, ETA:     0s"
     ]
    },
    {
     "name": "stderr",
     "output_type": "stream",
     "text": [
      "2022-03-08 22:21:45,140 - mmseg - INFO - per class results:\n",
      "2022-03-08 22:21:45,143 - mmseg - INFO - \n",
      "+-------+-------+-------+\n",
      "| Class |  IoU  |  Acc  |\n",
      "+-------+-------+-------+\n",
      "|  face | 75.56 | 88.61 |\n",
      "|   bg  |  97.0 | 98.17 |\n",
      "+-------+-------+-------+\n",
      "2022-03-08 22:21:45,145 - mmseg - INFO - Summary:\n",
      "2022-03-08 22:21:45,148 - mmseg - INFO - \n",
      "+-------+-------+-------+\n",
      "|  aAcc |  mIoU |  mAcc |\n",
      "+-------+-------+-------+\n",
      "| 97.26 | 86.28 | 93.39 |\n",
      "+-------+-------+-------+\n",
      "2022-03-08 22:21:45,154 - mmseg - INFO - Iter(val) [800]\taAcc: 0.9726, mIoU: 0.8628, mAcc: 0.9339, IoU.face: 0.7556, IoU.bg: 0.9700, Acc.face: 0.8861, Acc.bg: 0.9817\n",
      "2022-03-08 22:25:49,350 - mmseg - INFO - Iter [71800/80000]\tlr: 1.025e-05, eta: 3:26:32, time: 1.821, data_time: 0.616, memory: 4940, decode.loss_ce: 0.0579, decode.acc_seg: 81.9310, aux.loss_ce: 0.0277, aux.acc_seg: 81.5419, loss: 0.0856\n",
      "2022-03-08 22:30:10,408 - mmseg - INFO - Saving checkpoint at 72000 iterations\n",
      "2022-03-08 22:30:12,234 - mmseg - INFO - Iter [72000/80000]\tlr: 1.000e-05, eta: 3:21:25, time: 1.315, data_time: 0.005, memory: 4940, decode.loss_ce: 0.0579, decode.acc_seg: 83.4834, aux.loss_ce: 0.0288, aux.acc_seg: 83.0420, loss: 0.0867\n"
     ]
    },
    {
     "name": "stdout",
     "output_type": "stream",
     "text": [
      "[>>>>>>>>>>>>>>>>>>>>>>>>>>>>>] 800/800, 5.3 task/s, elapsed: 151s, ETA:     0s"
     ]
    },
    {
     "name": "stderr",
     "output_type": "stream",
     "text": [
      "2022-03-08 22:32:43,568 - mmseg - INFO - per class results:\n",
      "2022-03-08 22:32:43,569 - mmseg - INFO - \n",
      "+-------+-------+-------+\n",
      "| Class |  IoU  |  Acc  |\n",
      "+-------+-------+-------+\n",
      "|  face | 78.81 | 87.18 |\n",
      "|   bg  | 97.55 | 98.88 |\n",
      "+-------+-------+-------+\n",
      "2022-03-08 22:32:43,571 - mmseg - INFO - Summary:\n",
      "2022-03-08 22:32:43,572 - mmseg - INFO - \n",
      "+-------+-------+-------+\n",
      "|  aAcc |  mIoU |  mAcc |\n",
      "+-------+-------+-------+\n",
      "| 97.76 | 88.18 | 93.03 |\n",
      "+-------+-------+-------+\n",
      "2022-03-08 22:32:43,577 - mmseg - INFO - Iter(val) [800]\taAcc: 0.9776, mIoU: 0.8818, mAcc: 0.9303, IoU.face: 0.7881, IoU.bg: 0.9755, Acc.face: 0.8718, Acc.bg: 0.9888\n",
      "2022-03-08 22:36:48,489 - mmseg - INFO - Iter [72200/80000]\tlr: 9.751e-06, eta: 3:16:33, time: 1.981, data_time: 0.773, memory: 4940, decode.loss_ce: 0.0597, decode.acc_seg: 83.8346, aux.loss_ce: 0.0284, aux.acc_seg: 83.4908, loss: 0.0881\n",
      "2022-03-08 22:40:50,431 - mmseg - INFO - Iter [72400/80000]\tlr: 9.501e-06, eta: 3:11:25, time: 1.210, data_time: 0.005, memory: 4940, decode.loss_ce: 0.0575, decode.acc_seg: 83.0802, aux.loss_ce: 0.0277, aux.acc_seg: 82.7483, loss: 0.0853\n"
     ]
    },
    {
     "name": "stdout",
     "output_type": "stream",
     "text": [
      "[>>>>>>>>>>>>>>>>>>>>>>>>>>>>>] 800/800, 5.7 task/s, elapsed: 141s, ETA:     0s"
     ]
    },
    {
     "name": "stderr",
     "output_type": "stream",
     "text": [
      "2022-03-08 22:43:11,197 - mmseg - INFO - per class results:\n",
      "2022-03-08 22:43:11,199 - mmseg - INFO - \n",
      "+-------+-------+-------+\n",
      "| Class |  IoU  |  Acc  |\n",
      "+-------+-------+-------+\n",
      "|  face | 80.03 | 87.84 |\n",
      "|   bg  | 97.71 | 98.97 |\n",
      "+-------+-------+-------+\n",
      "2022-03-08 22:43:11,201 - mmseg - INFO - Summary:\n",
      "2022-03-08 22:43:11,205 - mmseg - INFO - \n",
      "+------+-------+------+\n",
      "| aAcc |  mIoU | mAcc |\n",
      "+------+-------+------+\n",
      "| 97.9 | 88.87 | 93.4 |\n",
      "+------+-------+------+\n",
      "2022-03-08 22:43:11,209 - mmseg - INFO - Iter(val) [800]\taAcc: 0.9790, mIoU: 0.8887, mAcc: 0.9340, IoU.face: 0.8003, IoU.bg: 0.9771, Acc.face: 0.8784, Acc.bg: 0.9897\n",
      "2022-03-08 22:49:04,352 - mmseg - INFO - Iter [72600/80000]\tlr: 9.251e-06, eta: 3:06:42, time: 2.470, data_time: 0.720, memory: 4940, decode.loss_ce: 0.0551, decode.acc_seg: 83.0299, aux.loss_ce: 0.0274, aux.acc_seg: 82.5529, loss: 0.0825\n",
      "2022-03-08 22:54:02,622 - mmseg - INFO - Iter [72800/80000]\tlr: 9.001e-06, eta: 3:01:39, time: 1.491, data_time: 0.005, memory: 4940, decode.loss_ce: 0.0568, decode.acc_seg: 83.7346, aux.loss_ce: 0.0291, aux.acc_seg: 83.2302, loss: 0.0859\n"
     ]
    },
    {
     "name": "stdout",
     "output_type": "stream",
     "text": [
      "[>>>>>>>>>>>>>>>>>>>>>>>>>>>>>] 800/800, 5.8 task/s, elapsed: 138s, ETA:     0s"
     ]
    },
    {
     "name": "stderr",
     "output_type": "stream",
     "text": [
      "2022-03-08 22:56:20,628 - mmseg - INFO - per class results:\n",
      "2022-03-08 22:56:20,629 - mmseg - INFO - \n",
      "+-------+-------+-------+\n",
      "| Class |  IoU  |  Acc  |\n",
      "+-------+-------+-------+\n",
      "|  face | 78.18 | 88.25 |\n",
      "|   bg  | 97.42 | 98.63 |\n",
      "+-------+-------+-------+\n",
      "2022-03-08 22:56:20,630 - mmseg - INFO - Summary:\n",
      "2022-03-08 22:56:20,631 - mmseg - INFO - \n",
      "+-------+------+-------+\n",
      "|  aAcc | mIoU |  mAcc |\n",
      "+-------+------+-------+\n",
      "| 97.64 | 87.8 | 93.44 |\n",
      "+-------+------+-------+\n",
      "2022-03-08 22:56:20,641 - mmseg - INFO - Iter(val) [800]\taAcc: 0.9764, mIoU: 0.8780, mAcc: 0.9344, IoU.face: 0.7818, IoU.bg: 0.9742, Acc.face: 0.8825, Acc.bg: 0.9863\n",
      "2022-03-08 23:00:54,748 - mmseg - INFO - Iter [73000/80000]\tlr: 8.751e-06, eta: 2:56:46, time: 2.061, data_time: 0.706, memory: 4940, decode.loss_ce: 0.0546, decode.acc_seg: 82.9333, aux.loss_ce: 0.0279, aux.acc_seg: 82.4694, loss: 0.0825\n",
      "2022-03-08 23:04:58,308 - mmseg - INFO - Iter [73200/80000]\tlr: 8.501e-06, eta: 2:51:38, time: 1.218, data_time: 0.005, memory: 4940, decode.loss_ce: 0.0576, decode.acc_seg: 84.3369, aux.loss_ce: 0.0287, aux.acc_seg: 83.9061, loss: 0.0863\n"
     ]
    },
    {
     "name": "stdout",
     "output_type": "stream",
     "text": [
      "[>>>>>>>>>>>>>>>>>>>>>>>>>>>>>] 800/800, 6.7 task/s, elapsed: 120s, ETA:     0s"
     ]
    },
    {
     "name": "stderr",
     "output_type": "stream",
     "text": [
      "2022-03-08 23:06:57,914 - mmseg - INFO - per class results:\n",
      "2022-03-08 23:06:57,915 - mmseg - INFO - \n",
      "+-------+-------+-------+\n",
      "| Class |  IoU  |  Acc  |\n",
      "+-------+-------+-------+\n",
      "|  face | 78.16 | 88.48 |\n",
      "|   bg  | 97.41 |  98.6 |\n",
      "+-------+-------+-------+\n",
      "2022-03-08 23:06:57,916 - mmseg - INFO - Summary:\n",
      "2022-03-08 23:06:57,917 - mmseg - INFO - \n",
      "+-------+-------+-------+\n",
      "|  aAcc |  mIoU |  mAcc |\n",
      "+-------+-------+-------+\n",
      "| 97.63 | 87.79 | 93.54 |\n",
      "+-------+-------+-------+\n",
      "2022-03-08 23:06:57,925 - mmseg - INFO - Iter(val) [800]\taAcc: 0.9763, mIoU: 0.8779, mAcc: 0.9354, IoU.face: 0.7816, IoU.bg: 0.9741, Acc.face: 0.8848, Acc.bg: 0.9860\n",
      "2022-03-08 23:11:33,887 - mmseg - INFO - Iter [73400/80000]\tlr: 8.251e-06, eta: 2:46:43, time: 1.978, data_time: 0.614, memory: 4940, decode.loss_ce: 0.0568, decode.acc_seg: 84.1753, aux.loss_ce: 0.0273, aux.acc_seg: 83.7946, loss: 0.0841\n",
      "2022-03-08 23:16:51,859 - mmseg - INFO - Iter [73600/80000]\tlr: 8.001e-06, eta: 2:41:41, time: 1.590, data_time: 0.005, memory: 4940, decode.loss_ce: 0.0579, decode.acc_seg: 82.8297, aux.loss_ce: 0.0290, aux.acc_seg: 82.4104, loss: 0.0869\n"
     ]
    },
    {
     "name": "stdout",
     "output_type": "stream",
     "text": [
      "[>>>>>>>>>>>>>>>>>>>>>>>>>>>>>] 800/800, 5.8 task/s, elapsed: 139s, ETA:     0s"
     ]
    },
    {
     "name": "stderr",
     "output_type": "stream",
     "text": [
      "2022-03-08 23:19:10,862 - mmseg - INFO - per class results:\n",
      "2022-03-08 23:19:10,863 - mmseg - INFO - \n",
      "+-------+-------+-------+\n",
      "| Class |  IoU  |  Acc  |\n",
      "+-------+-------+-------+\n",
      "|  face | 79.16 | 87.47 |\n",
      "|   bg  | 97.59 | 98.89 |\n",
      "+-------+-------+-------+\n",
      "2022-03-08 23:19:10,864 - mmseg - INFO - Summary:\n",
      "2022-03-08 23:19:10,865 - mmseg - INFO - \n",
      "+-------+-------+-------+\n",
      "|  aAcc |  mIoU |  mAcc |\n",
      "+-------+-------+-------+\n",
      "| 97.79 | 88.38 | 93.18 |\n",
      "+-------+-------+-------+\n",
      "2022-03-08 23:19:10,868 - mmseg - INFO - Iter(val) [800]\taAcc: 0.9779, mIoU: 0.8838, mAcc: 0.9318, IoU.face: 0.7916, IoU.bg: 0.9759, Acc.face: 0.8747, Acc.bg: 0.9889\n",
      "2022-03-08 23:23:15,228 - mmseg - INFO - Iter [73800/80000]\tlr: 7.751e-06, eta: 2:36:45, time: 1.917, data_time: 0.711, memory: 4940, decode.loss_ce: 0.0573, decode.acc_seg: 82.6889, aux.loss_ce: 0.0292, aux.acc_seg: 82.2488, loss: 0.0866\n",
      "2022-03-08 23:27:17,189 - mmseg - INFO - Saving checkpoint at 74000 iterations\n",
      "2022-03-08 23:27:19,013 - mmseg - INFO - Iter [74000/80000]\tlr: 7.501e-06, eta: 2:31:37, time: 1.219, data_time: 0.005, memory: 4940, decode.loss_ce: 0.0559, decode.acc_seg: 83.6216, aux.loss_ce: 0.0275, aux.acc_seg: 83.2101, loss: 0.0834\n"
     ]
    },
    {
     "name": "stdout",
     "output_type": "stream",
     "text": [
      "[>>>>>>>>>>>>>>>>>>>>>>>>>>>>>] 800/800, 6.6 task/s, elapsed: 121s, ETA:     0s"
     ]
    },
    {
     "name": "stderr",
     "output_type": "stream",
     "text": [
      "2022-03-08 23:29:19,723 - mmseg - INFO - per class results:\n",
      "2022-03-08 23:29:19,725 - mmseg - INFO - \n",
      "+-------+-------+-------+\n",
      "| Class |  IoU  |  Acc  |\n",
      "+-------+-------+-------+\n",
      "|  face | 79.83 | 87.72 |\n",
      "|   bg  | 97.68 | 98.95 |\n",
      "+-------+-------+-------+\n",
      "2022-03-08 23:29:19,726 - mmseg - INFO - Summary:\n",
      "2022-03-08 23:29:19,727 - mmseg - INFO - \n",
      "+-------+-------+-------+\n",
      "|  aAcc |  mIoU |  mAcc |\n",
      "+-------+-------+-------+\n",
      "| 97.88 | 88.76 | 93.34 |\n",
      "+-------+-------+-------+\n",
      "2022-03-08 23:29:19,740 - mmseg - INFO - Iter(val) [800]\taAcc: 0.9788, mIoU: 0.8876, mAcc: 0.9334, IoU.face: 0.7983, IoU.bg: 0.9768, Acc.face: 0.8772, Acc.bg: 0.9895\n",
      "2022-03-08 23:33:24,553 - mmseg - INFO - Iter [74200/80000]\tlr: 7.251e-06, eta: 2:26:38, time: 1.828, data_time: 0.620, memory: 4940, decode.loss_ce: 0.0554, decode.acc_seg: 84.2703, aux.loss_ce: 0.0276, aux.acc_seg: 83.8353, loss: 0.0829\n",
      "2022-03-08 23:37:26,737 - mmseg - INFO - Iter [74400/80000]\tlr: 7.001e-06, eta: 2:21:30, time: 1.211, data_time: 0.005, memory: 4940, decode.loss_ce: 0.0577, decode.acc_seg: 83.9823, aux.loss_ce: 0.0289, aux.acc_seg: 83.6259, loss: 0.0866\n"
     ]
    },
    {
     "name": "stdout",
     "output_type": "stream",
     "text": [
      "[>>>>>>>>>>>>>>>>>>>>>>>>>>>>>] 800/800, 6.7 task/s, elapsed: 119s, ETA:     0s"
     ]
    },
    {
     "name": "stderr",
     "output_type": "stream",
     "text": [
      "2022-03-08 23:39:26,250 - mmseg - INFO - per class results:\n",
      "2022-03-08 23:39:26,252 - mmseg - INFO - \n",
      "+-------+-------+-------+\n",
      "| Class |  IoU  |  Acc  |\n",
      "+-------+-------+-------+\n",
      "|  face | 79.34 | 88.22 |\n",
      "|   bg  |  97.6 | 98.82 |\n",
      "+-------+-------+-------+\n",
      "2022-03-08 23:39:26,253 - mmseg - INFO - Summary:\n",
      "2022-03-08 23:39:26,254 - mmseg - INFO - \n",
      "+------+-------+-------+\n",
      "| aAcc |  mIoU |  mAcc |\n",
      "+------+-------+-------+\n",
      "| 97.8 | 88.47 | 93.52 |\n",
      "+------+-------+-------+\n",
      "2022-03-08 23:39:26,262 - mmseg - INFO - Iter(val) [800]\taAcc: 0.9780, mIoU: 0.8847, mAcc: 0.9352, IoU.face: 0.7934, IoU.bg: 0.9760, Acc.face: 0.8822, Acc.bg: 0.9882\n",
      "2022-03-08 23:43:29,426 - mmseg - INFO - Iter [74600/80000]\tlr: 6.751e-06, eta: 2:16:31, time: 1.813, data_time: 0.613, memory: 4940, decode.loss_ce: 0.0577, decode.acc_seg: 82.6855, aux.loss_ce: 0.0275, aux.acc_seg: 82.3533, loss: 0.0852\n",
      "2022-03-08 23:47:31,782 - mmseg - INFO - Iter [74800/80000]\tlr: 6.501e-06, eta: 2:11:24, time: 1.212, data_time: 0.005, memory: 4940, decode.loss_ce: 0.0552, decode.acc_seg: 82.9746, aux.loss_ce: 0.0268, aux.acc_seg: 82.5266, loss: 0.0820\n"
     ]
    },
    {
     "name": "stdout",
     "output_type": "stream",
     "text": [
      "[>>>>>>>>>>>>>>>>>>>>>>>>>>>>>] 800/800, 6.7 task/s, elapsed: 120s, ETA:     0s"
     ]
    },
    {
     "name": "stderr",
     "output_type": "stream",
     "text": [
      "2022-03-08 23:49:31,372 - mmseg - INFO - per class results:\n",
      "2022-03-08 23:49:31,374 - mmseg - INFO - \n",
      "+-------+-------+-------+\n",
      "| Class |  IoU  |  Acc  |\n",
      "+-------+-------+-------+\n",
      "|  face | 79.56 | 87.81 |\n",
      "|   bg  | 97.64 |  98.9 |\n",
      "+-------+-------+-------+\n",
      "2022-03-08 23:49:31,375 - mmseg - INFO - Summary:\n",
      "2022-03-08 23:49:31,376 - mmseg - INFO - \n",
      "+-------+------+-------+\n",
      "|  aAcc | mIoU |  mAcc |\n",
      "+-------+------+-------+\n",
      "| 97.84 | 88.6 | 93.35 |\n",
      "+-------+------+-------+\n",
      "2022-03-08 23:49:31,381 - mmseg - INFO - Iter(val) [800]\taAcc: 0.9784, mIoU: 0.8860, mAcc: 0.9335, IoU.face: 0.7956, IoU.bg: 0.9764, Acc.face: 0.8781, Acc.bg: 0.9890\n",
      "2022-03-08 23:53:36,009 - mmseg - INFO - Iter [75000/80000]\tlr: 6.251e-06, eta: 2:06:25, time: 1.821, data_time: 0.614, memory: 4940, decode.loss_ce: 0.0555, decode.acc_seg: 83.5096, aux.loss_ce: 0.0277, aux.acc_seg: 83.0549, loss: 0.0832\n",
      "2022-03-08 23:57:38,079 - mmseg - INFO - Iter [75200/80000]\tlr: 6.001e-06, eta: 2:01:17, time: 1.210, data_time: 0.005, memory: 4940, decode.loss_ce: 0.0551, decode.acc_seg: 84.2570, aux.loss_ce: 0.0268, aux.acc_seg: 83.8937, loss: 0.0819\n"
     ]
    },
    {
     "name": "stdout",
     "output_type": "stream",
     "text": [
      "[>>>>>>>>>>>>>>>>>>>>>>>>>>>>>] 800/800, 6.7 task/s, elapsed: 119s, ETA:     0s"
     ]
    },
    {
     "name": "stderr",
     "output_type": "stream",
     "text": [
      "2022-03-08 23:59:37,349 - mmseg - INFO - per class results:\n",
      "2022-03-08 23:59:37,351 - mmseg - INFO - \n",
      "+-------+-------+-------+\n",
      "| Class |  IoU  |  Acc  |\n",
      "+-------+-------+-------+\n",
      "|  face | 79.69 | 87.77 |\n",
      "|   bg  | 97.66 | 98.93 |\n",
      "+-------+-------+-------+\n",
      "2022-03-08 23:59:37,352 - mmseg - INFO - Summary:\n",
      "2022-03-08 23:59:37,353 - mmseg - INFO - \n",
      "+-------+-------+-------+\n",
      "|  aAcc |  mIoU |  mAcc |\n",
      "+-------+-------+-------+\n",
      "| 97.86 | 88.68 | 93.35 |\n",
      "+-------+-------+-------+\n",
      "2022-03-08 23:59:37,359 - mmseg - INFO - Iter(val) [800]\taAcc: 0.9786, mIoU: 0.8868, mAcc: 0.9335, IoU.face: 0.7969, IoU.bg: 0.9766, Acc.face: 0.8777, Acc.bg: 0.9893\n",
      "2022-03-09 00:03:41,941 - mmseg - INFO - Iter [75400/80000]\tlr: 5.751e-06, eta: 1:56:18, time: 1.819, data_time: 0.612, memory: 4940, decode.loss_ce: 0.0507, decode.acc_seg: 82.6733, aux.loss_ce: 0.0255, aux.acc_seg: 82.2488, loss: 0.0762\n",
      "2022-03-09 00:08:15,138 - mmseg - INFO - Iter [75600/80000]\tlr: 5.501e-06, eta: 1:51:13, time: 1.366, data_time: 0.005, memory: 4940, decode.loss_ce: 0.0561, decode.acc_seg: 84.2206, aux.loss_ce: 0.0278, aux.acc_seg: 83.8053, loss: 0.0839\n"
     ]
    },
    {
     "name": "stdout",
     "output_type": "stream",
     "text": [
      "[>>>>>>>>>>>>>>>>>>>>>>>>>>>>>] 800/800, 6.7 task/s, elapsed: 120s, ETA:     0s"
     ]
    },
    {
     "name": "stderr",
     "output_type": "stream",
     "text": [
      "2022-03-09 00:10:14,709 - mmseg - INFO - per class results:\n",
      "2022-03-09 00:10:14,710 - mmseg - INFO - \n",
      "+-------+-------+-------+\n",
      "| Class |  IoU  |  Acc  |\n",
      "+-------+-------+-------+\n",
      "|  face | 79.74 | 88.22 |\n",
      "|   bg  | 97.66 | 98.87 |\n",
      "+-------+-------+-------+\n",
      "2022-03-09 00:10:14,711 - mmseg - INFO - Summary:\n",
      "2022-03-09 00:10:14,712 - mmseg - INFO - \n",
      "+-------+------+-------+\n",
      "|  aAcc | mIoU |  mAcc |\n",
      "+-------+------+-------+\n",
      "| 97.85 | 88.7 | 93.55 |\n",
      "+-------+------+-------+\n",
      "2022-03-09 00:10:14,719 - mmseg - INFO - Iter(val) [800]\taAcc: 0.9785, mIoU: 0.8870, mAcc: 0.9355, IoU.face: 0.7974, IoU.bg: 0.9766, Acc.face: 0.8822, Acc.bg: 0.9887\n",
      "2022-03-09 00:14:18,959 - mmseg - INFO - Iter [75800/80000]\tlr: 5.251e-06, eta: 1:46:13, time: 1.819, data_time: 0.614, memory: 4940, decode.loss_ce: 0.0569, decode.acc_seg: 83.1516, aux.loss_ce: 0.0280, aux.acc_seg: 82.7166, loss: 0.0849\n",
      "2022-03-09 00:18:21,032 - mmseg - INFO - Saving checkpoint at 76000 iterations\n",
      "2022-03-09 00:18:22,937 - mmseg - INFO - Iter [76000/80000]\tlr: 5.001e-06, eta: 1:41:06, time: 1.220, data_time: 0.005, memory: 4940, decode.loss_ce: 0.0526, decode.acc_seg: 83.5943, aux.loss_ce: 0.0260, aux.acc_seg: 83.1469, loss: 0.0786\n"
     ]
    },
    {
     "name": "stdout",
     "output_type": "stream",
     "text": [
      "[>>>>>>>>>>>>>>>>>>>>>>>>>>>>>] 800/800, 6.5 task/s, elapsed: 122s, ETA:     0s"
     ]
    },
    {
     "name": "stderr",
     "output_type": "stream",
     "text": [
      "2022-03-09 00:20:25,204 - mmseg - INFO - per class results:\n",
      "2022-03-09 00:20:25,205 - mmseg - INFO - \n",
      "+-------+-------+-------+\n",
      "| Class |  IoU  |  Acc  |\n",
      "+-------+-------+-------+\n",
      "|  face | 79.75 | 87.75 |\n",
      "|   bg  | 97.67 | 98.94 |\n",
      "+-------+-------+-------+\n",
      "2022-03-09 00:20:25,206 - mmseg - INFO - Summary:\n",
      "2022-03-09 00:20:25,208 - mmseg - INFO - \n",
      "+-------+-------+-------+\n",
      "|  aAcc |  mIoU |  mAcc |\n",
      "+-------+-------+-------+\n",
      "| 97.87 | 88.71 | 93.34 |\n",
      "+-------+-------+-------+\n",
      "2022-03-09 00:20:25,215 - mmseg - INFO - Iter(val) [800]\taAcc: 0.9787, mIoU: 0.8871, mAcc: 0.9334, IoU.face: 0.7975, IoU.bg: 0.9767, Acc.face: 0.8775, Acc.bg: 0.9894\n",
      "2022-03-09 00:24:29,912 - mmseg - INFO - Iter [76200/80000]\tlr: 4.751e-06, eta: 1:36:06, time: 1.835, data_time: 0.627, memory: 4940, decode.loss_ce: 0.0577, decode.acc_seg: 82.8135, aux.loss_ce: 0.0277, aux.acc_seg: 82.4953, loss: 0.0854\n",
      "2022-03-09 00:28:38,407 - mmseg - INFO - Iter [76400/80000]\tlr: 4.501e-06, eta: 1:31:00, time: 1.242, data_time: 0.005, memory: 4940, decode.loss_ce: 0.0537, decode.acc_seg: 83.6841, aux.loss_ce: 0.0263, aux.acc_seg: 83.2492, loss: 0.0800\n"
     ]
    },
    {
     "name": "stdout",
     "output_type": "stream",
     "text": [
      "[>>>>>>>>>>>>>>>>>>>>>>>>>>>>>] 800/800, 6.7 task/s, elapsed: 120s, ETA:     0s"
     ]
    },
    {
     "name": "stderr",
     "output_type": "stream",
     "text": [
      "2022-03-09 00:30:38,145 - mmseg - INFO - per class results:\n",
      "2022-03-09 00:30:38,146 - mmseg - INFO - \n",
      "+-------+-------+-------+\n",
      "| Class |  IoU  |  Acc  |\n",
      "+-------+-------+-------+\n",
      "|  face | 79.54 | 87.84 |\n",
      "|   bg  | 97.64 | 98.89 |\n",
      "+-------+-------+-------+\n",
      "2022-03-09 00:30:38,147 - mmseg - INFO - Summary:\n",
      "2022-03-09 00:30:38,149 - mmseg - INFO - \n",
      "+-------+-------+-------+\n",
      "|  aAcc |  mIoU |  mAcc |\n",
      "+-------+-------+-------+\n",
      "| 97.84 | 88.59 | 93.37 |\n",
      "+-------+-------+-------+\n",
      "2022-03-09 00:30:38,153 - mmseg - INFO - Iter(val) [800]\taAcc: 0.9784, mIoU: 0.8859, mAcc: 0.9337, IoU.face: 0.7954, IoU.bg: 0.9764, Acc.face: 0.8784, Acc.bg: 0.9889\n",
      "2022-03-09 00:34:42,511 - mmseg - INFO - Iter [76600/80000]\tlr: 4.251e-06, eta: 1:25:59, time: 1.820, data_time: 0.614, memory: 4940, decode.loss_ce: 0.0589, decode.acc_seg: 84.0444, aux.loss_ce: 0.0277, aux.acc_seg: 83.7339, loss: 0.0866\n",
      "2022-03-09 00:38:46,655 - mmseg - INFO - Iter [76800/80000]\tlr: 4.001e-06, eta: 1:20:53, time: 1.221, data_time: 0.005, memory: 4940, decode.loss_ce: 0.0540, decode.acc_seg: 83.3940, aux.loss_ce: 0.0262, aux.acc_seg: 82.9890, loss: 0.0801\n"
     ]
    },
    {
     "name": "stdout",
     "output_type": "stream",
     "text": [
      "[>>>>>>>>>>>>>>>>>>>>>>>>>>>>>] 800/800, 6.7 task/s, elapsed: 120s, ETA:     0s"
     ]
    },
    {
     "name": "stderr",
     "output_type": "stream",
     "text": [
      "2022-03-09 00:40:46,252 - mmseg - INFO - per class results:\n",
      "2022-03-09 00:40:46,253 - mmseg - INFO - \n",
      "+-------+-------+-------+\n",
      "| Class |  IoU  |  Acc  |\n",
      "+-------+-------+-------+\n",
      "|  face | 79.79 | 87.89 |\n",
      "|   bg  | 97.67 | 98.93 |\n",
      "+-------+-------+-------+\n",
      "2022-03-09 00:40:46,254 - mmseg - INFO - Summary:\n",
      "2022-03-09 00:40:46,255 - mmseg - INFO - \n",
      "+-------+-------+-------+\n",
      "|  aAcc |  mIoU |  mAcc |\n",
      "+-------+-------+-------+\n",
      "| 97.87 | 88.73 | 93.41 |\n",
      "+-------+-------+-------+\n",
      "2022-03-09 00:40:46,260 - mmseg - INFO - Iter(val) [800]\taAcc: 0.9787, mIoU: 0.8873, mAcc: 0.9341, IoU.face: 0.7979, IoU.bg: 0.9767, Acc.face: 0.8789, Acc.bg: 0.9893\n",
      "2022-03-09 00:44:49,463 - mmseg - INFO - Iter [77000/80000]\tlr: 3.751e-06, eta: 1:15:52, time: 1.814, data_time: 0.614, memory: 4940, decode.loss_ce: 0.0549, decode.acc_seg: 83.6959, aux.loss_ce: 0.0271, aux.acc_seg: 83.2454, loss: 0.0820\n",
      "2022-03-09 00:48:50,378 - mmseg - INFO - Iter [77200/80000]\tlr: 3.501e-06, eta: 1:10:46, time: 1.205, data_time: 0.005, memory: 4940, decode.loss_ce: 0.0544, decode.acc_seg: 83.0101, aux.loss_ce: 0.0279, aux.acc_seg: 82.5525, loss: 0.0823\n"
     ]
    },
    {
     "name": "stdout",
     "output_type": "stream",
     "text": [
      "[>>>>>>>>>>>>>>>>>>>>>>>>>>>>>] 800/800, 6.7 task/s, elapsed: 119s, ETA:     0s"
     ]
    },
    {
     "name": "stderr",
     "output_type": "stream",
     "text": [
      "2022-03-09 00:50:49,233 - mmseg - INFO - per class results:\n",
      "2022-03-09 00:50:49,235 - mmseg - INFO - \n",
      "+-------+-------+-------+\n",
      "| Class |  IoU  |  Acc  |\n",
      "+-------+-------+-------+\n",
      "|  face | 79.47 | 88.35 |\n",
      "|   bg  | 97.61 | 98.82 |\n",
      "+-------+-------+-------+\n",
      "2022-03-09 00:50:49,236 - mmseg - INFO - Summary:\n",
      "2022-03-09 00:50:49,238 - mmseg - INFO - \n",
      "+-------+-------+-------+\n",
      "|  aAcc |  mIoU |  mAcc |\n",
      "+-------+-------+-------+\n",
      "| 97.81 | 88.54 | 93.58 |\n",
      "+-------+-------+-------+\n",
      "2022-03-09 00:50:49,248 - mmseg - INFO - Iter(val) [800]\taAcc: 0.9781, mIoU: 0.8854, mAcc: 0.9358, IoU.face: 0.7947, IoU.bg: 0.9761, Acc.face: 0.8835, Acc.bg: 0.9882\n",
      "2022-03-09 00:54:52,177 - mmseg - INFO - Iter [77400/80000]\tlr: 3.251e-06, eta: 1:05:45, time: 1.809, data_time: 0.611, memory: 4940, decode.loss_ce: 0.0554, decode.acc_seg: 83.1111, aux.loss_ce: 0.0272, aux.acc_seg: 82.6791, loss: 0.0826\n",
      "2022-03-09 00:58:53,627 - mmseg - INFO - Iter [77600/80000]\tlr: 3.001e-06, eta: 1:00:40, time: 1.207, data_time: 0.005, memory: 4940, decode.loss_ce: 0.0555, decode.acc_seg: 84.3036, aux.loss_ce: 0.0273, aux.acc_seg: 83.9018, loss: 0.0828\n"
     ]
    },
    {
     "name": "stdout",
     "output_type": "stream",
     "text": [
      "[>>>>>>>>>>>>>>>>>>>>>>>>>>>>>] 800/800, 6.7 task/s, elapsed: 120s, ETA:     0s"
     ]
    },
    {
     "name": "stderr",
     "output_type": "stream",
     "text": [
      "2022-03-09 01:00:53,709 - mmseg - INFO - per class results:\n",
      "2022-03-09 01:00:53,711 - mmseg - INFO - \n",
      "+-------+-------+-------+\n",
      "| Class |  IoU  |  Acc  |\n",
      "+-------+-------+-------+\n",
      "|  face | 79.82 | 87.97 |\n",
      "|   bg  | 97.67 | 98.92 |\n",
      "+-------+-------+-------+\n",
      "2022-03-09 01:00:53,712 - mmseg - INFO - Summary:\n",
      "2022-03-09 01:00:53,714 - mmseg - INFO - \n",
      "+-------+-------+-------+\n",
      "|  aAcc |  mIoU |  mAcc |\n",
      "+-------+-------+-------+\n",
      "| 97.87 | 88.75 | 93.44 |\n",
      "+-------+-------+-------+\n",
      "2022-03-09 01:00:53,724 - mmseg - INFO - Iter(val) [800]\taAcc: 0.9787, mIoU: 0.8875, mAcc: 0.9344, IoU.face: 0.7982, IoU.bg: 0.9767, Acc.face: 0.8797, Acc.bg: 0.9892\n",
      "2022-03-09 01:04:57,635 - mmseg - INFO - Iter [77800/80000]\tlr: 2.751e-06, eta: 0:55:38, time: 1.820, data_time: 0.617, memory: 4940, decode.loss_ce: 0.0547, decode.acc_seg: 83.0673, aux.loss_ce: 0.0272, aux.acc_seg: 82.6331, loss: 0.0819\n",
      "2022-03-09 01:08:57,975 - mmseg - INFO - Saving checkpoint at 78000 iterations\n",
      "2022-03-09 01:08:59,863 - mmseg - INFO - Iter [78000/80000]\tlr: 2.501e-06, eta: 0:50:33, time: 1.211, data_time: 0.005, memory: 4940, decode.loss_ce: 0.0582, decode.acc_seg: 83.6941, aux.loss_ce: 0.0277, aux.acc_seg: 83.2815, loss: 0.0859\n"
     ]
    },
    {
     "name": "stdout",
     "output_type": "stream",
     "text": [
      "[>>>>>>>>>>>>>>>>>>>>>>>>>>>>>] 800/800, 6.7 task/s, elapsed: 120s, ETA:     0s"
     ]
    },
    {
     "name": "stderr",
     "output_type": "stream",
     "text": [
      "2022-03-09 01:10:59,918 - mmseg - INFO - per class results:\n",
      "2022-03-09 01:10:59,919 - mmseg - INFO - \n",
      "+-------+-------+-------+\n",
      "| Class |  IoU  |  Acc  |\n",
      "+-------+-------+-------+\n",
      "|  face | 80.11 | 88.19 |\n",
      "|   bg  | 97.71 | 98.93 |\n",
      "+-------+-------+-------+\n",
      "2022-03-09 01:10:59,920 - mmseg - INFO - Summary:\n",
      "2022-03-09 01:10:59,922 - mmseg - INFO - \n",
      "+------+-------+-------+\n",
      "| aAcc |  mIoU |  mAcc |\n",
      "+------+-------+-------+\n",
      "| 97.9 | 88.91 | 93.56 |\n",
      "+------+-------+-------+\n",
      "2022-03-09 01:10:59,932 - mmseg - INFO - Iter(val) [800]\taAcc: 0.9790, mIoU: 0.8891, mAcc: 0.9356, IoU.face: 0.8011, IoU.bg: 0.9771, Acc.face: 0.8819, Acc.bg: 0.9893\n",
      "2022-03-09 01:15:04,015 - mmseg - INFO - Iter [78200/80000]\tlr: 2.251e-06, eta: 0:45:31, time: 1.821, data_time: 0.616, memory: 4940, decode.loss_ce: 0.0561, decode.acc_seg: 84.4043, aux.loss_ce: 0.0295, aux.acc_seg: 83.9174, loss: 0.0856\n",
      "2022-03-09 01:19:04,842 - mmseg - INFO - Iter [78400/80000]\tlr: 2.001e-06, eta: 0:40:26, time: 1.204, data_time: 0.005, memory: 4940, decode.loss_ce: 0.0545, decode.acc_seg: 83.5984, aux.loss_ce: 0.0261, aux.acc_seg: 83.2671, loss: 0.0806\n"
     ]
    },
    {
     "name": "stdout",
     "output_type": "stream",
     "text": [
      "[>>>>>>>>>>>>>>>>>>>>>>>>>>>>>] 800/800, 6.7 task/s, elapsed: 120s, ETA:     0s"
     ]
    },
    {
     "name": "stderr",
     "output_type": "stream",
     "text": [
      "2022-03-09 01:21:04,625 - mmseg - INFO - per class results:\n",
      "2022-03-09 01:21:04,626 - mmseg - INFO - \n",
      "+-------+-------+-------+\n",
      "| Class |  IoU  |  Acc  |\n",
      "+-------+-------+-------+\n",
      "|  face | 79.86 | 87.69 |\n",
      "|   bg  | 97.69 | 98.96 |\n",
      "+-------+-------+-------+\n",
      "2022-03-09 01:21:04,627 - mmseg - INFO - Summary:\n",
      "2022-03-09 01:21:04,628 - mmseg - INFO - \n",
      "+-------+-------+-------+\n",
      "|  aAcc |  mIoU |  mAcc |\n",
      "+-------+-------+-------+\n",
      "| 97.88 | 88.77 | 93.33 |\n",
      "+-------+-------+-------+\n",
      "2022-03-09 01:21:04,632 - mmseg - INFO - Iter(val) [800]\taAcc: 0.9788, mIoU: 0.8877, mAcc: 0.9333, IoU.face: 0.7986, IoU.bg: 0.9769, Acc.face: 0.8769, Acc.bg: 0.9896\n",
      "2022-03-09 01:25:08,459 - mmseg - INFO - Iter [78600/80000]\tlr: 1.751e-06, eta: 0:35:24, time: 1.818, data_time: 0.615, memory: 4940, decode.loss_ce: 0.0552, decode.acc_seg: 83.0418, aux.loss_ce: 0.0287, aux.acc_seg: 82.5227, loss: 0.0839\n",
      "2022-03-09 01:29:11,164 - mmseg - INFO - Iter [78800/80000]\tlr: 1.501e-06, eta: 0:30:19, time: 1.213, data_time: 0.005, memory: 4940, decode.loss_ce: 0.0559, decode.acc_seg: 84.0200, aux.loss_ce: 0.0272, aux.acc_seg: 83.6149, loss: 0.0831\n"
     ]
    },
    {
     "name": "stdout",
     "output_type": "stream",
     "text": [
      "[>>>>>>>>>>>>>>>>>>>>>>>>>>>>>] 800/800, 6.6 task/s, elapsed: 121s, ETA:     0s"
     ]
    },
    {
     "name": "stderr",
     "output_type": "stream",
     "text": [
      "2022-03-09 01:31:12,037 - mmseg - INFO - per class results:\n",
      "2022-03-09 01:31:12,039 - mmseg - INFO - \n",
      "+-------+-------+-------+\n",
      "| Class |  IoU  |  Acc  |\n",
      "+-------+-------+-------+\n",
      "|  face | 79.89 | 88.06 |\n",
      "|   bg  | 97.68 | 98.92 |\n",
      "+-------+-------+-------+\n",
      "2022-03-09 01:31:12,040 - mmseg - INFO - Summary:\n",
      "2022-03-09 01:31:12,041 - mmseg - INFO - \n",
      "+-------+-------+-------+\n",
      "|  aAcc |  mIoU |  mAcc |\n",
      "+-------+-------+-------+\n",
      "| 97.88 | 88.79 | 93.49 |\n",
      "+-------+-------+-------+\n",
      "2022-03-09 01:31:12,052 - mmseg - INFO - Iter(val) [800]\taAcc: 0.9788, mIoU: 0.8879, mAcc: 0.9349, IoU.face: 0.7989, IoU.bg: 0.9768, Acc.face: 0.8806, Acc.bg: 0.9892\n",
      "2022-03-09 01:35:16,744 - mmseg - INFO - Iter [79000/80000]\tlr: 1.251e-06, eta: 0:25:17, time: 1.828, data_time: 0.620, memory: 4940, decode.loss_ce: 0.0530, decode.acc_seg: 82.9488, aux.loss_ce: 0.0265, aux.acc_seg: 82.4996, loss: 0.0795\n",
      "2022-03-09 01:39:18,771 - mmseg - INFO - Iter [79200/80000]\tlr: 1.001e-06, eta: 0:20:13, time: 1.210, data_time: 0.005, memory: 4940, decode.loss_ce: 0.0564, decode.acc_seg: 83.6082, aux.loss_ce: 0.0283, aux.acc_seg: 83.2360, loss: 0.0847\n"
     ]
    },
    {
     "name": "stdout",
     "output_type": "stream",
     "text": [
      "[>>>>>>>>>>>>>>>>>>>>>>>>>>>>>] 800/800, 6.7 task/s, elapsed: 119s, ETA:     0s"
     ]
    },
    {
     "name": "stderr",
     "output_type": "stream",
     "text": [
      "2022-03-09 01:41:18,179 - mmseg - INFO - per class results:\n",
      "2022-03-09 01:41:18,180 - mmseg - INFO - \n",
      "+-------+-------+-------+\n",
      "| Class |  IoU  |  Acc  |\n",
      "+-------+-------+-------+\n",
      "|  face | 79.68 | 88.02 |\n",
      "|   bg  | 97.65 | 98.89 |\n",
      "+-------+-------+-------+\n",
      "2022-03-09 01:41:18,181 - mmseg - INFO - Summary:\n",
      "2022-03-09 01:41:18,182 - mmseg - INFO - \n",
      "+-------+-------+-------+\n",
      "|  aAcc |  mIoU |  mAcc |\n",
      "+-------+-------+-------+\n",
      "| 97.85 | 88.67 | 93.46 |\n",
      "+-------+-------+-------+\n",
      "2022-03-09 01:41:18,191 - mmseg - INFO - Iter(val) [800]\taAcc: 0.9785, mIoU: 0.8867, mAcc: 0.9346, IoU.face: 0.7968, IoU.bg: 0.9765, Acc.face: 0.8802, Acc.bg: 0.9889\n",
      "2022-03-09 01:45:23,104 - mmseg - INFO - Iter [79400/80000]\tlr: 7.513e-07, eta: 0:15:10, time: 1.822, data_time: 0.613, memory: 4940, decode.loss_ce: 0.0540, decode.acc_seg: 83.5442, aux.loss_ce: 0.0265, aux.acc_seg: 83.1461, loss: 0.0805\n",
      "2022-03-09 01:49:26,059 - mmseg - INFO - Iter [79600/80000]\tlr: 5.012e-07, eta: 0:10:06, time: 1.215, data_time: 0.005, memory: 4940, decode.loss_ce: 0.0562, decode.acc_seg: 83.8335, aux.loss_ce: 0.0277, aux.acc_seg: 83.4527, loss: 0.0838\n"
     ]
    },
    {
     "name": "stdout",
     "output_type": "stream",
     "text": [
      "[>>>>>>>>>>>>>>>>>>>>>>>>>>>>>] 800/800, 6.7 task/s, elapsed: 120s, ETA:     0s"
     ]
    },
    {
     "name": "stderr",
     "output_type": "stream",
     "text": [
      "2022-03-09 01:51:25,940 - mmseg - INFO - per class results:\n",
      "2022-03-09 01:51:25,942 - mmseg - INFO - \n",
      "+-------+-------+-------+\n",
      "| Class |  IoU  |  Acc  |\n",
      "+-------+-------+-------+\n",
      "|  face |  79.9 | 87.83 |\n",
      "|   bg  | 97.69 | 98.95 |\n",
      "+-------+-------+-------+\n",
      "2022-03-09 01:51:25,943 - mmseg - INFO - Summary:\n",
      "2022-03-09 01:51:25,944 - mmseg - INFO - \n",
      "+-------+-------+-------+\n",
      "|  aAcc |  mIoU |  mAcc |\n",
      "+-------+-------+-------+\n",
      "| 97.88 | 88.79 | 93.39 |\n",
      "+-------+-------+-------+\n",
      "2022-03-09 01:51:25,952 - mmseg - INFO - Iter(val) [800]\taAcc: 0.9788, mIoU: 0.8879, mAcc: 0.9339, IoU.face: 0.7990, IoU.bg: 0.9769, Acc.face: 0.8783, Acc.bg: 0.9895\n",
      "2022-03-09 01:55:30,518 - mmseg - INFO - Iter [79800/80000]\tlr: 2.513e-07, eta: 0:05:03, time: 1.822, data_time: 0.615, memory: 4940, decode.loss_ce: 0.0523, decode.acc_seg: 82.6816, aux.loss_ce: 0.0263, aux.acc_seg: 82.2213, loss: 0.0786\n",
      "2022-03-09 01:59:59,397 - mmseg - INFO - Saving checkpoint at 80000 iterations\n",
      "2022-03-09 02:00:01,451 - mmseg - INFO - Iter [80000/80000]\tlr: 1.250e-09, eta: 0:00:00, time: 1.355, data_time: 0.005, memory: 4940, decode.loss_ce: 0.0580, decode.acc_seg: 82.6433, aux.loss_ce: 0.0273, aux.acc_seg: 82.3613, loss: 0.0852\n"
     ]
    },
    {
     "name": "stdout",
     "output_type": "stream",
     "text": [
      "[>>>>>>>>>>>>>>>>>>>>>>>>>>>>>] 800/800, 6.5 task/s, elapsed: 124s, ETA:     0s"
     ]
    },
    {
     "name": "stderr",
     "output_type": "stream",
     "text": [
      "2022-03-09 02:02:05,344 - mmseg - INFO - per class results:\n",
      "2022-03-09 02:02:05,345 - mmseg - INFO - \n",
      "+-------+-------+-------+\n",
      "| Class |  IoU  |  Acc  |\n",
      "+-------+-------+-------+\n",
      "|  face |  79.8 | 87.96 |\n",
      "|   bg  | 97.67 | 98.92 |\n",
      "+-------+-------+-------+\n",
      "2022-03-09 02:02:05,346 - mmseg - INFO - Summary:\n",
      "2022-03-09 02:02:05,347 - mmseg - INFO - \n",
      "+-------+-------+-------+\n",
      "|  aAcc |  mIoU |  mAcc |\n",
      "+-------+-------+-------+\n",
      "| 97.87 | 88.74 | 93.44 |\n",
      "+-------+-------+-------+\n",
      "2022-03-09 02:02:05,355 - mmseg - INFO - Iter(val) [800]\taAcc: 0.9787, mIoU: 0.8874, mAcc: 0.9344, IoU.face: 0.7980, IoU.bg: 0.9767, Acc.face: 0.8796, Acc.bg: 0.9892\n"
     ]
    }
   ],
   "source": [
    "from mmseg.datasets import build_dataset\n",
    "from mmseg.models import build_segmentor\n",
    "from mmseg.apis import train_segmentor\n",
    "\n",
    "\n",
    "# Build the dataset\n",
    "datasets = [build_dataset(cfg.data.train)]\n",
    "\n",
    "# Build the detector\n",
    "model = build_segmentor(cfg.model, train_cfg=cfg.get('train_cfg'), test_cfg=cfg.get('test_cfg'))\n",
    "# Add an attribute for visualization convenience\n",
    "model.CLASSES = datasets[0].CLASSES\n",
    "\n",
    "# Create work_dir\n",
    "mmcv.mkdir_or_exist(osp.abspath(cfg.work_dir))\n",
    "train_segmentor(model, datasets, cfg, distributed=False, validate=True, meta=dict({'PALETTE':palette}))"
   ]
  },
  {
   "cell_type": "code",
   "execution_count": null,
   "id": "e1924b82-8e0e-4436-97d4-e1666376a8a5",
   "metadata": {},
   "outputs": [],
   "source": []
  }
 ],
 "metadata": {
  "kernelspec": {
   "display_name": "Python 3 (ipykernel)",
   "language": "python",
   "name": "python3"
  },
  "language_info": {
   "codemirror_mode": {
    "name": "ipython",
    "version": 3
   },
   "file_extension": ".py",
   "mimetype": "text/x-python",
   "name": "python",
   "nbconvert_exporter": "python",
   "pygments_lexer": "ipython3",
   "version": "3.7.10"
  }
 },
 "nbformat": 4,
 "nbformat_minor": 5
}
